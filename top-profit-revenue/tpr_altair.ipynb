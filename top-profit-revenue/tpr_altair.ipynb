{
 "cells": [
  {
   "cell_type": "code",
   "execution_count": 1,
   "metadata": {},
   "outputs": [],
   "source": [
    "import pandas as pd\n",
    "import numpy as np\n",
    "import altair as alt"
   ]
  },
  {
   "cell_type": "markdown",
   "metadata": {},
   "source": [
    "# Data Preparation\n",
    "\n",
    "Data scraped from Forbes: <a href='https://www.forbes.com/global2000/list/#header:profits_sortreverse:true'>Source</a>"
   ]
  },
  {
   "cell_type": "code",
   "execution_count": 2,
   "metadata": {},
   "outputs": [],
   "source": [
    "with open('forbes.html') as f:\n",
    "    raw_html = f.read()"
   ]
  },
  {
   "cell_type": "code",
   "execution_count": 3,
   "metadata": {},
   "outputs": [
    {
     "name": "stdout",
     "output_type": "stream",
     "text": [
      "(2199, 8)\n"
     ]
    },
    {
     "data": {
      "text/html": [
       "<div>\n",
       "<style scoped>\n",
       "    .dataframe tbody tr th:only-of-type {\n",
       "        vertical-align: middle;\n",
       "    }\n",
       "\n",
       "    .dataframe tbody tr th {\n",
       "        vertical-align: top;\n",
       "    }\n",
       "\n",
       "    .dataframe thead th {\n",
       "        text-align: right;\n",
       "    }\n",
       "</style>\n",
       "<table border=\"1\" class=\"dataframe\">\n",
       "  <thead>\n",
       "    <tr style=\"text-align: right;\">\n",
       "      <th></th>\n",
       "      <th>Unnamed: 0</th>\n",
       "      <th>Rank</th>\n",
       "      <th>Company</th>\n",
       "      <th>Country</th>\n",
       "      <th>Sales</th>\n",
       "      <th>Profits</th>\n",
       "      <th>Assets</th>\n",
       "      <th>Market Value</th>\n",
       "    </tr>\n",
       "  </thead>\n",
       "  <tbody>\n",
       "    <tr>\n",
       "      <th>0</th>\n",
       "      <td>NaN</td>\n",
       "      <td>#8</td>\n",
       "      <td>Apple</td>\n",
       "      <td>United States</td>\n",
       "      <td>$247.5 B</td>\n",
       "      <td>$53.3 B</td>\n",
       "      <td>$367.5 B</td>\n",
       "      <td>$926.9 B</td>\n",
       "    </tr>\n",
       "    <tr>\n",
       "      <th>1</th>\n",
       "      <td>NaN</td>\n",
       "      <td>#88</td>\n",
       "      <td>British American Tobacco</td>\n",
       "      <td>United Kingdom</td>\n",
       "      <td>$26.1 B</td>\n",
       "      <td>$48.3 B</td>\n",
       "      <td>$190.8 B</td>\n",
       "      <td>$120 B</td>\n",
       "    </tr>\n",
       "    <tr>\n",
       "      <th>2</th>\n",
       "      <td>NaN</td>\n",
       "      <td>#1</td>\n",
       "      <td>ICBC</td>\n",
       "      <td>China</td>\n",
       "      <td>$165.3 B</td>\n",
       "      <td>$43.7 B</td>\n",
       "      <td>$4,210.9 B</td>\n",
       "      <td>$311 B</td>\n",
       "    </tr>\n",
       "    <tr>\n",
       "      <th>3</th>\n",
       "      <td>NaN</td>\n",
       "      <td>#14</td>\n",
       "      <td>Samsung Electronics</td>\n",
       "      <td>South Korea</td>\n",
       "      <td>$224.6 B</td>\n",
       "      <td>$41 B</td>\n",
       "      <td>$293.2 B</td>\n",
       "      <td>$325.9 B</td>\n",
       "    </tr>\n",
       "    <tr>\n",
       "      <th>4</th>\n",
       "      <td>NaN</td>\n",
       "      <td>#4</td>\n",
       "      <td>Berkshire Hathaway</td>\n",
       "      <td>United States</td>\n",
       "      <td>$235.2 B</td>\n",
       "      <td>$39.7 B</td>\n",
       "      <td>$702.7 B</td>\n",
       "      <td>$491.9 B</td>\n",
       "    </tr>\n",
       "  </tbody>\n",
       "</table>\n",
       "</div>"
      ],
      "text/plain": [
       "   Unnamed: 0 Rank                   Company         Country     Sales  \\\n",
       "0         NaN   #8                     Apple   United States  $247.5 B   \n",
       "1         NaN  #88  British American Tobacco  United Kingdom   $26.1 B   \n",
       "2         NaN   #1                      ICBC           China  $165.3 B   \n",
       "3         NaN  #14       Samsung Electronics     South Korea  $224.6 B   \n",
       "4         NaN   #4        Berkshire Hathaway   United States  $235.2 B   \n",
       "\n",
       "   Profits      Assets Market Value  \n",
       "0  $53.3 B    $367.5 B     $926.9 B  \n",
       "1  $48.3 B    $190.8 B       $120 B  \n",
       "2  $43.7 B  $4,210.9 B       $311 B  \n",
       "3    $41 B    $293.2 B     $325.9 B  \n",
       "4  $39.7 B    $702.7 B     $491.9 B  "
      ]
     },
     "execution_count": 3,
     "metadata": {},
     "output_type": "execute_result"
    }
   ],
   "source": [
    "df = pd.read_html(raw_html)[0]\n",
    "print(df.shape)\n",
    "df.head()"
   ]
  },
  {
   "cell_type": "markdown",
   "metadata": {},
   "source": [
    "Drop unneeded columns and rows with missing values (these correspond to embedded adverts)."
   ]
  },
  {
   "cell_type": "code",
   "execution_count": 4,
   "metadata": {},
   "outputs": [
    {
     "name": "stdout",
     "output_type": "stream",
     "text": [
      "(2000, 6)\n"
     ]
    },
    {
     "data": {
      "text/html": [
       "<div>\n",
       "<style scoped>\n",
       "    .dataframe tbody tr th:only-of-type {\n",
       "        vertical-align: middle;\n",
       "    }\n",
       "\n",
       "    .dataframe tbody tr th {\n",
       "        vertical-align: top;\n",
       "    }\n",
       "\n",
       "    .dataframe thead th {\n",
       "        text-align: right;\n",
       "    }\n",
       "</style>\n",
       "<table border=\"1\" class=\"dataframe\">\n",
       "  <thead>\n",
       "    <tr style=\"text-align: right;\">\n",
       "      <th></th>\n",
       "      <th>Company</th>\n",
       "      <th>Country</th>\n",
       "      <th>Sales</th>\n",
       "      <th>Profits</th>\n",
       "      <th>Assets</th>\n",
       "      <th>Market Value</th>\n",
       "    </tr>\n",
       "  </thead>\n",
       "  <tbody>\n",
       "    <tr>\n",
       "      <th>0</th>\n",
       "      <td>Apple</td>\n",
       "      <td>United States</td>\n",
       "      <td>$247.5 B</td>\n",
       "      <td>$53.3 B</td>\n",
       "      <td>$367.5 B</td>\n",
       "      <td>$926.9 B</td>\n",
       "    </tr>\n",
       "    <tr>\n",
       "      <th>1</th>\n",
       "      <td>British American Tobacco</td>\n",
       "      <td>United Kingdom</td>\n",
       "      <td>$26.1 B</td>\n",
       "      <td>$48.3 B</td>\n",
       "      <td>$190.8 B</td>\n",
       "      <td>$120 B</td>\n",
       "    </tr>\n",
       "    <tr>\n",
       "      <th>2</th>\n",
       "      <td>ICBC</td>\n",
       "      <td>China</td>\n",
       "      <td>$165.3 B</td>\n",
       "      <td>$43.7 B</td>\n",
       "      <td>$4,210.9 B</td>\n",
       "      <td>$311 B</td>\n",
       "    </tr>\n",
       "    <tr>\n",
       "      <th>3</th>\n",
       "      <td>Samsung Electronics</td>\n",
       "      <td>South Korea</td>\n",
       "      <td>$224.6 B</td>\n",
       "      <td>$41 B</td>\n",
       "      <td>$293.2 B</td>\n",
       "      <td>$325.9 B</td>\n",
       "    </tr>\n",
       "    <tr>\n",
       "      <th>4</th>\n",
       "      <td>Berkshire Hathaway</td>\n",
       "      <td>United States</td>\n",
       "      <td>$235.2 B</td>\n",
       "      <td>$39.7 B</td>\n",
       "      <td>$702.7 B</td>\n",
       "      <td>$491.9 B</td>\n",
       "    </tr>\n",
       "  </tbody>\n",
       "</table>\n",
       "</div>"
      ],
      "text/plain": [
       "                    Company         Country     Sales  Profits      Assets  \\\n",
       "0                     Apple   United States  $247.5 B  $53.3 B    $367.5 B   \n",
       "1  British American Tobacco  United Kingdom   $26.1 B  $48.3 B    $190.8 B   \n",
       "2                      ICBC           China  $165.3 B  $43.7 B  $4,210.9 B   \n",
       "3       Samsung Electronics     South Korea  $224.6 B    $41 B    $293.2 B   \n",
       "4        Berkshire Hathaway   United States  $235.2 B  $39.7 B    $702.7 B   \n",
       "\n",
       "  Market Value  \n",
       "0     $926.9 B  \n",
       "1       $120 B  \n",
       "2       $311 B  \n",
       "3     $325.9 B  \n",
       "4     $491.9 B  "
      ]
     },
     "execution_count": 4,
     "metadata": {},
     "output_type": "execute_result"
    }
   ],
   "source": [
    "df = df.drop(df.columns[:2], axis=1)\n",
    "df = df.dropna()\n",
    "df = df.reset_index(drop=True)\n",
    "print(df.shape)\n",
    "df.head()"
   ]
  },
  {
   "cell_type": "markdown",
   "metadata": {},
   "source": [
    "Not all of the monetary values (currently strings) end in 'B'."
   ]
  },
  {
   "cell_type": "code",
   "execution_count": 5,
   "metadata": {},
   "outputs": [
    {
     "data": {
      "text/html": [
       "<div>\n",
       "<style scoped>\n",
       "    .dataframe tbody tr th:only-of-type {\n",
       "        vertical-align: middle;\n",
       "    }\n",
       "\n",
       "    .dataframe tbody tr th {\n",
       "        vertical-align: top;\n",
       "    }\n",
       "\n",
       "    .dataframe thead th {\n",
       "        text-align: right;\n",
       "    }\n",
       "</style>\n",
       "<table border=\"1\" class=\"dataframe\">\n",
       "  <thead>\n",
       "    <tr style=\"text-align: right;\">\n",
       "      <th></th>\n",
       "      <th>Company</th>\n",
       "      <th>Country</th>\n",
       "      <th>Sales</th>\n",
       "      <th>Profits</th>\n",
       "      <th>Assets</th>\n",
       "      <th>Market Value</th>\n",
       "    </tr>\n",
       "  </thead>\n",
       "  <tbody>\n",
       "    <tr>\n",
       "      <th>93</th>\n",
       "      <td>Freddie Mac</td>\n",
       "      <td>United States</td>\n",
       "      <td>$73.5 B</td>\n",
       "      <td>$6.3 B</td>\n",
       "      <td>$2,022.5 B</td>\n",
       "      <td>$858 M</td>\n",
       "    </tr>\n",
       "    <tr>\n",
       "      <th>128</th>\n",
       "      <td>Abengoa</td>\n",
       "      <td>Spain</td>\n",
       "      <td>$1.7 B</td>\n",
       "      <td>$4.8 B</td>\n",
       "      <td>$7.6 B</td>\n",
       "      <td>$255 M</td>\n",
       "    </tr>\n",
       "    <tr>\n",
       "      <th>186</th>\n",
       "      <td>Porsche Automobil Holding</td>\n",
       "      <td>Germany</td>\n",
       "      <td>$38 M</td>\n",
       "      <td>$3.8 B</td>\n",
       "      <td>$38.1 B</td>\n",
       "      <td>$25.7 B</td>\n",
       "    </tr>\n",
       "    <tr>\n",
       "      <th>231</th>\n",
       "      <td>BGF Retail</td>\n",
       "      <td>South Korea</td>\n",
       "      <td>$2.4 B</td>\n",
       "      <td>$3.1 B</td>\n",
       "      <td>$802 M</td>\n",
       "      <td>$3.2 B</td>\n",
       "    </tr>\n",
       "    <tr>\n",
       "      <th>377</th>\n",
       "      <td>Gecina</td>\n",
       "      <td>France</td>\n",
       "      <td>$799 M</td>\n",
       "      <td>$2.1 B</td>\n",
       "      <td>$24.1 B</td>\n",
       "      <td>$12.8 B</td>\n",
       "    </tr>\n",
       "    <tr>\n",
       "      <th>399</th>\n",
       "      <td>Liberty Broadband</td>\n",
       "      <td>United States</td>\n",
       "      <td>$22 M</td>\n",
       "      <td>$2 B</td>\n",
       "      <td>$12 B</td>\n",
       "      <td>$12.8 B</td>\n",
       "    </tr>\n",
       "    <tr>\n",
       "      <th>431</th>\n",
       "      <td>Wanhua Chemical Group</td>\n",
       "      <td>China</td>\n",
       "      <td>$8.3 B</td>\n",
       "      <td>$1.9 B</td>\n",
       "      <td>$10.6 B</td>\n",
       "      <td>-</td>\n",
       "    </tr>\n",
       "    <tr>\n",
       "      <th>538</th>\n",
       "      <td>3i Group</td>\n",
       "      <td>United Kingdom</td>\n",
       "      <td>$353 M</td>\n",
       "      <td>$1.5 B</td>\n",
       "      <td>$9.6 B</td>\n",
       "      <td>$12.9 B</td>\n",
       "    </tr>\n",
       "    <tr>\n",
       "      <th>571</th>\n",
       "      <td>Aroundtown</td>\n",
       "      <td>Luxembourg</td>\n",
       "      <td>$594 M</td>\n",
       "      <td>$1.4 B</td>\n",
       "      <td>$16.5 B</td>\n",
       "      <td>$8.6 B</td>\n",
       "    </tr>\n",
       "    <tr>\n",
       "      <th>603</th>\n",
       "      <td>Steinhoff International</td>\n",
       "      <td>Netherlands</td>\n",
       "      <td>$18.1 B</td>\n",
       "      <td>$1.4 B</td>\n",
       "      <td>$37.1 B</td>\n",
       "      <td>$574 M</td>\n",
       "    </tr>\n",
       "    <tr>\n",
       "      <th>644</th>\n",
       "      <td>Infineon Technologies</td>\n",
       "      <td>Germany</td>\n",
       "      <td>$8.5 B</td>\n",
       "      <td>$1.3 B</td>\n",
       "      <td>-</td>\n",
       "      <td>$32.4 B</td>\n",
       "    </tr>\n",
       "    <tr>\n",
       "      <th>655</th>\n",
       "      <td>Merlin Properties SOCIMI S.A</td>\n",
       "      <td>Spain</td>\n",
       "      <td>$547 M</td>\n",
       "      <td>$1.2 B</td>\n",
       "      <td>$14.4 B</td>\n",
       "      <td>$7.1 B</td>\n",
       "    </tr>\n",
       "    <tr>\n",
       "      <th>664</th>\n",
       "      <td>Segro</td>\n",
       "      <td>United Kingdom</td>\n",
       "      <td>$382 M</td>\n",
       "      <td>$1.2 B</td>\n",
       "      <td>$10.7 B</td>\n",
       "      <td>$9 B</td>\n",
       "    </tr>\n",
       "    <tr>\n",
       "      <th>685</th>\n",
       "      <td>Dexus</td>\n",
       "      <td>Australia</td>\n",
       "      <td>$718 M</td>\n",
       "      <td>$1.2 B</td>\n",
       "      <td>$10.8 B</td>\n",
       "      <td>$7.4 B</td>\n",
       "    </tr>\n",
       "    <tr>\n",
       "      <th>750</th>\n",
       "      <td>Power Assets Holdings</td>\n",
       "      <td>Hong Kong</td>\n",
       "      <td>$182 M</td>\n",
       "      <td>$1.1 B</td>\n",
       "      <td>$13.7 B</td>\n",
       "      <td>$16.1 B</td>\n",
       "    </tr>\n",
       "    <tr>\n",
       "      <th>754</th>\n",
       "      <td>Bank of Greece</td>\n",
       "      <td>Greece</td>\n",
       "      <td>$1.7 B</td>\n",
       "      <td>$1.1 B</td>\n",
       "      <td>-</td>\n",
       "      <td>$354 M</td>\n",
       "    </tr>\n",
       "    <tr>\n",
       "      <th>766</th>\n",
       "      <td>NKT</td>\n",
       "      <td>Denmark</td>\n",
       "      <td>$1.7 B</td>\n",
       "      <td>$1 B</td>\n",
       "      <td>$2.4 B</td>\n",
       "      <td>$801 M</td>\n",
       "    </tr>\n",
       "    <tr>\n",
       "      <th>777</th>\n",
       "      <td>LEG Immobilien AG</td>\n",
       "      <td>Germany</td>\n",
       "      <td>$958 M</td>\n",
       "      <td>$1 B</td>\n",
       "      <td>$12.4 B</td>\n",
       "      <td>$7.1 B</td>\n",
       "    </tr>\n",
       "    <tr>\n",
       "      <th>809</th>\n",
       "      <td>Valeo</td>\n",
       "      <td>France</td>\n",
       "      <td>$20.9 B</td>\n",
       "      <td>$999 M</td>\n",
       "      <td>$20.9 B</td>\n",
       "      <td>$16.2 B</td>\n",
       "    </tr>\n",
       "    <tr>\n",
       "      <th>810</th>\n",
       "      <td>Grupo Zuliano</td>\n",
       "      <td>Venezuela</td>\n",
       "      <td>undefined</td>\n",
       "      <td>$999 M</td>\n",
       "      <td>-</td>\n",
       "      <td>$139 M</td>\n",
       "    </tr>\n",
       "    <tr>\n",
       "      <th>811</th>\n",
       "      <td>LG Display</td>\n",
       "      <td>South Korea</td>\n",
       "      <td>$23.8 B</td>\n",
       "      <td>$999 M</td>\n",
       "      <td>$28.1 B</td>\n",
       "      <td>$7.8 B</td>\n",
       "    </tr>\n",
       "    <tr>\n",
       "      <th>812</th>\n",
       "      <td>Eversource Energy</td>\n",
       "      <td>United States</td>\n",
       "      <td>$7.9 B</td>\n",
       "      <td>$998 M</td>\n",
       "      <td>$37 B</td>\n",
       "      <td>$18.4 B</td>\n",
       "    </tr>\n",
       "    <tr>\n",
       "      <th>813</th>\n",
       "      <td>Daiwa Securities</td>\n",
       "      <td>Japan</td>\n",
       "      <td>$6.4 B</td>\n",
       "      <td>$998 M</td>\n",
       "      <td>$198.8 B</td>\n",
       "      <td>$9.8 B</td>\n",
       "    </tr>\n",
       "    <tr>\n",
       "      <th>814</th>\n",
       "      <td>West Japan Railway</td>\n",
       "      <td>Japan</td>\n",
       "      <td>$13.5 B</td>\n",
       "      <td>$997 M</td>\n",
       "      <td>$28.9 B</td>\n",
       "      <td>$14.2 B</td>\n",
       "    </tr>\n",
       "    <tr>\n",
       "      <th>815</th>\n",
       "      <td>Evonik</td>\n",
       "      <td>Germany</td>\n",
       "      <td>$16.8 B</td>\n",
       "      <td>$997 M</td>\n",
       "      <td>$25 B</td>\n",
       "      <td>$17.4 B</td>\n",
       "    </tr>\n",
       "    <tr>\n",
       "      <th>816</th>\n",
       "      <td>Akzo Nobel</td>\n",
       "      <td>Netherlands</td>\n",
       "      <td>$13.9 B</td>\n",
       "      <td>$988 M</td>\n",
       "      <td>$20.4 B</td>\n",
       "      <td>$22.4 B</td>\n",
       "    </tr>\n",
       "    <tr>\n",
       "      <th>817</th>\n",
       "      <td>Banco de Sabadell</td>\n",
       "      <td>Spain</td>\n",
       "      <td>$8.4 B</td>\n",
       "      <td>$987 M</td>\n",
       "      <td>$269.4 B</td>\n",
       "      <td>$11.5 B</td>\n",
       "    </tr>\n",
       "    <tr>\n",
       "      <th>818</th>\n",
       "      <td>Deutsche Boerse</td>\n",
       "      <td>Germany</td>\n",
       "      <td>$3.4 B</td>\n",
       "      <td>$985 M</td>\n",
       "      <td>$179.7 B</td>\n",
       "      <td>$26 B</td>\n",
       "    </tr>\n",
       "    <tr>\n",
       "      <th>819</th>\n",
       "      <td>L Brands</td>\n",
       "      <td>United States</td>\n",
       "      <td>$12.6 B</td>\n",
       "      <td>$983 M</td>\n",
       "      <td>$8.1 B</td>\n",
       "      <td>$9 B</td>\n",
       "    </tr>\n",
       "    <tr>\n",
       "      <th>820</th>\n",
       "      <td>Shionogi</td>\n",
       "      <td>Japan</td>\n",
       "      <td>$3.1 B</td>\n",
       "      <td>$982 M</td>\n",
       "      <td>$6.8 B</td>\n",
       "      <td>$16.5 B</td>\n",
       "    </tr>\n",
       "    <tr>\n",
       "      <th>...</th>\n",
       "      <td>...</td>\n",
       "      <td>...</td>\n",
       "      <td>...</td>\n",
       "      <td>...</td>\n",
       "      <td>...</td>\n",
       "      <td>...</td>\n",
       "    </tr>\n",
       "    <tr>\n",
       "      <th>1937</th>\n",
       "      <td>Steel Authority of India</td>\n",
       "      <td>India</td>\n",
       "      <td>$6.6 B</td>\n",
       "      <td>$-411 M</td>\n",
       "      <td>$17.8 B</td>\n",
       "      <td>$4.5 B</td>\n",
       "    </tr>\n",
       "    <tr>\n",
       "      <th>1938</th>\n",
       "      <td>Mitsui OSK Lines</td>\n",
       "      <td>Japan</td>\n",
       "      <td>$14.9 B</td>\n",
       "      <td>$-427 M</td>\n",
       "      <td>$20 B</td>\n",
       "      <td>$3.6 B</td>\n",
       "    </tr>\n",
       "    <tr>\n",
       "      <th>1939</th>\n",
       "      <td>Voya Financial</td>\n",
       "      <td>United States</td>\n",
       "      <td>$9.3 B</td>\n",
       "      <td>$-429 M</td>\n",
       "      <td>$219.8 B</td>\n",
       "      <td>$8.9 B</td>\n",
       "    </tr>\n",
       "    <tr>\n",
       "      <th>1940</th>\n",
       "      <td>UCO Bank</td>\n",
       "      <td>India</td>\n",
       "      <td>$2.4 B</td>\n",
       "      <td>$-444 M</td>\n",
       "      <td>$33.4 B</td>\n",
       "      <td>$530 M</td>\n",
       "    </tr>\n",
       "    <tr>\n",
       "      <th>1941</th>\n",
       "      <td>Bombardier</td>\n",
       "      <td>Canada</td>\n",
       "      <td>$16.7 B</td>\n",
       "      <td>$-461 M</td>\n",
       "      <td>$26.7 B</td>\n",
       "      <td>$7.8 B</td>\n",
       "    </tr>\n",
       "    <tr>\n",
       "      <th>1942</th>\n",
       "      <td>Molina Healthcare</td>\n",
       "      <td>United States</td>\n",
       "      <td>$19.6 B</td>\n",
       "      <td>$-482 M</td>\n",
       "      <td>$9.1 B</td>\n",
       "      <td>$5.2 B</td>\n",
       "    </tr>\n",
       "    <tr>\n",
       "      <th>1943</th>\n",
       "      <td>VEON</td>\n",
       "      <td>Netherlands</td>\n",
       "      <td>$9.8 B</td>\n",
       "      <td>$-498 M</td>\n",
       "      <td>$19.5 B</td>\n",
       "      <td>$4.7 B</td>\n",
       "    </tr>\n",
       "    <tr>\n",
       "      <th>1944</th>\n",
       "      <td>Indian Overseas Bank</td>\n",
       "      <td>India</td>\n",
       "      <td>$3.3 B</td>\n",
       "      <td>$-513 M</td>\n",
       "      <td>$37.6 B</td>\n",
       "      <td>$1.3 B</td>\n",
       "    </tr>\n",
       "    <tr>\n",
       "      <th>1945</th>\n",
       "      <td>Dexia</td>\n",
       "      <td>Belgium</td>\n",
       "      <td>$11.1 B</td>\n",
       "      <td>$-521 M</td>\n",
       "      <td>$217.3 B</td>\n",
       "      <td>$16 M</td>\n",
       "    </tr>\n",
       "    <tr>\n",
       "      <th>1946</th>\n",
       "      <td>Tenet Healthcare</td>\n",
       "      <td>United States</td>\n",
       "      <td>$19.1 B</td>\n",
       "      <td>$-552 M</td>\n",
       "      <td>$23.2 B</td>\n",
       "      <td>$3.3 B</td>\n",
       "    </tr>\n",
       "    <tr>\n",
       "      <th>1947</th>\n",
       "      <td>Eletrobrás</td>\n",
       "      <td>Brazil</td>\n",
       "      <td>$11.9 B</td>\n",
       "      <td>$-553 M</td>\n",
       "      <td>$52.1 B</td>\n",
       "      <td>$7.1 B</td>\n",
       "    </tr>\n",
       "    <tr>\n",
       "      <th>1948</th>\n",
       "      <td>ConocoPhillips</td>\n",
       "      <td>United States</td>\n",
       "      <td>$30.3 B</td>\n",
       "      <td>$-553 M</td>\n",
       "      <td>$70.7 B</td>\n",
       "      <td>$81.3 B</td>\n",
       "    </tr>\n",
       "    <tr>\n",
       "      <th>1949</th>\n",
       "      <td>Hyundai Heavy Industries</td>\n",
       "      <td>South Korea</td>\n",
       "      <td>$12.3 B</td>\n",
       "      <td>$-554 M</td>\n",
       "      <td>$28.4 B</td>\n",
       "      <td>$8.3 B</td>\n",
       "    </tr>\n",
       "    <tr>\n",
       "      <th>1950</th>\n",
       "      <td>XL Group</td>\n",
       "      <td>Bermuda</td>\n",
       "      <td>$11.3 B</td>\n",
       "      <td>$-561 M</td>\n",
       "      <td>$65.3 B</td>\n",
       "      <td>$14.2 B</td>\n",
       "    </tr>\n",
       "    <tr>\n",
       "      <th>1951</th>\n",
       "      <td>Autodesk</td>\n",
       "      <td>United States</td>\n",
       "      <td>$2 B</td>\n",
       "      <td>$-567 M</td>\n",
       "      <td>$4.1 B</td>\n",
       "      <td>$29.8 B</td>\n",
       "    </tr>\n",
       "    <tr>\n",
       "      <th>1952</th>\n",
       "      <td>Carrefour</td>\n",
       "      <td>France</td>\n",
       "      <td>$91.3 B</td>\n",
       "      <td>$-599 M</td>\n",
       "      <td>$57.4 B</td>\n",
       "      <td>$15 B</td>\n",
       "    </tr>\n",
       "    <tr>\n",
       "      <th>1953</th>\n",
       "      <td>Noble Energy</td>\n",
       "      <td>United States</td>\n",
       "      <td>$4.2 B</td>\n",
       "      <td>$-600 M</td>\n",
       "      <td>$22.4 B</td>\n",
       "      <td>$16.9 B</td>\n",
       "    </tr>\n",
       "    <tr>\n",
       "      <th>1954</th>\n",
       "      <td>Altice</td>\n",
       "      <td>Netherlands</td>\n",
       "      <td>$26.5 B</td>\n",
       "      <td>$-616 M</td>\n",
       "      <td>$87 B</td>\n",
       "      <td>$15.9 B</td>\n",
       "    </tr>\n",
       "    <tr>\n",
       "      <th>1955</th>\n",
       "      <td>Vistra Energy</td>\n",
       "      <td>United States</td>\n",
       "      <td>$5.4 B</td>\n",
       "      <td>$-638 M</td>\n",
       "      <td>$14.8 B</td>\n",
       "      <td>$12 B</td>\n",
       "    </tr>\n",
       "    <tr>\n",
       "      <th>1956</th>\n",
       "      <td>IDBI Bank</td>\n",
       "      <td>India</td>\n",
       "      <td>$4.8 B</td>\n",
       "      <td>$-748 M</td>\n",
       "      <td>$55.8 B</td>\n",
       "      <td>$3.1 B</td>\n",
       "    </tr>\n",
       "    <tr>\n",
       "      <th>1957</th>\n",
       "      <td>Origin Energy</td>\n",
       "      <td>Australia</td>\n",
       "      <td>$11.4 B</td>\n",
       "      <td>$-757 M</td>\n",
       "      <td>$19.9 B</td>\n",
       "      <td>$13.1 B</td>\n",
       "    </tr>\n",
       "    <tr>\n",
       "      <th>1958</th>\n",
       "      <td>Oriental Bank of Commerce</td>\n",
       "      <td>India</td>\n",
       "      <td>$3.2 B</td>\n",
       "      <td>$-835 M</td>\n",
       "      <td>$37 B</td>\n",
       "      <td>$777 M</td>\n",
       "    </tr>\n",
       "    <tr>\n",
       "      <th>1959</th>\n",
       "      <td>Credit Suisse Group</td>\n",
       "      <td>Switzerland</td>\n",
       "      <td>$32.7 B</td>\n",
       "      <td>$-916 M</td>\n",
       "      <td>$844.9 B</td>\n",
       "      <td>$43.7 B</td>\n",
       "    </tr>\n",
       "    <tr>\n",
       "      <th>1960</th>\n",
       "      <td>Valeant Pharmaceuticals</td>\n",
       "      <td>Canada</td>\n",
       "      <td>$8.6 B</td>\n",
       "      <td>$-917 M</td>\n",
       "      <td>$35.8 B</td>\n",
       "      <td>$7.3 B</td>\n",
       "    </tr>\n",
       "    <tr>\n",
       "      <th>1961</th>\n",
       "      <td>ThyssenKrupp Group</td>\n",
       "      <td>Germany</td>\n",
       "      <td>$46.9 B</td>\n",
       "      <td>$-942 M</td>\n",
       "      <td>$40.7 B</td>\n",
       "      <td>$17.3 B</td>\n",
       "    </tr>\n",
       "    <tr>\n",
       "      <th>1962</th>\n",
       "      <td>Onex</td>\n",
       "      <td>Canada</td>\n",
       "      <td>$25.3 B</td>\n",
       "      <td>$-973 M</td>\n",
       "      <td>$44.7 B</td>\n",
       "      <td>$7.2 B</td>\n",
       "    </tr>\n",
       "    <tr>\n",
       "      <th>1980</th>\n",
       "      <td>Frontier Communications</td>\n",
       "      <td>United States</td>\n",
       "      <td>$9 B</td>\n",
       "      <td>$-1.7 B</td>\n",
       "      <td>$24.7 B</td>\n",
       "      <td>$724 M</td>\n",
       "    </tr>\n",
       "    <tr>\n",
       "      <th>1983</th>\n",
       "      <td>Oi</td>\n",
       "      <td>Brazil</td>\n",
       "      <td>$7.5 B</td>\n",
       "      <td>$-2 B</td>\n",
       "      <td>$20.7 B</td>\n",
       "      <td>$885 M</td>\n",
       "    </tr>\n",
       "    <tr>\n",
       "      <th>1985</th>\n",
       "      <td>Community Health Systems</td>\n",
       "      <td>United States</td>\n",
       "      <td>$14.6 B</td>\n",
       "      <td>$-2.3 B</td>\n",
       "      <td>$17.3 B</td>\n",
       "      <td>$507 M</td>\n",
       "    </tr>\n",
       "    <tr>\n",
       "      <th>1995</th>\n",
       "      <td>Noble Group</td>\n",
       "      <td>Hong Kong</td>\n",
       "      <td>$25.9 B</td>\n",
       "      <td>$-4.9 B</td>\n",
       "      <td>$4.8 B</td>\n",
       "      <td>$77 M</td>\n",
       "    </tr>\n",
       "  </tbody>\n",
       "</table>\n",
       "<p>1176 rows × 6 columns</p>\n",
       "</div>"
      ],
      "text/plain": [
       "                           Company         Country      Sales  Profits  \\\n",
       "93                     Freddie Mac   United States    $73.5 B   $6.3 B   \n",
       "128                        Abengoa           Spain     $1.7 B   $4.8 B   \n",
       "186      Porsche Automobil Holding         Germany      $38 M   $3.8 B   \n",
       "231                     BGF Retail     South Korea     $2.4 B   $3.1 B   \n",
       "377                         Gecina          France     $799 M   $2.1 B   \n",
       "399              Liberty Broadband   United States      $22 M     $2 B   \n",
       "431          Wanhua Chemical Group           China     $8.3 B   $1.9 B   \n",
       "538                       3i Group  United Kingdom     $353 M   $1.5 B   \n",
       "571                     Aroundtown      Luxembourg     $594 M   $1.4 B   \n",
       "603        Steinhoff International     Netherlands    $18.1 B   $1.4 B   \n",
       "644          Infineon Technologies         Germany     $8.5 B   $1.3 B   \n",
       "655   Merlin Properties SOCIMI S.A           Spain     $547 M   $1.2 B   \n",
       "664                          Segro  United Kingdom     $382 M   $1.2 B   \n",
       "685                          Dexus       Australia     $718 M   $1.2 B   \n",
       "750          Power Assets Holdings       Hong Kong     $182 M   $1.1 B   \n",
       "754                 Bank of Greece          Greece     $1.7 B   $1.1 B   \n",
       "766                            NKT         Denmark     $1.7 B     $1 B   \n",
       "777              LEG Immobilien AG         Germany     $958 M     $1 B   \n",
       "809                          Valeo          France    $20.9 B   $999 M   \n",
       "810                  Grupo Zuliano       Venezuela  undefined   $999 M   \n",
       "811                     LG Display     South Korea    $23.8 B   $999 M   \n",
       "812              Eversource Energy   United States     $7.9 B   $998 M   \n",
       "813               Daiwa Securities           Japan     $6.4 B   $998 M   \n",
       "814             West Japan Railway           Japan    $13.5 B   $997 M   \n",
       "815                         Evonik         Germany    $16.8 B   $997 M   \n",
       "816                     Akzo Nobel     Netherlands    $13.9 B   $988 M   \n",
       "817              Banco de Sabadell           Spain     $8.4 B   $987 M   \n",
       "818                Deutsche Boerse         Germany     $3.4 B   $985 M   \n",
       "819                       L Brands   United States    $12.6 B   $983 M   \n",
       "820                       Shionogi           Japan     $3.1 B   $982 M   \n",
       "...                            ...             ...        ...      ...   \n",
       "1937      Steel Authority of India           India     $6.6 B  $-411 M   \n",
       "1938              Mitsui OSK Lines           Japan    $14.9 B  $-427 M   \n",
       "1939                Voya Financial   United States     $9.3 B  $-429 M   \n",
       "1940                      UCO Bank           India     $2.4 B  $-444 M   \n",
       "1941                    Bombardier          Canada    $16.7 B  $-461 M   \n",
       "1942             Molina Healthcare   United States    $19.6 B  $-482 M   \n",
       "1943                          VEON     Netherlands     $9.8 B  $-498 M   \n",
       "1944          Indian Overseas Bank           India     $3.3 B  $-513 M   \n",
       "1945                         Dexia         Belgium    $11.1 B  $-521 M   \n",
       "1946              Tenet Healthcare   United States    $19.1 B  $-552 M   \n",
       "1947                    Eletrobrás          Brazil    $11.9 B  $-553 M   \n",
       "1948                ConocoPhillips   United States    $30.3 B  $-553 M   \n",
       "1949      Hyundai Heavy Industries     South Korea    $12.3 B  $-554 M   \n",
       "1950                      XL Group         Bermuda    $11.3 B  $-561 M   \n",
       "1951                      Autodesk   United States       $2 B  $-567 M   \n",
       "1952                     Carrefour          France    $91.3 B  $-599 M   \n",
       "1953                  Noble Energy   United States     $4.2 B  $-600 M   \n",
       "1954                        Altice     Netherlands    $26.5 B  $-616 M   \n",
       "1955                 Vistra Energy   United States     $5.4 B  $-638 M   \n",
       "1956                     IDBI Bank           India     $4.8 B  $-748 M   \n",
       "1957                 Origin Energy       Australia    $11.4 B  $-757 M   \n",
       "1958     Oriental Bank of Commerce           India     $3.2 B  $-835 M   \n",
       "1959           Credit Suisse Group     Switzerland    $32.7 B  $-916 M   \n",
       "1960       Valeant Pharmaceuticals          Canada     $8.6 B  $-917 M   \n",
       "1961            ThyssenKrupp Group         Germany    $46.9 B  $-942 M   \n",
       "1962                          Onex          Canada    $25.3 B  $-973 M   \n",
       "1980       Frontier Communications   United States       $9 B  $-1.7 B   \n",
       "1983                            Oi          Brazil     $7.5 B    $-2 B   \n",
       "1985      Community Health Systems   United States    $14.6 B  $-2.3 B   \n",
       "1995                   Noble Group       Hong Kong    $25.9 B  $-4.9 B   \n",
       "\n",
       "          Assets Market Value  \n",
       "93    $2,022.5 B       $858 M  \n",
       "128       $7.6 B       $255 M  \n",
       "186      $38.1 B      $25.7 B  \n",
       "231       $802 M       $3.2 B  \n",
       "377      $24.1 B      $12.8 B  \n",
       "399        $12 B      $12.8 B  \n",
       "431      $10.6 B            -  \n",
       "538       $9.6 B      $12.9 B  \n",
       "571      $16.5 B       $8.6 B  \n",
       "603      $37.1 B       $574 M  \n",
       "644            -      $32.4 B  \n",
       "655      $14.4 B       $7.1 B  \n",
       "664      $10.7 B         $9 B  \n",
       "685      $10.8 B       $7.4 B  \n",
       "750      $13.7 B      $16.1 B  \n",
       "754            -       $354 M  \n",
       "766       $2.4 B       $801 M  \n",
       "777      $12.4 B       $7.1 B  \n",
       "809      $20.9 B      $16.2 B  \n",
       "810            -       $139 M  \n",
       "811      $28.1 B       $7.8 B  \n",
       "812        $37 B      $18.4 B  \n",
       "813     $198.8 B       $9.8 B  \n",
       "814      $28.9 B      $14.2 B  \n",
       "815        $25 B      $17.4 B  \n",
       "816      $20.4 B      $22.4 B  \n",
       "817     $269.4 B      $11.5 B  \n",
       "818     $179.7 B        $26 B  \n",
       "819       $8.1 B         $9 B  \n",
       "820       $6.8 B      $16.5 B  \n",
       "...          ...          ...  \n",
       "1937     $17.8 B       $4.5 B  \n",
       "1938       $20 B       $3.6 B  \n",
       "1939    $219.8 B       $8.9 B  \n",
       "1940     $33.4 B       $530 M  \n",
       "1941     $26.7 B       $7.8 B  \n",
       "1942      $9.1 B       $5.2 B  \n",
       "1943     $19.5 B       $4.7 B  \n",
       "1944     $37.6 B       $1.3 B  \n",
       "1945    $217.3 B        $16 M  \n",
       "1946     $23.2 B       $3.3 B  \n",
       "1947     $52.1 B       $7.1 B  \n",
       "1948     $70.7 B      $81.3 B  \n",
       "1949     $28.4 B       $8.3 B  \n",
       "1950     $65.3 B      $14.2 B  \n",
       "1951      $4.1 B      $29.8 B  \n",
       "1952     $57.4 B        $15 B  \n",
       "1953     $22.4 B      $16.9 B  \n",
       "1954       $87 B      $15.9 B  \n",
       "1955     $14.8 B        $12 B  \n",
       "1956     $55.8 B       $3.1 B  \n",
       "1957     $19.9 B      $13.1 B  \n",
       "1958       $37 B       $777 M  \n",
       "1959    $844.9 B      $43.7 B  \n",
       "1960     $35.8 B       $7.3 B  \n",
       "1961     $40.7 B      $17.3 B  \n",
       "1962     $44.7 B       $7.2 B  \n",
       "1980     $24.7 B       $724 M  \n",
       "1983     $20.7 B       $885 M  \n",
       "1985     $17.3 B       $507 M  \n",
       "1995      $4.8 B        $77 M  \n",
       "\n",
       "[1176 rows x 6 columns]"
      ]
     },
     "execution_count": 5,
     "metadata": {},
     "output_type": "execute_result"
    }
   ],
   "source": [
    "df.loc[(~df['Sales'].str.endswith('B') | ~df['Profits'].str.endswith('B')) |\n",
    "       (~df['Assets'].str.endswith('B') | ~df['Market Value'].str.endswith('B'))]"
   ]
  },
  {
   "cell_type": "markdown",
   "metadata": {},
   "source": [
    "Convert monetary values from strings to floats, adjusting to billions where necessary, and dropping rows with invalid data."
   ]
  },
  {
   "cell_type": "code",
   "execution_count": 6,
   "metadata": {},
   "outputs": [
    {
     "name": "stdout",
     "output_type": "stream",
     "text": [
      "(1993, 6)\n"
     ]
    },
    {
     "data": {
      "text/html": [
       "<div>\n",
       "<style scoped>\n",
       "    .dataframe tbody tr th:only-of-type {\n",
       "        vertical-align: middle;\n",
       "    }\n",
       "\n",
       "    .dataframe tbody tr th {\n",
       "        vertical-align: top;\n",
       "    }\n",
       "\n",
       "    .dataframe thead th {\n",
       "        text-align: right;\n",
       "    }\n",
       "</style>\n",
       "<table border=\"1\" class=\"dataframe\">\n",
       "  <thead>\n",
       "    <tr style=\"text-align: right;\">\n",
       "      <th></th>\n",
       "      <th>Company</th>\n",
       "      <th>Country</th>\n",
       "      <th>Sales</th>\n",
       "      <th>Profits</th>\n",
       "      <th>Assets</th>\n",
       "      <th>Market Value</th>\n",
       "    </tr>\n",
       "  </thead>\n",
       "  <tbody>\n",
       "    <tr>\n",
       "      <th>0</th>\n",
       "      <td>Apple</td>\n",
       "      <td>United States</td>\n",
       "      <td>247.5</td>\n",
       "      <td>53.3</td>\n",
       "      <td>367.5</td>\n",
       "      <td>926.9</td>\n",
       "    </tr>\n",
       "    <tr>\n",
       "      <th>1</th>\n",
       "      <td>British American Tobacco</td>\n",
       "      <td>United Kingdom</td>\n",
       "      <td>26.1</td>\n",
       "      <td>48.3</td>\n",
       "      <td>190.8</td>\n",
       "      <td>120.0</td>\n",
       "    </tr>\n",
       "    <tr>\n",
       "      <th>2</th>\n",
       "      <td>ICBC</td>\n",
       "      <td>China</td>\n",
       "      <td>165.3</td>\n",
       "      <td>43.7</td>\n",
       "      <td>4210.9</td>\n",
       "      <td>311.0</td>\n",
       "    </tr>\n",
       "    <tr>\n",
       "      <th>3</th>\n",
       "      <td>Samsung Electronics</td>\n",
       "      <td>South Korea</td>\n",
       "      <td>224.6</td>\n",
       "      <td>41.0</td>\n",
       "      <td>293.2</td>\n",
       "      <td>325.9</td>\n",
       "    </tr>\n",
       "    <tr>\n",
       "      <th>4</th>\n",
       "      <td>Berkshire Hathaway</td>\n",
       "      <td>United States</td>\n",
       "      <td>235.2</td>\n",
       "      <td>39.7</td>\n",
       "      <td>702.7</td>\n",
       "      <td>491.9</td>\n",
       "    </tr>\n",
       "  </tbody>\n",
       "</table>\n",
       "</div>"
      ],
      "text/plain": [
       "                    Company         Country  Sales  Profits  Assets  \\\n",
       "0                     Apple   United States  247.5     53.3   367.5   \n",
       "1  British American Tobacco  United Kingdom   26.1     48.3   190.8   \n",
       "2                      ICBC           China  165.3     43.7  4210.9   \n",
       "3       Samsung Electronics     South Korea  224.6     41.0   293.2   \n",
       "4        Berkshire Hathaway   United States  235.2     39.7   702.7   \n",
       "\n",
       "   Market Value  \n",
       "0         926.9  \n",
       "1         120.0  \n",
       "2         311.0  \n",
       "3         325.9  \n",
       "4         491.9  "
      ]
     },
     "execution_count": 6,
     "metadata": {},
     "output_type": "execute_result"
    }
   ],
   "source": [
    "def cash_to_float(string):\n",
    "    num_str = string.replace(',', '')\n",
    "    num_str = num_str[1:]\n",
    "    try:\n",
    "        if num_str[-1] == 'M':\n",
    "            return float(num_str[:-2])/1000\n",
    "        else:\n",
    "            return float(num_str[:-2])\n",
    "    except:\n",
    "        return np.nan\n",
    "\n",
    "for col in df.columns[2:]:\n",
    "    df[col] = df[col].apply(cash_to_float)\n",
    "\n",
    "df = df.dropna()\n",
    "print(df.shape)\n",
    "df.head()"
   ]
  },
  {
   "cell_type": "markdown",
   "metadata": {},
   "source": [
    "Simplify 'Country' column."
   ]
  },
  {
   "cell_type": "code",
   "execution_count": 7,
   "metadata": {},
   "outputs": [
    {
     "data": {
      "text/plain": [
       "Other             821\n",
       "United States     559\n",
       "China             230\n",
       "Japan             228\n",
       "United Kingdom     88\n",
       "South Korea        67\n",
       "Name: Country, dtype: int64"
      ]
     },
     "execution_count": 7,
     "metadata": {},
     "output_type": "execute_result"
    }
   ],
   "source": [
    "top5_countries = df['Country'].value_counts().index[:5]\n",
    "df.loc[~df['Country'].isin(top5_countries), 'Country'] = 'Other'\n",
    "df['Country'].value_counts()"
   ]
  },
  {
   "cell_type": "markdown",
   "metadata": {},
   "source": [
    "Rename columns."
   ]
  },
  {
   "cell_type": "code",
   "execution_count": 8,
   "metadata": {},
   "outputs": [],
   "source": [
    "df.columns = ['Company', 'Country', 'Revenue', 'Profits', 'Assets', 'Market Cap']"
   ]
  },
  {
   "cell_type": "markdown",
   "metadata": {},
   "source": [
    "# Static Visualisation"
   ]
  },
  {
   "cell_type": "code",
   "execution_count": 9,
   "metadata": {},
   "outputs": [
    {
     "data": {
      "application/vnd.vegalite.v2+json": {
       "$schema": "https://vega.github.io/schema/vega-lite/v2.6.0.json",
       "config": {
        "axis": {
         "labelFontSize": 12,
         "titleFontSize": 14
        },
        "legend": {
         "labelFontSize": 12,
         "titleFontSize": 14
        },
        "title": {
         "fontSize": 16
        },
        "view": {
         "height": 300,
         "width": 400
        }
       },
       "data": {
        "name": "data-425dcdc61495eee1b7f1ac4115606244"
       },
       "datasets": {
        "data-425dcdc61495eee1b7f1ac4115606244": [
         {
          "Assets": 367.5,
          "Company": "Apple",
          "Country": "United States",
          "Market Cap": 926.9,
          "Profits": 53.3,
          "Revenue": 247.5
         },
         {
          "Assets": 190.8,
          "Company": "British American Tobacco",
          "Country": "United Kingdom",
          "Market Cap": 120,
          "Profits": 48.3,
          "Revenue": 26.1
         },
         {
          "Assets": 4210.9,
          "Company": "ICBC",
          "Country": "China",
          "Market Cap": 311,
          "Profits": 43.7,
          "Revenue": 165.3
         },
         {
          "Assets": 293.2,
          "Company": "Samsung Electronics",
          "Country": "South Korea",
          "Market Cap": 325.9,
          "Profits": 41,
          "Revenue": 224.6
         },
         {
          "Assets": 702.7,
          "Company": "Berkshire Hathaway",
          "Country": "United States",
          "Market Cap": 491.9,
          "Profits": 39.7,
          "Revenue": 235.2
         },
         {
          "Assets": 3631.6,
          "Company": "China Construction Bank",
          "Country": "China",
          "Market Cap": 261.2,
          "Profits": 37.2,
          "Revenue": 143.2
         },
         {
          "Assets": 264.5,
          "Company": "Verizon Communications",
          "Country": "United States",
          "Market Cap": 200.9,
          "Profits": 31.2,
          "Revenue": 128
         },
         {
          "Assets": 446.3,
          "Company": "AT&T",
          "Country": "United States",
          "Market Cap": 198.3,
          "Profits": 30.6,
          "Revenue": 159.2
         },
         {
          "Assets": 3439.3,
          "Company": "Agricultural Bank of China",
          "Country": "China",
          "Market Cap": 184.1,
          "Profits": 29.6,
          "Revenue": 129.3
         },
         {
          "Assets": 2609.8,
          "Company": "JPMorgan Chase",
          "Country": "United States",
          "Market Cap": 387.7,
          "Profits": 26.5,
          "Revenue": 118.2
         },
         {
          "Assets": 3204.2,
          "Company": "Bank of China",
          "Country": "China",
          "Market Cap": 158.6,
          "Profits": 26.4,
          "Revenue": 118.2
         },
         {
          "Assets": 190.9,
          "Company": "Comcast",
          "Country": "United States",
          "Market Cap": 146.8,
          "Profits": 23.3,
          "Revenue": 86.9
         },
         {
          "Assets": 473,
          "Company": "Toyota Motor",
          "Country": "Japan",
          "Market Cap": 200.7,
          "Profits": 22.5,
          "Revenue": 265.2
         },
         {
          "Assets": 164.6,
          "Company": "Pfizer",
          "Country": "United States",
          "Market Cap": 207.7,
          "Profits": 21.7,
          "Revenue": 52.7
         },
         {
          "Assets": 1915.4,
          "Company": "Wells Fargo",
          "Country": "United States",
          "Market Cap": 265.3,
          "Profits": 21.7,
          "Revenue": 102.1
         },
         {
          "Assets": 348.8,
          "Company": "ExxonMobil",
          "Country": "United States",
          "Market Cap": 344.1,
          "Profits": 20.4,
          "Revenue": 230.1
         },
         {
          "Assets": 2328.5,
          "Company": "Bank of America",
          "Country": "United States",
          "Market Cap": 313.5,
          "Profits": 20.3,
          "Revenue": 103
         },
         {
          "Assets": 88.9,
          "Company": "Facebook",
          "Country": "United States",
          "Market Cap": 541.5,
          "Profits": 17.8,
          "Revenue": 44.6
         },
         {
          "Assets": 233.7,
          "Company": "China Mobile",
          "Country": "Other",
          "Market Cap": 192.6,
          "Profits": 16.9,
          "Revenue": 109.5
         },
         {
          "Assets": 206.9,
          "Company": "Alphabet",
          "Country": "United States",
          "Market Cap": 766.4,
          "Profits": 16.6,
          "Revenue": 117.9
         },
         {
          "Assets": 410.7,
          "Company": "Royal Dutch Shell",
          "Country": "Other",
          "Market Cap": 306.5,
          "Profits": 15.2,
          "Revenue": 321.8
         },
         {
          "Assets": 245.5,
          "Company": "Microsoft",
          "Country": "United States",
          "Market Cap": 750.6,
          "Profits": 14.2,
          "Revenue": 103.3
         },
         {
          "Assets": 1066.4,
          "Company": "Ping An Insurance Group",
          "Country": "China",
          "Market Cap": 181.4,
          "Profits": 13.9,
          "Revenue": 141.6
         },
         {
          "Assets": 470.9,
          "Company": "Sberbank",
          "Country": "Other",
          "Market Cap": 86.3,
          "Profits": 13.4,
          "Revenue": 46.3
         },
         {
          "Assets": 531.4,
          "Company": "Volkswagen Group",
          "Country": "Other",
          "Market Cap": 101.4,
          "Profits": 13.1,
          "Revenue": 272
         },
         {
          "Assets": 316.8,
          "Company": "Gazprom",
          "Country": "Other",
          "Market Cap": 57.8,
          "Profits": 12.2,
          "Revenue": 112.2
         },
         {
          "Assets": 323.2,
          "Company": "Daimler",
          "Country": "Other",
          "Market Cap": 85.7,
          "Profits": 11.8,
          "Revenue": 193.2
         },
         {
          "Assets": 70.3,
          "Company": "Taiwan Semiconductor",
          "Country": "Other",
          "Market Cap": 203,
          "Profits": 11.5,
          "Revenue": 33.1
         },
         {
          "Assets": 97.9,
          "Company": "Walt Disney",
          "Country": "United States",
          "Market Cap": 152.1,
          "Profits": 11.5,
          "Revenue": 56.8
         },
         {
          "Assets": 155.6,
          "Company": "UnitedHealth Group",
          "Country": "United States",
          "Market Cap": 229,
          "Profits": 11.2,
          "Revenue": 207.6
         },
         {
          "Assets": 120.8,
          "Company": "Kraft Heinz Company",
          "Country": "United States",
          "Market Cap": 72.2,
          "Profits": 11.1,
          "Revenue": 26.2
         },
         {
          "Assets": 128.6,
          "Company": "Intel",
          "Country": "United States",
          "Market Cap": 254.8,
          "Profits": 11.1,
          "Revenue": 64
         },
         {
          "Assets": 993.7,
          "Company": "China Merchants Bank",
          "Country": "China",
          "Market Cap": 112.4,
          "Profits": 11,
          "Revenue": 49.9
         },
         {
          "Assets": 57.8,
          "Company": "Union Pacific",
          "Country": "United States",
          "Market Cap": 109.7,
          "Profits": 11,
          "Revenue": 21.6
         },
         {
          "Assets": 2652.1,
          "Company": "HSBC Holdings",
          "Country": "United Kingdom",
          "Market Cap": 200.3,
          "Profits": 10.8,
          "Revenue": 63.2
         },
         {
          "Assets": 1472.9,
          "Company": "Bank of Communications",
          "Country": "China",
          "Market Cap": 66.6,
          "Profits": 10.7,
          "Revenue": 59.1
         },
         {
          "Assets": 43.9,
          "Company": "Altria Group",
          "Country": "United States",
          "Market Cap": 104.5,
          "Profits": 10.7,
          "Revenue": 19.6
         },
         {
          "Assets": 46.1,
          "Company": "SK Hynix",
          "Country": "South Korea",
          "Market Cap": 56.8,
          "Profits": 10.7,
          "Revenue": 29.3
         },
         {
          "Assets": 85.2,
          "Company": "Tencent Holdings",
          "Country": "China",
          "Market Cap": 491.3,
          "Profits": 10.6,
          "Revenue": 35.3
         },
         {
          "Assets": 241.3,
          "Company": "BMW Group",
          "Country": "Other",
          "Market Cap": 72.3,
          "Profits": 10.2,
          "Revenue": 114.4
         },
         {
          "Assets": 256.4,
          "Company": "Chevron",
          "Country": "United States",
          "Market Cap": 248.1,
          "Profits": 10.2,
          "Revenue": 139.4
         },
         {
          "Assets": 124.4,
          "Company": "Procter & Gamble",
          "Country": "United States",
          "Market Cap": 184.5,
          "Profits": 10.1,
          "Revenue": 66.4
         },
         {
          "Assets": 41.3,
          "Company": "Micron Technology",
          "Country": "United States",
          "Market Cap": 60.1,
          "Profits": 10,
          "Revenue": 25.9
         },
         {
          "Assets": 146.2,
          "Company": "Charter Communications",
          "Country": "United States",
          "Market Cap": 64.8,
          "Profits": 9.9,
          "Revenue": 42.1
         },
         {
          "Assets": 204.5,
          "Company": "Walmart",
          "Country": "United States",
          "Market Cap": 246.2,
          "Profits": 9.9,
          "Revenue": 500.3
         },
         {
          "Assets": 114,
          "Company": "Alibaba",
          "Country": "China",
          "Market Cap": 499.4,
          "Profits": 9.6,
          "Revenue": 37.9
         },
         {
          "Assets": 181.9,
          "Company": "Honda Motor",
          "Country": "Japan",
          "Market Cap": 58.9,
          "Profits": 9.6,
          "Revenue": 138.6
         },
         {
          "Assets": 113.5,
          "Company": "Boeing",
          "Country": "United States",
          "Market Cap": 199.5,
          "Profits": 9.2,
          "Revenue": 95.8
         },
         {
          "Assets": 293.2,
          "Company": "Softbank",
          "Country": "Japan",
          "Market Cap": 84.9,
          "Profits": 9.2,
          "Revenue": 82.6
         },
         {
          "Assets": 69,
          "Company": "Visa",
          "Country": "United States",
          "Market Cap": 295.1,
          "Profits": 9,
          "Revenue": 19.4
         },
         {
          "Assets": 2774.2,
          "Company": "Mitsubishi UFJ Financial",
          "Country": "Japan",
          "Market Cap": 86.2,
          "Profits": 8.9,
          "Revenue": 51.8
         },
         {
          "Assets": 1040.3,
          "Company": "Royal Bank of Canada",
          "Country": "Other",
          "Market Cap": 113.4,
          "Profits": 8.8,
          "Revenue": 40.5
         },
         {
          "Assets": 78.7,
          "Company": "Roche Holding",
          "Country": "Other",
          "Market Cap": 189.7,
          "Profits": 8.8,
          "Revenue": 54.2
         },
         {
          "Assets": 1023.1,
          "Company": "Industrial Bank",
          "Country": "China",
          "Market Cap": 53.5,
          "Profits": 8.8,
          "Revenue": 48
         },
         {
          "Assets": 95.7,
          "Company": "Rio Tinto",
          "Country": "United Kingdom",
          "Market Cap": 99.3,
          "Profits": 8.7,
          "Revenue": 40
         },
         {
          "Assets": 44.5,
          "Company": "Home Depot",
          "Country": "United States",
          "Market Cap": 219.4,
          "Profits": 8.6,
          "Revenue": 100.9
         },
         {
          "Assets": 2353.9,
          "Company": "BNP Paribas",
          "Country": "Other",
          "Market Cap": 93.6,
          "Profits": 8.5,
          "Revenue": 117.8
         },
         {
          "Assets": 92.7,
          "Company": "Bayer",
          "Country": "Other",
          "Market Cap": 104.6,
          "Profits": 8.4,
          "Revenue": 44.4
         },
         {
          "Assets": 257,
          "Company": "Total",
          "Country": "Other",
          "Market Cap": 168,
          "Profits": 8.4,
          "Revenue": 155.8
         },
         {
          "Assets": 956.9,
          "Company": "Intesa Sanpaolo",
          "Country": "Other",
          "Market Cap": 63.1,
          "Profits": 8.3,
          "Revenue": 42.5
         },
         {
          "Assets": 94.3,
          "Company": "NextEra Energy",
          "Country": "United States",
          "Market Cap": 75.8,
          "Profits": 8.2,
          "Revenue": 16.4
         },
         {
          "Assets": 974.8,
          "Company": "Shanghai Pudong Development",
          "Country": "China",
          "Market Cap": 50.7,
          "Profits": 8.2,
          "Revenue": 48.3
         },
         {
          "Assets": 135.5,
          "Company": "Novartis",
          "Country": "Other",
          "Market Cap": 203,
          "Profits": 8.1,
          "Revenue": 50.3
         },
         {
          "Assets": 249.9,
          "Company": "Sinopec",
          "Country": "China",
          "Market Cap": 138.6,
          "Profits": 8,
          "Revenue": 326.6
         },
         {
          "Assets": 1769.1,
          "Company": "Banco Santander",
          "Country": "Other",
          "Market Cap": 106.3,
          "Profits": 8,
          "Revenue": 56.1
         },
         {
          "Assets": 1028.1,
          "Company": "TD Bank Group",
          "Country": "Other",
          "Market Cap": 107.8,
          "Profits": 7.9,
          "Revenue": 35.7
         },
         {
          "Assets": 248.6,
          "Company": "Anheuser-Busch InBev",
          "Country": "Other",
          "Market Cap": 184.3,
          "Profits": 7.9,
          "Revenue": 56.4
         },
         {
          "Assets": 54.5,
          "Company": "Broadcom",
          "Country": "United States",
          "Market Cap": 100,
          "Profits": 7.8,
          "Revenue": 18.8
         },
         {
          "Assets": 829.7,
          "Company": "Prudential Financial",
          "Country": "United States",
          "Market Cap": 42,
          "Profits": 7.8,
          "Revenue": 61.1
         },
         {
          "Assets": 267.2,
          "Company": "Ford Motor",
          "Country": "United States",
          "Market Cap": 44.6,
          "Profits": 7.8,
          "Revenue": 159.6
         },
         {
          "Assets": 191.1,
          "Company": "Nippon Telegraph & Tel",
          "Country": "Japan",
          "Market Cap": 96.1,
          "Profits": 7.7,
          "Revenue": 104.8
         },
         {
          "Assets": 1128.6,
          "Company": "Allianz",
          "Country": "Other",
          "Market Cap": 100.4,
          "Profits": 7.7,
          "Revenue": 122.5
         },
         {
          "Assets": 1466.6,
          "Company": "Postal Savings Bank Of China",
          "Country": "China",
          "Market Cap": 55.3,
          "Profits": 7.6,
          "Revenue": 56.1
         },
         {
          "Assets": 752.4,
          "Company": "Commonwealth Bank",
          "Country": "Other",
          "Market Cap": 93.5,
          "Profits": 7.6,
          "Revenue": 33
         },
         {
          "Assets": 437.6,
          "Company": "Itaú Unibanco Holding",
          "Country": "Other",
          "Market Cap": 87,
          "Profits": 7.5,
          "Revenue": 62.3
         },
         {
          "Assets": 173.7,
          "Company": "Nissan Motor",
          "Country": "Japan",
          "Market Cap": 39.7,
          "Profits": 7.4,
          "Revenue": 106.9
         },
         {
          "Assets": 954,
          "Company": "China Minsheng Banking",
          "Country": "China",
          "Market Cap": 43.5,
          "Profits": 7.4,
          "Revenue": 42.7
         },
         {
          "Assets": 133.8,
          "Company": "Nestle",
          "Country": "Other",
          "Market Cap": 237.3,
          "Profits": 7.3,
          "Revenue": 91.2
         },
         {
          "Assets": 1847.7,
          "Company": "Sumitomo Mitsui Financial",
          "Country": "Japan",
          "Market Cap": 58.3,
          "Profits": 7.2,
          "Revenue": 49.1
         },
         {
          "Assets": 92,
          "Company": "LukOil",
          "Country": "Other",
          "Market Cap": 60.4,
          "Profits": 7.2,
          "Revenue": 99.9
         },
         {
          "Assets": 163.4,
          "Company": "Siemens",
          "Country": "Other",
          "Market Cap": 112.5,
          "Profits": 7.1,
          "Revenue": 94.5
         },
         {
          "Assets": 98.9,
          "Company": "BASF",
          "Country": "Other",
          "Market Cap": 95.3,
          "Profits": 7.1,
          "Revenue": 75.1
         },
         {
          "Assets": 87,
          "Company": "Sun Hung Kai Properties",
          "Country": "Other",
          "Market Cap": 46.9,
          "Profits": 6.9,
          "Revenue": 11.3
         },
         {
          "Assets": 858.5,
          "Company": "Morgan Stanley",
          "Country": "United States",
          "Market Cap": 97.7,
          "Profits": 6.9,
          "Revenue": 45.6
         },
         {
          "Assets": 72.4,
          "Company": "Unilever",
          "Country": "Other",
          "Market Cap": 155.8,
          "Profits": 6.8,
          "Revenue": 60.6
         },
         {
          "Assets": 1029.1,
          "Company": "AXA Group",
          "Country": "Other",
          "Market Cap": 64.1,
          "Profits": 6.7,
          "Revenue": 149.9
         },
         {
          "Assets": 91.2,
          "Company": "China Shenhua Energy",
          "Country": "China",
          "Market Cap": 64.6,
          "Profits": 6.7,
          "Revenue": 36.4
         },
         {
          "Assets": 135.1,
          "Company": "CVS Health",
          "Country": "United States",
          "Market Cap": 65.5,
          "Profits": 6.6,
          "Revenue": 185.9
         },
         {
          "Assets": 894,
          "Company": "China Citic Bank",
          "Country": "China",
          "Market Cap": 46.5,
          "Profits": 6.5,
          "Revenue": 43.6
         },
         {
          "Assets": 752.5,
          "Company": "Bank of Nova Scotia",
          "Country": "Other",
          "Market Cap": 75,
          "Profits": 6.5,
          "Revenue": 28.8
         },
         {
          "Assets": 668.8,
          "Company": "Westpac Banking Group",
          "Country": "Other",
          "Market Cap": 76.2,
          "Profits": 6.4,
          "Revenue": 29.4
         },
         {
          "Assets": 460.1,
          "Company": "US Bancorp",
          "Country": "United States",
          "Market Cap": 84.6,
          "Profits": 6.4,
          "Revenue": 24.1
         },
         {
          "Assets": 69.3,
          "Company": "AbbVie",
          "Country": "United States",
          "Market Cap": 165.3,
          "Profits": 6.4,
          "Revenue": 29.6
         },
         {
          "Assets": 2022.5,
          "Company": "Freddie Mac",
          "Country": "United States",
          "Market Cap": 0.858,
          "Profits": 6.3,
          "Revenue": 73.5
         },
         {
          "Assets": 1004.8,
          "Company": "UniCredit Group",
          "Country": "Other",
          "Market Cap": 47.8,
          "Profits": 6.1,
          "Revenue": 29
         },
         {
          "Assets": 213.2,
          "Company": "AIA Group",
          "Country": "Other",
          "Market Cap": 111.4,
          "Profits": 6.1,
          "Revenue": 31.9
         },
         {
          "Assets": 15.4,
          "Company": "Novo Nordisk",
          "Country": "Other",
          "Market Cap": 116.9,
          "Profits": 6.1,
          "Revenue": 17.3
         },
         {
          "Assets": 43.1,
          "Company": "Philip Morris International",
          "Country": "United States",
          "Market Cap": 126.2,
          "Profits": 6,
          "Revenue": 29.6
         },
         {
          "Assets": 474.2,
          "Company": "China Life Insurance",
          "Country": "China",
          "Market Cap": 104.1,
          "Profits": 6,
          "Revenue": 97.1
         },
         {
          "Assets": 37.4,
          "Company": "CSX",
          "Country": "United States",
          "Market Cap": 55.2,
          "Profits": 5.8,
          "Revenue": 11.4
         },
         {
          "Assets": 132,
          "Company": "Renault",
          "Country": "Other",
          "Market Cap": 30.8,
          "Profits": 5.8,
          "Revenue": 66.3
         },
         {
          "Assets": 135.6,
          "Company": "Glencore International",
          "Country": "Other",
          "Market Cap": 75.5,
          "Profits": 5.8,
          "Revenue": 205.4
         },
         {
          "Assets": 125.3,
          "Company": "IBM",
          "Country": "United States",
          "Market Cap": 132.3,
          "Profits": 5.7,
          "Revenue": 80.1
         },
         {
          "Assets": 962.1,
          "Company": "Citic Pacific",
          "Country": "Other",
          "Market Cap": 44.4,
          "Profits": 5.6,
          "Revenue": 57.8
         },
         {
          "Assets": 125.2,
          "Company": "Reliance Industries",
          "Country": "Other",
          "Market Cap": 93.1,
          "Profits": 5.6,
          "Revenue": 60.8
         },
         {
          "Assets": 1016.1,
          "Company": "ING Group",
          "Country": "Other",
          "Market Cap": 62.2,
          "Profits": 5.5,
          "Revenue": 56.6
         },
         {
          "Assets": 36.2,
          "Company": "Norfolk Southern",
          "Country": "United States",
          "Market Cap": 43.1,
          "Profits": 5.5,
          "Revenue": 10.7
         },
         {
          "Assets": 379.2,
          "Company": "PNC Financial Services",
          "Country": "United States",
          "Market Cap": 70.9,
          "Profits": 5.5,
          "Revenue": 18.5
         },
         {
          "Assets": 69,
          "Company": "Time Warner",
          "Country": "United States",
          "Market Cap": 73.4,
          "Profits": 5.5,
          "Revenue": 31.5
         },
         {
          "Assets": 40.6,
          "Company": "Rolls-Royce Holdings",
          "Country": "United Kingdom",
          "Market Cap": 21.1,
          "Profits": 5.4,
          "Revenue": 21
         },
         {
          "Assets": 118.4,
          "Company": "SAIC Motor",
          "Country": "China",
          "Market Cap": 63.8,
          "Profits": 5.4,
          "Revenue": 136.6
         },
         {
          "Assets": 33.7,
          "Company": "McDonald's",
          "Country": "United States",
          "Market Cap": 129.9,
          "Profits": 5.4,
          "Revenue": 22.3
         },
         {
          "Assets": 26.9,
          "Company": "LyondellBasell Industries",
          "Country": "United Kingdom",
          "Market Cap": 44.1,
          "Profits": 5.3,
          "Revenue": 35.8
         },
         {
          "Assets": 717.3,
          "Company": "ANZ",
          "Country": "Other",
          "Market Cap": 61.2,
          "Profits": 5.3,
          "Revenue": 28.7
         },
         {
          "Assets": 216,
          "Company": "BlackRock",
          "Country": "United States",
          "Market Cap": 86.6,
          "Profits": 5.2,
          "Revenue": 13.4
         },
         {
          "Assets": 61.8,
          "Company": "KDDI",
          "Country": "Japan",
          "Market Cap": 65.5,
          "Profits": 5.2,
          "Revenue": 45.5
         },
         {
          "Assets": 257.6,
          "Company": "China State Construction Engineering",
          "Country": "China",
          "Market Cap": 40.4,
          "Profits": 5.1,
          "Revenue": 162.3
         },
         {
          "Assets": 1850.4,
          "Company": "Mizuho Financial",
          "Country": "Japan",
          "Market Cap": 46.2,
          "Profits": 5.1,
          "Revenue": 29.7
         },
         {
          "Assets": 44.5,
          "Company": "United Parcel Service",
          "Country": "United States",
          "Market Cap": 99.7,
          "Profits": 5.1,
          "Revenue": 67.7
         },
         {
          "Assets": 52.1,
          "Company": "Phillips 66",
          "Country": "United States",
          "Market Cap": 54.9,
          "Profits": 5.1,
          "Revenue": 92.7
         },
         {
          "Assets": 150.8,
          "Company": "Mitsubishi",
          "Country": "Japan",
          "Market Cap": 46.4,
          "Profits": 5.1,
          "Revenue": 68.3
         },
         {
          "Assets": 90.5,
          "Company": "Saudi Basic Industries",
          "Country": "Other",
          "Market Cap": 91.8,
          "Profits": 5,
          "Revenue": 41.9
         },
         {
          "Assets": 51,
          "Company": "SAP",
          "Country": "Other",
          "Market Cap": 138.9,
          "Profits": 4.9,
          "Revenue": 27.4
         },
         {
          "Assets": 81.9,
          "Company": "PepsiCo",
          "Country": "United States",
          "Market Cap": 138.1,
          "Profits": 4.9,
          "Revenue": 64
         },
         {
          "Assets": 67.9,
          "Company": "E.ON",
          "Country": "Other",
          "Market Cap": 24.2,
          "Profits": 4.9,
          "Revenue": 43
         },
         {
          "Assets": 973.5,
          "Company": "Goldman Sachs Group",
          "Country": "United States",
          "Market Cap": 91.8,
          "Profits": 4.9,
          "Revenue": 43.7
         },
         {
          "Assets": 115.4,
          "Company": "Equinor",
          "Country": "Other",
          "Market Cap": 90.2,
          "Profits": 4.9,
          "Revenue": 65.1
         },
         {
          "Assets": 661.7,
          "Company": "China Everbright Bank",
          "Country": "China",
          "Market Cap": 32.2,
          "Profits": 4.8,
          "Revenue": 30.3
         },
         {
          "Assets": 7.6,
          "Company": "Abengoa",
          "Country": "Other",
          "Market Cap": 0.255,
          "Profits": 4.8,
          "Revenue": 1.7
         },
         {
          "Assets": 64.2,
          "Company": "McKesson",
          "Country": "United States",
          "Market Cap": 30.8,
          "Profits": 4.8,
          "Revenue": 205.4
         },
         {
          "Assets": 147.4,
          "Company": "Aflac",
          "Country": "United States",
          "Market Cap": 35,
          "Profits": 4.7,
          "Revenue": 21.8
         },
         {
          "Assets": 112.6,
          "Company": "BHP Billiton",
          "Country": "Other",
          "Market Cap": 133.2,
          "Profits": 4.7,
          "Revenue": 41.2
         },
         {
          "Assets": 370.5,
          "Company": "Banco Bradesco",
          "Country": "Other",
          "Market Cap": 61.3,
          "Profits": 4.7,
          "Revenue": 76.5
         },
         {
          "Assets": 193.6,
          "Company": "Enel",
          "Country": "Other",
          "Market Cap": 61.6,
          "Profits": 4.6,
          "Revenue": 86.7
         },
         {
          "Assets": 94.4,
          "Company": "Vale",
          "Country": "Other",
          "Market Cap": 77.4,
          "Profits": 4.6,
          "Revenue": 34.1
         },
         {
          "Assets": 53.4,
          "Company": "Express Scripts",
          "Country": "United States",
          "Market Cap": 40.9,
          "Profits": 4.6,
          "Revenue": 100.2
         },
         {
          "Assets": 85.3,
          "Company": "ArcelorMittal",
          "Country": "Other",
          "Market Cap": 36.8,
          "Profits": 4.6,
          "Revenue": 68.6
         },
         {
          "Assets": 114.5,
          "Company": "Hon Hai Precision",
          "Country": "Other",
          "Market Cap": 49.5,
          "Profits": 4.6,
          "Revenue": 154.7
         },
         {
          "Assets": 117.6,
          "Company": "Fiat Chrysler Automobiles",
          "Country": "United Kingdom",
          "Market Cap": 35,
          "Profits": 4.5,
          "Revenue": 128.8
         },
         {
          "Assets": 140.7,
          "Company": "CK Hutchison",
          "Country": "Other",
          "Market Cap": 45.4,
          "Profits": 4.5,
          "Revenue": 31.9
         },
         {
          "Assets": 38.7,
          "Company": "Safran",
          "Country": "Other",
          "Market Cap": 48.6,
          "Profits": 4.5,
          "Revenue": 19.1
         },
         {
          "Assets": 98.8,
          "Company": "United Technologies",
          "Country": "United States",
          "Market Cap": 99.6,
          "Profits": 4.5,
          "Revenue": 61.2
         },
         {
          "Assets": 51.9,
          "Company": "FedEx",
          "Country": "United States",
          "Market Cap": 67,
          "Profits": 4.5,
          "Revenue": 63.9
         },
         {
          "Assets": 21.4,
          "Company": "Kweichow Moutai",
          "Country": "China",
          "Market Cap": 142.4,
          "Profits": 4.4,
          "Revenue": 8.5
         },
         {
          "Assets": 712.6,
          "Company": "MetLife",
          "Country": "United States",
          "Market Cap": 47.5,
          "Profits": 4.4,
          "Revenue": 64.1
         },
         {
          "Assets": 67.9,
          "Company": "Shire",
          "Country": "Other",
          "Market Cap": 50.3,
          "Profits": 4.4,
          "Revenue": 15.3
         },
         {
          "Assets": 179.3,
          "Company": "Sony",
          "Country": "Japan",
          "Market Cap": 59.9,
          "Profits": 4.4,
          "Revenue": 77.1
         },
         {
          "Assets": 17.6,
          "Company": "Starbucks",
          "Country": "United States",
          "Market Cap": 79,
          "Profits": 4.4,
          "Revenue": 23.5
         },
         {
          "Assets": 22.9,
          "Company": "Mastercard",
          "Country": "United States",
          "Market Cap": 201.9,
          "Profits": 4.3,
          "Revenue": 13.3
         },
         {
          "Assets": 275.3,
          "Company": "BP",
          "Country": "United Kingdom",
          "Market Cap": 152.6,
          "Profits": 4.3,
          "Revenue": 251.9
         },
         {
          "Assets": 373.6,
          "Company": "Bank of New York Mellon",
          "Country": "United States",
          "Market Cap": 57.8,
          "Profits": 4.3,
          "Revenue": 17.3
         },
         {
          "Assets": 42.4,
          "Company": "L'Oréal Group",
          "Country": "Other",
          "Market Cap": 134.2,
          "Profits": 4.3,
          "Revenue": 29.4
         },
         {
          "Assets": 843,
          "Company": "BBVA-Banco Bilbao Vizcaya",
          "Country": "Other",
          "Market Cap": 54.5,
          "Profits": 4.3,
          "Revenue": 29.2
         },
         {
          "Assets": 119.9,
          "Company": "Sanofi",
          "Country": "Other",
          "Market Cap": 94.9,
          "Profits": 4.3,
          "Revenue": 39.5
         },
         {
          "Assets": 69.9,
          "Company": "CME Group",
          "Country": "United States",
          "Market Cap": 54.2,
          "Profits": 4.3,
          "Revenue": 3.8
         },
         {
          "Assets": 194.6,
          "Company": "China Vanke",
          "Country": "China",
          "Market Cap": 43.8,
          "Profits": 4.2,
          "Revenue": 36.6
         },
         {
          "Assets": 49.4,
          "Company": "Valero Energy",
          "Country": "United States",
          "Market Cap": 49.4,
          "Profits": 4.2,
          "Revenue": 98.6
         },
         {
          "Assets": 30.1,
          "Company": "Canadian National Railway",
          "Country": "Other",
          "Market Cap": 58.4,
          "Profits": 4.2,
          "Revenue": 10.2
         },
         {
          "Assets": 73.3,
          "Company": "Anthem",
          "Country": "United States",
          "Market Cap": 59.2,
          "Profits": 4.1,
          "Revenue": 90.1
         },
         {
          "Assets": 381.1,
          "Company": "PetroChina",
          "Country": "China",
          "Market Cap": 220.2,
          "Profits": 4.1,
          "Revenue": 282.4
         },
         {
          "Assets": 38.6,
          "Company": "3M",
          "Country": "United States",
          "Market Cap": 121.8,
          "Profits": 4.1,
          "Revenue": 32.3
         },
         {
          "Assets": 70.8,
          "Company": "Walgreens Boots Alliance",
          "Country": "United States",
          "Market Cap": 63.6,
          "Profits": 4.1,
          "Revenue": 124
         },
         {
          "Assets": 40.7,
          "Company": "Diageo",
          "Country": "United Kingdom",
          "Market Cap": 89.4,
          "Profits": 4.1,
          "Revenue": 15.7
         },
         {
          "Assets": 610.6,
          "Company": "National Australia Bank",
          "Country": "Other",
          "Market Cap": 58.2,
          "Profits": 4.1,
          "Revenue": 25.6
         },
         {
          "Assets": 36.6,
          "Company": "SingTel",
          "Country": "Other",
          "Market Cap": 43.3,
          "Profits": 4.1,
          "Revenue": 12.7
         },
         {
          "Assets": 1098.6,
          "Company": "Lloyds Banking Group",
          "Country": "United Kingdom",
          "Market Cap": 65.4,
          "Profits": 4,
          "Revenue": 33.6
         },
         {
          "Assets": 50.1,
          "Company": "Reckitt Benckiser Group",
          "Country": "United Kingdom",
          "Market Cap": 55,
          "Profits": 4,
          "Revenue": 14.8
         },
         {
          "Assets": 54,
          "Company": "Twenty-First Century Fox",
          "Country": "United States",
          "Market Cap": 70.3,
          "Profits": 4,
          "Revenue": 29.2
         },
         {
          "Assets": 17.5,
          "Company": "Texas Instruments",
          "Country": "United States",
          "Market Cap": 106.9,
          "Profits": 4,
          "Revenue": 15.3
         },
         {
          "Assets": 16.3,
          "Company": "Tata Consultancy Services",
          "Country": "Other",
          "Market Cap": 98.4,
          "Profits": 4,
          "Revenue": 19.1
         },
         {
          "Assets": 3364.4,
          "Company": "Fannie Mae",
          "Country": "United States",
          "Market Cap": 1.5,
          "Profits": 4,
          "Revenue": 114.1
         },
         {
          "Assets": 126.4,
          "Company": "Amazon.com",
          "Country": "United States",
          "Market Cap": 777.8,
          "Profits": 3.9,
          "Revenue": 193.2
         },
         {
          "Assets": 68.5,
          "Company": "PTT PCL",
          "Country": "Other",
          "Market Cap": 50.9,
          "Profits": 3.9,
          "Revenue": 58.8
         },
         {
          "Assets": 214.2,
          "Company": "Rosneft",
          "Country": "Other",
          "Market Cap": 69,
          "Profits": 3.9,
          "Revenue": 94.8
         },
         {
          "Assets": 52.7,
          "Company": "Henderson Land",
          "Country": "Other",
          "Market Cap": 25.9,
          "Profits": 3.9,
          "Revenue": 3.2
         },
         {
          "Assets": 179.1,
          "Company": "Deutsche Telekom",
          "Country": "Other",
          "Market Cap": 80.8,
          "Profits": 3.9,
          "Revenue": 84.5
         },
         {
          "Assets": 161.2,
          "Company": "Country Garden Holdings",
          "Country": "China",
          "Market Cap": 45.2,
          "Profits": 3.9,
          "Revenue": 33.8
         },
         {
          "Assets": 58,
          "Company": "Cheung Kong Property Holdings",
          "Country": "Other",
          "Market Cap": 32.1,
          "Profits": 3.9,
          "Revenue": 7.8
         },
         {
          "Assets": 143.1,
          "Company": "Eni",
          "Country": "Other",
          "Market Cap": 70.7,
          "Profits": 3.9,
          "Revenue": 75.5
         },
         {
          "Assets": 35.2,
          "Company": "HP",
          "Country": "United States",
          "Market Cap": 37.3,
          "Profits": 3.9,
          "Revenue": 54.2
         },
         {
          "Assets": 168.8,
          "Company": "Chubb",
          "Country": "Other",
          "Market Cap": 63.4,
          "Profits": 3.9,
          "Revenue": 32.6
         },
         {
          "Assets": 25.2,
          "Company": "Inditex",
          "Country": "Other",
          "Market Cap": 99.5,
          "Profits": 3.8,
          "Revenue": 28.9
         },
         {
          "Assets": 82.8,
          "Company": "Jardine Matheson",
          "Country": "Other",
          "Market Cap": 44.2,
          "Profits": 3.8,
          "Revenue": 39.5
         },
         {
          "Assets": 11.5,
          "Company": "NVIDIA",
          "Country": "United States",
          "Market Cap": 154.5,
          "Profits": 3.8,
          "Revenue": 11
         },
         {
          "Assets": 21.5,
          "Company": "Las Vegas Sands",
          "Country": "United States",
          "Market Cap": 61.7,
          "Profits": 3.8,
          "Revenue": 13.4
         },
         {
          "Assets": 106.3,
          "Company": "Mitsui",
          "Country": "Japan",
          "Market Cap": 30.3,
          "Profits": 3.8,
          "Revenue": 44.1
         },
         {
          "Assets": 38.1,
          "Company": "Porsche Automobil Holding",
          "Country": "Other",
          "Market Cap": 25.7,
          "Profits": 3.8,
          "Revenue": 0.038
         },
         {
          "Assets": 593.3,
          "Company": "Bank of Montreal",
          "Country": "Other",
          "Market Cap": 50.9,
          "Profits": 3.7,
          "Revenue": 22.2
         },
         {
          "Assets": 228.9,
          "Company": "Qatar National Bank",
          "Country": "Other",
          "Market Cap": 36.4,
          "Profits": 3.7,
          "Revenue": 13.8
         },
         {
          "Assets": 138.2,
          "Company": "Oracle",
          "Country": "United States",
          "Market Cap": 191.1,
          "Profits": 3.7,
          "Revenue": 39.5
         },
         {
          "Assets": 94.8,
          "Company": "CNOOC",
          "Country": "Other",
          "Market Cap": 78.8,
          "Profits": 3.6,
          "Revenue": 27.6
         },
         {
          "Assets": 34.7,
          "Company": "Gree Electric Appliances",
          "Country": "China",
          "Market Cap": 45.1,
          "Profits": 3.6,
          "Revenue": 23.9
         },
         {
          "Assets": 81.5,
          "Company": "Itochu",
          "Country": "Japan",
          "Market Cap": 28.8,
          "Profits": 3.6,
          "Revenue": 49.7
         },
         {
          "Assets": 1861.6,
          "Company": "Credit Agricole",
          "Country": "Other",
          "Market Cap": 43.9,
          "Profits": 3.6,
          "Revenue": 21.1
         },
         {
          "Assets": 25.5,
          "Company": "Southwest Airlines",
          "Country": "United States",
          "Market Cap": 30.4,
          "Profits": 3.6,
          "Revenue": 21.2
         },
         {
          "Assets": 23.1,
          "Company": "Accenture",
          "Country": "Other",
          "Market Cap": 101,
          "Profits": 3.6,
          "Revenue": 39.1
         },
         {
          "Assets": 478.4,
          "Company": "Canadian Imperial Bank",
          "Country": "Other",
          "Market Cap": 40,
          "Profits": 3.6,
          "Revenue": 16.6
         },
         {
          "Assets": 270.5,
          "Company": "China Evergrande Group",
          "Country": "China",
          "Market Cap": 42,
          "Profits": 3.6,
          "Revenue": 46
         },
         {
          "Assets": 83.8,
          "Company": "Central Japan Railway",
          "Country": "Japan",
          "Market Cap": 38.7,
          "Profits": 3.6,
          "Revenue": 16.4
         },
         {
          "Assets": 46.5,
          "Company": "Japan Tobacco",
          "Country": "Japan",
          "Market Cap": 55,
          "Profits": 3.5,
          "Revenue": 19.4
         },
         {
          "Assets": 54.1,
          "Company": "Delta Air Lines",
          "Country": "United States",
          "Market Cap": 37.1,
          "Profits": 3.5,
          "Revenue": 42.1
         },
         {
          "Assets": 42.8,
          "Company": "Baidu",
          "Country": "China",
          "Market Cap": 94.1,
          "Profits": 3.5,
          "Revenue": 13.4
         },
         {
          "Assets": 713.5,
          "Company": "Nordea Bank",
          "Country": "Other",
          "Market Cap": 43,
          "Profits": 3.5,
          "Revenue": 15.2
         },
         {
          "Assets": 59.2,
          "Company": "Aetna",
          "Country": "United States",
          "Market Cap": 57.1,
          "Profits": 3.5,
          "Revenue": 60.6
         },
         {
          "Assets": 24.1,
          "Company": "Naspers",
          "Country": "Other",
          "Market Cap": 112.8,
          "Profits": 3.5,
          "Revenue": 6.2
         },
         {
          "Assets": 47.8,
          "Company": "Continental",
          "Country": "Other",
          "Market Cap": 53.2,
          "Profits": 3.5,
          "Revenue": 51.4
         },
         {
          "Assets": 113.3,
          "Company": "Allstate",
          "Country": "United States",
          "Market Cap": 33.9,
          "Profits": 3.5,
          "Revenue": 38
         },
         {
          "Assets": 65.4,
          "Company": "Gilead Sciences",
          "Country": "United States",
          "Market Cap": 86,
          "Profits": 3.5,
          "Revenue": 24.8
         },
         {
          "Assets": 412.8,
          "Company": "Banco do Brasil",
          "Country": "Other",
          "Market Cap": 27.8,
          "Profits": 3.4,
          "Revenue": 55
         },
         {
          "Assets": 50.4,
          "Company": "Marathon Petroleum",
          "Country": "United States",
          "Market Cap": 35.7,
          "Profits": 3.4,
          "Revenue": 71.6
         },
         {
          "Assets": 35.3,
          "Company": "Lowe's",
          "Country": "United States",
          "Market Cap": 72.2,
          "Profits": 3.4,
          "Revenue": 68.6
         },
         {
          "Assets": 404.1,
          "Company": "DBS Group",
          "Country": "Other",
          "Market Cap": 56.6,
          "Profits": 3.4,
          "Revenue": 11.8
         },
         {
          "Assets": 141.2,
          "Company": "Telefónica",
          "Country": "Other",
          "Market Cap": 51.1,
          "Profits": 3.4,
          "Revenue": 59.7
         },
         {
          "Assets": 47.3,
          "Company": "China Yangtze Power",
          "Country": "China",
          "Market Cap": 56,
          "Profits": 3.4,
          "Revenue": 7.4
         },
         {
          "Assets": 117,
          "Company": "Exelon",
          "Country": "United States",
          "Market Cap": 39.2,
          "Profits": 3.4,
          "Revenue": 34.5
         },
         {
          "Assets": 77.3,
          "Company": "National Grid",
          "Country": "United Kingdom",
          "Market Cap": 38.5,
          "Profits": 3.4,
          "Revenue": 18.4
         },
         {
          "Assets": 53.9,
          "Company": "Swire Pacific",
          "Country": "Other",
          "Market Cap": 15.1,
          "Profits": 3.3,
          "Revenue": 10.3
         },
         {
          "Assets": 74.5,
          "Company": "Surgutneftegas",
          "Country": "Other",
          "Market Cap": 17.2,
          "Profits": 3.3,
          "Revenue": 19.8
         },
         {
          "Assets": 50.5,
          "Company": "Transneft",
          "Country": "Other",
          "Market Cap": 4.4,
          "Profits": 3.3,
          "Revenue": 15.2
         },
         {
          "Assets": 138,
          "Company": "Iberdrola",
          "Country": "Other",
          "Market Cap": 49.4,
          "Profits": 3.3,
          "Revenue": 37.8
         },
         {
          "Assets": 95,
          "Company": "Hitachi",
          "Country": "Japan",
          "Market Cap": 38.5,
          "Profits": 3.3,
          "Revenue": 84.5
         },
         {
          "Assets": 79.5,
          "Company": "JXTG Holdings",
          "Country": "Japan",
          "Market Cap": 22,
          "Profits": 3.3,
          "Revenue": 92.9
         },
         {
          "Assets": 45.8,
          "Company": "Guangzhou R&F",
          "Country": "China",
          "Market Cap": 7.8,
          "Profits": 3.3,
          "Revenue": 8.8
         },
         {
          "Assets": 287.2,
          "Company": "China Huarong Asset Management",
          "Country": "China",
          "Market Cap": 13.7,
          "Profits": 3.2,
          "Revenue": 18.2
         },
         {
          "Assets": 29.3,
          "Company": "Scentre Group",
          "Country": "Other",
          "Market Cap": 16.5,
          "Profits": 3.2,
          "Revenue": 1.9
         },
         {
          "Assets": 30.7,
          "Company": "EOG Resources",
          "Country": "United States",
          "Market Cap": 68,
          "Profits": 3.2,
          "Revenue": 12.5
         },
         {
          "Assets": 64.5,
          "Company": "Mondelez International",
          "Country": "United States",
          "Market Cap": 57.9,
          "Profits": 3.2,
          "Revenue": 26.2
         },
         {
          "Assets": 351.2,
          "Company": "Oversea-Chinese Banking",
          "Country": "Other",
          "Market Cap": 41.2,
          "Profits": 3.2,
          "Revenue": 10.1
         },
         {
          "Assets": 54.6,
          "Company": "Anglo American",
          "Country": "United Kingdom",
          "Market Cap": 32,
          "Profits": 3.2,
          "Revenue": 26.2
         },
         {
          "Assets": 83.8,
          "Company": "VINCI",
          "Country": "Other",
          "Market Cap": 56.8,
          "Profits": 3.1,
          "Revenue": 46.1
         },
         {
          "Assets": 180,
          "Company": "American Express",
          "Country": "United States",
          "Market Cap": 87.3,
          "Profits": 3.1,
          "Revenue": 37.6
         },
         {
          "Assets": 0.802,
          "Company": "BGF Retail",
          "Country": "South Korea",
          "Market Cap": 3.2,
          "Profits": 3.1,
          "Revenue": 2.4
         },
         {
          "Assets": 56.2,
          "Company": "Baoshan Iron & Steel",
          "Country": "China",
          "Market Cap": 31.7,
          "Profits": 3.1,
          "Revenue": 40.7
         },
         {
          "Assets": 655.1,
          "Company": "Prudential",
          "Country": "United Kingdom",
          "Market Cap": 67.8,
          "Profits": 3.1,
          "Revenue": 111.5
         },
         {
          "Assets": 24.6,
          "Company": "Link REIT",
          "Country": "Other",
          "Market Cap": 18.5,
          "Profits": 3.1,
          "Revenue": 1.2
         },
         {
          "Assets": 409.2,
          "Company": "KB Financial Group",
          "Country": "South Korea",
          "Market Cap": 21.7,
          "Profits": 3.1,
          "Revenue": 29
         },
         {
          "Assets": 46.7,
          "Company": "Deutsche Post",
          "Country": "Other",
          "Market Cap": 50.8,
          "Profits": 3.1,
          "Revenue": 68.2
         },
         {
          "Assets": 65.5,
          "Company": "Oil & Natural Gas",
          "Country": "Other",
          "Market Cap": 35.7,
          "Profits": 3.1,
          "Revenue": 18.7
         },
         {
          "Assets": 135.6,
          "Company": "China Communications Construction",
          "Country": "China",
          "Market Cap": 28.8,
          "Profits": 3,
          "Revenue": 71.2
         },
         {
          "Assets": 32.7,
          "Company": "Eaton",
          "Country": "Other",
          "Market Cap": 33.4,
          "Profits": 3,
          "Revenue": 20.8
         },
         {
          "Assets": 70.8,
          "Company": "Suncor Energy",
          "Country": "Other",
          "Market Cap": 65.1,
          "Profits": 3,
          "Revenue": 25.7
         },
         {
          "Assets": 164.7,
          "Company": "Hyundai Motor",
          "Country": "South Korea",
          "Market Cap": 31.6,
          "Profits": 3,
          "Revenue": 85.9
         },
         {
          "Assets": 77.4,
          "Company": "Dominion Resources",
          "Country": "United States",
          "Market Cap": 42.2,
          "Profits": 3,
          "Revenue": 12.7
         },
         {
          "Assets": 583.8,
          "Company": "Danske Bank",
          "Country": "Other",
          "Market Cap": 29.1,
          "Profits": 3,
          "Revenue": 18.3
         },
         {
          "Assets": 401.1,
          "Company": "Zurich Insurance Group",
          "Country": "Other",
          "Market Cap": 48,
          "Profits": 3,
          "Revenue": 64.1
         },
         {
          "Assets": 404.4,
          "Company": "Huaxia Bank",
          "Country": "China",
          "Market Cap": 17.2,
          "Profits": 3,
          "Revenue": 18.7
         },
         {
          "Assets": 138.3,
          "Company": "AIRBUS",
          "Country": "Other",
          "Market Cap": 92.1,
          "Profits": 3,
          "Revenue": 74.7
         },
         {
          "Assets": 63.4,
          "Company": "AstraZeneca",
          "Country": "United Kingdom",
          "Market Cap": 90.6,
          "Profits": 3,
          "Revenue": 22.4
         },
         {
          "Assets": 26.1,
          "Company": "Biogen",
          "Country": "United States",
          "Market Cap": 59.6,
          "Profits": 3,
          "Revenue": 11.3
         },
         {
          "Assets": 138.5,
          "Company": "Duke Energy",
          "Country": "United States",
          "Market Cap": 56.2,
          "Profits": 3,
          "Revenue": 24
         },
         {
          "Assets": 46.6,
          "Company": "Indian Oil",
          "Country": "Other",
          "Market Cap": 24.4,
          "Profits": 3,
          "Revenue": 52.9
         },
         {
          "Assets": 38.7,
          "Company": "Costco Wholesale",
          "Country": "United States",
          "Market Cap": 85.9,
          "Profits": 3,
          "Revenue": 136
         },
         {
          "Assets": 73.5,
          "Company": "China Resources Land",
          "Country": "Other",
          "Market Cap": 25.7,
          "Profits": 3,
          "Revenue": 15.5
         },
         {
          "Assets": 193.6,
          "Company": "Banco BPM",
          "Country": "Other",
          "Market Cap": 5.3,
          "Profits": 3,
          "Revenue": 5.2
         },
         {
          "Assets": 37.2,
          "Company": "General Dynamics",
          "Country": "United States",
          "Market Cap": 60.6,
          "Profits": 2.9,
          "Revenue": 31.1
         },
         {
          "Assets": 337.1,
          "Company": "EDF",
          "Country": "Other",
          "Market Cap": 43,
          "Profits": 2.9,
          "Revenue": 78.5
         },
         {
          "Assets": 39,
          "Company": "Target",
          "Country": "United States",
          "Market Cap": 37.6,
          "Profits": 2.9,
          "Revenue": 71.9
         },
         {
          "Assets": 43.3,
          "Company": "Merck",
          "Country": "Other",
          "Market Cap": 43.3,
          "Profits": 2.9,
          "Revenue": 17.3
         },
         {
          "Assets": 33,
          "Company": "Telstra",
          "Country": "Other",
          "Market Cap": 28.7,
          "Profits": 2.9,
          "Revenue": 19.9
         },
         {
          "Assets": 54.2,
          "Company": "Denso",
          "Country": "Japan",
          "Market Cap": 40.6,
          "Profits": 2.9,
          "Revenue": 46.1
         },
         {
          "Assets": 36.2,
          "Company": "Henkel",
          "Country": "Other",
          "Market Cap": 54.1,
          "Profits": 2.9,
          "Revenue": 23.1
         },
         {
          "Assets": 380.3,
          "Company": "Bank of Beijing",
          "Country": "China",
          "Market Cap": 23,
          "Profits": 2.9,
          "Revenue": 15.9
         },
         {
          "Assets": 169.1,
          "Company": "HDFC Bank",
          "Country": "Other",
          "Market Cap": 77.6,
          "Profits": 2.9,
          "Revenue": 15.7
         },
         {
          "Assets": 118.4,
          "Company": "Tokyo Electric Power",
          "Country": "Japan",
          "Market Cap": 8.2,
          "Profits": 2.9,
          "Revenue": 52.8
         },
         {
          "Assets": 19.7,
          "Company": "Applied Materials",
          "Country": "United States",
          "Market Cap": 57.6,
          "Profits": 2.9,
          "Revenue": 15.5
         },
         {
          "Assets": 184.5,
          "Company": "First Abu Dhabi Bank",
          "Country": "Other",
          "Market Cap": 33.8,
          "Profits": 2.9,
          "Revenue": 7.3
         },
         {
          "Assets": 24.4,
          "Company": "Orsted",
          "Country": "Other",
          "Market Cap": 27,
          "Profits": 2.8,
          "Revenue": 9.7
         },
         {
          "Assets": 351,
          "Company": "KBC Group",
          "Country": "Other",
          "Market Cap": 36,
          "Profits": 2.8,
          "Revenue": 13.8
         },
         {
          "Assets": 42.5,
          "Company": "Ecopetrol",
          "Country": "Other",
          "Market Cap": 45.7,
          "Profits": 2.8,
          "Revenue": 19.4
         },
         {
          "Assets": 107.4,
          "Company": "Orix",
          "Country": "Japan",
          "Market Cap": 23.1,
          "Profits": 2.8,
          "Revenue": 25.8
         },
         {
          "Assets": 54.3,
          "Company": "Vonovia",
          "Country": "Other",
          "Market Cap": 24.1,
          "Profits": 2.8,
          "Revenue": 3.8
         },
         {
          "Assets": 34.6,
          "Company": "Celgene",
          "Country": "United States",
          "Market Cap": 61.3,
          "Profits": 2.8,
          "Revenue": 13.5
         },
         {
          "Assets": 95.8,
          "Company": "Medtronic",
          "Country": "Other",
          "Market Cap": 116,
          "Profits": 2.8,
          "Revenue": 29.7
         },
         {
          "Assets": 19.8,
          "Company": "Anhui Conch Cement",
          "Country": "China",
          "Market Cap": 32.3,
          "Profits": 2.8,
          "Revenue": 12
         },
         {
          "Assets": 28.1,
          "Company": "Tyson Foods",
          "Country": "United States",
          "Market Cap": 24.6,
          "Profits": 2.8,
          "Revenue": 40
         },
         {
          "Assets": 73.1,
          "Company": "Sumitomo",
          "Country": "Japan",
          "Market Cap": 22,
          "Profits": 2.8,
          "Revenue": 43.6
         },
         {
          "Assets": 47.1,
          "Company": "Deutsche Lufthansa",
          "Country": "Other",
          "Market Cap": 14.1,
          "Profits": 2.8,
          "Revenue": 41.5
         },
         {
          "Assets": 53.2,
          "Company": "Danone",
          "Country": "Other",
          "Market Cap": 48.9,
          "Profits": 2.8,
          "Revenue": 27.8
         },
         {
          "Assets": 220.7,
          "Company": "BB&T",
          "Country": "United States",
          "Market Cap": 42.9,
          "Profits": 2.8,
          "Revenue": 12.3
         },
         {
          "Assets": 51.9,
          "Company": "Unibail-Rodamco",
          "Country": "Other",
          "Market Cap": 23.3,
          "Profits": 2.8,
          "Revenue": 2.3
         },
         {
          "Assets": 40.1,
          "Company": "Midea Group",
          "Country": "China",
          "Market Cap": 55.7,
          "Profits": 2.7,
          "Revenue": 37.8
         },
         {
          "Assets": 101.5,
          "Company": "China Telecom",
          "Country": "China",
          "Market Cap": 38.6,
          "Profits": 2.7,
          "Revenue": 54.2
         },
         {
          "Assets": 30.7,
          "Company": "Saudi Telecom",
          "Country": "Other",
          "Market Cap": 42.8,
          "Profits": 2.7,
          "Revenue": 13.6
         },
         {
          "Assets": 340.5,
          "Company": "DNB",
          "Country": "Other",
          "Market Cap": 31.7,
          "Profits": 2.7,
          "Revenue": 9
         },
         {
          "Assets": 37.3,
          "Company": "HCA Holdings",
          "Country": "United States",
          "Market Cap": 35.6,
          "Profits": 2.7,
          "Revenue": 44.4
         },
         {
          "Assets": 22.9,
          "Company": "ASML Holding",
          "Country": "Other",
          "Market Cap": 85.4,
          "Profits": 2.7,
          "Revenue": 11
         },
         {
          "Assets": 116.7,
          "Company": "National Commercial Bank",
          "Country": "Other",
          "Market Cap": 35.3,
          "Profits": 2.7,
          "Revenue": 6
         },
         {
          "Assets": 213,
          "Company": "China Cinda Asset Management",
          "Country": "China",
          "Market Cap": 13.8,
          "Profits": 2.7,
          "Revenue": 15.7
         },
         {
          "Assets": 34,
          "Company": "International Paper",
          "Country": "United States",
          "Market Cap": 22.2,
          "Profits": 2.7,
          "Revenue": 23
         },
         {
          "Assets": 41.4,
          "Company": "Carnival",
          "Country": "United States",
          "Market Cap": 47.4,
          "Profits": 2.6,
          "Revenue": 18
         },
         {
          "Assets": 72.9,
          "Company": "Wheelock",
          "Country": "Other",
          "Market Cap": 14.8,
          "Profits": 2.6,
          "Revenue": 9.1
         },
         {
          "Assets": 1531.2,
          "Company": "Société Générale",
          "Country": "Other",
          "Market Cap": 38.3,
          "Profits": 2.6,
          "Revenue": 27.8
         },
         {
          "Assets": 35.3,
          "Company": "Bridgestone",
          "Country": "Japan",
          "Market Cap": 30.7,
          "Profits": 2.6,
          "Revenue": 32.9
         },
         {
          "Assets": 19.8,
          "Company": "Itaúsa",
          "Country": "Other",
          "Market Cap": 26.8,
          "Profits": 2.6,
          "Revenue": 1.6
         },
         {
          "Assets": 53.1,
          "Company": "Volvo Group",
          "Country": "Other",
          "Market Cap": 37.1,
          "Profits": 2.6,
          "Revenue": 41.5
         },
         {
          "Assets": 277.9,
          "Company": "United Overseas Bank",
          "Country": "Other",
          "Market Cap": 36.9,
          "Profits": 2.6,
          "Revenue": 9.4
         },
         {
          "Assets": 75.6,
          "Company": "Posco",
          "Country": "South Korea",
          "Market Cap": 26.8,
          "Profits": 2.6,
          "Revenue": 55.3
         },
         {
          "Assets": 14.1,
          "Company": "TJX Cos",
          "Country": "United States",
          "Market Cap": 52.7,
          "Profits": 2.6,
          "Revenue": 35.9
         },
         {
          "Assets": 76.6,
          "Company": "East Japan Railway",
          "Country": "Japan",
          "Market Cap": 37.9,
          "Profits": 2.6,
          "Revenue": 26.6
         },
         {
          "Assets": 248.3,
          "Company": "Charles Schwab",
          "Country": "United States",
          "Market Cap": 80.2,
          "Profits": 2.6,
          "Revenue": 9.4
         },
         {
          "Assets": 141.5,
          "Company": "Fifth Third Bancorp",
          "Country": "United States",
          "Market Cap": 23.3,
          "Profits": 2.6,
          "Revenue": 7.8
         },
         {
          "Assets": 63.1,
          "Company": "Cigna",
          "Country": "United States",
          "Market Cap": 42.3,
          "Profits": 2.6,
          "Revenue": 42.6
         },
         {
          "Assets": 13.9,
          "Company": "Covestro",
          "Country": "Other",
          "Market Cap": 18.4,
          "Profits": 2.6,
          "Revenue": 16.7
         },
         {
          "Assets": 47.1,
          "Company": "Danaher",
          "Country": "United States",
          "Market Cap": 71.1,
          "Profits": 2.6,
          "Revenue": 18.8
         },
         {
          "Assets": 452.4,
          "Company": "Aegon",
          "Country": "Other",
          "Market Cap": 14.1,
          "Profits": 2.6,
          "Revenue": 35.2
         },
         {
          "Assets": 69,
          "Company": "TransCanada",
          "Country": "Other",
          "Market Cap": 39.1,
          "Profits": 2.5,
          "Revenue": 10.5
         },
         {
          "Assets": 16,
          "Company": "Formosa Petrochemical",
          "Country": "Other",
          "Market Cap": 40.2,
          "Profits": 2.5,
          "Revenue": 21.4
         },
         {
          "Assets": 87.4,
          "Company": "Christian Dior",
          "Country": "Other",
          "Market Cap": 76.4,
          "Profits": 2.5,
          "Revenue": 49.3
         },
         {
          "Assets": 58.9,
          "Company": "Sampo",
          "Country": "Other",
          "Market Cap": 29.2,
          "Profits": 2.5,
          "Revenue": 7.8
         },
         {
          "Assets": 86.3,
          "Company": "HDFC",
          "Country": "Other",
          "Market Cap": 47.9,
          "Profits": 2.5,
          "Revenue": 10.7
         },
         {
          "Assets": 49.3,
          "Company": "Air Liquide",
          "Country": "Other",
          "Market Cap": 55.1,
          "Profits": 2.5,
          "Revenue": 23
         },
         {
          "Assets": 131.1,
          "Company": "China Railway Construction",
          "Country": "China",
          "Market Cap": 20.3,
          "Profits": 2.5,
          "Revenue": 103.2
         },
         {
          "Assets": 132.6,
          "Company": "China Railway Group",
          "Country": "China",
          "Market Cap": 25.3,
          "Profits": 2.5,
          "Revenue": 106
         },
         {
          "Assets": 1036,
          "Company": "Royal Bank of Scotland",
          "Country": "United Kingdom",
          "Market Cap": 47.9,
          "Profits": 2.5,
          "Revenue": 21.5
         },
         {
          "Assets": 25,
          "Company": "Booking Holdings",
          "Country": "United States",
          "Market Cap": 99.9,
          "Profits": 2.5,
          "Revenue": 13.2
         },
         {
          "Assets": 22.7,
          "Company": "Monsanto",
          "Country": "United States",
          "Market Cap": 55.1,
          "Profits": 2.5,
          "Revenue": 14.6
         },
         {
          "Assets": 362.9,
          "Company": "Capital One Financial",
          "Country": "United States",
          "Market Cap": 45.1,
          "Profits": 2.5,
          "Revenue": 30.6
         },
         {
          "Assets": 406.6,
          "Company": "Shinhan Financial Group",
          "Country": "South Korea",
          "Market Cap": 21.2,
          "Profits": 2.5,
          "Revenue": 17.6
         },
         {
          "Assets": 12.3,
          "Company": "Infosys",
          "Country": "Other",
          "Market Cap": 38.3,
          "Profits": 2.5,
          "Revenue": 10.9
         },
         {
          "Assets": 82.1,
          "Company": "IntercontinentalExchange",
          "Country": "United States",
          "Market Cap": 41.4,
          "Profits": 2.5,
          "Revenue": 5.9
         },
         {
          "Assets": 93.1,
          "Company": "Al Rajhi Bank",
          "Country": "Other",
          "Market Cap": 34.9,
          "Profits": 2.5,
          "Revenue": 4.5
         },
         {
          "Assets": 191.1,
          "Company": "China Pacific Insurance",
          "Country": "China",
          "Market Cap": 48,
          "Profits": 2.5,
          "Revenue": 50.9
         },
         {
          "Assets": 100.4,
          "Company": "Annaly Capital Management",
          "Country": "United States",
          "Market Cap": 12.1,
          "Profits": 2.5,
          "Revenue": 2.7
         },
         {
          "Assets": 40.1,
          "Company": "Mitsubishi Electric",
          "Country": "Japan",
          "Market Cap": 32.4,
          "Profits": 2.5,
          "Revenue": 40
         },
         {
          "Assets": 204.9,
          "Company": "SunTrust Banks",
          "Country": "United States",
          "Market Cap": 32.2,
          "Profits": 2.4,
          "Revenue": 9.9
         },
         {
          "Assets": 676.6,
          "Company": "Legal & General Group",
          "Country": "United Kingdom",
          "Market Cap": 22.6,
          "Profits": 2.4,
          "Revenue": 52.1
         },
         {
          "Assets": 47.9,
          "Company": "Schneider Electric",
          "Country": "Other",
          "Market Cap": 48.4,
          "Profits": 2.4,
          "Revenue": 27.9
         },
         {
          "Assets": 33.9,
          "Company": "SK Telecom",
          "Country": "South Korea",
          "Market Cap": 17,
          "Profits": 2.4,
          "Revenue": 15.7
         },
         {
          "Assets": 27.3,
          "Company": "Shin-Etsu Chemical",
          "Country": "Japan",
          "Market Cap": 44.4,
          "Profits": 2.4,
          "Revenue": 13
         },
         {
          "Assets": 46.6,
          "Company": "Lockheed Martin",
          "Country": "United States",
          "Market Cap": 92.5,
          "Profits": 2.4,
          "Revenue": 51.6
         },
         {
          "Assets": 57.3,
          "Company": "China Merchants Shekou Industrial Zone Holdings",
          "Country": "China",
          "Market Cap": 28.6,
          "Profits": 2.4,
          "Revenue": 10.6
         },
         {
          "Assets": 647.2,
          "Company": "Generali Group",
          "Country": "Other",
          "Market Cap": 30.8,
          "Profits": 2.4,
          "Revenue": 93.1
         },
         {
          "Assets": 147.4,
          "Company": "People's Insurance",
          "Country": "China",
          "Market Cap": 20.2,
          "Profits": 2.4,
          "Revenue": 70
         },
         {
          "Assets": 253.6,
          "Company": "Principal Financial Group",
          "Country": "United States",
          "Market Cap": 16.9,
          "Profits": 2.4,
          "Revenue": 14
         },
         {
          "Assets": 121,
          "Company": "Poly Real Estate",
          "Country": "China",
          "Market Cap": 25.6,
          "Profits": 2.4,
          "Revenue": 20.5
         },
         {
          "Assets": 45.5,
          "Company": "WPP",
          "Country": "United Kingdom",
          "Market Cap": 22.5,
          "Profits": 2.3,
          "Revenue": 19.7
         },
         {
          "Assets": 195.9,
          "Company": "Brookfield Asset Management",
          "Country": "Other",
          "Market Cap": 38.9,
          "Profits": 2.3,
          "Revenue": 47.6
         },
         {
          "Assets": 250.3,
          "Company": "State Street",
          "Country": "United States",
          "Market Cap": 37.3,
          "Profits": 2.3,
          "Revenue": 11.8
         },
         {
          "Assets": 65,
          "Company": "Fairfax Financial",
          "Country": "Other",
          "Market Cap": 16.4,
          "Profits": 2.3,
          "Revenue": 14.9
         },
         {
          "Assets": 271.6,
          "Company": "NN Group",
          "Country": "Other",
          "Market Cap": 15.3,
          "Profits": 2.3,
          "Revenue": 19.9
         },
         {
          "Assets": 472.8,
          "Company": "CaixaBank",
          "Country": "Other",
          "Market Cap": 30.7,
          "Profits": 2.3,
          "Revenue": 11.7
         },
         {
          "Assets": 20.5,
          "Company": "Constellation Brands",
          "Country": "United States",
          "Market Cap": 41.6,
          "Profits": 2.3,
          "Revenue": 7.6
         },
         {
          "Assets": 18.7,
          "Company": "Qurate Retail",
          "Country": "United States",
          "Market Cap": 10.5,
          "Profits": 2.3,
          "Revenue": 11.3
         },
         {
          "Assets": 49.9,
          "Company": "EnBW-Energie Baden",
          "Country": "Other",
          "Market Cap": 9.4,
          "Profits": 2.3,
          "Revenue": 24.8
         },
         {
          "Assets": 294.8,
          "Company": "Swedbank",
          "Country": "Other",
          "Market Cap": 25.3,
          "Profits": 2.3,
          "Revenue": 6.7
         },
         {
          "Assets": 34.6,
          "Company": "Etisalat",
          "Country": "Other",
          "Market Cap": 38.2,
          "Profits": 2.3,
          "Revenue": 14.2
         },
         {
          "Assets": 16.3,
          "Company": "DSM",
          "Country": "Other",
          "Market Cap": 17.8,
          "Profits": 2.3,
          "Revenue": 10.4
         },
         {
          "Assets": 27.1,
          "Company": "Magna International",
          "Country": "Other",
          "Market Cap": 22.6,
          "Profits": 2.3,
          "Revenue": 40.3
         },
         {
          "Assets": 32.7,
          "Company": "International Airlines",
          "Country": "United Kingdom",
          "Market Cap": 19.4,
          "Profits": 2.3,
          "Revenue": 26
         },
         {
          "Assets": 71.6,
          "Company": "Repsol",
          "Country": "Other",
          "Market Cap": 30.2,
          "Profits": 2.3,
          "Revenue": 49.7
         },
         {
          "Assets": 292,
          "Company": "Bank Of Shanghai",
          "Country": "China",
          "Market Cap": 19.1,
          "Profits": 2.3,
          "Revenue": 11.8
         },
         {
          "Assets": 43.9,
          "Company": "BCE",
          "Country": "Other",
          "Market Cap": 37.8,
          "Profits": 2.3,
          "Revenue": 17.9
         },
         {
          "Assets": 36.6,
          "Company": "Freeport-McMoRan",
          "Country": "United States",
          "Market Cap": 23.6,
          "Profits": 2.3,
          "Revenue": 17.6
         },
         {
          "Assets": 56.6,
          "Company": "Thermo Fisher Scientific",
          "Country": "United States",
          "Market Cap": 87.1,
          "Profits": 2.3,
          "Revenue": 22
         },
         {
          "Assets": 129.5,
          "Company": "Emirates NBD",
          "Country": "Other",
          "Market Cap": 15.5,
          "Profits": 2.3,
          "Revenue": 6.1
         },
         {
          "Assets": 78,
          "Company": "Caterpillar",
          "Country": "United States",
          "Market Cap": 92.6,
          "Profits": 2.2,
          "Revenue": 48.5
         },
         {
          "Assets": 18.9,
          "Company": "Novatek",
          "Country": "Other",
          "Market Cap": 37.9,
          "Profits": 2.2,
          "Revenue": 10.5
         },
         {
          "Assets": 71.2,
          "Company": "Amgen",
          "Country": "United States",
          "Market Cap": 115.8,
          "Profits": 2.2,
          "Revenue": 23
         },
         {
          "Assets": 81.3,
          "Company": "Bank Rakyat Indonesia",
          "Country": "Other",
          "Market Cap": 27.7,
          "Profits": 2.2,
          "Revenue": 9.3
         },
         {
          "Assets": 482,
          "Company": "Dai-ichi Life Insurance",
          "Country": "Japan",
          "Market Cap": 22.8,
          "Profits": 2.2,
          "Revenue": 57.6
         },
         {
          "Assets": 129.4,
          "Company": "Enbridge",
          "Country": "Other",
          "Market Cap": 57.2,
          "Profits": 2.2,
          "Revenue": 33.6
         },
         {
          "Assets": 46.8,
          "Company": "Canon",
          "Country": "Japan",
          "Market Cap": 46.4,
          "Profits": 2.2,
          "Revenue": 36.7
         },
         {
          "Assets": 49.8,
          "Company": "Investor AB",
          "Country": "Other",
          "Market Cap": 33.9,
          "Profits": 2.2,
          "Revenue": 6.6
         },
         {
          "Assets": 22.2,
          "Company": "General Mills",
          "Country": "United States",
          "Market Cap": 25.3,
          "Profits": 2.2,
          "Revenue": 15.7
         },
         {
          "Assets": 42.2,
          "Company": "Royal Ahold Delhaize N.V.",
          "Country": "Other",
          "Market Cap": 28.8,
          "Profits": 2.2,
          "Revenue": 72.4
         },
         {
          "Assets": 44,
          "Company": "United Continental Holdings",
          "Country": "United States",
          "Market Cap": 18.6,
          "Profits": 2.2,
          "Revenue": 38.3
         },
         {
          "Assets": 61.1,
          "Company": "BT Group",
          "Country": "United Kingdom",
          "Market Cap": 29.2,
          "Profits": 2.2,
          "Revenue": 30.8
         },
         {
          "Assets": 69.8,
          "Company": "Peugeot",
          "Country": "Other",
          "Market Cap": 21.4,
          "Profits": 2.2,
          "Revenue": 73.6
         },
         {
          "Assets": 102,
          "Company": "Discover Financial Services",
          "Country": "United States",
          "Market Cap": 26.3,
          "Profits": 2.2,
          "Revenue": 11.9
         },
         {
          "Assets": 33.5,
          "Company": "Newell Brands",
          "Country": "United States",
          "Market Cap": 13.1,
          "Profits": 2.2,
          "Revenue": 14.5
         },
         {
          "Assets": 23,
          "Company": "Viacom",
          "Country": "United States",
          "Market Cap": 12.2,
          "Profits": 2.2,
          "Revenue": 12.9
         },
         {
          "Assets": 38,
          "Company": "CRH",
          "Country": "Other",
          "Market Cap": 30.9,
          "Profits": 2.2,
          "Revenue": 28.5
         },
         {
          "Assets": 33.7,
          "Company": "MTR",
          "Country": "Other",
          "Market Cap": 34.8,
          "Profits": 2.2,
          "Revenue": 7.1
         },
         {
          "Assets": 21.1,
          "Company": "Kirin Holdings",
          "Country": "Japan",
          "Market Cap": 25.5,
          "Profits": 2.2,
          "Revenue": 16.6
         },
         {
          "Assets": 20.9,
          "Company": "Daqin Railway",
          "Country": "China",
          "Market Cap": 20.7,
          "Profits": 2.2,
          "Revenue": 9.2
         },
         {
          "Assets": 30.5,
          "Company": "Raytheon",
          "Country": "United States",
          "Market Cap": 61.4,
          "Profits": 2.2,
          "Revenue": 25.6
         },
         {
          "Assets": 89.6,
          "Company": "RWE Group",
          "Country": "Other",
          "Market Cap": 14.7,
          "Profits": 2.1,
          "Revenue": 47.9
         },
         {
          "Assets": 24.1,
          "Company": "Gecina",
          "Country": "Other",
          "Market Cap": 12.8,
          "Profits": 2.1,
          "Revenue": 0.799
         },
         {
          "Assets": 16.6,
          "Company": "RELX Group",
          "Country": "United Kingdom",
          "Market Cap": 43.4,
          "Profits": 2.1,
          "Revenue": 9.5
         },
         {
          "Assets": 37.9,
          "Company": "Daiwa House Industry",
          "Country": "Japan",
          "Market Cap": 25.3,
          "Profits": 2.1,
          "Revenue": 34.3
         },
         {
          "Assets": 472.4,
          "Company": "Resona Holdings",
          "Country": "Japan",
          "Market Cap": 13.2,
          "Profits": 2.1,
          "Revenue": 6.2
         },
         {
          "Assets": 56.8,
          "Company": "Canadian Natural Resources",
          "Country": "Other",
          "Market Cap": 44.1,
          "Profits": 2.1,
          "Revenue": 14.4
         },
         {
          "Assets": 16.6,
          "Company": "Norilsk Nickel",
          "Country": "Other",
          "Market Cap": 27.5,
          "Profits": 2.1,
          "Revenue": 9.2
         },
         {
          "Assets": 59.2,
          "Company": "Panasonic",
          "Country": "Japan",
          "Market Cap": 34.9,
          "Profits": 2.1,
          "Revenue": 72
         },
         {
          "Assets": 20.2,
          "Company": "LG Corp",
          "Country": "South Korea",
          "Market Cap": 13.3,
          "Profits": 2.1,
          "Revenue": 9.1
         },
         {
          "Assets": 34.8,
          "Company": "Northrop Grumman",
          "Country": "United States",
          "Market Cap": 56.7,
          "Profits": 2.1,
          "Revenue": 26.3
         },
         {
          "Assets": 19.2,
          "Company": "Tatneft",
          "Country": "Other",
          "Market Cap": 25.6,
          "Profits": 2.1,
          "Revenue": 11.9
         },
         {
          "Assets": 31.3,
          "Company": "Femsa",
          "Country": "Other",
          "Market Cap": 31.2,
          "Profits": 2.1,
          "Revenue": 25.2
         },
         {
          "Assets": 29.4,
          "Company": "Teck Resources",
          "Country": "Other",
          "Market Cap": 16,
          "Profits": 2.1,
          "Revenue": 9.5
         },
         {
          "Assets": 65.8,
          "Company": "Fresenius",
          "Country": "Other",
          "Market Cap": 44.1,
          "Profits": 2.1,
          "Revenue": 39.3
         },
         {
          "Assets": 50,
          "Company": "Johnson Controls International",
          "Country": "Other",
          "Market Cap": 33.6,
          "Profits": 2.1,
          "Revenue": 30.7
         },
         {
          "Assets": 103.7,
          "Company": "Travelers",
          "Country": "United States",
          "Market Cap": 35.5,
          "Profits": 2.1,
          "Revenue": 29.3
         },
         {
          "Assets": 30.2,
          "Company": "DISH Network",
          "Country": "United States",
          "Market Cap": 14.7,
          "Profits": 2.1,
          "Revenue": 14.2
         },
         {
          "Assets": 13.1,
          "Company": "Colgate-Palmolive",
          "Country": "United States",
          "Market Cap": 54.7,
          "Profits": 2.1,
          "Revenue": 15.7
         },
         {
          "Assets": 32.6,
          "Company": "Dongfeng Motor Group",
          "Country": "China",
          "Market Cap": 9.7,
          "Profits": 2.1,
          "Revenue": 18.5
         },
         {
          "Assets": 95.6,
          "Company": "Synchrony Financial",
          "Country": "United States",
          "Market Cap": 25.7,
          "Profits": 2.1,
          "Revenue": 14
         },
         {
          "Assets": 43.6,
          "Company": "ABB",
          "Country": "Other",
          "Market Cap": 51.3,
          "Profits": 2.1,
          "Revenue": 35
         },
         {
          "Assets": 16.1,
          "Company": "Atlas Copco",
          "Country": "Other",
          "Market Cap": 49.5,
          "Profits": 2,
          "Revenue": 13.2
         },
         {
          "Assets": 22.1,
          "Company": "Waste Management",
          "Country": "United States",
          "Market Cap": 35.8,
          "Profits": 2,
          "Revenue": 14.6
         },
         {
          "Assets": 12,
          "Company": "Liberty Broadband",
          "Country": "United States",
          "Market Cap": 12.8,
          "Profits": 2,
          "Revenue": 0.022
         },
         {
          "Assets": 42.8,
          "Company": "Public Service Enterprise Group",
          "Country": "United States",
          "Market Cap": 25.8,
          "Profits": 2,
          "Revenue": 9.1
         },
         {
          "Assets": 163.8,
          "Company": "Standard Bank Group",
          "Country": "Other",
          "Market Cap": 28.5,
          "Profits": 2,
          "Revenue": 9.6
         },
         {
          "Assets": 30.7,
          "Company": "Kering",
          "Country": "Other",
          "Market Cap": 74.5,
          "Profits": 2,
          "Revenue": 17.5
         },
         {
          "Assets": 279.2,
          "Company": "Lincoln National",
          "Country": "United States",
          "Market Cap": 14.9,
          "Profits": 2,
          "Revenue": 14.2
         },
         {
          "Assets": 27.1,
          "Company": "Subaru",
          "Country": "Japan",
          "Market Cap": 25.3,
          "Profits": 2,
          "Revenue": 30.7
         },
         {
          "Assets": 336.4,
          "Company": "Hana Financial Group",
          "Country": "South Korea",
          "Market Cap": 13,
          "Profits": 2,
          "Revenue": 12.3
         },
         {
          "Assets": 381.7,
          "Company": "Nomura",
          "Country": "Japan",
          "Market Cap": 19,
          "Profits": 2,
          "Revenue": 17.8
         },
         {
          "Assets": 226,
          "Company": "VTB Bank",
          "Country": "Other",
          "Market Cap": 11,
          "Profits": 2,
          "Revenue": 24.1
         },
         {
          "Assets": 29.3,
          "Company": "MGM Resorts",
          "Country": "United States",
          "Market Cap": 17.7,
          "Profits": 2,
          "Revenue": 10.9
         },
         {
          "Assets": 47.1,
          "Company": "Williams",
          "Country": "United States",
          "Market Cap": 22.5,
          "Profits": 2,
          "Revenue": 8.1
         },
         {
          "Assets": 82,
          "Company": "Fosun International",
          "Country": "China",
          "Market Cap": 18.6,
          "Profits": 2,
          "Revenue": 13.1
         },
         {
          "Assets": 31,
          "Company": "Simon Property Group",
          "Country": "United States",
          "Market Cap": 49.5,
          "Profits": 2,
          "Revenue": 5.6
         },
         {
          "Assets": 31.4,
          "Company": "Suzuki Motor",
          "Country": "Japan",
          "Market Cap": 27.6,
          "Profits": 1.9,
          "Revenue": 33.9
         },
         {
          "Assets": 24.7,
          "Company": "Deutsche Wohnen",
          "Country": "Other",
          "Market Cap": 16.8,
          "Profits": 1.9,
          "Revenue": 1.3
         },
         {
          "Assets": 104.3,
          "Company": "FirstRand",
          "Country": "Other",
          "Market Cap": 30.3,
          "Profits": 1.9,
          "Revenue": 6.7
         },
         {
          "Assets": 580.6,
          "Company": "Aviva",
          "Country": "United Kingdom",
          "Market Cap": 29.5,
          "Profits": 1.9,
          "Revenue": 63.7
         },
         {
          "Assets": 35.7,
          "Company": "Tenaga Nasional",
          "Country": "Other",
          "Market Cap": 23.1,
          "Profits": 1.9,
          "Revenue": 11
         },
         {
          "Assets": 42.3,
          "Company": "PayPal",
          "Country": "United States",
          "Market Cap": 94,
          "Profits": 1.9,
          "Revenue": 13.8
         },
         {
          "Assets": 11.5,
          "Company": "Kinnevik",
          "Country": "Other",
          "Market Cap": 10.3,
          "Profits": 1.9,
          "Revenue": 2
         },
         {
          "Assets": 18.3,
          "Company": "Lotte Chemical",
          "Country": "South Korea",
          "Market Cap": 12.4,
          "Profits": 1.9,
          "Revenue": 14.4
         },
         {
          "Assets": 353.9,
          "Company": "Svenska Handelsbanken",
          "Country": "Other",
          "Market Cap": 22.6,
          "Profits": 1.9,
          "Revenue": 6.8
         },
         {
          "Assets": 346.7,
          "Company": "SEB AB",
          "Country": "Other",
          "Market Cap": 21.5,
          "Profits": 1.9,
          "Revenue": 8.1
         },
         {
          "Assets": 44.2,
          "Company": "Mitsubishi Chemical",
          "Country": "Japan",
          "Market Cap": 13.4,
          "Profits": 1.9,
          "Revenue": 33.6
         },
         {
          "Assets": 30.3,
          "Company": "Michelin Group",
          "Country": "Other",
          "Market Cap": 25.5,
          "Profits": 1.9,
          "Revenue": 24.8
         },
         {
          "Assets": 19.7,
          "Company": "Nan Ya Plastics",
          "Country": "Other",
          "Market Cap": 22.7,
          "Profits": 1.9,
          "Revenue": 10.5
         },
         {
          "Assets": 14,
          "Company": "Keyence",
          "Country": "Japan",
          "Market Cap": 75.8,
          "Profits": 1.9,
          "Revenue": 4.8
         },
         {
          "Assets": 42.8,
          "Company": "Occidental Petroleum",
          "Country": "United States",
          "Market Cap": 65.1,
          "Profits": 1.9,
          "Revenue": 13.3
         },
         {
          "Assets": 147.4,
          "Company": "Macquarie Group",
          "Country": "Other",
          "Market Cap": 27.6,
          "Profits": 1.9,
          "Revenue": 10.3
         },
         {
          "Assets": 37.8,
          "Company": "Kroger",
          "Country": "United States",
          "Market Cap": 21,
          "Profits": 1.9,
          "Revenue": 122.7
         },
         {
          "Assets": 13.7,
          "Company": "Lam Research",
          "Country": "United States",
          "Market Cap": 33.1,
          "Profits": 1.9,
          "Revenue": 10.3
         },
         {
          "Assets": 41.3,
          "Company": "Progressive",
          "Country": "United States",
          "Market Cap": 36.4,
          "Profits": 1.9,
          "Revenue": 28
         },
         {
          "Assets": 25.4,
          "Company": "WestRock",
          "Country": "United States",
          "Market Cap": 15.7,
          "Profits": 1.9,
          "Revenue": 15.7
         },
         {
          "Assets": 15,
          "Company": "Adobe Systems",
          "Country": "United States",
          "Market Cap": 119.1,
          "Profits": 1.9,
          "Revenue": 7.7
         },
         {
          "Assets": 23.8,
          "Company": "Paccar",
          "Country": "United States",
          "Market Cap": 22.4,
          "Profits": 1.9,
          "Revenue": 20.9
         },
         {
          "Assets": 55.7,
          "Company": "Longfor Properties",
          "Country": "China",
          "Market Cap": 17.7,
          "Profits": 1.9,
          "Revenue": 10.8
         },
         {
          "Assets": 59.9,
          "Company": "New World Development",
          "Country": "Other",
          "Market Cap": 15,
          "Profits": 1.9,
          "Revenue": 7.6
         },
         {
          "Assets": 53.3,
          "Company": "American Airlines Group",
          "Country": "United States",
          "Market Cap": 19.9,
          "Profits": 1.9,
          "Revenue": 43
         },
         {
          "Assets": 64.7,
          "Company": "Marubeni",
          "Country": "Japan",
          "Market Cap": 14,
          "Profits": 1.9,
          "Revenue": 68
         },
         {
          "Assets": 32,
          "Company": "SK Innovation",
          "Country": "South Korea",
          "Market Cap": 17.9,
          "Profits": 1.9,
          "Revenue": 40.9
         },
         {
          "Assets": 21.1,
          "Company": "Formosa Chemicals",
          "Country": "Other",
          "Market Cap": 22.4,
          "Profits": 1.9,
          "Revenue": 12.3
         },
         {
          "Assets": 296.9,
          "Company": "Cathay Financial",
          "Country": "Other",
          "Market Cap": 23.1,
          "Profits": 1.9,
          "Revenue": 23.6
         },
         {
          "Assets": 11.4,
          "Company": "Tokyo Electron",
          "Country": "Japan",
          "Market Cap": 32.9,
          "Profits": 1.8,
          "Revenue": 10.2
         },
         {
          "Assets": 118.9,
          "Company": "Saudi Electricity",
          "Country": "Other",
          "Market Cap": 23.5,
          "Profits": 1.8,
          "Revenue": 13.5
         },
         {
          "Assets": 206,
          "Company": "Sun Life Financial",
          "Country": "Other",
          "Market Cap": 25.9,
          "Profits": 1.8,
          "Revenue": 21.8
         },
         {
          "Assets": 285.7,
          "Company": "Bank Of Jiangsu",
          "Country": "China",
          "Market Cap": 13.2,
          "Profits": 1.8,
          "Revenue": 12.9
         },
         {
          "Assets": 35.8,
          "Company": "Pernod Ricard",
          "Country": "Other",
          "Market Cap": 43.6,
          "Profits": 1.8,
          "Revenue": 10.2
         },
         {
          "Assets": 206.9,
          "Company": "Tokio Marine Holdings",
          "Country": "Japan",
          "Market Cap": 35.9,
          "Profits": 1.8,
          "Revenue": 47.6
         },
         {
          "Assets": 29.2,
          "Company": "CLP Holdings",
          "Country": "Other",
          "Market Cap": 26.5,
          "Profits": 1.8,
          "Revenue": 11.8
         },
         {
          "Assets": 33.5,
          "Company": "Humana",
          "Country": "United States",
          "Market Cap": 39.2,
          "Profits": 1.8,
          "Revenue": 54.3
         },
         {
          "Assets": 22.8,
          "Company": "Richemont",
          "Country": "Other",
          "Market Cap": 54.5,
          "Profits": 1.8,
          "Revenue": 12.3
         },
         {
          "Assets": 22.6,
          "Company": "Shanghai International Port",
          "Country": "China",
          "Market Cap": 24.7,
          "Profits": 1.8,
          "Revenue": 5.6
         },
         {
          "Assets": 115.7,
          "Company": "Orange",
          "Country": "Other",
          "Market Cap": 48.3,
          "Profits": 1.8,
          "Revenue": 46.4
         },
         {
          "Assets": 29.7,
          "Company": "Prologis",
          "Country": "United States",
          "Market Cap": 34.8,
          "Profits": 1.8,
          "Revenue": 2.7
         },
         {
          "Assets": 30.4,
          "Company": "Philips",
          "Country": "Other",
          "Market Cap": 39.1,
          "Profits": 1.8,
          "Revenue": 20.7
         },
         {
          "Assets": 15.8,
          "Company": "Canadian Pacific Railway",
          "Country": "Other",
          "Market Cap": 26.7,
          "Profits": 1.8,
          "Revenue": 5.2
         },
         {
          "Assets": 15.3,
          "Company": "Kimberly-Clark",
          "Country": "United States",
          "Market Cap": 36.6,
          "Profits": 1.8,
          "Revenue": 18.5
         },
         {
          "Assets": 22.6,
          "Company": "Nike",
          "Country": "United States",
          "Market Cap": 110.3,
          "Profits": 1.8,
          "Revenue": 35.3
         },
         {
          "Assets": 16.2,
          "Company": "Illinois Tool Works",
          "Country": "United States",
          "Market Cap": 49.4,
          "Profits": 1.8,
          "Revenue": 14.6
         },
         {
          "Assets": 30,
          "Company": "SSE",
          "Country": "United Kingdom",
          "Market Cap": 19.4,
          "Profits": 1.8,
          "Revenue": 38
         },
         {
          "Assets": 13.1,
          "Company": "H&M",
          "Country": "Other",
          "Market Cap": 26.7,
          "Profits": 1.8,
          "Revenue": 23.7
         },
         {
          "Assets": 104.8,
          "Company": "Citic Securities",
          "Country": "China",
          "Market Cap": 35.8,
          "Profits": 1.8,
          "Revenue": 6.1
         },
         {
          "Assets": 20.4,
          "Company": "Sherwin-Williams",
          "Country": "United States",
          "Market Cap": 35.6,
          "Profits": 1.8,
          "Revenue": 16.2
         },
         {
          "Assets": 232.1,
          "Company": "Fubon Financial",
          "Country": "Other",
          "Market Cap": 17.8,
          "Profits": 1.8,
          "Revenue": 26.6
         },
         {
          "Assets": 44.1,
          "Company": "Automatic Data Processing",
          "Country": "United States",
          "Market Cap": 56.1,
          "Profits": 1.8,
          "Revenue": 13.1
         },
         {
          "Assets": 19.8,
          "Company": "Emerson Electric",
          "Country": "United States",
          "Market Cap": 45.4,
          "Profits": 1.8,
          "Revenue": 16.5
         },
         {
          "Assets": 61,
          "Company": "Reinsurance Group of America",
          "Country": "United States",
          "Market Cap": 9.8,
          "Profits": 1.8,
          "Revenue": 12.7
         },
         {
          "Assets": 624.4,
          "Company": "Natixis",
          "Country": "Other",
          "Market Cap": 26,
          "Profits": 1.8,
          "Revenue": 10.7
         },
         {
          "Assets": 65.6,
          "Company": "American Electric",
          "Country": "United States",
          "Market Cap": 33.1,
          "Profits": 1.8,
          "Revenue": 15.5
         },
         {
          "Assets": 55.2,
          "Company": "Bank Central Asia",
          "Country": "Other",
          "Market Cap": 40.2,
          "Profits": 1.8,
          "Revenue": 5.2
         },
         {
          "Assets": 31.7,
          "Company": "Komatsu",
          "Country": "Japan",
          "Market Cap": 31.1,
          "Profits": 1.8,
          "Revenue": 22.6
         },
         {
          "Assets": 60.9,
          "Company": "Honeywell International",
          "Country": "United States",
          "Market Cap": 110.1,
          "Profits": 1.8,
          "Revenue": 41.4
         },
         {
          "Assets": 51.5,
          "Company": "Saint-Gobain",
          "Country": "Other",
          "Market Cap": 29.8,
          "Profits": 1.8,
          "Revenue": 46
         },
         {
          "Assets": 22.4,
          "Company": "CenterPoint Energy",
          "Country": "United States",
          "Market Cap": 11.5,
          "Profits": 1.8,
          "Revenue": 9.9
         },
         {
          "Assets": 71.4,
          "Company": "Nippon Steel & Sumitomo Metal",
          "Country": "Japan",
          "Market Cap": 19.9,
          "Profits": 1.8,
          "Revenue": 51.1
         },
         {
          "Assets": 40.8,
          "Company": "Linde",
          "Country": "Other",
          "Market Cap": 39.7,
          "Profits": 1.8,
          "Revenue": 19.6
         },
         {
          "Assets": 42.2,
          "Company": "ROSSETI",
          "Country": "Other",
          "Market Cap": 2.7,
          "Profits": 1.8,
          "Revenue": 16.3
         },
         {
          "Assets": 189.1,
          "Company": "Maybank",
          "Country": "Other",
          "Market Cap": 29.6,
          "Profits": 1.7,
          "Revenue": 9.1
         },
         {
          "Assets": 111.4,
          "Company": "Sompo",
          "Country": "Japan",
          "Market Cap": 16.4,
          "Profits": 1.7,
          "Revenue": 32.2
         },
         {
          "Assets": 15.5,
          "Company": "Mallinckrodt",
          "Country": "United Kingdom",
          "Market Cap": 1.2,
          "Profits": 1.7,
          "Revenue": 3
         },
         {
          "Assets": 23.4,
          "Company": "LG Chem",
          "Country": "South Korea",
          "Market Cap": 24.7,
          "Profits": 1.7,
          "Revenue": 22.7
         },
         {
          "Assets": 153.5,
          "Company": "Citizens Financial Group",
          "Country": "United States",
          "Market Cap": 20.6,
          "Profits": 1.7,
          "Revenue": 6.8
         },
         {
          "Assets": 27.2,
          "Company": "Zimmer Biomet",
          "Country": "United States",
          "Market Cap": 23.7,
          "Profits": 1.7,
          "Revenue": 7.9
         },
         {
          "Assets": 16.5,
          "Company": "Dollar Tree",
          "Country": "United States",
          "Market Cap": 22.3,
          "Profits": 1.7,
          "Revenue": 22.2
         },
         {
          "Assets": 44.6,
          "Company": "Tata Motors",
          "Country": "Other",
          "Market Cap": 16.8,
          "Profits": 1.7,
          "Revenue": 43
         },
         {
          "Assets": 23.4,
          "Company": "Daikin Industries",
          "Country": "Japan",
          "Market Cap": 36,
          "Profits": 1.7,
          "Revenue": 20.7
         },
         {
          "Assets": 41,
          "Company": "Cardinal Health",
          "Country": "United States",
          "Market Cap": 17.2,
          "Profits": 1.7,
          "Revenue": 134.4
         },
         {
          "Assets": 39.2,
          "Company": "Takeda Pharmaceutical",
          "Country": "Japan",
          "Market Cap": 33.4,
          "Profits": 1.7,
          "Revenue": 15.9
         },
         {
          "Assets": 26.7,
          "Company": "Grupo Mexico",
          "Country": "Other",
          "Market Cap": 22.6,
          "Profits": 1.7,
          "Revenue": 10.2
         },
         {
          "Assets": 18.2,
          "Company": "Adidas",
          "Country": "Other",
          "Market Cap": 46.2,
          "Profits": 1.7,
          "Revenue": 24.9
         },
         {
          "Assets": 144.8,
          "Company": "Ameriprise Financial",
          "Country": "United States",
          "Market Cap": 19.8,
          "Profits": 1.7,
          "Revenue": 12
         },
         {
          "Assets": 79.8,
          "Company": "Bank Mandiri",
          "Country": "Other",
          "Market Cap": 24.1,
          "Profits": 1.7,
          "Revenue": 8.1
         },
         {
          "Assets": 12.7,
          "Company": "Wuliangye Yibin",
          "Country": "China",
          "Market Cap": 47.2,
          "Profits": 1.7,
          "Revenue": 4.4
         },
         {
          "Assets": 89.8,
          "Company": "Akbank",
          "Country": "Other",
          "Market Cap": 7.9,
          "Profits": 1.7,
          "Revenue": 7.6
         },
         {
          "Assets": 13.4,
          "Company": "Sandvik",
          "Country": "Other",
          "Market Cap": 23,
          "Profits": 1.7,
          "Revenue": 11.1
         },
         {
          "Assets": 192.4,
          "Company": "DowDuPont",
          "Country": "United States",
          "Market Cap": 155.3,
          "Profits": 1.7,
          "Revenue": 80.6
         },
         {
          "Assets": 549.7,
          "Company": "Manulife",
          "Country": "Other",
          "Market Cap": 38.5,
          "Profits": 1.7,
          "Revenue": 40.1
         },
         {
          "Assets": 92.9,
          "Company": "Garanti Bank",
          "Country": "Other",
          "Market Cap": 9,
          "Profits": 1.7,
          "Revenue": 9.5
         },
         {
          "Assets": 95.7,
          "Company": "Sunac China Holdings",
          "Country": "China",
          "Market Cap": 19.6,
          "Profits": 1.7,
          "Revenue": 10
         },
         {
          "Assets": 28.8,
          "Company": "Andeavor",
          "Country": "United States",
          "Market Cap": 21.2,
          "Profits": 1.7,
          "Revenue": 38.6
         },
         {
          "Assets": 41.1,
          "Company": "Archer Daniels Midland",
          "Country": "United States",
          "Market Cap": 24.6,
          "Profits": 1.6,
          "Revenue": 61.4
         },
         {
          "Assets": 16.5,
          "Company": "PPG",
          "Country": "United States",
          "Market Cap": 25,
          "Profits": 1.6,
          "Revenue": 15.1
         },
         {
          "Assets": 18.8,
          "Company": "Guangzhou Automobile Group",
          "Country": "China",
          "Market Cap": 18.6,
          "Profits": 1.6,
          "Revenue": 10.8
         },
         {
          "Assets": 16.3,
          "Company": "Fanuc",
          "Country": "Japan",
          "Market Cap": 41.8,
          "Profits": 1.6,
          "Revenue": 6.6
         },
         {
          "Assets": 59.2,
          "Company": "CRRC",
          "Country": "China",
          "Market Cap": 41,
          "Profits": 1.6,
          "Revenue": 31.3
         },
         {
          "Assets": 14,
          "Company": "Ryanair Holdings",
          "Country": "Other",
          "Market Cap": 21.3,
          "Profits": 1.6,
          "Revenue": 7.9
         },
         {
          "Assets": 24,
          "Company": "Royal Caribbean Cruises",
          "Country": "United States",
          "Market Cap": 22.7,
          "Profits": 1.6,
          "Revenue": 8.8
         },
         {
          "Assets": 51.5,
          "Company": "Seven & I Holdings",
          "Country": "Japan",
          "Market Cap": 38.9,
          "Profits": 1.6,
          "Revenue": 54.2
         },
         {
          "Assets": 23.9,
          "Company": "Swisscom",
          "Country": "Other",
          "Market Cap": 23.9,
          "Profits": 1.6,
          "Revenue": 12.1
         },
         {
          "Assets": 11.2,
          "Company": "Novolipetsk Steel",
          "Country": "Other",
          "Market Cap": 15.3,
          "Profits": 1.6,
          "Revenue": 10.7
         },
         {
          "Assets": 42.5,
          "Company": "Imperial Tobacco Group",
          "Country": "United Kingdom",
          "Market Cap": 35.7,
          "Profits": 1.6,
          "Revenue": 20.1
         },
         {
          "Assets": 16,
          "Company": "Formosa Plastics",
          "Country": "Other",
          "Market Cap": 23.2,
          "Profits": 1.6,
          "Revenue": 6.8
         },
         {
          "Assets": 21.4,
          "Company": "Marsh & McLennan",
          "Country": "United States",
          "Market Cap": 41.4,
          "Profits": 1.6,
          "Revenue": 14.5
         },
         {
          "Assets": 57.7,
          "Company": "Gas Natural Fenosa",
          "Country": "Other",
          "Market Cap": 26.1,
          "Profits": 1.6,
          "Revenue": 27.2
         },
         {
          "Assets": 10.4,
          "Company": "CSL",
          "Country": "Other",
          "Market Cap": 60,
          "Profits": 1.6,
          "Revenue": 7.4
         },
         {
          "Assets": 180.5,
          "Company": "ENGIE",
          "Country": "Other",
          "Market Cap": 41.8,
          "Profits": 1.6,
          "Revenue": 73.3
         },
         {
          "Assets": 17.4,
          "Company": "Shaanxi Coal Industry",
          "Country": "China",
          "Market Cap": 13.5,
          "Profits": 1.6,
          "Revenue": 7.3
         },
         {
          "Assets": 17.5,
          "Company": "PKN Orlen",
          "Country": "Other",
          "Market Cap": 10.4,
          "Profits": 1.6,
          "Revenue": 26.5
         },
         {
          "Assets": 39.8,
          "Company": "NTPC",
          "Country": "Other",
          "Market Cap": 20.5,
          "Profits": 1.6,
          "Revenue": 12
         },
         {
          "Assets": 8.5,
          "Company": "S&P Global",
          "Country": "United States",
          "Market Cap": 50.3,
          "Profits": 1.6,
          "Revenue": 6.2
         },
         {
          "Assets": 30.8,
          "Company": "Emaar Properties",
          "Country": "Other",
          "Market Cap": 9.7,
          "Profits": 1.6,
          "Revenue": 5.8
         },
         {
          "Assets": 86,
          "Company": "Merck & Co.",
          "Country": "United States",
          "Market Cap": 160.6,
          "Profits": 1.6,
          "Revenue": 40.8
         },
         {
          "Assets": 13.1,
          "Company": "Geely Automobile Holdings",
          "Country": "Other",
          "Market Cap": 26.9,
          "Profits": 1.6,
          "Revenue": 13.8
         },
         {
          "Assets": 31.3,
          "Company": "Fujifilm Holdings",
          "Country": "Japan",
          "Market Cap": 20,
          "Profits": 1.6,
          "Revenue": 21.8
         },
         {
          "Assets": 15,
          "Company": "Telkom Indonesia",
          "Country": "Other",
          "Market Cap": 25.8,
          "Profits": 1.6,
          "Revenue": 9.6
         },
         {
          "Assets": 25,
          "Company": "Telenor",
          "Country": "Other",
          "Market Cap": 32.4,
          "Profits": 1.6,
          "Revenue": 15
         },
         {
          "Assets": 115.8,
          "Company": "Isbank",
          "Country": "Other",
          "Market Cap": 6.2,
          "Profits": 1.6,
          "Revenue": 14.3
         },
         {
          "Assets": 10.9,
          "Company": "NetEase",
          "Country": "China",
          "Market Cap": 35.2,
          "Profits": 1.6,
          "Revenue": 8
         },
         {
          "Assets": 196.7,
          "Company": "EXOR",
          "Country": "Other",
          "Market Cap": 18.3,
          "Profits": 1.6,
          "Revenue": 161.8
         },
         {
          "Assets": 48.9,
          "Company": "Consolidated Edison",
          "Country": "United States",
          "Market Cap": 23.9,
          "Profits": 1.6,
          "Revenue": 12.2
         },
         {
          "Assets": 18.2,
          "Company": "Fortescue Metals Group",
          "Country": "Other",
          "Market Cap": 11.6,
          "Profits": 1.6,
          "Revenue": 7.6
         },
         {
          "Assets": 282.9,
          "Company": "Erste Group Bank",
          "Country": "Other",
          "Market Cap": 19,
          "Profits": 1.5,
          "Revenue": 10.2
         },
         {
          "Assets": 20.1,
          "Company": "Macy's",
          "Country": "United States",
          "Market Cap": 9.1,
          "Profits": 1.5,
          "Revenue": 24.8
         },
         {
          "Assets": 21.3,
          "Company": "Westfield",
          "Country": "Other",
          "Market Cap": 14.2,
          "Profits": 1.5,
          "Revenue": 1.4
         },
         {
          "Assets": 204.6,
          "Company": "National Bank of Canada",
          "Country": "Other",
          "Market Cap": 16.8,
          "Profits": 1.5,
          "Revenue": 7.2
         },
         {
          "Assets": 25.8,
          "Company": "Idemitsu Kosan",
          "Country": "Japan",
          "Market Cap": 7.7,
          "Profits": 1.5,
          "Revenue": 32.1
         },
         {
          "Assets": 12.6,
          "Company": "Dollar General",
          "Country": "United States",
          "Market Cap": 25.1,
          "Profits": 1.5,
          "Revenue": 23.5
         },
         {
          "Assets": 21.8,
          "Company": "Asahi Kasei",
          "Country": "Japan",
          "Market Cap": 18.8,
          "Profits": 1.5,
          "Revenue": 18.4
         },
         {
          "Assets": 9.6,
          "Company": "3i Group",
          "Country": "United Kingdom",
          "Market Cap": 12.9,
          "Profits": 1.5,
          "Revenue": 0.353
         },
         {
          "Assets": 22.9,
          "Company": "Couche Tard",
          "Country": "Other",
          "Market Cap": 23.6,
          "Profits": 1.5,
          "Revenue": 47.2
         },
         {
          "Assets": 8.6,
          "Company": "ITC",
          "Country": "Other",
          "Market Cap": 51.5,
          "Profits": 1.5,
          "Revenue": 8.7
         },
         {
          "Assets": 45.4,
          "Company": "First Data",
          "Country": "United States",
          "Market Cap": 18,
          "Profits": 1.5,
          "Revenue": 11.5
         },
         {
          "Assets": 7.4,
          "Company": "T Rowe Price",
          "Country": "United States",
          "Market Cap": 28.6,
          "Profits": 1.5,
          "Revenue": 5
         },
         {
          "Assets": 29.4,
          "Company": "Fujitsu",
          "Country": "Japan",
          "Market Cap": 12.8,
          "Profits": 1.5,
          "Revenue": 37
         },
         {
          "Assets": 68.2,
          "Company": "PG&E",
          "Country": "United States",
          "Market Cap": 22.4,
          "Profits": 1.5,
          "Revenue": 16.9
         },
         {
          "Assets": 187.5,
          "Company": "Bank of Nanjing",
          "Country": "China",
          "Market Cap": 11.6,
          "Profits": 1.5,
          "Revenue": 8.5
         },
         {
          "Assets": 236,
          "Company": "China Zheshang Bank",
          "Country": "China",
          "Market Cap": 11,
          "Profits": 1.5,
          "Revenue": 10.7
         },
         {
          "Assets": 49.4,
          "Company": "Toyota Industries",
          "Country": "Japan",
          "Market Cap": 20,
          "Profits": 1.5,
          "Revenue": 18.1
         },
         {
          "Assets": 18.7,
          "Company": "Siam Cement",
          "Country": "Other",
          "Market Cap": 17.7,
          "Profits": 1.5,
          "Revenue": 13.7
         },
         {
          "Assets": 16,
          "Company": "Compass Group",
          "Country": "United Kingdom",
          "Market Cap": 32.4,
          "Profits": 1.5,
          "Revenue": 29.8
         },
         {
          "Assets": 61.6,
          "Company": "Hewlett Packard Enterprise",
          "Country": "United States",
          "Market Cap": 27.4,
          "Profits": 1.5,
          "Revenue": 31.2
         },
         {
          "Assets": 20.2,
          "Company": "Ecolab",
          "Country": "United States",
          "Market Cap": 42.5,
          "Profits": 1.5,
          "Revenue": 14.1
         },
         {
          "Assets": 23.2,
          "Company": "Torchmark",
          "Country": "United States",
          "Market Cap": 9.7,
          "Profits": 1.5,
          "Revenue": 4.2
         },
         {
          "Assets": 4.8,
          "Company": "Yum! Brands",
          "Country": "United States",
          "Market Cap": 27.4,
          "Profits": 1.5,
          "Revenue": 5.8
         },
         {
          "Assets": 63.5,
          "Company": "Huatai Securities",
          "Country": "China",
          "Market Cap": 19.6,
          "Profits": 1.5,
          "Revenue": 3.1
         },
         {
          "Assets": 138.1,
          "Company": "Greenland Holdings Group",
          "Country": "China",
          "Market Cap": 13.9,
          "Profits": 1.5,
          "Revenue": 44.8
         },
         {
          "Assets": 16.4,
          "Company": "Eastman Chemical",
          "Country": "United States",
          "Market Cap": 15.2,
          "Profits": 1.5,
          "Revenue": 9.8
         },
         {
          "Assets": 17.5,
          "Company": "Astellas Pharma",
          "Country": "Japan",
          "Market Cap": 30.1,
          "Profits": 1.5,
          "Revenue": 11.7
         },
         {
          "Assets": 14.7,
          "Company": "Air Canada",
          "Country": "Other",
          "Market Cap": 5.1,
          "Profits": 1.5,
          "Revenue": 13
         },
         {
          "Assets": 102.5,
          "Company": "SK Holdings",
          "Country": "South Korea",
          "Market Cap": 20,
          "Profits": 1.5,
          "Revenue": 82.5
         },
         {
          "Assets": 38.7,
          "Company": "LG Electronics",
          "Country": "South Korea",
          "Market Cap": 16.5,
          "Profits": 1.5,
          "Revenue": 55.7
         },
         {
          "Assets": 169.9,
          "Company": "Bank of Ningbo",
          "Country": "China",
          "Market Cap": 14.5,
          "Profits": 1.5,
          "Revenue": 8.1
         },
         {
          "Assets": 5.4,
          "Company": "Nanya Technology",
          "Country": "Other",
          "Market Cap": 9.6,
          "Profits": 1.5,
          "Revenue": 2.1
         },
         {
          "Assets": 18.9,
          "Company": "Aena",
          "Country": "Other",
          "Market Cap": 31.8,
          "Profits": 1.5,
          "Revenue": 4.7
         },
         {
          "Assets": 8,
          "Company": "Hikvision",
          "Country": "China",
          "Market Cap": 58.2,
          "Profits": 1.5,
          "Revenue": 6.6
         },
         {
          "Assets": 30.2,
          "Company": "Molson Coors Brewing",
          "Country": "United States",
          "Market Cap": 13.1,
          "Profits": 1.5,
          "Revenue": 10.9
         },
         {
          "Assets": 15,
          "Company": "Cognizant",
          "Country": "United States",
          "Market Cap": 44.9,
          "Profits": 1.5,
          "Revenue": 15.2
         },
         {
          "Assets": 7.1,
          "Company": "Severstal",
          "Country": "Other",
          "Market Cap": 13.4,
          "Profits": 1.5,
          "Revenue": 8.3
         },
         {
          "Assets": 960.1,
          "Company": "UBS",
          "Country": "Other",
          "Market Cap": 61.8,
          "Profits": 1.5,
          "Revenue": 40.3
         },
         {
          "Assets": 16.7,
          "Company": "Kellogg",
          "Country": "United States",
          "Market Cap": 21.3,
          "Profits": 1.5,
          "Revenue": 13.1
         },
         {
          "Assets": 72.2,
          "Company": "Guotai Junan Securities",
          "Country": "China",
          "Market Cap": 24,
          "Profits": 1.4,
          "Revenue": 3.7
         },
         {
          "Assets": 16.5,
          "Company": "Aroundtown",
          "Country": "Other",
          "Market Cap": 8.6,
          "Profits": 1.4,
          "Revenue": 0.594
         },
         {
          "Assets": 11.6,
          "Company": "Westlake Chemical",
          "Country": "United States",
          "Market Cap": 15.2,
          "Profits": 1.4,
          "Revenue": 8.2
         },
         {
          "Assets": 22,
          "Company": "New Residential Investment",
          "Country": "United States",
          "Market Cap": 6,
          "Profits": 1.4,
          "Revenue": 2.3
         },
         {
          "Assets": 10.7,
          "Company": "Public Storage",
          "Country": "United States",
          "Market Cap": 36.9,
          "Profits": 1.4,
          "Revenue": 2.7
         },
         {
          "Assets": 23.4,
          "Company": "Rogers Communications",
          "Country": "Other",
          "Market Cap": 24.8,
          "Profits": 1.4,
          "Revenue": 11.2
         },
         {
          "Assets": 93.3,
          "Company": "Coca-Cola",
          "Country": "United States",
          "Market Cap": 179.3,
          "Profits": 1.4,
          "Revenue": 33.7
         },
         {
          "Assets": 9.4,
          "Company": "Regeneron Pharmaceuticals",
          "Country": "United States",
          "Market Cap": 33.1,
          "Profits": 1.4,
          "Revenue": 6.1
         },
         {
          "Assets": 10.2,
          "Company": "Fiserv",
          "Country": "United States",
          "Market Cap": 29.8,
          "Profits": 1.4,
          "Revenue": 5.7
         },
         {
          "Assets": 14.7,
          "Company": "United Rentals",
          "Country": "United States",
          "Market Cap": 14,
          "Profits": 1.4,
          "Revenue": 7
         },
         {
          "Assets": 66.6,
          "Company": "Deere & Company",
          "Country": "United States",
          "Market Cap": 47.7,
          "Profits": 1.4,
          "Revenue": 30.5
         },
         {
          "Assets": 256,
          "Company": "Industrial Bank of Korea",
          "Country": "South Korea",
          "Market Cap": 8.9,
          "Profits": 1.4,
          "Revenue": 11.1
         },
         {
          "Assets": 118.6,
          "Company": "M&T Bank",
          "Country": "United States",
          "Market Cap": 27,
          "Profits": 1.4,
          "Revenue": 6.1
         },
         {
          "Assets": 59.3,
          "Company": "Mitsui Fudosan",
          "Country": "Japan",
          "Market Cap": 25.4,
          "Profits": 1.4,
          "Revenue": 15.8
         },
         {
          "Assets": 59.7,
          "Company": "China Fortune Land Development",
          "Country": "China",
          "Market Cap": 13.4,
          "Profits": 1.4,
          "Revenue": 8.5
         },
         {
          "Assets": 24.5,
          "Company": "Marriott International",
          "Country": "United States",
          "Market Cap": 49.4,
          "Profits": 1.4,
          "Revenue": 22.3
         },
         {
          "Assets": 55.2,
          "Company": "CGN Power",
          "Country": "China",
          "Market Cap": 12.5,
          "Profits": 1.4,
          "Revenue": 6.9
         },
         {
          "Assets": 32.9,
          "Company": "Sasol",
          "Country": "Other",
          "Market Cap": 24.9,
          "Profits": 1.4,
          "Revenue": 13.2
         },
         {
          "Assets": 491.5,
          "Company": "CNP Assurances",
          "Country": "Other",
          "Market Cap": 17.1,
          "Profits": 1.4,
          "Revenue": 45.8
         },
         {
          "Assets": 137,
          "Company": "KeyCorp",
          "Country": "United States",
          "Market Cap": 21.5,
          "Profits": 1.4,
          "Revenue": 6.9
         },
         {
          "Assets": 30.2,
          "Company": "Klepierre",
          "Country": "Other",
          "Market Cap": 12.4,
          "Profits": 1.4,
          "Revenue": 1.6
         },
         {
          "Assets": 41.2,
          "Company": "Vivendi",
          "Country": "Other",
          "Market Cap": 36.1,
          "Profits": 1.4,
          "Revenue": 14
         },
         {
          "Assets": 26.5,
          "Company": "Thomson Reuters",
          "Country": "Other",
          "Market Cap": 26.8,
          "Profits": 1.4,
          "Revenue": 11.3
         },
         {
          "Assets": 29,
          "Company": "Asahi Group Holdings",
          "Country": "Japan",
          "Market Cap": 25.3,
          "Profits": 1.4,
          "Revenue": 19.4
         },
         {
          "Assets": 8.1,
          "Company": "Hermès International",
          "Country": "Other",
          "Market Cap": 72.7,
          "Profits": 1.4,
          "Revenue": 6.3
         },
         {
          "Assets": 122.9,
          "Company": "Regions Financial",
          "Country": "United States",
          "Market Cap": 21.7,
          "Profits": 1.4,
          "Revenue": 6.1
         },
         {
          "Assets": 78.8,
          "Company": "GlaxoSmithKline",
          "Country": "United Kingdom",
          "Market Cap": 98.6,
          "Profits": 1.4,
          "Revenue": 39.8
         },
         {
          "Assets": 142.9,
          "Company": "Chongqing Rural Bank",
          "Country": "China",
          "Market Cap": 7.1,
          "Profits": 1.4,
          "Revenue": 6.7
         },
         {
          "Assets": 65.7,
          "Company": "Kansai Electric Power",
          "Country": "Japan",
          "Market Cap": 13,
          "Profits": 1.4,
          "Revenue": 28.3
         },
         {
          "Assets": 17.8,
          "Company": "Associated British Foods",
          "Country": "United Kingdom",
          "Market Cap": 29.5,
          "Profits": 1.4,
          "Revenue": 20.3
         },
         {
          "Assets": 24.4,
          "Company": "Fidelity National Information",
          "Country": "United States",
          "Market Cap": 34.7,
          "Profits": 1.4,
          "Revenue": 8.9
         },
         {
          "Assets": 5.9,
          "Company": "Ross Stores",
          "Country": "United States",
          "Market Cap": 31,
          "Profits": 1.4,
          "Revenue": 14.1
         },
         {
          "Assets": 18.6,
          "Company": "Woolworths",
          "Country": "Other",
          "Market Cap": 28.3,
          "Profits": 1.4,
          "Revenue": 43.3
         },
         {
          "Assets": 37.1,
          "Company": "Steinhoff International",
          "Country": "Other",
          "Market Cap": 0.574,
          "Profits": 1.4,
          "Revenue": 18.1
         },
         {
          "Assets": 12.8,
          "Company": "Kao Corp",
          "Country": "Japan",
          "Market Cap": 34.4,
          "Profits": 1.4,
          "Revenue": 13.5
         },
         {
          "Assets": 61,
          "Company": "Samba Financial Group",
          "Country": "Other",
          "Market Cap": 14.8,
          "Profits": 1.4,
          "Revenue": 2.3
         },
         {
          "Assets": 76.2,
          "Company": "GFNorte",
          "Country": "Other",
          "Market Cap": 16.1,
          "Profits": 1.4,
          "Revenue": 9.1
         },
         {
          "Assets": 7.4,
          "Company": "HCL Technologies",
          "Country": "Other",
          "Market Cap": 19.3,
          "Profits": 1.4,
          "Revenue": 7.8
         },
         {
          "Assets": 6.7,
          "Company": "Metro",
          "Country": "Other",
          "Market Cap": 7.3,
          "Profits": 1.3,
          "Revenue": 10.4
         },
         {
          "Assets": 102.9,
          "Company": "Public Bank",
          "Country": "Other",
          "Market Cap": 23.3,
          "Profits": 1.3,
          "Revenue": 4.7
         },
         {
          "Assets": 10.7,
          "Company": "Galaxy Entertainment",
          "Country": "Other",
          "Market Cap": 38.2,
          "Profits": 1.3,
          "Revenue": 8
         },
         {
          "Assets": 14.3,
          "Company": "Hilton",
          "Country": "United States",
          "Market Cap": 25.1,
          "Profits": 1.3,
          "Revenue": 9.1
         },
         {
          "Assets": 27.6,
          "Company": "Koç Holding",
          "Country": "Other",
          "Market Cap": 8,
          "Profits": 1.3,
          "Revenue": 27.1
         },
         {
          "Assets": 20.8,
          "Company": "Restaurant Brands International",
          "Country": "Other",
          "Market Cap": 26.2,
          "Profits": 1.3,
          "Revenue": 4.8
         },
         {
          "Assets": 74.8,
          "Company": "CenturyLink",
          "Country": "United States",
          "Market Cap": 21.1,
          "Profits": 1.3,
          "Revenue": 19.4
         },
         {
          "Assets": 6.5,
          "Company": "Crown Resorts",
          "Country": "Other",
          "Market Cap": 7,
          "Profits": 1.3,
          "Revenue": 2.5
         },
         {
          "Assets": 9.4,
          "Company": "AutoZone",
          "Country": "United States",
          "Market Cap": 17.8,
          "Profits": 1.3,
          "Revenue": 11.1
         },
         {
          "Assets": 93.6,
          "Company": "Athene Holding",
          "Country": "Other",
          "Market Cap": 9.3,
          "Profits": 1.3,
          "Revenue": 8.2
         },
         {
          "Assets": 111.1,
          "Company": "Bank of Jinzhou",
          "Country": "China",
          "Market Cap": 6.2,
          "Profits": 1.3,
          "Revenue": 6
         },
         {
          "Assets": 12.7,
          "Company": "Lear",
          "Country": "United States",
          "Market Cap": 12.9,
          "Profits": 1.3,
          "Revenue": 21.2
         },
         {
          "Assets": 21.1,
          "Company": "Republic Services",
          "Country": "United States",
          "Market Cap": 22.3,
          "Profits": 1.3,
          "Revenue": 10.1
         },
         {
          "Assets": 12.6,
          "Company": "Aptiv",
          "Country": "United Kingdom",
          "Market Cap": 25.5,
          "Profits": 1.3,
          "Revenue": 15.7
         },
         {
          "Assets": 14.1,
          "Company": "Uni-President",
          "Country": "Other",
          "Market Cap": 13.4,
          "Profits": 1.3,
          "Revenue": 13.6
         },
         {
          "Assets": 48.7,
          "Company": "Atlantia",
          "Country": "Other",
          "Market Cap": 27.5,
          "Profits": 1.3,
          "Revenue": 6.1
         },
         {
          "Assets": 20.6,
          "Company": "Praxair",
          "Country": "United States",
          "Market Cap": 45.3,
          "Profits": 1.3,
          "Revenue": 11.7
         },
         {
          "Assets": 19.2,
          "Company": "TE Connectivity",
          "Country": "Other",
          "Market Cap": 33.1,
          "Profits": 1.3,
          "Revenue": 14
         },
         {
          "Assets": 16.9,
          "Company": "Murata Manufacturing",
          "Country": "Japan",
          "Market Cap": 29.5,
          "Profits": 1.3,
          "Revenue": 12.4
         },
         {
          "Assets": 16.1,
          "Company": "Nucor",
          "Country": "United States",
          "Market Cap": 20.1,
          "Profits": 1.3,
          "Revenue": 21
         },
         {
          "Assets": 18.4,
          "Company": "Ingersoll Rand",
          "Country": "Other",
          "Market Cap": 22,
          "Profits": 1.3,
          "Revenue": 14.6
         },
         {
          "Assets": 52.9,
          "Company": "Credicorp",
          "Country": "Other",
          "Market Cap": 18,
          "Profits": 1.3,
          "Revenue": 5.5
         },
         {
          "Assets": 13.6,
          "Company": "Recruit Holdings",
          "Country": "Japan",
          "Market Cap": 42.8,
          "Profits": 1.3,
          "Revenue": 19.2
         },
         {
          "Assets": 41.9,
          "Company": "JFE Holdings",
          "Country": "Japan",
          "Market Cap": 12.5,
          "Profits": 1.3,
          "Revenue": 33.2
         },
         {
          "Assets": 23.2,
          "Company": "Iqvia Holdings",
          "Country": "United States",
          "Market Cap": 21.4,
          "Profits": 1.3,
          "Revenue": 10
         },
         {
          "Assets": 104.2,
          "Company": "Huntington Bancshares",
          "Country": "United States",
          "Market Cap": 16.7,
          "Profits": 1.3,
          "Revenue": 4.9
         },
         {
          "Assets": 7.4,
          "Company": "Alrosa",
          "Country": "Other",
          "Market Cap": 10.5,
          "Profits": 1.3,
          "Revenue": 4.7
         },
         {
          "Assets": 17,
          "Company": "Bharat Petroleum",
          "Country": "Other",
          "Market Cap": 12.9,
          "Profits": 1.3,
          "Revenue": 30
         },
         {
          "Assets": 24.1,
          "Company": "All Nippon Airways",
          "Country": "Japan",
          "Market Cap": 12.8,
          "Profits": 1.3,
          "Revenue": 17.8
         },
         {
          "Assets": 61.8,
          "Company": "Tesco",
          "Country": "United Kingdom",
          "Market Cap": 32.7,
          "Profits": 1.3,
          "Revenue": 75.4
         },
         {
          "Assets": 17.8,
          "Company": "Coal India",
          "Country": "Other",
          "Market Cap": 25,
          "Profits": 1.3,
          "Revenue": 12.6
         },
         {
          "Assets": 97.7,
          "Company": "Siam Commercial Bank",
          "Country": "Other",
          "Market Cap": 14.3,
          "Profits": 1.3,
          "Revenue": 6.8
         },
         {
          "Assets": 18.6,
          "Company": "Sysco",
          "Country": "United States",
          "Market Cap": 32.7,
          "Profits": 1.3,
          "Revenue": 57.8
         },
         {
          "Assets": 9,
          "Company": "Ashtead Group",
          "Country": "United Kingdom",
          "Market Cap": 14.8,
          "Profits": 1.3,
          "Revenue": 4.7
         },
         {
          "Assets": 129.7,
          "Company": "Northern Trust",
          "Country": "United States",
          "Market Cap": 24.5,
          "Profits": 1.3,
          "Revenue": 5.9
         },
         {
          "Assets": 16.1,
          "Company": "Braskem",
          "Country": "Other",
          "Market Cap": 10.1,
          "Profits": 1.3,
          "Revenue": 15.4
         },
         {
          "Assets": 16.1,
          "Company": "Chunghwa Telecom",
          "Country": "Other",
          "Market Cap": 28.4,
          "Profits": 1.3,
          "Revenue": 7.6
         },
         {
          "Assets": 83.6,
          "Company": "Telecom Italia",
          "Country": "Other",
          "Market Cap": 20.2,
          "Profits": 1.3,
          "Revenue": 22.4
         },
         {
          "Assets": 25,
          "Company": "Cielo",
          "Country": "Other",
          "Market Cap": 13.7,
          "Profits": 1.3,
          "Revenue": 3.6
         },
         {
          "Assets": 15.4,
          "Company": "Nintendo",
          "Country": "Japan",
          "Market Cap": 59.8,
          "Profits": 1.3,
          "Revenue": 9.5
         },
         {
          "Assets": 15.3,
          "Company": "JM Smucker",
          "Country": "United States",
          "Market Cap": 12.8,
          "Profits": 1.3,
          "Revenue": 7.4
         },
         {
          "Assets": 50.5,
          "Company": "Edp-energias De Portugal",
          "Country": "Other",
          "Market Cap": 13.5,
          "Profits": 1.3,
          "Revenue": 17.8
         },
         {
          "Assets": 25.8,
          "Company": "Kubota",
          "Country": "Japan",
          "Market Cap": 21.1,
          "Profits": 1.3,
          "Revenue": 16
         },
         {
          "Assets": 16.8,
          "Company": "LabCorp",
          "Country": "United States",
          "Market Cap": 18,
          "Profits": 1.2,
          "Revenue": 10.8
         },
         {
          "Assets": 156.6,
          "Company": "Johnson & Johnson",
          "Country": "United States",
          "Market Cap": 341.3,
          "Profits": 1.2,
          "Revenue": 78.7
         },
         {
          "Assets": 11.7,
          "Company": "Wipro",
          "Country": "Other",
          "Market Cap": 18.3,
          "Profits": 1.2,
          "Revenue": 8.5
         },
         {
          "Assets": 14.4,
          "Company": "Merlin Properties SOCIMI S.A",
          "Country": "Other",
          "Market Cap": 7.1,
          "Profits": 1.2,
          "Revenue": 0.547
         },
         {
          "Assets": 31.8,
          "Company": "WEC Energy Group",
          "Country": "United States",
          "Market Cap": 19.5,
          "Profits": 1.2,
          "Revenue": 7.6
         },
         {
          "Assets": 27.7,
          "Company": "Sumitomo Chemical",
          "Country": "Japan",
          "Market Cap": 9.4,
          "Profits": 1.2,
          "Revenue": 19.5
         },
         {
          "Assets": 6.5,
          "Company": "Polyus",
          "Country": "Other",
          "Market Cap": 8.3,
          "Profits": 1.2,
          "Revenue": 2.7
         },
         {
          "Assets": 12.1,
          "Company": "SMC",
          "Country": "Japan",
          "Market Cap": 26.5,
          "Profits": 1.2,
          "Revenue": 5.1
         },
         {
          "Assets": 21.8,
          "Company": "Apache",
          "Country": "United States",
          "Market Cap": 15.8,
          "Profits": 1.2,
          "Revenue": 6.1
         },
         {
          "Assets": 162.3,
          "Company": "Raiffeisen Bank International",
          "Country": "Other",
          "Market Cap": 11.2,
          "Profits": 1.2,
          "Revenue": 8.1
         },
         {
          "Assets": 9.9,
          "Company": "Neste Oil",
          "Country": "Other",
          "Market Cap": 20.6,
          "Profits": 1.2,
          "Revenue": 16.1
         },
         {
          "Assets": 12.5,
          "Company": "Hindustan Petroleum",
          "Country": "Other",
          "Market Cap": 7.2,
          "Profits": 1.2,
          "Revenue": 27.9
         },
         {
          "Assets": 10.7,
          "Company": "Segro",
          "Country": "United Kingdom",
          "Market Cap": 9,
          "Profits": 1.2,
          "Revenue": 0.382
         },
         {
          "Assets": 91.1,
          "Company": "Haitong Securities",
          "Country": "China",
          "Market Cap": 19.4,
          "Profits": 1.2,
          "Revenue": 4.2
         },
         {
          "Assets": 43,
          "Company": "Bouygues",
          "Country": "Other",
          "Market Cap": 18.8,
          "Profits": 1.2,
          "Revenue": 37.1
         },
         {
          "Assets": 179.5,
          "Company": "CTBC Financial",
          "Country": "Other",
          "Market Cap": 14.4,
          "Profits": 1.2,
          "Revenue": 14.6
         },
         {
          "Assets": 16,
          "Company": "UC Rusal",
          "Country": "Other",
          "Market Cap": 3.9,
          "Profits": 1.2,
          "Revenue": 10
         },
         {
          "Assets": 17.4,
          "Company": "Japan Airlines",
          "Country": "Japan",
          "Market Cap": 12.9,
          "Profits": 1.2,
          "Revenue": 12.5
         },
         {
          "Assets": 7.9,
          "Company": "Magnitogorsk Iron & Steel",
          "Country": "Other",
          "Market Cap": 8.3,
          "Profits": 1.2,
          "Revenue": 7.9
         },
         {
          "Assets": 15.9,
          "Company": "UPM-Kymmene",
          "Country": "Other",
          "Market Cap": 19.8,
          "Profits": 1.2,
          "Revenue": 11.7
         },
         {
          "Assets": 40.9,
          "Company": "Wilmar International",
          "Country": "Other",
          "Market Cap": 15,
          "Profits": 1.2,
          "Revenue": 43.8
         },
         {
          "Assets": 108.1,
          "Company": "Allied Irish Banks",
          "Country": "Other",
          "Market Cap": 16.2,
          "Profits": 1.2,
          "Revenue": 3.8
         },
         {
          "Assets": 20.6,
          "Company": "CBS",
          "Country": "United States",
          "Market Cap": 19.9,
          "Profits": 1.2,
          "Revenue": 14.1
         },
         {
          "Assets": 33.2,
          "Company": "Aisin Seiki",
          "Country": "Japan",
          "Market Cap": 14.9,
          "Profits": 1.2,
          "Revenue": 35.3
         },
         {
          "Assets": 295.5,
          "Company": "Woori Bank",
          "Country": "South Korea",
          "Market Cap": 9.8,
          "Profits": 1.2,
          "Revenue": 12.5
         },
         {
          "Assets": 34.4,
          "Company": "American Tower",
          "Country": "United States",
          "Market Cap": 61.3,
          "Profits": 1.2,
          "Revenue": 6.8
         },
         {
          "Assets": 12.7,
          "Company": "Ferguson",
          "Country": "Other",
          "Market Cap": 18.9,
          "Profits": 1.2,
          "Revenue": 18.6
         },
         {
          "Assets": 61.6,
          "Company": "GF Securities",
          "Country": "China",
          "Market Cap": 17.7,
          "Profits": 1.2,
          "Revenue": 2.9
         },
         {
          "Assets": 43.2,
          "Company": "Xcel Energy",
          "Country": "United States",
          "Market Cap": 23,
          "Profits": 1.2,
          "Revenue": 11.4
         },
         {
          "Assets": 172.4,
          "Company": "ICICI Bank",
          "Country": "Other",
          "Market Cap": 29.7,
          "Profits": 1.2,
          "Revenue": 18.5
         },
         {
          "Assets": 22.2,
          "Company": "Sekisui House",
          "Country": "Japan",
          "Market Cap": 12.7,
          "Profits": 1.2,
          "Revenue": 19.3
         },
         {
          "Assets": 16.6,
          "Company": "Nidec",
          "Country": "Japan",
          "Market Cap": 46.9,
          "Profits": 1.2,
          "Revenue": 13.4
         },
         {
          "Assets": 22.2,
          "Company": "Kerry Properties",
          "Country": "Other",
          "Market Cap": 7.1,
          "Profits": 1.2,
          "Revenue": 4.7
         },
         {
          "Assets": 10.8,
          "Company": "Dexus",
          "Country": "Other",
          "Market Cap": 7.4,
          "Profits": 1.2,
          "Revenue": 0.718
         },
         {
          "Assets": 23.2,
          "Company": "DP World",
          "Country": "Other",
          "Market Cap": 18.3,
          "Profits": 1.2,
          "Revenue": 4.7
         },
         {
          "Assets": 42.4,
          "Company": "PPL",
          "Country": "United States",
          "Market Cap": 19.4,
          "Profits": 1.2,
          "Revenue": 7.6
         },
         {
          "Assets": 40.5,
          "Company": "Toyota Tsusho",
          "Country": "Japan",
          "Market Cap": 13.1,
          "Profits": 1.2,
          "Revenue": 58.6
         },
         {
          "Assets": 7.7,
          "Company": "O'Reilly Automotive",
          "Country": "United States",
          "Market Cap": 22.1,
          "Profits": 1.2,
          "Revenue": 9.1
         },
         {
          "Assets": 12.1,
          "Company": "Luxottica Group",
          "Country": "Other",
          "Market Cap": 30,
          "Profits": 1.2,
          "Revenue": 10.3
         },
         {
          "Assets": 14.3,
          "Company": "PTT Global Chemical",
          "Country": "Other",
          "Market Cap": 13.4,
          "Profits": 1.2,
          "Revenue": 13.6
         },
         {
          "Assets": 15.8,
          "Company": "Symantec",
          "Country": "United States",
          "Market Cap": 12.1,
          "Profits": 1.2,
          "Revenue": 4.8
         },
         {
          "Assets": 16.9,
          "Company": "Kajima",
          "Country": "Japan",
          "Market Cap": 10,
          "Profits": 1.2,
          "Revenue": 17.1
         },
         {
          "Assets": 80.8,
          "Company": "Loews",
          "Country": "United States",
          "Market Cap": 16.5,
          "Profits": 1.2,
          "Revenue": 13.8
         },
         {
          "Assets": 47.2,
          "Company": "Shimao Property Holdings",
          "Country": "Other",
          "Market Cap": 9.2,
          "Profits": 1.2,
          "Revenue": 10.4
         },
         {
          "Assets": 31.7,
          "Company": "Wesfarmers",
          "Country": "Other",
          "Market Cap": 37.7,
          "Profits": 1.2,
          "Revenue": 53
         },
         {
          "Assets": 14.8,
          "Company": "South32",
          "Country": "Other",
          "Market Cap": 15.2,
          "Profits": 1.2,
          "Revenue": 7.2
         },
         {
          "Assets": 111.6,
          "Company": "Southern Company",
          "Country": "United States",
          "Market Cap": 45.5,
          "Profits": 1.2,
          "Revenue": 23.8
         },
         {
          "Assets": 12.8,
          "Company": "The Estée Lauder Companies",
          "Country": "United States",
          "Market Cap": 51.5,
          "Profits": 1.2,
          "Revenue": 13.3
         },
         {
          "Assets": 10,
          "Company": "JetBlue Airways",
          "Country": "United States",
          "Market Cap": 6,
          "Profits": 1.2,
          "Revenue": 7.2
         },
         {
          "Assets": 169.8,
          "Company": "Korea Electric Power",
          "Country": "South Korea",
          "Market Cap": 21.5,
          "Profits": 1.1,
          "Revenue": 52.9
         },
         {
          "Assets": 72.6,
          "Company": "Abu Dhabi Commercial Bank",
          "Country": "Other",
          "Market Cap": 9.7,
          "Profits": 1.1,
          "Revenue": 3.5
         },
         {
          "Assets": 39.6,
          "Company": "Hyundai Mobis",
          "Country": "South Korea",
          "Market Cap": 21,
          "Profits": 1.1,
          "Revenue": 30.7
         },
         {
          "Assets": 82.3,
          "Company": "Halkbank",
          "Country": "Other",
          "Market Cap": 2.2,
          "Profits": 1.1,
          "Revenue": 7.7
         },
         {
          "Assets": 18.2,
          "Company": "Taisei",
          "Country": "Japan",
          "Market Cap": 12.4,
          "Profits": 1.1,
          "Revenue": 14.3
         },
         {
          "Assets": 96.4,
          "Company": "Sinohydro Group",
          "Country": "China",
          "Market Cap": 15.2,
          "Profits": 1.1,
          "Revenue": 41.2
         },
         {
          "Assets": 31.2,
          "Company": "Weichai Power",
          "Country": "China",
          "Market Cap": 9.6,
          "Profits": 1.1,
          "Revenue": 23.4
         },
         {
          "Assets": 13.2,
          "Company": "DR Horton",
          "Country": "United States",
          "Market Cap": 16.6,
          "Profits": 1.1,
          "Revenue": 15.1
         },
         {
          "Assets": 18.5,
          "Company": "Air Products & Chemicals",
          "Country": "United States",
          "Market Cap": 36.5,
          "Profits": 1.1,
          "Revenue": 8.7
         },
         {
          "Assets": 219.1,
          "Company": "Old Mutual",
          "Country": "United Kingdom",
          "Market Cap": 17,
          "Profits": 1.1,
          "Revenue": 13.3
         },
         {
          "Assets": 13.7,
          "Company": "Ceconomy",
          "Country": "Other",
          "Market Cap": 3.5,
          "Profits": 1.1,
          "Revenue": 25
         },
         {
          "Assets": 31.6,
          "Company": "Invesco",
          "Country": "United States",
          "Market Cap": 11.6,
          "Profits": 1.1,
          "Revenue": 5.4
         },
         {
          "Assets": 12.4,
          "Company": "Mahindra & Mahindra",
          "Country": "Other",
          "Market Cap": 16.1,
          "Profits": 1.1,
          "Revenue": 14
         },
         {
          "Assets": 15.3,
          "Company": "WH Group",
          "Country": "Other",
          "Market Cap": 14.9,
          "Profits": 1.1,
          "Revenue": 22.4
         },
         {
          "Assets": 15.2,
          "Company": "Fast Retailing",
          "Country": "Japan",
          "Market Cap": 45.7,
          "Profits": 1.1,
          "Revenue": 18.2
         },
         {
          "Assets": 14.4,
          "Company": "Concho Resources",
          "Country": "United States",
          "Market Cap": 22.8,
          "Profits": 1.1,
          "Revenue": 2.9
         },
         {
          "Assets": 15.5,
          "Company": "Great Eagle Holdings",
          "Country": "Other",
          "Market Cap": 3.4,
          "Profits": 1.1,
          "Revenue": 1.2
         },
         {
          "Assets": 9.5,
          "Company": "Amadeus IT Group",
          "Country": "Other",
          "Market Cap": 33.6,
          "Profits": 1.1,
          "Revenue": 5.5
         },
         {
          "Assets": 139.5,
          "Company": "Huishang Bank",
          "Country": "China",
          "Market Cap": 5.4,
          "Profits": 1.1,
          "Revenue": 6.2
         },
         {
          "Assets": 69.1,
          "Company": "VakifBank",
          "Country": "Other",
          "Market Cap": 3.3,
          "Profits": 1.1,
          "Revenue": 6.8
         },
         {
          "Assets": 23.6,
          "Company": "TELUS",
          "Country": "Other",
          "Market Cap": 21.3,
          "Profits": 1.1,
          "Revenue": 10.2
         },
         {
          "Assets": 44.4,
          "Company": "Eli Lilly",
          "Country": "United States",
          "Market Cap": 89.5,
          "Profits": 1.1,
          "Revenue": 23.3
         },
         {
          "Assets": 158.3,
          "Company": "Shengjing Bank",
          "Country": "China",
          "Market Cap": 3.9,
          "Profits": 1.1,
          "Revenue": 6.5
         },
         {
          "Assets": 103.5,
          "Company": "Bank of East Asia",
          "Country": "Other",
          "Market Cap": 12.3,
          "Profits": 1.1,
          "Revenue": 3.6
         },
         {
          "Assets": 20.2,
          "Company": "Norsk Hydro",
          "Country": "Other",
          "Market Cap": 12.4,
          "Profits": 1.1,
          "Revenue": 15.5
         },
         {
          "Assets": 69.2,
          "Company": "AGNC Investment",
          "Country": "United States",
          "Market Cap": 7.4,
          "Profits": 1.1,
          "Revenue": 2.2
         },
         {
          "Assets": 8.4,
          "Company": "Kone",
          "Country": "Other",
          "Market Cap": 25.7,
          "Profits": 1.1,
          "Revenue": 10.7
         },
         {
          "Assets": 10.9,
          "Company": "HollyFrontier",
          "Country": "United States",
          "Market Cap": 11.9,
          "Profits": 1.1,
          "Revenue": 15.3
         },
         {
          "Assets": 32.4,
          "Company": "Power Grid of India",
          "Country": "Other",
          "Market Cap": 16.1,
          "Profits": 1.1,
          "Revenue": 3.8
         },
         {
          "Assets": 7.1,
          "Company": "Jiangsu Yanghe Brewery",
          "Country": "China",
          "Market Cap": 30.9,
          "Profits": 1.1,
          "Revenue": 2.9
         },
         {
          "Assets": 34.4,
          "Company": "Larsen & Toubro",
          "Country": "Other",
          "Market Cap": 28.9,
          "Profits": 1.1,
          "Revenue": 17.8
         },
         {
          "Assets": 23.5,
          "Company": "Omnicom Group",
          "Country": "United States",
          "Market Cap": 17.1,
          "Profits": 1.1,
          "Revenue": 15.3
         },
         {
          "Assets": 130.8,
          "Company": "Cnpc Capital",
          "Country": "China",
          "Market Cap": 18.8,
          "Profits": 1.1,
          "Revenue": 5
         },
         {
          "Assets": 10.7,
          "Company": "Fortive",
          "Country": "United States",
          "Market Cap": 26.4,
          "Profits": 1.1,
          "Revenue": 6.9
         },
         {
          "Assets": 51.2,
          "Company": "Heineken",
          "Country": "Other",
          "Market Cap": 28.5,
          "Profits": 1.1,
          "Revenue": 24.7
         },
         {
          "Assets": 31.7,
          "Company": "Yanzhou Coal Mining",
          "Country": "China",
          "Market Cap": 9.9,
          "Profits": 1.1,
          "Revenue": 21.2
         },
         {
          "Assets": 30.4,
          "Company": "BAE Systems",
          "Country": "United Kingdom",
          "Market Cap": 27.5,
          "Profits": 1.1,
          "Revenue": 23.6
         },
         {
          "Assets": 14.6,
          "Company": "Schaeffler",
          "Country": "Other",
          "Market Cap": 10.7,
          "Profits": 1.1,
          "Revenue": 16.4
         },
         {
          "Assets": 13.5,
          "Company": "Vicinity Centres",
          "Country": "Other",
          "Market Cap": 7.5,
          "Profits": 1.1,
          "Revenue": 1.1
         },
         {
          "Assets": 47.4,
          "Company": "CapitaLand",
          "Country": "Other",
          "Market Cap": 11.6,
          "Profits": 1.1,
          "Revenue": 4
         },
         {
          "Assets": 33.8,
          "Company": "DTE Energy",
          "Country": "United States",
          "Market Cap": 18.6,
          "Profits": 1.1,
          "Revenue": 13
         },
         {
          "Assets": 12.1,
          "Company": "Chesapeake Energy",
          "Country": "United States",
          "Market Cap": 3.1,
          "Profits": 1.1,
          "Revenue": 9.3
         },
         {
          "Assets": 57.5,
          "Company": "Dubai Islamic Bank",
          "Country": "Other",
          "Market Cap": 6.6,
          "Profits": 1.1,
          "Revenue": 2.8
         },
         {
          "Assets": 28.4,
          "Company": "Sumitomo Electric",
          "Country": "Japan",
          "Market Cap": 12.1,
          "Profits": 1.1,
          "Revenue": 27.8
         },
         {
          "Assets": 41.8,
          "Company": "BOE Technology Group",
          "Country": "China",
          "Market Cap": 24.1,
          "Profits": 1.1,
          "Revenue": 14
         },
         {
          "Assets": 24.6,
          "Company": "Qingdao Haier",
          "Country": "China",
          "Market Cap": 17.3,
          "Profits": 1.1,
          "Revenue": 24.6
         },
         {
          "Assets": 42.5,
          "Company": "AerCap Holdings",
          "Country": "Other",
          "Market Cap": 8,
          "Profits": 1.1,
          "Revenue": 5
         },
         {
          "Assets": 48.8,
          "Company": "Sumitomo Realty",
          "Country": "Japan",
          "Market Cap": 19.3,
          "Profits": 1.1,
          "Revenue": 8.6
         },
         {
          "Assets": 26.2,
          "Company": "Fortum",
          "Country": "Other",
          "Market Cap": 21.3,
          "Profits": 1.1,
          "Revenue": 5.7
         },
         {
          "Assets": 13.7,
          "Company": "Power Assets Holdings",
          "Country": "Other",
          "Market Cap": 16.1,
          "Profits": 1.1,
          "Revenue": 0.182
         },
         {
          "Assets": 35.7,
          "Company": "Gemdale",
          "Country": "China",
          "Market Cap": 8.1,
          "Profits": 1.1,
          "Revenue": 5.3
         },
         {
          "Assets": 8,
          "Company": "Erdemir",
          "Country": "Other",
          "Market Cap": 8.4,
          "Profits": 1.1,
          "Revenue": 5.4
         },
         {
          "Assets": 14.8,
          "Company": "AU Optronics",
          "Country": "Other",
          "Market Cap": 4.1,
          "Profits": 1.1,
          "Revenue": 11.2
         },
         {
          "Assets": 25.4,
          "Company": "British Sky Broadcasting",
          "Country": "United Kingdom",
          "Market Cap": 31.6,
          "Profits": 1.1,
          "Revenue": 17.1
         },
         {
          "Assets": 10.2,
          "Company": "Keurig Dr Pepper",
          "Country": "United States",
          "Market Cap": 21.5,
          "Profits": 1.1,
          "Revenue": 6.8
         },
         {
          "Assets": 95.8,
          "Company": "Kasikornbank",
          "Country": "Other",
          "Market Cap": 14.7,
          "Profits": 1.1,
          "Revenue": 5.8
         },
         {
          "Assets": 39.2,
          "Company": "Hong Kong Exchanges",
          "Country": "Other",
          "Market Cap": 41.3,
          "Profits": 1.1,
          "Revenue": 1.8
         },
         {
          "Assets": 16.8,
          "Company": "Towngas",
          "Country": "Other",
          "Market Cap": 30,
          "Profits": 1.1,
          "Revenue": 4.2
         },
         {
          "Assets": 48.7,
          "Company": "Saudi British Bank",
          "Country": "Other",
          "Market Cap": 13,
          "Profits": 1.1,
          "Revenue": 2
         },
         {
          "Assets": 91.8,
          "Company": "Sabanci Holding",
          "Country": "Other",
          "Market Cap": 4.7,
          "Profits": 1.1,
          "Revenue": 12.2
         },
         {
          "Assets": 8.3,
          "Company": "Campbell Soup",
          "Country": "United States",
          "Market Cap": 12.2,
          "Profits": 1.1,
          "Revenue": 7.9
         },
         {
          "Assets": 57.7,
          "Company": "Riyad Bank",
          "Country": "Other",
          "Market Cap": 11.5,
          "Profits": 1.1,
          "Revenue": 2.6
         },
         {
          "Assets": 30.9,
          "Company": "Cenovus Energy",
          "Country": "Other",
          "Market Cap": 13.4,
          "Profits": 1.1,
          "Revenue": 14.1
         },
         {
          "Assets": 35,
          "Company": "China Southern Airlines",
          "Country": "China",
          "Market Cap": 14.6,
          "Profits": 1,
          "Revenue": 19.7
         },
         {
          "Assets": 2.4,
          "Company": "NKT",
          "Country": "Other",
          "Market Cap": 0.801,
          "Profits": 1,
          "Revenue": 1.7
         },
         {
          "Assets": 27.4,
          "Company": "YPF",
          "Country": "Other",
          "Market Cap": 8.5,
          "Profits": 1,
          "Revenue": 15.5
         },
         {
          "Assets": 17.3,
          "Company": "Pioneer Natural Resources",
          "Country": "United States",
          "Market Cap": 34.5,
          "Profits": 1,
          "Revenue": 7
         },
         {
          "Assets": 50.8,
          "Company": "Bank Negara Indonesia",
          "Country": "Other",
          "Market Cap": 11.1,
          "Profits": 1,
          "Revenue": 4.9
         },
         {
          "Assets": 89.4,
          "Company": "National Bank of Kuwait",
          "Country": "Other",
          "Market Cap": 15,
          "Profits": 1,
          "Revenue": 3.8
         },
         {
          "Assets": 8.6,
          "Company": "Electronic Arts",
          "Country": "United States",
          "Market Cap": 40.7,
          "Profits": 1,
          "Revenue": 5.1
         },
         {
          "Assets": 33.6,
          "Company": "DXC Technology",
          "Country": "United States",
          "Market Cap": 29.9,
          "Profits": 1,
          "Revenue": 20.2
         },
         {
          "Assets": 125.3,
          "Company": "CIMB Group Holdings",
          "Country": "Other",
          "Market Cap": 16.4,
          "Profits": 1,
          "Revenue": 6.6
         },
         {
          "Assets": 12.5,
          "Company": "Assa Abloy",
          "Country": "Other",
          "Market Cap": 24.7,
          "Profits": 1,
          "Revenue": 9.2
         },
         {
          "Assets": 63,
          "Company": "Unum",
          "Country": "United States",
          "Market Cap": 8.4,
          "Profits": 1,
          "Revenue": 11.4
         },
         {
          "Assets": 38,
          "Company": "Shenzhen Overseas",
          "Country": "China",
          "Market Cap": 10.6,
          "Profits": 1,
          "Revenue": 4.3
         },
         {
          "Assets": 12.4,
          "Company": "LEG Immobilien AG",
          "Country": "Other",
          "Market Cap": 7.1,
          "Profits": 1,
          "Revenue": 0.958
         },
         {
          "Assets": 42.5,
          "Company": "HeidelbergCement",
          "Country": "Other",
          "Market Cap": 19,
          "Profits": 1,
          "Revenue": 19.5
         },
         {
          "Assets": 264,
          "Company": "Samsung Life Insurance",
          "Country": "South Korea",
          "Market Cap": 21.4,
          "Profits": 1,
          "Revenue": 25.3
         },
         {
          "Assets": 16.8,
          "Company": "MOL Hungarian Oil",
          "Country": "Other",
          "Market Cap": 8,
          "Profits": 1,
          "Revenue": 15.8
         },
         {
          "Assets": 26.2,
          "Company": "Foncière des Régions",
          "Country": "Other",
          "Market Cap": 8.6,
          "Profits": 1,
          "Revenue": 1.1
         },
         {
          "Assets": 22.8,
          "Company": "Otsuka Holding",
          "Country": "Japan",
          "Market Cap": 26,
          "Profits": 1,
          "Revenue": 11.3
         },
         {
          "Assets": 9.3,
          "Company": "KT&G",
          "Country": "South Korea",
          "Market Cap": 11.8,
          "Profits": 1,
          "Revenue": 4.1
         },
         {
          "Assets": 25.2,
          "Company": "Centene",
          "Country": "United States",
          "Market Cap": 23.5,
          "Profits": 1,
          "Revenue": 49.9
         },
         {
          "Assets": 9,
          "Company": "Moody's",
          "Country": "United States",
          "Market Cap": 33.4,
          "Profits": 1,
          "Revenue": 4.4
         },
         {
          "Assets": 4.7,
          "Company": "President Chain Store",
          "Country": "Other",
          "Market Cap": 10.6,
          "Profits": 1,
          "Revenue": 7.6
         },
         {
          "Assets": 51.1,
          "Company": "OTP Bank",
          "Country": "Other",
          "Market Cap": 10.9,
          "Profits": 1,
          "Revenue": 4
         },
         {
          "Assets": 14.1,
          "Company": "Roper Technologies",
          "Country": "United States",
          "Market Cap": 28.8,
          "Profits": 1,
          "Revenue": 4.7
         },
         {
          "Assets": 25.4,
          "Company": "Woodside Petroleum",
          "Country": "Other",
          "Market Cap": 23.7,
          "Profits": 1,
          "Revenue": 3.9
         },
         {
          "Assets": 218.6,
          "Company": "Swiss Life Holding",
          "Country": "Other",
          "Market Cap": 12.3,
          "Profits": 1,
          "Revenue": 19.4
         },
         {
          "Assets": 9.8,
          "Company": "Celanese",
          "Country": "United States",
          "Market Cap": 14.7,
          "Profits": 1,
          "Revenue": 6.5
         },
         {
          "Assets": 14.4,
          "Company": "Continental Resources",
          "Country": "United States",
          "Market Cap": 25.4,
          "Profits": 1,
          "Revenue": 3.5
         },
         {
          "Assets": 65.9,
          "Company": "Asr Nederland",
          "Country": "Other",
          "Market Cap": 6.5,
          "Profits": 1,
          "Revenue": 7.2
         },
         {
          "Assets": 101.5,
          "Company": "Bangkok Bank",
          "Country": "Other",
          "Market Cap": 11.4,
          "Profits": 1,
          "Revenue": 4.9
         },
         {
          "Assets": 22.1,
          "Company": "Stryker",
          "Country": "United States",
          "Market Cap": 63.3,
          "Profits": 1,
          "Revenue": 12.7
         },
         {
          "Assets": 570,
          "Company": "Sumitomo Mitsui Trust",
          "Country": "Japan",
          "Market Cap": 16.3,
          "Profits": 1,
          "Revenue": 11.3
         },
         {
          "Assets": 6.4,
          "Company": "Persimmon",
          "Country": "United Kingdom",
          "Market Cap": 11.8,
          "Profits": 1,
          "Revenue": 4.4
         },
         {
          "Assets": 35.8,
          "Company": "Abertis",
          "Country": "Other",
          "Market Cap": 19.9,
          "Profits": 1,
          "Revenue": 5.9
         },
         {
          "Assets": 26.7,
          "Company": "Snam",
          "Country": "Other",
          "Market Cap": 15.6,
          "Profits": 1,
          "Revenue": 2.8
         },
         {
          "Assets": 10.9,
          "Company": "Nine Dragons Paper Holdings",
          "Country": "Other",
          "Market Cap": 7.9,
          "Profits": 1,
          "Revenue": 6.8
         },
         {
          "Assets": 25.7,
          "Company": "Mazda Motor",
          "Country": "Japan",
          "Market Cap": 8.4,
          "Profits": 1,
          "Revenue": 31.3
         },
         {
          "Assets": 38.6,
          "Company": "TD Ameritrade Holding",
          "Country": "United States",
          "Market Cap": 34.9,
          "Profits": 1,
          "Revenue": 4.6
         },
         {
          "Assets": 8,
          "Company": "Guangdong Wens Foodstuffs Group",
          "Country": "China",
          "Market Cap": 18.1,
          "Profits": 1,
          "Revenue": 8.4
         },
         {
          "Assets": 7.3,
          "Company": "Hershey",
          "Country": "United States",
          "Market Cap": 18.8,
          "Profits": 1,
          "Revenue": 7.6
         },
         {
          "Assets": 19.7,
          "Company": "Stanley Black & Decker",
          "Country": "United States",
          "Market Cap": 22.2,
          "Profits": 1,
          "Revenue": 13.2
         },
         {
          "Assets": 9.2,
          "Company": "Industries Qatar",
          "Country": "Other",
          "Market Cap": 18.3,
          "Profits": 1,
          "Revenue": 1.3
         },
         {
          "Assets": 16.2,
          "Company": "Parker-Hannifin",
          "Country": "United States",
          "Market Cap": 23.3,
          "Profits": 1,
          "Revenue": 14
         },
         {
          "Assets": 13.3,
          "Company": "Best Buy",
          "Country": "United States",
          "Market Cap": 21.9,
          "Profits": 1,
          "Revenue": 42.2
         },
         {
          "Assets": 20.9,
          "Company": "Valeo",
          "Country": "Other",
          "Market Cap": 16.2,
          "Profits": 0.999,
          "Revenue": 20.9
         },
         {
          "Assets": 28.1,
          "Company": "LG Display",
          "Country": "South Korea",
          "Market Cap": 7.8,
          "Profits": 0.999,
          "Revenue": 23.8
         },
         {
          "Assets": 37,
          "Company": "Eversource Energy",
          "Country": "United States",
          "Market Cap": 18.4,
          "Profits": 0.998,
          "Revenue": 7.9
         },
         {
          "Assets": 198.8,
          "Company": "Daiwa Securities",
          "Country": "Japan",
          "Market Cap": 9.8,
          "Profits": 0.998,
          "Revenue": 6.4
         },
         {
          "Assets": 28.9,
          "Company": "West Japan Railway",
          "Country": "Japan",
          "Market Cap": 14.2,
          "Profits": 0.997,
          "Revenue": 13.5
         },
         {
          "Assets": 25,
          "Company": "Evonik",
          "Country": "Other",
          "Market Cap": 17.4,
          "Profits": 0.997,
          "Revenue": 16.8
         },
         {
          "Assets": 20.4,
          "Company": "Akzo Nobel",
          "Country": "Other",
          "Market Cap": 22.4,
          "Profits": 0.988,
          "Revenue": 13.9
         },
         {
          "Assets": 269.4,
          "Company": "Banco de Sabadell",
          "Country": "Other",
          "Market Cap": 11.5,
          "Profits": 0.987,
          "Revenue": 8.4
         },
         {
          "Assets": 179.7,
          "Company": "Deutsche Boerse",
          "Country": "Other",
          "Market Cap": 26,
          "Profits": 0.985,
          "Revenue": 3.4
         },
         {
          "Assets": 8.1,
          "Company": "L Brands",
          "Country": "United States",
          "Market Cap": 9,
          "Profits": 0.983,
          "Revenue": 12.6
         },
         {
          "Assets": 6.8,
          "Company": "Shionogi",
          "Country": "Japan",
          "Market Cap": 16.5,
          "Profits": 0.982,
          "Revenue": 3.1
         },
         {
          "Assets": 12.6,
          "Company": "Mohawk Industries",
          "Country": "United States",
          "Market Cap": 15.9,
          "Profits": 0.98,
          "Revenue": 9.7
         },
         {
          "Assets": 28.7,
          "Company": "Grupo Inbursa",
          "Country": "Other",
          "Market Cap": 10.4,
          "Profits": 0.979,
          "Revenue": 4.5
         },
         {
          "Assets": 8.7,
          "Company": "Zoetis",
          "Country": "United States",
          "Market Cap": 40.9,
          "Profits": 0.978,
          "Revenue": 5.4
         },
         {
          "Assets": 6.1,
          "Company": "Berkeley Group Holdings",
          "Country": "United Kingdom",
          "Market Cap": 7.6,
          "Profits": 0.978,
          "Revenue": 3.7
         },
         {
          "Assets": 13.7,
          "Company": "Vestas Wind Systems",
          "Country": "Other",
          "Market Cap": 13.6,
          "Profits": 0.977,
          "Revenue": 11.4
         },
         {
          "Assets": 18.6,
          "Company": "Essity Ab",
          "Country": "Other",
          "Market Cap": 18.7,
          "Profits": 0.973,
          "Revenue": 13.4
         },
         {
          "Assets": 10.1,
          "Company": "GPT Group",
          "Country": "Other",
          "Market Cap": 6.6,
          "Profits": 0.973,
          "Revenue": 0.543
         },
         {
          "Assets": 28.6,
          "Company": "Publicis Groupe",
          "Country": "Other",
          "Market Cap": 16.8,
          "Profits": 0.972,
          "Revenue": 10.9
         },
         {
          "Assets": 8.9,
          "Company": "Petronas Chemicals",
          "Country": "Other",
          "Market Cap": 17.1,
          "Profits": 0.972,
          "Revenue": 4
         },
         {
          "Assets": 15.6,
          "Company": "Mitsubishi Motors",
          "Country": "Japan",
          "Market Cap": 11.7,
          "Profits": 0.971,
          "Revenue": 19.8
         },
         {
          "Assets": 17.8,
          "Company": "Isuzu Motors",
          "Country": "Japan",
          "Market Cap": 12,
          "Profits": 0.97,
          "Revenue": 18.4
         },
         {
          "Assets": 25.4,
          "Company": "Barrick Gold",
          "Country": "Other",
          "Market Cap": 15.7,
          "Profits": 0.97,
          "Revenue": 8.2
         },
         {
          "Assets": 24.1,
          "Company": "NXP Semiconductors",
          "Country": "Other",
          "Market Cap": 34,
          "Profits": 0.968,
          "Revenue": 9.3
         },
         {
          "Assets": 25.8,
          "Company": "Solvay",
          "Country": "Other",
          "Market Cap": 14.3,
          "Profits": 0.967,
          "Revenue": 13.2
         },
         {
          "Assets": 170,
          "Company": "Ally Financial",
          "Country": "United States",
          "Market Cap": 11.5,
          "Profits": 0.965,
          "Revenue": 10.1
         },
         {
          "Assets": 51.8,
          "Company": "Kotak Mahindra Bank",
          "Country": "Other",
          "Market Cap": 35.8,
          "Profits": 0.962,
          "Revenue": 6
         },
         {
          "Assets": 7.8,
          "Company": "Inner Mongolia Yili",
          "Country": "China",
          "Market Cap": 24.8,
          "Profits": 0.961,
          "Revenue": 10.8
         },
         {
          "Assets": 20.3,
          "Company": "Sino Land",
          "Country": "Other",
          "Market Cap": 5.9,
          "Profits": 0.961,
          "Revenue": 1.5
         },
         {
          "Assets": 9.1,
          "Company": "Kansas City Southern",
          "Country": "United States",
          "Market Cap": 11.3,
          "Profits": 0.96,
          "Revenue": 2.7
         },
         {
          "Assets": 3.6,
          "Company": "Fraser & Neave",
          "Country": "Other",
          "Market Cap": 2.3,
          "Profits": 0.954,
          "Revenue": 1.4
         },
         {
          "Assets": 3.8,
          "Company": "KBC Ancora",
          "Country": "Other",
          "Market Cap": 4.6,
          "Profits": 0.953,
          "Revenue": 0.245
         },
         {
          "Assets": 67,
          "Company": "Metallurgical Corp of China",
          "Country": "China",
          "Market Cap": 11.4,
          "Profits": 0.952,
          "Revenue": 38.2
         },
         {
          "Assets": 17.2,
          "Company": "Logan Property Holdings",
          "Country": "China",
          "Market Cap": 8.2,
          "Profits": 0.951,
          "Revenue": 4.2
         },
         {
          "Assets": 4.9,
          "Company": "Intuit",
          "Country": "United States",
          "Market Cap": 49.7,
          "Profits": 0.95,
          "Revenue": 5.4
         },
         {
          "Assets": 8.1,
          "Company": "CNX Resources",
          "Country": "United States",
          "Market Cap": 3.4,
          "Profits": 0.947,
          "Revenue": 1.8
         },
         {
          "Assets": 49.1,
          "Company": "Banque Saudi Fransi",
          "Country": "Other",
          "Market Cap": 10.3,
          "Profits": 0.944,
          "Revenue": 2.2
         },
         {
          "Assets": 32.4,
          "Company": "Rural Electrification",
          "Country": "Other",
          "Market Cap": 3.5,
          "Profits": 0.942,
          "Revenue": 3.6
         },
         {
          "Assets": 31.6,
          "Company": "Dentsu",
          "Country": "Japan",
          "Market Cap": 13.4,
          "Profits": 0.941,
          "Revenue": 8.3
         },
         {
          "Assets": 15.3,
          "Company": "S-Oil",
          "Country": "South Korea",
          "Market Cap": 11.5,
          "Profits": 0.938,
          "Revenue": 19
         },
         {
          "Assets": 13.9,
          "Company": "Innolux",
          "Country": "Other",
          "Market Cap": 3.9,
          "Profits": 0.937,
          "Revenue": 10.3
         },
         {
          "Assets": 114.4,
          "Company": "New China Life Insurance",
          "Country": "China",
          "Market Cap": 20.4,
          "Profits": 0.937,
          "Revenue": 22.1
         },
         {
          "Assets": 10.8,
          "Company": "Alaska Air Group",
          "Country": "United States",
          "Market Cap": 7.5,
          "Profits": 0.933,
          "Revenue": 8
         },
         {
          "Assets": 14.6,
          "Company": "Angang Steel",
          "Country": "China",
          "Market Cap": 7.4,
          "Profits": 0.93,
          "Revenue": 12.9
         },
         {
          "Assets": 61.1,
          "Company": "Rakuten",
          "Country": "Japan",
          "Market Cap": 9.6,
          "Profits": 0.929,
          "Revenue": 8.8
         },
         {
          "Assets": 10.1,
          "Company": "STMicroelectronics",
          "Country": "Other",
          "Market Cap": 21.2,
          "Profits": 0.928,
          "Revenue": 8.7
         },
         {
          "Assets": 18.4,
          "Company": "Cummins",
          "Country": "United States",
          "Market Cap": 24.1,
          "Profits": 0.928,
          "Revenue": 21.4
         },
         {
          "Assets": 28,
          "Company": "Thales",
          "Country": "Other",
          "Market Cap": 28,
          "Profits": 0.927,
          "Revenue": 17.8
         },
         {
          "Assets": 10.1,
          "Company": "FMC",
          "Country": "United States",
          "Market Cap": 12,
          "Profits": 0.927,
          "Revenue": 3.5
         },
         {
          "Assets": 19.3,
          "Company": "Capgemini",
          "Country": "Other",
          "Market Cap": 23.3,
          "Profits": 0.925,
          "Revenue": 14.4
         },
         {
          "Assets": 10.9,
          "Company": "Inter Rao",
          "Country": "Other",
          "Market Cap": 6.7,
          "Profits": 0.923,
          "Revenue": 15.7
         },
         {
          "Assets": 1.2,
          "Company": "Chaparral Energy",
          "Country": "United States",
          "Market Cap": 0.988,
          "Profits": 0.923,
          "Revenue": 0.294
         },
         {
          "Assets": 13.2,
          "Company": "Yamaha Motor",
          "Country": "Japan",
          "Market Cap": 10.9,
          "Profits": 0.923,
          "Revenue": 15.2
         },
         {
          "Assets": 2.5,
          "Company": "Focus Media Information Technology",
          "Country": "China",
          "Market Cap": 22.2,
          "Profits": 0.921,
          "Revenue": 1.8
         },
         {
          "Assets": 17,
          "Company": "Chongqing Changan Auto",
          "Country": "China",
          "Market Cap": 7.2,
          "Profits": 0.921,
          "Revenue": 12
         },
         {
          "Assets": 33.1,
          "Company": "Bristol-Myers Squibb",
          "Country": "United States",
          "Market Cap": 84.8,
          "Profits": 0.919,
          "Revenue": 21
         },
         {
          "Assets": 32.7,
          "Company": "Abitare In Spa",
          "Country": "Other",
          "Market Cap": 0.069,
          "Profits": 0.919,
          "Revenue": 21.5
         },
         {
          "Assets": 14.5,
          "Company": "Stora Enso",
          "Country": "Other",
          "Market Cap": 16.3,
          "Profits": 0.917,
          "Revenue": 11.8
         },
         {
          "Assets": 7.9,
          "Company": "Hormel Foods",
          "Country": "United States",
          "Market Cap": 19.2,
          "Profits": 0.915,
          "Revenue": 9.2
         },
         {
          "Assets": 86.6,
          "Company": "Mediobanca",
          "Country": "Other",
          "Market Cap": 10.3,
          "Profits": 0.912,
          "Revenue": 2.6
         },
         {
          "Assets": 18.3,
          "Company": "Rockwell Collins",
          "Country": "United States",
          "Market Cap": 22.1,
          "Profits": 0.909,
          "Revenue": 8.5
         },
         {
          "Assets": 38.4,
          "Company": "AmerisourceBergen",
          "Country": "United States",
          "Market Cap": 19.1,
          "Profits": 0.905,
          "Revenue": 159.3
         },
         {
          "Assets": 12.4,
          "Company": "Ternium",
          "Country": "Other",
          "Market Cap": 7.8,
          "Profits": 0.905,
          "Revenue": 9.7
         },
         {
          "Assets": 38.3,
          "Company": "Grupo ACS",
          "Country": "Other",
          "Market Cap": 13.6,
          "Profits": 0.905,
          "Revenue": 39.4
         },
         {
          "Assets": 7.7,
          "Company": "Southwestern Energy",
          "Country": "United States",
          "Market Cap": 2.5,
          "Profits": 0.903,
          "Revenue": 3.3
         },
         {
          "Assets": 14.8,
          "Company": "Stockland Australia",
          "Country": "Other",
          "Market Cap": 7.7,
          "Profits": 0.902,
          "Revenue": 2.2
         },
         {
          "Assets": 6.8,
          "Company": "Paychex",
          "Country": "United States",
          "Market Cap": 22.8,
          "Profits": 0.901,
          "Revenue": 3.3
         },
         {
          "Assets": 261.5,
          "Company": "Standard Life",
          "Country": "United Kingdom",
          "Market Cap": 14.8,
          "Profits": 0.9,
          "Revenue": 21.3
         },
         {
          "Assets": 27.9,
          "Company": "Lennar",
          "Country": "United States",
          "Market Cap": 17.7,
          "Profits": 0.9,
          "Revenue": 13.3
         },
         {
          "Assets": 25.1,
          "Company": "Agile Property Holdings",
          "Country": "China",
          "Market Cap": 7.9,
          "Profits": 0.899,
          "Revenue": 7.7
         },
         {
          "Assets": 6.1,
          "Company": "Hoya",
          "Country": "Japan",
          "Market Cap": 21.6,
          "Profits": 0.898,
          "Revenue": 4.8
         },
         {
          "Assets": 7.5,
          "Company": "Chemours",
          "Country": "United States",
          "Market Cap": 9,
          "Profits": 0.893,
          "Revenue": 6.5
         },
         {
          "Assets": 663.5,
          "Company": "Standard Chartered",
          "Country": "United Kingdom",
          "Market Cap": 34.4,
          "Profits": 0.893,
          "Revenue": 21
         },
         {
          "Assets": 31.4,
          "Company": "RiseSun Real Estate Development",
          "Country": "China",
          "Market Cap": 7.2,
          "Profits": 0.891,
          "Revenue": 5.9
         },
         {
          "Assets": 10.5,
          "Company": "Conagra Brands",
          "Country": "United States",
          "Market Cap": 14.9,
          "Profits": 0.89,
          "Revenue": 7.8
         },
         {
          "Assets": 14.8,
          "Company": "Essilor International",
          "Country": "Other",
          "Market Cap": 29.8,
          "Profits": 0.89,
          "Revenue": 8.4
         },
         {
          "Assets": 19.4,
          "Company": "Obayashi",
          "Country": "Japan",
          "Market Cap": 8.2,
          "Profits": 0.889,
          "Revenue": 17
         },
         {
          "Assets": 8.7,
          "Company": "Advanced Info Service",
          "Country": "Other",
          "Market Cap": 18.4,
          "Profits": 0.886,
          "Revenue": 4.6
         },
         {
          "Assets": 68.3,
          "Company": "Bancolombia",
          "Country": "Other",
          "Market Cap": 11.5,
          "Profits": 0.886,
          "Revenue": 7.4
         },
         {
          "Assets": 21.9,
          "Company": "Beijing Enterprises",
          "Country": "Other",
          "Market Cap": 6.6,
          "Profits": 0.883,
          "Revenue": 7.4
         },
         {
          "Assets": 129.9,
          "Company": "Bank Leumi",
          "Country": "Other",
          "Market Cap": 9.3,
          "Profits": 0.882,
          "Revenue": 4.8
         },
         {
          "Assets": 4.2,
          "Company": "Rentokil Initial",
          "Country": "United Kingdom",
          "Market Cap": 8,
          "Profits": 0.879,
          "Revenue": 3.1
         },
         {
          "Assets": 6.6,
          "Company": "Electricity Generating",
          "Country": "Other",
          "Market Cap": 3.8,
          "Profits": 0.878,
          "Revenue": 0.972
         },
         {
          "Assets": 203,
          "Company": "MS&AD Insurance",
          "Country": "Japan",
          "Market Cap": 20.3,
          "Profits": 0.878,
          "Revenue": 47.2
         },
         {
          "Assets": 51.4,
          "Company": "Mitsubishi Estate",
          "Country": "Japan",
          "Market Cap": 25.7,
          "Profits": 0.876,
          "Revenue": 9.7
         },
         {
          "Assets": 2.8,
          "Company": "Pandora",
          "Country": "Other",
          "Market Cap": 11.9,
          "Profits": 0.875,
          "Revenue": 3.5
         },
         {
          "Assets": 4.7,
          "Company": "Skyworks Solutions",
          "Country": "United States",
          "Market Cap": 17.7,
          "Profits": 0.874,
          "Revenue": 3.9
         },
         {
          "Assets": 9,
          "Company": "Uralkali",
          "Country": "Other",
          "Market Cap": 5,
          "Profits": 0.874,
          "Revenue": 2.8
         },
         {
          "Assets": 7.5,
          "Company": "Fabege AB",
          "Country": "Other",
          "Market Cap": 3.9,
          "Profits": 0.874,
          "Revenue": 0.281
         },
         {
          "Assets": 12.6,
          "Company": "Thai Beverage",
          "Country": "Other",
          "Market Cap": 15.2,
          "Profits": 0.874,
          "Revenue": 5.6
         },
         {
          "Assets": 7.3,
          "Company": "ON Semiconductor Corp.",
          "Country": "United States",
          "Market Cap": 10,
          "Profits": 0.872,
          "Revenue": 5.5
         },
         {
          "Assets": 12.5,
          "Company": "Adecco",
          "Country": "Other",
          "Market Cap": 11,
          "Profits": 0.869,
          "Revenue": 27.6
         },
         {
          "Assets": 11.6,
          "Company": "Shanxi Taigang Stainless",
          "Country": "China",
          "Market Cap": 5.4,
          "Profits": 0.869,
          "Revenue": 10.4
         },
         {
          "Assets": 257.1,
          "Company": "Bankia",
          "Country": "Other",
          "Market Cap": 13.7,
          "Profits": 0.866,
          "Revenue": 4
         },
         {
          "Assets": 24.4,
          "Company": "Toray Industries",
          "Country": "Japan",
          "Market Cap": 13.7,
          "Profits": 0.865,
          "Revenue": 19.9
         },
         {
          "Assets": 16.4,
          "Company": "Guoco Group",
          "Country": "Other",
          "Market Cap": 4.4,
          "Profits": 0.864,
          "Revenue": 3.9
         },
         {
          "Assets": 7.2,
          "Company": "Boliden",
          "Country": "Other",
          "Market Cap": 10.3,
          "Profits": 0.863,
          "Revenue": 6
         },
         {
          "Assets": 19.1,
          "Company": "Sodexo",
          "Country": "Other",
          "Market Cap": 14.8,
          "Profits": 0.862,
          "Revenue": 23.5
         },
         {
          "Assets": 13.3,
          "Company": "Kohl's",
          "Country": "United States",
          "Market Cap": 10.1,
          "Profits": 0.859,
          "Revenue": 19.1
         },
         {
          "Assets": 4.7,
          "Company": "Monster Beverage",
          "Country": "United States",
          "Market Cap": 27.7,
          "Profits": 0.859,
          "Revenue": 3.5
         },
         {
          "Assets": 69.9,
          "Company": "Samsung Fire & Marine",
          "Country": "South Korea",
          "Market Cap": 12,
          "Profits": 0.855,
          "Revenue": 17.6
         },
         {
          "Assets": 3.9,
          "Company": "LARGAN Precision",
          "Country": "Other",
          "Market Cap": 18.4,
          "Profits": 0.854,
          "Revenue": 1.7
         },
         {
          "Assets": 6.5,
          "Company": "Cerner",
          "Country": "United States",
          "Market Cap": 20.2,
          "Profits": 0.854,
          "Revenue": 5.2
         },
         {
          "Assets": 10.5,
          "Company": "Hexagon",
          "Country": "Other",
          "Market Cap": 19.9,
          "Profits": 0.852,
          "Revenue": 4.1
         },
         {
          "Assets": 11.9,
          "Company": "UCB",
          "Country": "Other",
          "Market Cap": 14.2,
          "Profits": 0.849,
          "Revenue": 5.1
         },
         {
          "Assets": 8,
          "Company": "Gap",
          "Country": "United States",
          "Market Cap": 11.4,
          "Profits": 0.848,
          "Revenue": 15.9
         },
         {
          "Assets": 95.1,
          "Company": "Guangzhou Rural Commercial Bank",
          "Country": "China",
          "Market Cap": 6.6,
          "Profits": 0.846,
          "Revenue": 4.6
         },
         {
          "Assets": 119.2,
          "Company": "Mega Financial Holding",
          "Country": "Other",
          "Market Cap": 12.1,
          "Profits": 0.846,
          "Revenue": 2.8
         },
         {
          "Assets": 7,
          "Company": "Steel Dynamics",
          "Country": "United States",
          "Market Cap": 11.4,
          "Profits": 0.84,
          "Revenue": 9.8
         },
         {
          "Assets": 8.9,
          "Company": "Schindler Holding",
          "Country": "Other",
          "Market Cap": 23,
          "Profits": 0.837,
          "Revenue": 10.3
         },
         {
          "Assets": 9,
          "Company": "Seagate Technology",
          "Country": "Other",
          "Market Cap": 16.3,
          "Profits": 0.835,
          "Revenue": 10.8
         },
         {
          "Assets": 10.7,
          "Company": "Huntsman",
          "Country": "United States",
          "Market Cap": 7.6,
          "Profits": 0.834,
          "Revenue": 9.3
         },
         {
          "Assets": 36.2,
          "Company": "China Eastern Airlines",
          "Country": "China",
          "Market Cap": 15.5,
          "Profits": 0.834,
          "Revenue": 15.7
         },
         {
          "Assets": 9.6,
          "Company": "RTL Group",
          "Country": "Other",
          "Market Cap": 13,
          "Profits": 0.834,
          "Revenue": 7.2
         },
         {
          "Assets": 13,
          "Company": "Fastighets Balder",
          "Country": "Other",
          "Market Cap": 4.9,
          "Profits": 0.833,
          "Revenue": 0.694
         },
         {
          "Assets": 16.9,
          "Company": "Baxter International",
          "Country": "United States",
          "Market Cap": 37.8,
          "Profits": 0.832,
          "Revenue": 10.8
         },
         {
          "Assets": 46.2,
          "Company": "China Merchants Securities",
          "Country": "China",
          "Market Cap": 16.8,
          "Profits": 0.83,
          "Revenue": 1.7
         },
         {
          "Assets": 9.6,
          "Company": "Renesas Electronics",
          "Country": "Japan",
          "Market Cap": 16.7,
          "Profits": 0.827,
          "Revenue": 7.1
         },
         {
          "Assets": 16,
          "Company": "Sumitomo Metal Mining",
          "Country": "Japan",
          "Market Cap": 11.7,
          "Profits": 0.827,
          "Revenue": 8.4
         },
         {
          "Assets": 9.6,
          "Company": "Terumo",
          "Country": "Japan",
          "Market Cap": 20.1,
          "Profits": 0.824,
          "Revenue": 5.3
         },
         {
          "Assets": 38.1,
          "Company": "Fortis (Canada)",
          "Country": "Other",
          "Market Cap": 13.9,
          "Profits": 0.824,
          "Revenue": 6.4
         },
         {
          "Assets": 85.4,
          "Company": "PKO Bank Polski",
          "Country": "Other",
          "Market Cap": 14.9,
          "Profits": 0.822,
          "Revenue": 4.2
         },
         {
          "Assets": 7.6,
          "Company": "Experian",
          "Country": "Other",
          "Market Cap": 21.6,
          "Profits": 0.821,
          "Revenue": 4.3
         },
         {
          "Assets": 2.5,
          "Company": "Fangda Carbon New Material",
          "Country": "China",
          "Market Cap": 8.2,
          "Profits": 0.821,
          "Revenue": 1.7
         },
         {
          "Assets": 58.7,
          "Company": "Sanlam",
          "Country": "Other",
          "Market Cap": 13.4,
          "Profits": 0.821,
          "Revenue": 8.9
         },
         {
          "Assets": 7.2,
          "Company": "Sime Darby Plantation",
          "Country": "Other",
          "Market Cap": 9.4,
          "Profits": 0.818,
          "Revenue": 3.4
         },
         {
          "Assets": 72.3,
          "Company": "Comerica",
          "Country": "United States",
          "Market Cap": 16.8,
          "Profits": 0.817,
          "Revenue": 3.3
         },
         {
          "Assets": 9.6,
          "Company": "CGI Group",
          "Country": "Other",
          "Market Cap": 17.2,
          "Profits": 0.814,
          "Revenue": 8.7
         },
         {
          "Assets": 21.5,
          "Company": "Cincinnati Financial",
          "Country": "United States",
          "Market Cap": 11.8,
          "Profits": 0.813,
          "Revenue": 5.4
         },
         {
          "Assets": 9,
          "Company": "Barratt Developments",
          "Country": "United Kingdom",
          "Market Cap": 7.7,
          "Profits": 0.811,
          "Revenue": 6.2
         },
         {
          "Assets": 5.4,
          "Company": "Check Point Software",
          "Country": "Other",
          "Market Cap": 15.9,
          "Profits": 0.808,
          "Revenue": 1.9
         },
         {
          "Assets": 45.8,
          "Company": "Arab National Bank",
          "Country": "Other",
          "Market Cap": 8,
          "Profits": 0.807,
          "Revenue": 2.1
         },
         {
          "Assets": 5.4,
          "Company": "Clorox",
          "Country": "United States",
          "Market Cap": 15.6,
          "Profits": 0.807,
          "Revenue": 6.1
         },
         {
          "Assets": 12.1,
          "Company": "Hunan Valin Steel",
          "Country": "China",
          "Market Cap": 3.9,
          "Profits": 0.807,
          "Revenue": 11.8
         },
         {
          "Assets": 10.4,
          "Company": "McCormick",
          "Country": "United States",
          "Market Cap": 14,
          "Profits": 0.807,
          "Revenue": 5
         },
         {
          "Assets": 29.4,
          "Company": "Alliance Data Systems",
          "Country": "United States",
          "Market Cap": 11.5,
          "Profits": 0.806,
          "Revenue": 7.7
         },
         {
          "Assets": 30.3,
          "Company": "CEZ Group",
          "Country": "Other",
          "Market Cap": 14.1,
          "Profits": 0.803,
          "Revenue": 8.5
         },
         {
          "Assets": 12.9,
          "Company": "Industrivarden",
          "Country": "Other",
          "Market Cap": 10.2,
          "Profits": 0.803,
          "Revenue": 0.821
         },
         {
          "Assets": 11.3,
          "Company": "Legrand",
          "Country": "Other",
          "Market Cap": 21.1,
          "Profits": 0.802,
          "Revenue": 6.2
         },
         {
          "Assets": 8,
          "Company": "Tosoh",
          "Country": "Japan",
          "Market Cap": 6,
          "Profits": 0.801,
          "Revenue": 7.4
         },
         {
          "Assets": 14.5,
          "Company": "Norwegian Cruise Line Holdings",
          "Country": "United States",
          "Market Cap": 11.6,
          "Profits": 0.801,
          "Revenue": 5.5
         },
         {
          "Assets": 13.9,
          "Company": "Pgnig Group",
          "Country": "Other",
          "Market Cap": 10.3,
          "Profits": 0.8,
          "Revenue": 10.4
         },
         {
          "Assets": 18.3,
          "Company": "Dassault Aviation",
          "Country": "Other",
          "Market Cap": 16.8,
          "Profits": 0.8,
          "Revenue": 5.5
         },
         {
          "Assets": 78.7,
          "Company": "Mapfre",
          "Country": "Other",
          "Market Cap": 10.7,
          "Profits": 0.796,
          "Revenue": 24.9
         },
         {
          "Assets": 9,
          "Company": "Fidelity National Financial",
          "Country": "United States",
          "Market Cap": 10.5,
          "Profits": 0.796,
          "Revenue": 8.8
         },
         {
          "Assets": 17.5,
          "Company": "British Land",
          "Country": "United Kingdom",
          "Market Cap": 9.2,
          "Profits": 0.794,
          "Revenue": 0.79
         },
         {
          "Assets": 23,
          "Company": "Insurance Australia Group",
          "Country": "Other",
          "Market Cap": 14.7,
          "Profits": 0.793,
          "Revenue": 7.1
         },
         {
          "Assets": 7.9,
          "Company": "Daito Trust Construction",
          "Country": "Japan",
          "Market Cap": 12.8,
          "Profits": 0.792,
          "Revenue": 14
         },
         {
          "Assets": 11.7,
          "Company": "FleetCor Technologies",
          "Country": "United States",
          "Market Cap": 18.2,
          "Profits": 0.791,
          "Revenue": 2.3
         },
         {
          "Assets": 4.7,
          "Company": "AAC Technologies Holdings",
          "Country": "China",
          "Market Cap": 18.9,
          "Profits": 0.791,
          "Revenue": 3.1
         },
         {
          "Assets": 12.7,
          "Company": "Ares Capital",
          "Country": "United States",
          "Market Cap": 7.1,
          "Profits": 0.791,
          "Revenue": 1.2
         },
         {
          "Assets": 11.9,
          "Company": "Sabesp",
          "Country": "Other",
          "Market Cap": 5.5,
          "Profits": 0.789,
          "Revenue": 4.6
         },
         {
          "Assets": 17.4,
          "Company": "Great Wall Motor",
          "Country": "China",
          "Market Cap": 13.9,
          "Profits": 0.789,
          "Revenue": 15.2
         },
         {
          "Assets": 8.8,
          "Company": "Nitto Denko",
          "Country": "Japan",
          "Market Cap": 12.3,
          "Profits": 0.788,
          "Revenue": 7.7
         },
         {
          "Assets": 23.4,
          "Company": "Falabella",
          "Country": "Other",
          "Market Cap": 23.6,
          "Profits": 0.785,
          "Revenue": 13.8
         },
         {
          "Assets": 13.4,
          "Company": "Grifols",
          "Country": "Other",
          "Market Cap": 18.7,
          "Profits": 0.785,
          "Revenue": 5
         },
         {
          "Assets": 16.2,
          "Company": "Secom",
          "Country": "Japan",
          "Market Cap": 16.5,
          "Profits": 0.785,
          "Revenue": 8.8
         },
         {
          "Assets": 20.1,
          "Company": "Pembina Pipeline",
          "Country": "Other",
          "Market Cap": 17.4,
          "Profits": 0.784,
          "Revenue": 4.5
         },
         {
          "Assets": 9.1,
          "Company": "CPI Property Group.",
          "Country": "Other",
          "Market Cap": 7.2,
          "Profits": 0.783,
          "Revenue": 0.542
         },
         {
          "Assets": 11.7,
          "Company": "Ryder System",
          "Country": "United States",
          "Market Cap": 3.6,
          "Profits": 0.783,
          "Revenue": 7.5
         },
         {
          "Assets": 103.8,
          "Company": "Genworth Financial",
          "Country": "United States",
          "Market Cap": 1.5,
          "Profits": 0.783,
          "Revenue": 8.2
         },
         {
          "Assets": 15.8,
          "Company": "Lundbergs",
          "Country": "Other",
          "Market Cap": 8.7,
          "Profits": 0.782,
          "Revenue": 2.4
         },
         {
          "Assets": 10.7,
          "Company": "Quest Diagnostics",
          "Country": "United States",
          "Market Cap": 13.9,
          "Profits": 0.782,
          "Revenue": 7.7
         },
         {
          "Assets": 15.9,
          "Company": "Air Lease Corporation",
          "Country": "United States",
          "Market Cap": 4.6,
          "Profits": 0.782,
          "Revenue": 1.5
         },
         {
          "Assets": 44.3,
          "Company": "Kyushu Electric Power",
          "Country": "Japan",
          "Market Cap": 5.6,
          "Profits": 0.782,
          "Revenue": 17.7
         },
         {
          "Assets": 52.8,
          "Company": "China Energy Engineering",
          "Country": "China",
          "Market Cap": 4.7,
          "Profits": 0.781,
          "Revenue": 34.8
         },
         {
          "Assets": 26,
          "Company": "Sinopharm Group",
          "Country": "China",
          "Market Cap": 11.7,
          "Profits": 0.781,
          "Revenue": 41.1
         },
         {
          "Assets": 7.4,
          "Company": "Catcher Technology",
          "Country": "Other",
          "Market Cap": 9,
          "Profits": 0.781,
          "Revenue": 3.3
         },
         {
          "Assets": 18.6,
          "Company": "AvalonBay Communities",
          "Country": "United States",
          "Market Cap": 23,
          "Profits": 0.781,
          "Revenue": 2.2
         },
         {
          "Assets": 18.4,
          "Company": "Voestalpine",
          "Country": "Other",
          "Market Cap": 9.9,
          "Profits": 0.781,
          "Revenue": 14.3
         },
         {
          "Assets": 90.2,
          "Company": "First Republic Bank",
          "Country": "United States",
          "Market Cap": 15.8,
          "Profits": 0.78,
          "Revenue": 3.1
         },
         {
          "Assets": 153,
          "Company": "UBI Banca",
          "Country": "Other",
          "Market Cap": 5.8,
          "Profits": 0.779,
          "Revenue": 5.3
         },
         {
          "Assets": 15.6,
          "Company": "TUI",
          "Country": "Other",
          "Market Cap": 14,
          "Profits": 0.777,
          "Revenue": 21.3
         },
         {
          "Assets": 243.4,
          "Company": "Poste Italiane",
          "Country": "Other",
          "Market Cap": 12.7,
          "Profits": 0.777,
          "Revenue": 37.7
         },
         {
          "Assets": 86.6,
          "Company": "Harbin Bank",
          "Country": "China",
          "Market Cap": 3,
          "Profits": 0.777,
          "Revenue": 4.4
         },
         {
          "Assets": 20.4,
          "Company": "Terna",
          "Country": "Other",
          "Market Cap": 11.7,
          "Profits": 0.776,
          "Revenue": 2.5
         },
         {
          "Assets": 36.5,
          "Company": "China Reinsurance Group",
          "Country": "China",
          "Market Cap": 9.4,
          "Profits": 0.776,
          "Revenue": 15.8
         },
         {
          "Assets": 20.9,
          "Company": "Analog Devices",
          "Country": "United States",
          "Market Cap": 34.2,
          "Profits": 0.775,
          "Revenue": 5.6
         },
         {
          "Assets": 16.9,
          "Company": "China Merchants Holdings",
          "Country": "Other",
          "Market Cap": 7.5,
          "Profits": 0.774,
          "Revenue": 1.1
         },
         {
          "Assets": 91,
          "Company": "Grupa PZU",
          "Country": "Other",
          "Market Cap": 9.7,
          "Profits": 0.771,
          "Revenue": 8.7
         },
         {
          "Assets": 10.5,
          "Company": "Dover",
          "Country": "United States",
          "Market Cap": 11.9,
          "Profits": 0.771,
          "Revenue": 7.9
         },
         {
          "Assets": 12.6,
          "Company": "Inmobiliaria Colonial,",
          "Country": "Other",
          "Market Cap": 5.2,
          "Profits": 0.77,
          "Revenue": 0.326
         },
         {
          "Assets": 5.9,
          "Company": "Church & Dwight",
          "Country": "United States",
          "Market Cap": 11.6,
          "Profits": 0.77,
          "Revenue": 3.9
         },
         {
          "Assets": 11,
          "Company": "Universal Health",
          "Country": "United States",
          "Market Cap": 11.2,
          "Profits": 0.77,
          "Revenue": 10.5
         },
         {
          "Assets": 3.6,
          "Company": "Next",
          "Country": "United Kingdom",
          "Market Cap": 10.6,
          "Profits": 0.769,
          "Revenue": 5.3
         },
         {
          "Assets": 3.7,
          "Company": "Konka Group",
          "Country": "China",
          "Market Cap": 1.8,
          "Profits": 0.769,
          "Revenue": 5.2
         },
         {
          "Assets": 6.4,
          "Company": "Intuitive Surgical",
          "Country": "United States",
          "Market Cap": 53.1,
          "Profits": 0.768,
          "Revenue": 3.3
         },
         {
          "Assets": 16.9,
          "Company": "Shimizu",
          "Country": "Japan",
          "Market Cap": 7.9,
          "Profits": 0.767,
          "Revenue": 13.7
         },
         {
          "Assets": 22.4,
          "Company": "Coca-Cola European Partners",
          "Country": "United Kingdom",
          "Market Cap": 18.8,
          "Profits": 0.766,
          "Revenue": 12.9
         },
         {
          "Assets": 22.1,
          "Company": "ZTE",
          "Country": "China",
          "Market Cap": 19.5,
          "Profits": 0.765,
          "Revenue": 16.8
         },
         {
          "Assets": 7.9,
          "Company": "Smith & Nephew",
          "Country": "United Kingdom",
          "Market Cap": 15.4,
          "Profits": 0.764,
          "Revenue": 4.8
         },
         {
          "Assets": 3,
          "Company": "Partners Group Holding",
          "Country": "Other",
          "Market Cap": 19.9,
          "Profits": 0.764,
          "Revenue": 1.4
         },
         {
          "Assets": 11.1,
          "Company": "Wyndham Worldwide",
          "Country": "United States",
          "Market Cap": 11.1,
          "Profits": 0.764,
          "Revenue": 5.5
         },
         {
          "Assets": 24.3,
          "Company": "China Hongqiao Group",
          "Country": "China",
          "Market Cap": 9.7,
          "Profits": 0.764,
          "Revenue": 13.8
         }
        ]
       },
       "encoding": {
        "color": {
         "field": "Country",
         "type": "nominal"
        },
        "opacity": {
         "value": 0.7
        },
        "size": {
         "field": "Market Cap",
         "legend": {
          "format": "$f",
          "title": "Market Cap (B)"
         },
         "scale": {
          "domain": [
           0,
           400
          ]
         },
         "type": "quantitative"
        },
        "x": {
         "axis": {
          "format": "$f",
          "title": "Revenue (B)"
         },
         "field": "Revenue",
         "scale": {
          "domain": [
           0,
           520
          ],
          "nice": 40
         },
         "type": "quantitative"
        },
        "y": {
         "axis": {
          "format": "$",
          "title": "Profits (B)"
         },
         "field": "Profits",
         "type": "quantitative"
        }
       },
       "height": 500,
       "mark": "circle",
       "title": "Profit vs Revenue for Top 1000 Global Companies Scaled by Market Cap",
       "width": 800
      },
      "image/png": "[encoded data removed]",
      "text/plain": [
       "<VegaLite 2 object>\n",
       "\n",
       "If you see this message, it means the renderer has not been properly enabled\n",
       "for the frontend that you are using. For more information, see\n",
       "https://altair-viz.github.io/user_guide/troubleshooting.html\n"
      ]
     },
     "execution_count": 9,
     "metadata": {},
     "output_type": "execute_result"
    }
   ],
   "source": [
    "top = 1000\n",
    "df_top = df[:top]\n",
    "\n",
    "alt.Chart(df_top).mark_circle().encode(\n",
    "    alt.X('Revenue', axis=alt.Axis(format='$f', title='Revenue (B)'), scale=alt.Scale(domain=[0, 520], nice=40)),\n",
    "    alt.Y('Profits', axis=alt.Axis(format='$', title='Profits (B)')),\n",
    "    color='Country',\n",
    "    size=alt.Size('Market Cap', legend=alt.Legend(format='$f', title='Market Cap (B)'), scale=alt.Scale(domain=[0, 400])),\n",
    "    opacity=alt.value(0.7),\n",
    ").properties(\n",
    "    title='Profit vs Revenue for Top {} Global Companies Scaled by Market Cap'.format(top),\n",
    "    width=800,\n",
    "    height=500,\n",
    ").configure(\n",
    "    title={'fontSize': 16},\n",
    "    axis={'labelFontSize': 12, 'titleFontSize': 14},\n",
    "    legend={'titleFontSize': 14, 'labelFontSize': 12},\n",
    ")"
   ]
  },
  {
   "cell_type": "markdown",
   "metadata": {},
   "source": [
    "# Interactive Visualisation"
   ]
  },
  {
   "cell_type": "code",
   "execution_count": 10,
   "metadata": {},
   "outputs": [
    {
     "data": {
      "application/vnd.vegalite.v2+json": {
       "$schema": "https://vega.github.io/schema/vega-lite/v2.6.0.json",
       "config": {
        "axis": {
         "labelFontSize": 12,
         "titleFontSize": 14
        },
        "legend": {
         "labelFontSize": 12,
         "titleFontSize": 14
        },
        "title": {
         "fontSize": 16
        },
        "view": {
         "height": 300,
         "width": 400
        }
       },
       "data": {
        "name": "data-425dcdc61495eee1b7f1ac4115606244"
       },
       "datasets": {
        "data-425dcdc61495eee1b7f1ac4115606244": [
         {
          "Assets": 367.5,
          "Company": "Apple",
          "Country": "United States",
          "Market Cap": 926.9,
          "Profits": 53.3,
          "Revenue": 247.5
         },
         {
          "Assets": 190.8,
          "Company": "British American Tobacco",
          "Country": "United Kingdom",
          "Market Cap": 120,
          "Profits": 48.3,
          "Revenue": 26.1
         },
         {
          "Assets": 4210.9,
          "Company": "ICBC",
          "Country": "China",
          "Market Cap": 311,
          "Profits": 43.7,
          "Revenue": 165.3
         },
         {
          "Assets": 293.2,
          "Company": "Samsung Electronics",
          "Country": "South Korea",
          "Market Cap": 325.9,
          "Profits": 41,
          "Revenue": 224.6
         },
         {
          "Assets": 702.7,
          "Company": "Berkshire Hathaway",
          "Country": "United States",
          "Market Cap": 491.9,
          "Profits": 39.7,
          "Revenue": 235.2
         },
         {
          "Assets": 3631.6,
          "Company": "China Construction Bank",
          "Country": "China",
          "Market Cap": 261.2,
          "Profits": 37.2,
          "Revenue": 143.2
         },
         {
          "Assets": 264.5,
          "Company": "Verizon Communications",
          "Country": "United States",
          "Market Cap": 200.9,
          "Profits": 31.2,
          "Revenue": 128
         },
         {
          "Assets": 446.3,
          "Company": "AT&T",
          "Country": "United States",
          "Market Cap": 198.3,
          "Profits": 30.6,
          "Revenue": 159.2
         },
         {
          "Assets": 3439.3,
          "Company": "Agricultural Bank of China",
          "Country": "China",
          "Market Cap": 184.1,
          "Profits": 29.6,
          "Revenue": 129.3
         },
         {
          "Assets": 2609.8,
          "Company": "JPMorgan Chase",
          "Country": "United States",
          "Market Cap": 387.7,
          "Profits": 26.5,
          "Revenue": 118.2
         },
         {
          "Assets": 3204.2,
          "Company": "Bank of China",
          "Country": "China",
          "Market Cap": 158.6,
          "Profits": 26.4,
          "Revenue": 118.2
         },
         {
          "Assets": 190.9,
          "Company": "Comcast",
          "Country": "United States",
          "Market Cap": 146.8,
          "Profits": 23.3,
          "Revenue": 86.9
         },
         {
          "Assets": 473,
          "Company": "Toyota Motor",
          "Country": "Japan",
          "Market Cap": 200.7,
          "Profits": 22.5,
          "Revenue": 265.2
         },
         {
          "Assets": 164.6,
          "Company": "Pfizer",
          "Country": "United States",
          "Market Cap": 207.7,
          "Profits": 21.7,
          "Revenue": 52.7
         },
         {
          "Assets": 1915.4,
          "Company": "Wells Fargo",
          "Country": "United States",
          "Market Cap": 265.3,
          "Profits": 21.7,
          "Revenue": 102.1
         },
         {
          "Assets": 348.8,
          "Company": "ExxonMobil",
          "Country": "United States",
          "Market Cap": 344.1,
          "Profits": 20.4,
          "Revenue": 230.1
         },
         {
          "Assets": 2328.5,
          "Company": "Bank of America",
          "Country": "United States",
          "Market Cap": 313.5,
          "Profits": 20.3,
          "Revenue": 103
         },
         {
          "Assets": 88.9,
          "Company": "Facebook",
          "Country": "United States",
          "Market Cap": 541.5,
          "Profits": 17.8,
          "Revenue": 44.6
         },
         {
          "Assets": 233.7,
          "Company": "China Mobile",
          "Country": "Other",
          "Market Cap": 192.6,
          "Profits": 16.9,
          "Revenue": 109.5
         },
         {
          "Assets": 206.9,
          "Company": "Alphabet",
          "Country": "United States",
          "Market Cap": 766.4,
          "Profits": 16.6,
          "Revenue": 117.9
         },
         {
          "Assets": 410.7,
          "Company": "Royal Dutch Shell",
          "Country": "Other",
          "Market Cap": 306.5,
          "Profits": 15.2,
          "Revenue": 321.8
         },
         {
          "Assets": 245.5,
          "Company": "Microsoft",
          "Country": "United States",
          "Market Cap": 750.6,
          "Profits": 14.2,
          "Revenue": 103.3
         },
         {
          "Assets": 1066.4,
          "Company": "Ping An Insurance Group",
          "Country": "China",
          "Market Cap": 181.4,
          "Profits": 13.9,
          "Revenue": 141.6
         },
         {
          "Assets": 470.9,
          "Company": "Sberbank",
          "Country": "Other",
          "Market Cap": 86.3,
          "Profits": 13.4,
          "Revenue": 46.3
         },
         {
          "Assets": 531.4,
          "Company": "Volkswagen Group",
          "Country": "Other",
          "Market Cap": 101.4,
          "Profits": 13.1,
          "Revenue": 272
         },
         {
          "Assets": 316.8,
          "Company": "Gazprom",
          "Country": "Other",
          "Market Cap": 57.8,
          "Profits": 12.2,
          "Revenue": 112.2
         },
         {
          "Assets": 323.2,
          "Company": "Daimler",
          "Country": "Other",
          "Market Cap": 85.7,
          "Profits": 11.8,
          "Revenue": 193.2
         },
         {
          "Assets": 70.3,
          "Company": "Taiwan Semiconductor",
          "Country": "Other",
          "Market Cap": 203,
          "Profits": 11.5,
          "Revenue": 33.1
         },
         {
          "Assets": 97.9,
          "Company": "Walt Disney",
          "Country": "United States",
          "Market Cap": 152.1,
          "Profits": 11.5,
          "Revenue": 56.8
         },
         {
          "Assets": 155.6,
          "Company": "UnitedHealth Group",
          "Country": "United States",
          "Market Cap": 229,
          "Profits": 11.2,
          "Revenue": 207.6
         },
         {
          "Assets": 120.8,
          "Company": "Kraft Heinz Company",
          "Country": "United States",
          "Market Cap": 72.2,
          "Profits": 11.1,
          "Revenue": 26.2
         },
         {
          "Assets": 128.6,
          "Company": "Intel",
          "Country": "United States",
          "Market Cap": 254.8,
          "Profits": 11.1,
          "Revenue": 64
         },
         {
          "Assets": 993.7,
          "Company": "China Merchants Bank",
          "Country": "China",
          "Market Cap": 112.4,
          "Profits": 11,
          "Revenue": 49.9
         },
         {
          "Assets": 57.8,
          "Company": "Union Pacific",
          "Country": "United States",
          "Market Cap": 109.7,
          "Profits": 11,
          "Revenue": 21.6
         },
         {
          "Assets": 2652.1,
          "Company": "HSBC Holdings",
          "Country": "United Kingdom",
          "Market Cap": 200.3,
          "Profits": 10.8,
          "Revenue": 63.2
         },
         {
          "Assets": 1472.9,
          "Company": "Bank of Communications",
          "Country": "China",
          "Market Cap": 66.6,
          "Profits": 10.7,
          "Revenue": 59.1
         },
         {
          "Assets": 43.9,
          "Company": "Altria Group",
          "Country": "United States",
          "Market Cap": 104.5,
          "Profits": 10.7,
          "Revenue": 19.6
         },
         {
          "Assets": 46.1,
          "Company": "SK Hynix",
          "Country": "South Korea",
          "Market Cap": 56.8,
          "Profits": 10.7,
          "Revenue": 29.3
         },
         {
          "Assets": 85.2,
          "Company": "Tencent Holdings",
          "Country": "China",
          "Market Cap": 491.3,
          "Profits": 10.6,
          "Revenue": 35.3
         },
         {
          "Assets": 241.3,
          "Company": "BMW Group",
          "Country": "Other",
          "Market Cap": 72.3,
          "Profits": 10.2,
          "Revenue": 114.4
         },
         {
          "Assets": 256.4,
          "Company": "Chevron",
          "Country": "United States",
          "Market Cap": 248.1,
          "Profits": 10.2,
          "Revenue": 139.4
         },
         {
          "Assets": 124.4,
          "Company": "Procter & Gamble",
          "Country": "United States",
          "Market Cap": 184.5,
          "Profits": 10.1,
          "Revenue": 66.4
         },
         {
          "Assets": 41.3,
          "Company": "Micron Technology",
          "Country": "United States",
          "Market Cap": 60.1,
          "Profits": 10,
          "Revenue": 25.9
         },
         {
          "Assets": 146.2,
          "Company": "Charter Communications",
          "Country": "United States",
          "Market Cap": 64.8,
          "Profits": 9.9,
          "Revenue": 42.1
         },
         {
          "Assets": 204.5,
          "Company": "Walmart",
          "Country": "United States",
          "Market Cap": 246.2,
          "Profits": 9.9,
          "Revenue": 500.3
         },
         {
          "Assets": 114,
          "Company": "Alibaba",
          "Country": "China",
          "Market Cap": 499.4,
          "Profits": 9.6,
          "Revenue": 37.9
         },
         {
          "Assets": 181.9,
          "Company": "Honda Motor",
          "Country": "Japan",
          "Market Cap": 58.9,
          "Profits": 9.6,
          "Revenue": 138.6
         },
         {
          "Assets": 113.5,
          "Company": "Boeing",
          "Country": "United States",
          "Market Cap": 199.5,
          "Profits": 9.2,
          "Revenue": 95.8
         },
         {
          "Assets": 293.2,
          "Company": "Softbank",
          "Country": "Japan",
          "Market Cap": 84.9,
          "Profits": 9.2,
          "Revenue": 82.6
         },
         {
          "Assets": 69,
          "Company": "Visa",
          "Country": "United States",
          "Market Cap": 295.1,
          "Profits": 9,
          "Revenue": 19.4
         },
         {
          "Assets": 2774.2,
          "Company": "Mitsubishi UFJ Financial",
          "Country": "Japan",
          "Market Cap": 86.2,
          "Profits": 8.9,
          "Revenue": 51.8
         },
         {
          "Assets": 1040.3,
          "Company": "Royal Bank of Canada",
          "Country": "Other",
          "Market Cap": 113.4,
          "Profits": 8.8,
          "Revenue": 40.5
         },
         {
          "Assets": 78.7,
          "Company": "Roche Holding",
          "Country": "Other",
          "Market Cap": 189.7,
          "Profits": 8.8,
          "Revenue": 54.2
         },
         {
          "Assets": 1023.1,
          "Company": "Industrial Bank",
          "Country": "China",
          "Market Cap": 53.5,
          "Profits": 8.8,
          "Revenue": 48
         },
         {
          "Assets": 95.7,
          "Company": "Rio Tinto",
          "Country": "United Kingdom",
          "Market Cap": 99.3,
          "Profits": 8.7,
          "Revenue": 40
         },
         {
          "Assets": 44.5,
          "Company": "Home Depot",
          "Country": "United States",
          "Market Cap": 219.4,
          "Profits": 8.6,
          "Revenue": 100.9
         },
         {
          "Assets": 2353.9,
          "Company": "BNP Paribas",
          "Country": "Other",
          "Market Cap": 93.6,
          "Profits": 8.5,
          "Revenue": 117.8
         },
         {
          "Assets": 92.7,
          "Company": "Bayer",
          "Country": "Other",
          "Market Cap": 104.6,
          "Profits": 8.4,
          "Revenue": 44.4
         },
         {
          "Assets": 257,
          "Company": "Total",
          "Country": "Other",
          "Market Cap": 168,
          "Profits": 8.4,
          "Revenue": 155.8
         },
         {
          "Assets": 956.9,
          "Company": "Intesa Sanpaolo",
          "Country": "Other",
          "Market Cap": 63.1,
          "Profits": 8.3,
          "Revenue": 42.5
         },
         {
          "Assets": 94.3,
          "Company": "NextEra Energy",
          "Country": "United States",
          "Market Cap": 75.8,
          "Profits": 8.2,
          "Revenue": 16.4
         },
         {
          "Assets": 974.8,
          "Company": "Shanghai Pudong Development",
          "Country": "China",
          "Market Cap": 50.7,
          "Profits": 8.2,
          "Revenue": 48.3
         },
         {
          "Assets": 135.5,
          "Company": "Novartis",
          "Country": "Other",
          "Market Cap": 203,
          "Profits": 8.1,
          "Revenue": 50.3
         },
         {
          "Assets": 249.9,
          "Company": "Sinopec",
          "Country": "China",
          "Market Cap": 138.6,
          "Profits": 8,
          "Revenue": 326.6
         },
         {
          "Assets": 1769.1,
          "Company": "Banco Santander",
          "Country": "Other",
          "Market Cap": 106.3,
          "Profits": 8,
          "Revenue": 56.1
         },
         {
          "Assets": 1028.1,
          "Company": "TD Bank Group",
          "Country": "Other",
          "Market Cap": 107.8,
          "Profits": 7.9,
          "Revenue": 35.7
         },
         {
          "Assets": 248.6,
          "Company": "Anheuser-Busch InBev",
          "Country": "Other",
          "Market Cap": 184.3,
          "Profits": 7.9,
          "Revenue": 56.4
         },
         {
          "Assets": 54.5,
          "Company": "Broadcom",
          "Country": "United States",
          "Market Cap": 100,
          "Profits": 7.8,
          "Revenue": 18.8
         },
         {
          "Assets": 829.7,
          "Company": "Prudential Financial",
          "Country": "United States",
          "Market Cap": 42,
          "Profits": 7.8,
          "Revenue": 61.1
         },
         {
          "Assets": 267.2,
          "Company": "Ford Motor",
          "Country": "United States",
          "Market Cap": 44.6,
          "Profits": 7.8,
          "Revenue": 159.6
         },
         {
          "Assets": 191.1,
          "Company": "Nippon Telegraph & Tel",
          "Country": "Japan",
          "Market Cap": 96.1,
          "Profits": 7.7,
          "Revenue": 104.8
         },
         {
          "Assets": 1128.6,
          "Company": "Allianz",
          "Country": "Other",
          "Market Cap": 100.4,
          "Profits": 7.7,
          "Revenue": 122.5
         },
         {
          "Assets": 1466.6,
          "Company": "Postal Savings Bank Of China",
          "Country": "China",
          "Market Cap": 55.3,
          "Profits": 7.6,
          "Revenue": 56.1
         },
         {
          "Assets": 752.4,
          "Company": "Commonwealth Bank",
          "Country": "Other",
          "Market Cap": 93.5,
          "Profits": 7.6,
          "Revenue": 33
         },
         {
          "Assets": 437.6,
          "Company": "Itaú Unibanco Holding",
          "Country": "Other",
          "Market Cap": 87,
          "Profits": 7.5,
          "Revenue": 62.3
         },
         {
          "Assets": 173.7,
          "Company": "Nissan Motor",
          "Country": "Japan",
          "Market Cap": 39.7,
          "Profits": 7.4,
          "Revenue": 106.9
         },
         {
          "Assets": 954,
          "Company": "China Minsheng Banking",
          "Country": "China",
          "Market Cap": 43.5,
          "Profits": 7.4,
          "Revenue": 42.7
         },
         {
          "Assets": 133.8,
          "Company": "Nestle",
          "Country": "Other",
          "Market Cap": 237.3,
          "Profits": 7.3,
          "Revenue": 91.2
         },
         {
          "Assets": 1847.7,
          "Company": "Sumitomo Mitsui Financial",
          "Country": "Japan",
          "Market Cap": 58.3,
          "Profits": 7.2,
          "Revenue": 49.1
         },
         {
          "Assets": 92,
          "Company": "LukOil",
          "Country": "Other",
          "Market Cap": 60.4,
          "Profits": 7.2,
          "Revenue": 99.9
         },
         {
          "Assets": 163.4,
          "Company": "Siemens",
          "Country": "Other",
          "Market Cap": 112.5,
          "Profits": 7.1,
          "Revenue": 94.5
         },
         {
          "Assets": 98.9,
          "Company": "BASF",
          "Country": "Other",
          "Market Cap": 95.3,
          "Profits": 7.1,
          "Revenue": 75.1
         },
         {
          "Assets": 87,
          "Company": "Sun Hung Kai Properties",
          "Country": "Other",
          "Market Cap": 46.9,
          "Profits": 6.9,
          "Revenue": 11.3
         },
         {
          "Assets": 858.5,
          "Company": "Morgan Stanley",
          "Country": "United States",
          "Market Cap": 97.7,
          "Profits": 6.9,
          "Revenue": 45.6
         },
         {
          "Assets": 72.4,
          "Company": "Unilever",
          "Country": "Other",
          "Market Cap": 155.8,
          "Profits": 6.8,
          "Revenue": 60.6
         },
         {
          "Assets": 1029.1,
          "Company": "AXA Group",
          "Country": "Other",
          "Market Cap": 64.1,
          "Profits": 6.7,
          "Revenue": 149.9
         },
         {
          "Assets": 91.2,
          "Company": "China Shenhua Energy",
          "Country": "China",
          "Market Cap": 64.6,
          "Profits": 6.7,
          "Revenue": 36.4
         },
         {
          "Assets": 135.1,
          "Company": "CVS Health",
          "Country": "United States",
          "Market Cap": 65.5,
          "Profits": 6.6,
          "Revenue": 185.9
         },
         {
          "Assets": 894,
          "Company": "China Citic Bank",
          "Country": "China",
          "Market Cap": 46.5,
          "Profits": 6.5,
          "Revenue": 43.6
         },
         {
          "Assets": 752.5,
          "Company": "Bank of Nova Scotia",
          "Country": "Other",
          "Market Cap": 75,
          "Profits": 6.5,
          "Revenue": 28.8
         },
         {
          "Assets": 668.8,
          "Company": "Westpac Banking Group",
          "Country": "Other",
          "Market Cap": 76.2,
          "Profits": 6.4,
          "Revenue": 29.4
         },
         {
          "Assets": 460.1,
          "Company": "US Bancorp",
          "Country": "United States",
          "Market Cap": 84.6,
          "Profits": 6.4,
          "Revenue": 24.1
         },
         {
          "Assets": 69.3,
          "Company": "AbbVie",
          "Country": "United States",
          "Market Cap": 165.3,
          "Profits": 6.4,
          "Revenue": 29.6
         },
         {
          "Assets": 2022.5,
          "Company": "Freddie Mac",
          "Country": "United States",
          "Market Cap": 0.858,
          "Profits": 6.3,
          "Revenue": 73.5
         },
         {
          "Assets": 1004.8,
          "Company": "UniCredit Group",
          "Country": "Other",
          "Market Cap": 47.8,
          "Profits": 6.1,
          "Revenue": 29
         },
         {
          "Assets": 213.2,
          "Company": "AIA Group",
          "Country": "Other",
          "Market Cap": 111.4,
          "Profits": 6.1,
          "Revenue": 31.9
         },
         {
          "Assets": 15.4,
          "Company": "Novo Nordisk",
          "Country": "Other",
          "Market Cap": 116.9,
          "Profits": 6.1,
          "Revenue": 17.3
         },
         {
          "Assets": 43.1,
          "Company": "Philip Morris International",
          "Country": "United States",
          "Market Cap": 126.2,
          "Profits": 6,
          "Revenue": 29.6
         },
         {
          "Assets": 474.2,
          "Company": "China Life Insurance",
          "Country": "China",
          "Market Cap": 104.1,
          "Profits": 6,
          "Revenue": 97.1
         },
         {
          "Assets": 37.4,
          "Company": "CSX",
          "Country": "United States",
          "Market Cap": 55.2,
          "Profits": 5.8,
          "Revenue": 11.4
         },
         {
          "Assets": 132,
          "Company": "Renault",
          "Country": "Other",
          "Market Cap": 30.8,
          "Profits": 5.8,
          "Revenue": 66.3
         },
         {
          "Assets": 135.6,
          "Company": "Glencore International",
          "Country": "Other",
          "Market Cap": 75.5,
          "Profits": 5.8,
          "Revenue": 205.4
         },
         {
          "Assets": 125.3,
          "Company": "IBM",
          "Country": "United States",
          "Market Cap": 132.3,
          "Profits": 5.7,
          "Revenue": 80.1
         },
         {
          "Assets": 962.1,
          "Company": "Citic Pacific",
          "Country": "Other",
          "Market Cap": 44.4,
          "Profits": 5.6,
          "Revenue": 57.8
         },
         {
          "Assets": 125.2,
          "Company": "Reliance Industries",
          "Country": "Other",
          "Market Cap": 93.1,
          "Profits": 5.6,
          "Revenue": 60.8
         },
         {
          "Assets": 1016.1,
          "Company": "ING Group",
          "Country": "Other",
          "Market Cap": 62.2,
          "Profits": 5.5,
          "Revenue": 56.6
         },
         {
          "Assets": 36.2,
          "Company": "Norfolk Southern",
          "Country": "United States",
          "Market Cap": 43.1,
          "Profits": 5.5,
          "Revenue": 10.7
         },
         {
          "Assets": 379.2,
          "Company": "PNC Financial Services",
          "Country": "United States",
          "Market Cap": 70.9,
          "Profits": 5.5,
          "Revenue": 18.5
         },
         {
          "Assets": 69,
          "Company": "Time Warner",
          "Country": "United States",
          "Market Cap": 73.4,
          "Profits": 5.5,
          "Revenue": 31.5
         },
         {
          "Assets": 40.6,
          "Company": "Rolls-Royce Holdings",
          "Country": "United Kingdom",
          "Market Cap": 21.1,
          "Profits": 5.4,
          "Revenue": 21
         },
         {
          "Assets": 118.4,
          "Company": "SAIC Motor",
          "Country": "China",
          "Market Cap": 63.8,
          "Profits": 5.4,
          "Revenue": 136.6
         },
         {
          "Assets": 33.7,
          "Company": "McDonald's",
          "Country": "United States",
          "Market Cap": 129.9,
          "Profits": 5.4,
          "Revenue": 22.3
         },
         {
          "Assets": 26.9,
          "Company": "LyondellBasell Industries",
          "Country": "United Kingdom",
          "Market Cap": 44.1,
          "Profits": 5.3,
          "Revenue": 35.8
         },
         {
          "Assets": 717.3,
          "Company": "ANZ",
          "Country": "Other",
          "Market Cap": 61.2,
          "Profits": 5.3,
          "Revenue": 28.7
         },
         {
          "Assets": 216,
          "Company": "BlackRock",
          "Country": "United States",
          "Market Cap": 86.6,
          "Profits": 5.2,
          "Revenue": 13.4
         },
         {
          "Assets": 61.8,
          "Company": "KDDI",
          "Country": "Japan",
          "Market Cap": 65.5,
          "Profits": 5.2,
          "Revenue": 45.5
         },
         {
          "Assets": 257.6,
          "Company": "China State Construction Engineering",
          "Country": "China",
          "Market Cap": 40.4,
          "Profits": 5.1,
          "Revenue": 162.3
         },
         {
          "Assets": 1850.4,
          "Company": "Mizuho Financial",
          "Country": "Japan",
          "Market Cap": 46.2,
          "Profits": 5.1,
          "Revenue": 29.7
         },
         {
          "Assets": 44.5,
          "Company": "United Parcel Service",
          "Country": "United States",
          "Market Cap": 99.7,
          "Profits": 5.1,
          "Revenue": 67.7
         },
         {
          "Assets": 52.1,
          "Company": "Phillips 66",
          "Country": "United States",
          "Market Cap": 54.9,
          "Profits": 5.1,
          "Revenue": 92.7
         },
         {
          "Assets": 150.8,
          "Company": "Mitsubishi",
          "Country": "Japan",
          "Market Cap": 46.4,
          "Profits": 5.1,
          "Revenue": 68.3
         },
         {
          "Assets": 90.5,
          "Company": "Saudi Basic Industries",
          "Country": "Other",
          "Market Cap": 91.8,
          "Profits": 5,
          "Revenue": 41.9
         },
         {
          "Assets": 51,
          "Company": "SAP",
          "Country": "Other",
          "Market Cap": 138.9,
          "Profits": 4.9,
          "Revenue": 27.4
         },
         {
          "Assets": 81.9,
          "Company": "PepsiCo",
          "Country": "United States",
          "Market Cap": 138.1,
          "Profits": 4.9,
          "Revenue": 64
         },
         {
          "Assets": 67.9,
          "Company": "E.ON",
          "Country": "Other",
          "Market Cap": 24.2,
          "Profits": 4.9,
          "Revenue": 43
         },
         {
          "Assets": 973.5,
          "Company": "Goldman Sachs Group",
          "Country": "United States",
          "Market Cap": 91.8,
          "Profits": 4.9,
          "Revenue": 43.7
         },
         {
          "Assets": 115.4,
          "Company": "Equinor",
          "Country": "Other",
          "Market Cap": 90.2,
          "Profits": 4.9,
          "Revenue": 65.1
         },
         {
          "Assets": 661.7,
          "Company": "China Everbright Bank",
          "Country": "China",
          "Market Cap": 32.2,
          "Profits": 4.8,
          "Revenue": 30.3
         },
         {
          "Assets": 7.6,
          "Company": "Abengoa",
          "Country": "Other",
          "Market Cap": 0.255,
          "Profits": 4.8,
          "Revenue": 1.7
         },
         {
          "Assets": 64.2,
          "Company": "McKesson",
          "Country": "United States",
          "Market Cap": 30.8,
          "Profits": 4.8,
          "Revenue": 205.4
         },
         {
          "Assets": 147.4,
          "Company": "Aflac",
          "Country": "United States",
          "Market Cap": 35,
          "Profits": 4.7,
          "Revenue": 21.8
         },
         {
          "Assets": 112.6,
          "Company": "BHP Billiton",
          "Country": "Other",
          "Market Cap": 133.2,
          "Profits": 4.7,
          "Revenue": 41.2
         },
         {
          "Assets": 370.5,
          "Company": "Banco Bradesco",
          "Country": "Other",
          "Market Cap": 61.3,
          "Profits": 4.7,
          "Revenue": 76.5
         },
         {
          "Assets": 193.6,
          "Company": "Enel",
          "Country": "Other",
          "Market Cap": 61.6,
          "Profits": 4.6,
          "Revenue": 86.7
         },
         {
          "Assets": 94.4,
          "Company": "Vale",
          "Country": "Other",
          "Market Cap": 77.4,
          "Profits": 4.6,
          "Revenue": 34.1
         },
         {
          "Assets": 53.4,
          "Company": "Express Scripts",
          "Country": "United States",
          "Market Cap": 40.9,
          "Profits": 4.6,
          "Revenue": 100.2
         },
         {
          "Assets": 85.3,
          "Company": "ArcelorMittal",
          "Country": "Other",
          "Market Cap": 36.8,
          "Profits": 4.6,
          "Revenue": 68.6
         },
         {
          "Assets": 114.5,
          "Company": "Hon Hai Precision",
          "Country": "Other",
          "Market Cap": 49.5,
          "Profits": 4.6,
          "Revenue": 154.7
         },
         {
          "Assets": 117.6,
          "Company": "Fiat Chrysler Automobiles",
          "Country": "United Kingdom",
          "Market Cap": 35,
          "Profits": 4.5,
          "Revenue": 128.8
         },
         {
          "Assets": 140.7,
          "Company": "CK Hutchison",
          "Country": "Other",
          "Market Cap": 45.4,
          "Profits": 4.5,
          "Revenue": 31.9
         },
         {
          "Assets": 38.7,
          "Company": "Safran",
          "Country": "Other",
          "Market Cap": 48.6,
          "Profits": 4.5,
          "Revenue": 19.1
         },
         {
          "Assets": 98.8,
          "Company": "United Technologies",
          "Country": "United States",
          "Market Cap": 99.6,
          "Profits": 4.5,
          "Revenue": 61.2
         },
         {
          "Assets": 51.9,
          "Company": "FedEx",
          "Country": "United States",
          "Market Cap": 67,
          "Profits": 4.5,
          "Revenue": 63.9
         },
         {
          "Assets": 21.4,
          "Company": "Kweichow Moutai",
          "Country": "China",
          "Market Cap": 142.4,
          "Profits": 4.4,
          "Revenue": 8.5
         },
         {
          "Assets": 712.6,
          "Company": "MetLife",
          "Country": "United States",
          "Market Cap": 47.5,
          "Profits": 4.4,
          "Revenue": 64.1
         },
         {
          "Assets": 67.9,
          "Company": "Shire",
          "Country": "Other",
          "Market Cap": 50.3,
          "Profits": 4.4,
          "Revenue": 15.3
         },
         {
          "Assets": 179.3,
          "Company": "Sony",
          "Country": "Japan",
          "Market Cap": 59.9,
          "Profits": 4.4,
          "Revenue": 77.1
         },
         {
          "Assets": 17.6,
          "Company": "Starbucks",
          "Country": "United States",
          "Market Cap": 79,
          "Profits": 4.4,
          "Revenue": 23.5
         },
         {
          "Assets": 22.9,
          "Company": "Mastercard",
          "Country": "United States",
          "Market Cap": 201.9,
          "Profits": 4.3,
          "Revenue": 13.3
         },
         {
          "Assets": 275.3,
          "Company": "BP",
          "Country": "United Kingdom",
          "Market Cap": 152.6,
          "Profits": 4.3,
          "Revenue": 251.9
         },
         {
          "Assets": 373.6,
          "Company": "Bank of New York Mellon",
          "Country": "United States",
          "Market Cap": 57.8,
          "Profits": 4.3,
          "Revenue": 17.3
         },
         {
          "Assets": 42.4,
          "Company": "L'Oréal Group",
          "Country": "Other",
          "Market Cap": 134.2,
          "Profits": 4.3,
          "Revenue": 29.4
         },
         {
          "Assets": 843,
          "Company": "BBVA-Banco Bilbao Vizcaya",
          "Country": "Other",
          "Market Cap": 54.5,
          "Profits": 4.3,
          "Revenue": 29.2
         },
         {
          "Assets": 119.9,
          "Company": "Sanofi",
          "Country": "Other",
          "Market Cap": 94.9,
          "Profits": 4.3,
          "Revenue": 39.5
         },
         {
          "Assets": 69.9,
          "Company": "CME Group",
          "Country": "United States",
          "Market Cap": 54.2,
          "Profits": 4.3,
          "Revenue": 3.8
         },
         {
          "Assets": 194.6,
          "Company": "China Vanke",
          "Country": "China",
          "Market Cap": 43.8,
          "Profits": 4.2,
          "Revenue": 36.6
         },
         {
          "Assets": 49.4,
          "Company": "Valero Energy",
          "Country": "United States",
          "Market Cap": 49.4,
          "Profits": 4.2,
          "Revenue": 98.6
         },
         {
          "Assets": 30.1,
          "Company": "Canadian National Railway",
          "Country": "Other",
          "Market Cap": 58.4,
          "Profits": 4.2,
          "Revenue": 10.2
         },
         {
          "Assets": 73.3,
          "Company": "Anthem",
          "Country": "United States",
          "Market Cap": 59.2,
          "Profits": 4.1,
          "Revenue": 90.1
         },
         {
          "Assets": 381.1,
          "Company": "PetroChina",
          "Country": "China",
          "Market Cap": 220.2,
          "Profits": 4.1,
          "Revenue": 282.4
         },
         {
          "Assets": 38.6,
          "Company": "3M",
          "Country": "United States",
          "Market Cap": 121.8,
          "Profits": 4.1,
          "Revenue": 32.3
         },
         {
          "Assets": 70.8,
          "Company": "Walgreens Boots Alliance",
          "Country": "United States",
          "Market Cap": 63.6,
          "Profits": 4.1,
          "Revenue": 124
         },
         {
          "Assets": 40.7,
          "Company": "Diageo",
          "Country": "United Kingdom",
          "Market Cap": 89.4,
          "Profits": 4.1,
          "Revenue": 15.7
         },
         {
          "Assets": 610.6,
          "Company": "National Australia Bank",
          "Country": "Other",
          "Market Cap": 58.2,
          "Profits": 4.1,
          "Revenue": 25.6
         },
         {
          "Assets": 36.6,
          "Company": "SingTel",
          "Country": "Other",
          "Market Cap": 43.3,
          "Profits": 4.1,
          "Revenue": 12.7
         },
         {
          "Assets": 1098.6,
          "Company": "Lloyds Banking Group",
          "Country": "United Kingdom",
          "Market Cap": 65.4,
          "Profits": 4,
          "Revenue": 33.6
         },
         {
          "Assets": 50.1,
          "Company": "Reckitt Benckiser Group",
          "Country": "United Kingdom",
          "Market Cap": 55,
          "Profits": 4,
          "Revenue": 14.8
         },
         {
          "Assets": 54,
          "Company": "Twenty-First Century Fox",
          "Country": "United States",
          "Market Cap": 70.3,
          "Profits": 4,
          "Revenue": 29.2
         },
         {
          "Assets": 17.5,
          "Company": "Texas Instruments",
          "Country": "United States",
          "Market Cap": 106.9,
          "Profits": 4,
          "Revenue": 15.3
         },
         {
          "Assets": 16.3,
          "Company": "Tata Consultancy Services",
          "Country": "Other",
          "Market Cap": 98.4,
          "Profits": 4,
          "Revenue": 19.1
         },
         {
          "Assets": 3364.4,
          "Company": "Fannie Mae",
          "Country": "United States",
          "Market Cap": 1.5,
          "Profits": 4,
          "Revenue": 114.1
         },
         {
          "Assets": 126.4,
          "Company": "Amazon.com",
          "Country": "United States",
          "Market Cap": 777.8,
          "Profits": 3.9,
          "Revenue": 193.2
         },
         {
          "Assets": 68.5,
          "Company": "PTT PCL",
          "Country": "Other",
          "Market Cap": 50.9,
          "Profits": 3.9,
          "Revenue": 58.8
         },
         {
          "Assets": 214.2,
          "Company": "Rosneft",
          "Country": "Other",
          "Market Cap": 69,
          "Profits": 3.9,
          "Revenue": 94.8
         },
         {
          "Assets": 52.7,
          "Company": "Henderson Land",
          "Country": "Other",
          "Market Cap": 25.9,
          "Profits": 3.9,
          "Revenue": 3.2
         },
         {
          "Assets": 179.1,
          "Company": "Deutsche Telekom",
          "Country": "Other",
          "Market Cap": 80.8,
          "Profits": 3.9,
          "Revenue": 84.5
         },
         {
          "Assets": 161.2,
          "Company": "Country Garden Holdings",
          "Country": "China",
          "Market Cap": 45.2,
          "Profits": 3.9,
          "Revenue": 33.8
         },
         {
          "Assets": 58,
          "Company": "Cheung Kong Property Holdings",
          "Country": "Other",
          "Market Cap": 32.1,
          "Profits": 3.9,
          "Revenue": 7.8
         },
         {
          "Assets": 143.1,
          "Company": "Eni",
          "Country": "Other",
          "Market Cap": 70.7,
          "Profits": 3.9,
          "Revenue": 75.5
         },
         {
          "Assets": 35.2,
          "Company": "HP",
          "Country": "United States",
          "Market Cap": 37.3,
          "Profits": 3.9,
          "Revenue": 54.2
         },
         {
          "Assets": 168.8,
          "Company": "Chubb",
          "Country": "Other",
          "Market Cap": 63.4,
          "Profits": 3.9,
          "Revenue": 32.6
         },
         {
          "Assets": 25.2,
          "Company": "Inditex",
          "Country": "Other",
          "Market Cap": 99.5,
          "Profits": 3.8,
          "Revenue": 28.9
         },
         {
          "Assets": 82.8,
          "Company": "Jardine Matheson",
          "Country": "Other",
          "Market Cap": 44.2,
          "Profits": 3.8,
          "Revenue": 39.5
         },
         {
          "Assets": 11.5,
          "Company": "NVIDIA",
          "Country": "United States",
          "Market Cap": 154.5,
          "Profits": 3.8,
          "Revenue": 11
         },
         {
          "Assets": 21.5,
          "Company": "Las Vegas Sands",
          "Country": "United States",
          "Market Cap": 61.7,
          "Profits": 3.8,
          "Revenue": 13.4
         },
         {
          "Assets": 106.3,
          "Company": "Mitsui",
          "Country": "Japan",
          "Market Cap": 30.3,
          "Profits": 3.8,
          "Revenue": 44.1
         },
         {
          "Assets": 38.1,
          "Company": "Porsche Automobil Holding",
          "Country": "Other",
          "Market Cap": 25.7,
          "Profits": 3.8,
          "Revenue": 0.038
         },
         {
          "Assets": 593.3,
          "Company": "Bank of Montreal",
          "Country": "Other",
          "Market Cap": 50.9,
          "Profits": 3.7,
          "Revenue": 22.2
         },
         {
          "Assets": 228.9,
          "Company": "Qatar National Bank",
          "Country": "Other",
          "Market Cap": 36.4,
          "Profits": 3.7,
          "Revenue": 13.8
         },
         {
          "Assets": 138.2,
          "Company": "Oracle",
          "Country": "United States",
          "Market Cap": 191.1,
          "Profits": 3.7,
          "Revenue": 39.5
         },
         {
          "Assets": 94.8,
          "Company": "CNOOC",
          "Country": "Other",
          "Market Cap": 78.8,
          "Profits": 3.6,
          "Revenue": 27.6
         },
         {
          "Assets": 34.7,
          "Company": "Gree Electric Appliances",
          "Country": "China",
          "Market Cap": 45.1,
          "Profits": 3.6,
          "Revenue": 23.9
         },
         {
          "Assets": 81.5,
          "Company": "Itochu",
          "Country": "Japan",
          "Market Cap": 28.8,
          "Profits": 3.6,
          "Revenue": 49.7
         },
         {
          "Assets": 1861.6,
          "Company": "Credit Agricole",
          "Country": "Other",
          "Market Cap": 43.9,
          "Profits": 3.6,
          "Revenue": 21.1
         },
         {
          "Assets": 25.5,
          "Company": "Southwest Airlines",
          "Country": "United States",
          "Market Cap": 30.4,
          "Profits": 3.6,
          "Revenue": 21.2
         },
         {
          "Assets": 23.1,
          "Company": "Accenture",
          "Country": "Other",
          "Market Cap": 101,
          "Profits": 3.6,
          "Revenue": 39.1
         },
         {
          "Assets": 478.4,
          "Company": "Canadian Imperial Bank",
          "Country": "Other",
          "Market Cap": 40,
          "Profits": 3.6,
          "Revenue": 16.6
         },
         {
          "Assets": 270.5,
          "Company": "China Evergrande Group",
          "Country": "China",
          "Market Cap": 42,
          "Profits": 3.6,
          "Revenue": 46
         },
         {
          "Assets": 83.8,
          "Company": "Central Japan Railway",
          "Country": "Japan",
          "Market Cap": 38.7,
          "Profits": 3.6,
          "Revenue": 16.4
         },
         {
          "Assets": 46.5,
          "Company": "Japan Tobacco",
          "Country": "Japan",
          "Market Cap": 55,
          "Profits": 3.5,
          "Revenue": 19.4
         },
         {
          "Assets": 54.1,
          "Company": "Delta Air Lines",
          "Country": "United States",
          "Market Cap": 37.1,
          "Profits": 3.5,
          "Revenue": 42.1
         },
         {
          "Assets": 42.8,
          "Company": "Baidu",
          "Country": "China",
          "Market Cap": 94.1,
          "Profits": 3.5,
          "Revenue": 13.4
         },
         {
          "Assets": 713.5,
          "Company": "Nordea Bank",
          "Country": "Other",
          "Market Cap": 43,
          "Profits": 3.5,
          "Revenue": 15.2
         },
         {
          "Assets": 59.2,
          "Company": "Aetna",
          "Country": "United States",
          "Market Cap": 57.1,
          "Profits": 3.5,
          "Revenue": 60.6
         },
         {
          "Assets": 24.1,
          "Company": "Naspers",
          "Country": "Other",
          "Market Cap": 112.8,
          "Profits": 3.5,
          "Revenue": 6.2
         },
         {
          "Assets": 47.8,
          "Company": "Continental",
          "Country": "Other",
          "Market Cap": 53.2,
          "Profits": 3.5,
          "Revenue": 51.4
         },
         {
          "Assets": 113.3,
          "Company": "Allstate",
          "Country": "United States",
          "Market Cap": 33.9,
          "Profits": 3.5,
          "Revenue": 38
         },
         {
          "Assets": 65.4,
          "Company": "Gilead Sciences",
          "Country": "United States",
          "Market Cap": 86,
          "Profits": 3.5,
          "Revenue": 24.8
         },
         {
          "Assets": 412.8,
          "Company": "Banco do Brasil",
          "Country": "Other",
          "Market Cap": 27.8,
          "Profits": 3.4,
          "Revenue": 55
         },
         {
          "Assets": 50.4,
          "Company": "Marathon Petroleum",
          "Country": "United States",
          "Market Cap": 35.7,
          "Profits": 3.4,
          "Revenue": 71.6
         },
         {
          "Assets": 35.3,
          "Company": "Lowe's",
          "Country": "United States",
          "Market Cap": 72.2,
          "Profits": 3.4,
          "Revenue": 68.6
         },
         {
          "Assets": 404.1,
          "Company": "DBS Group",
          "Country": "Other",
          "Market Cap": 56.6,
          "Profits": 3.4,
          "Revenue": 11.8
         },
         {
          "Assets": 141.2,
          "Company": "Telefónica",
          "Country": "Other",
          "Market Cap": 51.1,
          "Profits": 3.4,
          "Revenue": 59.7
         },
         {
          "Assets": 47.3,
          "Company": "China Yangtze Power",
          "Country": "China",
          "Market Cap": 56,
          "Profits": 3.4,
          "Revenue": 7.4
         },
         {
          "Assets": 117,
          "Company": "Exelon",
          "Country": "United States",
          "Market Cap": 39.2,
          "Profits": 3.4,
          "Revenue": 34.5
         },
         {
          "Assets": 77.3,
          "Company": "National Grid",
          "Country": "United Kingdom",
          "Market Cap": 38.5,
          "Profits": 3.4,
          "Revenue": 18.4
         },
         {
          "Assets": 53.9,
          "Company": "Swire Pacific",
          "Country": "Other",
          "Market Cap": 15.1,
          "Profits": 3.3,
          "Revenue": 10.3
         },
         {
          "Assets": 74.5,
          "Company": "Surgutneftegas",
          "Country": "Other",
          "Market Cap": 17.2,
          "Profits": 3.3,
          "Revenue": 19.8
         },
         {
          "Assets": 50.5,
          "Company": "Transneft",
          "Country": "Other",
          "Market Cap": 4.4,
          "Profits": 3.3,
          "Revenue": 15.2
         },
         {
          "Assets": 138,
          "Company": "Iberdrola",
          "Country": "Other",
          "Market Cap": 49.4,
          "Profits": 3.3,
          "Revenue": 37.8
         },
         {
          "Assets": 95,
          "Company": "Hitachi",
          "Country": "Japan",
          "Market Cap": 38.5,
          "Profits": 3.3,
          "Revenue": 84.5
         },
         {
          "Assets": 79.5,
          "Company": "JXTG Holdings",
          "Country": "Japan",
          "Market Cap": 22,
          "Profits": 3.3,
          "Revenue": 92.9
         },
         {
          "Assets": 45.8,
          "Company": "Guangzhou R&F",
          "Country": "China",
          "Market Cap": 7.8,
          "Profits": 3.3,
          "Revenue": 8.8
         },
         {
          "Assets": 287.2,
          "Company": "China Huarong Asset Management",
          "Country": "China",
          "Market Cap": 13.7,
          "Profits": 3.2,
          "Revenue": 18.2
         },
         {
          "Assets": 29.3,
          "Company": "Scentre Group",
          "Country": "Other",
          "Market Cap": 16.5,
          "Profits": 3.2,
          "Revenue": 1.9
         },
         {
          "Assets": 30.7,
          "Company": "EOG Resources",
          "Country": "United States",
          "Market Cap": 68,
          "Profits": 3.2,
          "Revenue": 12.5
         },
         {
          "Assets": 64.5,
          "Company": "Mondelez International",
          "Country": "United States",
          "Market Cap": 57.9,
          "Profits": 3.2,
          "Revenue": 26.2
         },
         {
          "Assets": 351.2,
          "Company": "Oversea-Chinese Banking",
          "Country": "Other",
          "Market Cap": 41.2,
          "Profits": 3.2,
          "Revenue": 10.1
         },
         {
          "Assets": 54.6,
          "Company": "Anglo American",
          "Country": "United Kingdom",
          "Market Cap": 32,
          "Profits": 3.2,
          "Revenue": 26.2
         },
         {
          "Assets": 83.8,
          "Company": "VINCI",
          "Country": "Other",
          "Market Cap": 56.8,
          "Profits": 3.1,
          "Revenue": 46.1
         },
         {
          "Assets": 180,
          "Company": "American Express",
          "Country": "United States",
          "Market Cap": 87.3,
          "Profits": 3.1,
          "Revenue": 37.6
         },
         {
          "Assets": 0.802,
          "Company": "BGF Retail",
          "Country": "South Korea",
          "Market Cap": 3.2,
          "Profits": 3.1,
          "Revenue": 2.4
         },
         {
          "Assets": 56.2,
          "Company": "Baoshan Iron & Steel",
          "Country": "China",
          "Market Cap": 31.7,
          "Profits": 3.1,
          "Revenue": 40.7
         },
         {
          "Assets": 655.1,
          "Company": "Prudential",
          "Country": "United Kingdom",
          "Market Cap": 67.8,
          "Profits": 3.1,
          "Revenue": 111.5
         },
         {
          "Assets": 24.6,
          "Company": "Link REIT",
          "Country": "Other",
          "Market Cap": 18.5,
          "Profits": 3.1,
          "Revenue": 1.2
         },
         {
          "Assets": 409.2,
          "Company": "KB Financial Group",
          "Country": "South Korea",
          "Market Cap": 21.7,
          "Profits": 3.1,
          "Revenue": 29
         },
         {
          "Assets": 46.7,
          "Company": "Deutsche Post",
          "Country": "Other",
          "Market Cap": 50.8,
          "Profits": 3.1,
          "Revenue": 68.2
         },
         {
          "Assets": 65.5,
          "Company": "Oil & Natural Gas",
          "Country": "Other",
          "Market Cap": 35.7,
          "Profits": 3.1,
          "Revenue": 18.7
         },
         {
          "Assets": 135.6,
          "Company": "China Communications Construction",
          "Country": "China",
          "Market Cap": 28.8,
          "Profits": 3,
          "Revenue": 71.2
         },
         {
          "Assets": 32.7,
          "Company": "Eaton",
          "Country": "Other",
          "Market Cap": 33.4,
          "Profits": 3,
          "Revenue": 20.8
         },
         {
          "Assets": 70.8,
          "Company": "Suncor Energy",
          "Country": "Other",
          "Market Cap": 65.1,
          "Profits": 3,
          "Revenue": 25.7
         },
         {
          "Assets": 164.7,
          "Company": "Hyundai Motor",
          "Country": "South Korea",
          "Market Cap": 31.6,
          "Profits": 3,
          "Revenue": 85.9
         },
         {
          "Assets": 77.4,
          "Company": "Dominion Resources",
          "Country": "United States",
          "Market Cap": 42.2,
          "Profits": 3,
          "Revenue": 12.7
         },
         {
          "Assets": 583.8,
          "Company": "Danske Bank",
          "Country": "Other",
          "Market Cap": 29.1,
          "Profits": 3,
          "Revenue": 18.3
         },
         {
          "Assets": 401.1,
          "Company": "Zurich Insurance Group",
          "Country": "Other",
          "Market Cap": 48,
          "Profits": 3,
          "Revenue": 64.1
         },
         {
          "Assets": 404.4,
          "Company": "Huaxia Bank",
          "Country": "China",
          "Market Cap": 17.2,
          "Profits": 3,
          "Revenue": 18.7
         },
         {
          "Assets": 138.3,
          "Company": "AIRBUS",
          "Country": "Other",
          "Market Cap": 92.1,
          "Profits": 3,
          "Revenue": 74.7
         },
         {
          "Assets": 63.4,
          "Company": "AstraZeneca",
          "Country": "United Kingdom",
          "Market Cap": 90.6,
          "Profits": 3,
          "Revenue": 22.4
         },
         {
          "Assets": 26.1,
          "Company": "Biogen",
          "Country": "United States",
          "Market Cap": 59.6,
          "Profits": 3,
          "Revenue": 11.3
         },
         {
          "Assets": 138.5,
          "Company": "Duke Energy",
          "Country": "United States",
          "Market Cap": 56.2,
          "Profits": 3,
          "Revenue": 24
         },
         {
          "Assets": 46.6,
          "Company": "Indian Oil",
          "Country": "Other",
          "Market Cap": 24.4,
          "Profits": 3,
          "Revenue": 52.9
         },
         {
          "Assets": 38.7,
          "Company": "Costco Wholesale",
          "Country": "United States",
          "Market Cap": 85.9,
          "Profits": 3,
          "Revenue": 136
         },
         {
          "Assets": 73.5,
          "Company": "China Resources Land",
          "Country": "Other",
          "Market Cap": 25.7,
          "Profits": 3,
          "Revenue": 15.5
         },
         {
          "Assets": 193.6,
          "Company": "Banco BPM",
          "Country": "Other",
          "Market Cap": 5.3,
          "Profits": 3,
          "Revenue": 5.2
         },
         {
          "Assets": 37.2,
          "Company": "General Dynamics",
          "Country": "United States",
          "Market Cap": 60.6,
          "Profits": 2.9,
          "Revenue": 31.1
         },
         {
          "Assets": 337.1,
          "Company": "EDF",
          "Country": "Other",
          "Market Cap": 43,
          "Profits": 2.9,
          "Revenue": 78.5
         },
         {
          "Assets": 39,
          "Company": "Target",
          "Country": "United States",
          "Market Cap": 37.6,
          "Profits": 2.9,
          "Revenue": 71.9
         },
         {
          "Assets": 43.3,
          "Company": "Merck",
          "Country": "Other",
          "Market Cap": 43.3,
          "Profits": 2.9,
          "Revenue": 17.3
         },
         {
          "Assets": 33,
          "Company": "Telstra",
          "Country": "Other",
          "Market Cap": 28.7,
          "Profits": 2.9,
          "Revenue": 19.9
         },
         {
          "Assets": 54.2,
          "Company": "Denso",
          "Country": "Japan",
          "Market Cap": 40.6,
          "Profits": 2.9,
          "Revenue": 46.1
         },
         {
          "Assets": 36.2,
          "Company": "Henkel",
          "Country": "Other",
          "Market Cap": 54.1,
          "Profits": 2.9,
          "Revenue": 23.1
         },
         {
          "Assets": 380.3,
          "Company": "Bank of Beijing",
          "Country": "China",
          "Market Cap": 23,
          "Profits": 2.9,
          "Revenue": 15.9
         },
         {
          "Assets": 169.1,
          "Company": "HDFC Bank",
          "Country": "Other",
          "Market Cap": 77.6,
          "Profits": 2.9,
          "Revenue": 15.7
         },
         {
          "Assets": 118.4,
          "Company": "Tokyo Electric Power",
          "Country": "Japan",
          "Market Cap": 8.2,
          "Profits": 2.9,
          "Revenue": 52.8
         },
         {
          "Assets": 19.7,
          "Company": "Applied Materials",
          "Country": "United States",
          "Market Cap": 57.6,
          "Profits": 2.9,
          "Revenue": 15.5
         },
         {
          "Assets": 184.5,
          "Company": "First Abu Dhabi Bank",
          "Country": "Other",
          "Market Cap": 33.8,
          "Profits": 2.9,
          "Revenue": 7.3
         },
         {
          "Assets": 24.4,
          "Company": "Orsted",
          "Country": "Other",
          "Market Cap": 27,
          "Profits": 2.8,
          "Revenue": 9.7
         },
         {
          "Assets": 351,
          "Company": "KBC Group",
          "Country": "Other",
          "Market Cap": 36,
          "Profits": 2.8,
          "Revenue": 13.8
         },
         {
          "Assets": 42.5,
          "Company": "Ecopetrol",
          "Country": "Other",
          "Market Cap": 45.7,
          "Profits": 2.8,
          "Revenue": 19.4
         },
         {
          "Assets": 107.4,
          "Company": "Orix",
          "Country": "Japan",
          "Market Cap": 23.1,
          "Profits": 2.8,
          "Revenue": 25.8
         },
         {
          "Assets": 54.3,
          "Company": "Vonovia",
          "Country": "Other",
          "Market Cap": 24.1,
          "Profits": 2.8,
          "Revenue": 3.8
         },
         {
          "Assets": 34.6,
          "Company": "Celgene",
          "Country": "United States",
          "Market Cap": 61.3,
          "Profits": 2.8,
          "Revenue": 13.5
         },
         {
          "Assets": 95.8,
          "Company": "Medtronic",
          "Country": "Other",
          "Market Cap": 116,
          "Profits": 2.8,
          "Revenue": 29.7
         },
         {
          "Assets": 19.8,
          "Company": "Anhui Conch Cement",
          "Country": "China",
          "Market Cap": 32.3,
          "Profits": 2.8,
          "Revenue": 12
         },
         {
          "Assets": 28.1,
          "Company": "Tyson Foods",
          "Country": "United States",
          "Market Cap": 24.6,
          "Profits": 2.8,
          "Revenue": 40
         },
         {
          "Assets": 73.1,
          "Company": "Sumitomo",
          "Country": "Japan",
          "Market Cap": 22,
          "Profits": 2.8,
          "Revenue": 43.6
         },
         {
          "Assets": 47.1,
          "Company": "Deutsche Lufthansa",
          "Country": "Other",
          "Market Cap": 14.1,
          "Profits": 2.8,
          "Revenue": 41.5
         },
         {
          "Assets": 53.2,
          "Company": "Danone",
          "Country": "Other",
          "Market Cap": 48.9,
          "Profits": 2.8,
          "Revenue": 27.8
         },
         {
          "Assets": 220.7,
          "Company": "BB&T",
          "Country": "United States",
          "Market Cap": 42.9,
          "Profits": 2.8,
          "Revenue": 12.3
         },
         {
          "Assets": 51.9,
          "Company": "Unibail-Rodamco",
          "Country": "Other",
          "Market Cap": 23.3,
          "Profits": 2.8,
          "Revenue": 2.3
         },
         {
          "Assets": 40.1,
          "Company": "Midea Group",
          "Country": "China",
          "Market Cap": 55.7,
          "Profits": 2.7,
          "Revenue": 37.8
         },
         {
          "Assets": 101.5,
          "Company": "China Telecom",
          "Country": "China",
          "Market Cap": 38.6,
          "Profits": 2.7,
          "Revenue": 54.2
         },
         {
          "Assets": 30.7,
          "Company": "Saudi Telecom",
          "Country": "Other",
          "Market Cap": 42.8,
          "Profits": 2.7,
          "Revenue": 13.6
         },
         {
          "Assets": 340.5,
          "Company": "DNB",
          "Country": "Other",
          "Market Cap": 31.7,
          "Profits": 2.7,
          "Revenue": 9
         },
         {
          "Assets": 37.3,
          "Company": "HCA Holdings",
          "Country": "United States",
          "Market Cap": 35.6,
          "Profits": 2.7,
          "Revenue": 44.4
         },
         {
          "Assets": 22.9,
          "Company": "ASML Holding",
          "Country": "Other",
          "Market Cap": 85.4,
          "Profits": 2.7,
          "Revenue": 11
         },
         {
          "Assets": 116.7,
          "Company": "National Commercial Bank",
          "Country": "Other",
          "Market Cap": 35.3,
          "Profits": 2.7,
          "Revenue": 6
         },
         {
          "Assets": 213,
          "Company": "China Cinda Asset Management",
          "Country": "China",
          "Market Cap": 13.8,
          "Profits": 2.7,
          "Revenue": 15.7
         },
         {
          "Assets": 34,
          "Company": "International Paper",
          "Country": "United States",
          "Market Cap": 22.2,
          "Profits": 2.7,
          "Revenue": 23
         },
         {
          "Assets": 41.4,
          "Company": "Carnival",
          "Country": "United States",
          "Market Cap": 47.4,
          "Profits": 2.6,
          "Revenue": 18
         },
         {
          "Assets": 72.9,
          "Company": "Wheelock",
          "Country": "Other",
          "Market Cap": 14.8,
          "Profits": 2.6,
          "Revenue": 9.1
         },
         {
          "Assets": 1531.2,
          "Company": "Société Générale",
          "Country": "Other",
          "Market Cap": 38.3,
          "Profits": 2.6,
          "Revenue": 27.8
         },
         {
          "Assets": 35.3,
          "Company": "Bridgestone",
          "Country": "Japan",
          "Market Cap": 30.7,
          "Profits": 2.6,
          "Revenue": 32.9
         },
         {
          "Assets": 19.8,
          "Company": "Itaúsa",
          "Country": "Other",
          "Market Cap": 26.8,
          "Profits": 2.6,
          "Revenue": 1.6
         },
         {
          "Assets": 53.1,
          "Company": "Volvo Group",
          "Country": "Other",
          "Market Cap": 37.1,
          "Profits": 2.6,
          "Revenue": 41.5
         },
         {
          "Assets": 277.9,
          "Company": "United Overseas Bank",
          "Country": "Other",
          "Market Cap": 36.9,
          "Profits": 2.6,
          "Revenue": 9.4
         },
         {
          "Assets": 75.6,
          "Company": "Posco",
          "Country": "South Korea",
          "Market Cap": 26.8,
          "Profits": 2.6,
          "Revenue": 55.3
         },
         {
          "Assets": 14.1,
          "Company": "TJX Cos",
          "Country": "United States",
          "Market Cap": 52.7,
          "Profits": 2.6,
          "Revenue": 35.9
         },
         {
          "Assets": 76.6,
          "Company": "East Japan Railway",
          "Country": "Japan",
          "Market Cap": 37.9,
          "Profits": 2.6,
          "Revenue": 26.6
         },
         {
          "Assets": 248.3,
          "Company": "Charles Schwab",
          "Country": "United States",
          "Market Cap": 80.2,
          "Profits": 2.6,
          "Revenue": 9.4
         },
         {
          "Assets": 141.5,
          "Company": "Fifth Third Bancorp",
          "Country": "United States",
          "Market Cap": 23.3,
          "Profits": 2.6,
          "Revenue": 7.8
         },
         {
          "Assets": 63.1,
          "Company": "Cigna",
          "Country": "United States",
          "Market Cap": 42.3,
          "Profits": 2.6,
          "Revenue": 42.6
         },
         {
          "Assets": 13.9,
          "Company": "Covestro",
          "Country": "Other",
          "Market Cap": 18.4,
          "Profits": 2.6,
          "Revenue": 16.7
         },
         {
          "Assets": 47.1,
          "Company": "Danaher",
          "Country": "United States",
          "Market Cap": 71.1,
          "Profits": 2.6,
          "Revenue": 18.8
         },
         {
          "Assets": 452.4,
          "Company": "Aegon",
          "Country": "Other",
          "Market Cap": 14.1,
          "Profits": 2.6,
          "Revenue": 35.2
         },
         {
          "Assets": 69,
          "Company": "TransCanada",
          "Country": "Other",
          "Market Cap": 39.1,
          "Profits": 2.5,
          "Revenue": 10.5
         },
         {
          "Assets": 16,
          "Company": "Formosa Petrochemical",
          "Country": "Other",
          "Market Cap": 40.2,
          "Profits": 2.5,
          "Revenue": 21.4
         },
         {
          "Assets": 87.4,
          "Company": "Christian Dior",
          "Country": "Other",
          "Market Cap": 76.4,
          "Profits": 2.5,
          "Revenue": 49.3
         },
         {
          "Assets": 58.9,
          "Company": "Sampo",
          "Country": "Other",
          "Market Cap": 29.2,
          "Profits": 2.5,
          "Revenue": 7.8
         },
         {
          "Assets": 86.3,
          "Company": "HDFC",
          "Country": "Other",
          "Market Cap": 47.9,
          "Profits": 2.5,
          "Revenue": 10.7
         },
         {
          "Assets": 49.3,
          "Company": "Air Liquide",
          "Country": "Other",
          "Market Cap": 55.1,
          "Profits": 2.5,
          "Revenue": 23
         },
         {
          "Assets": 131.1,
          "Company": "China Railway Construction",
          "Country": "China",
          "Market Cap": 20.3,
          "Profits": 2.5,
          "Revenue": 103.2
         },
         {
          "Assets": 132.6,
          "Company": "China Railway Group",
          "Country": "China",
          "Market Cap": 25.3,
          "Profits": 2.5,
          "Revenue": 106
         },
         {
          "Assets": 1036,
          "Company": "Royal Bank of Scotland",
          "Country": "United Kingdom",
          "Market Cap": 47.9,
          "Profits": 2.5,
          "Revenue": 21.5
         },
         {
          "Assets": 25,
          "Company": "Booking Holdings",
          "Country": "United States",
          "Market Cap": 99.9,
          "Profits": 2.5,
          "Revenue": 13.2
         },
         {
          "Assets": 22.7,
          "Company": "Monsanto",
          "Country": "United States",
          "Market Cap": 55.1,
          "Profits": 2.5,
          "Revenue": 14.6
         },
         {
          "Assets": 362.9,
          "Company": "Capital One Financial",
          "Country": "United States",
          "Market Cap": 45.1,
          "Profits": 2.5,
          "Revenue": 30.6
         },
         {
          "Assets": 406.6,
          "Company": "Shinhan Financial Group",
          "Country": "South Korea",
          "Market Cap": 21.2,
          "Profits": 2.5,
          "Revenue": 17.6
         },
         {
          "Assets": 12.3,
          "Company": "Infosys",
          "Country": "Other",
          "Market Cap": 38.3,
          "Profits": 2.5,
          "Revenue": 10.9
         },
         {
          "Assets": 82.1,
          "Company": "IntercontinentalExchange",
          "Country": "United States",
          "Market Cap": 41.4,
          "Profits": 2.5,
          "Revenue": 5.9
         },
         {
          "Assets": 93.1,
          "Company": "Al Rajhi Bank",
          "Country": "Other",
          "Market Cap": 34.9,
          "Profits": 2.5,
          "Revenue": 4.5
         },
         {
          "Assets": 191.1,
          "Company": "China Pacific Insurance",
          "Country": "China",
          "Market Cap": 48,
          "Profits": 2.5,
          "Revenue": 50.9
         },
         {
          "Assets": 100.4,
          "Company": "Annaly Capital Management",
          "Country": "United States",
          "Market Cap": 12.1,
          "Profits": 2.5,
          "Revenue": 2.7
         },
         {
          "Assets": 40.1,
          "Company": "Mitsubishi Electric",
          "Country": "Japan",
          "Market Cap": 32.4,
          "Profits": 2.5,
          "Revenue": 40
         },
         {
          "Assets": 204.9,
          "Company": "SunTrust Banks",
          "Country": "United States",
          "Market Cap": 32.2,
          "Profits": 2.4,
          "Revenue": 9.9
         },
         {
          "Assets": 676.6,
          "Company": "Legal & General Group",
          "Country": "United Kingdom",
          "Market Cap": 22.6,
          "Profits": 2.4,
          "Revenue": 52.1
         },
         {
          "Assets": 47.9,
          "Company": "Schneider Electric",
          "Country": "Other",
          "Market Cap": 48.4,
          "Profits": 2.4,
          "Revenue": 27.9
         },
         {
          "Assets": 33.9,
          "Company": "SK Telecom",
          "Country": "South Korea",
          "Market Cap": 17,
          "Profits": 2.4,
          "Revenue": 15.7
         },
         {
          "Assets": 27.3,
          "Company": "Shin-Etsu Chemical",
          "Country": "Japan",
          "Market Cap": 44.4,
          "Profits": 2.4,
          "Revenue": 13
         },
         {
          "Assets": 46.6,
          "Company": "Lockheed Martin",
          "Country": "United States",
          "Market Cap": 92.5,
          "Profits": 2.4,
          "Revenue": 51.6
         },
         {
          "Assets": 57.3,
          "Company": "China Merchants Shekou Industrial Zone Holdings",
          "Country": "China",
          "Market Cap": 28.6,
          "Profits": 2.4,
          "Revenue": 10.6
         },
         {
          "Assets": 647.2,
          "Company": "Generali Group",
          "Country": "Other",
          "Market Cap": 30.8,
          "Profits": 2.4,
          "Revenue": 93.1
         },
         {
          "Assets": 147.4,
          "Company": "People's Insurance",
          "Country": "China",
          "Market Cap": 20.2,
          "Profits": 2.4,
          "Revenue": 70
         },
         {
          "Assets": 253.6,
          "Company": "Principal Financial Group",
          "Country": "United States",
          "Market Cap": 16.9,
          "Profits": 2.4,
          "Revenue": 14
         },
         {
          "Assets": 121,
          "Company": "Poly Real Estate",
          "Country": "China",
          "Market Cap": 25.6,
          "Profits": 2.4,
          "Revenue": 20.5
         },
         {
          "Assets": 45.5,
          "Company": "WPP",
          "Country": "United Kingdom",
          "Market Cap": 22.5,
          "Profits": 2.3,
          "Revenue": 19.7
         },
         {
          "Assets": 195.9,
          "Company": "Brookfield Asset Management",
          "Country": "Other",
          "Market Cap": 38.9,
          "Profits": 2.3,
          "Revenue": 47.6
         },
         {
          "Assets": 250.3,
          "Company": "State Street",
          "Country": "United States",
          "Market Cap": 37.3,
          "Profits": 2.3,
          "Revenue": 11.8
         },
         {
          "Assets": 65,
          "Company": "Fairfax Financial",
          "Country": "Other",
          "Market Cap": 16.4,
          "Profits": 2.3,
          "Revenue": 14.9
         },
         {
          "Assets": 271.6,
          "Company": "NN Group",
          "Country": "Other",
          "Market Cap": 15.3,
          "Profits": 2.3,
          "Revenue": 19.9
         },
         {
          "Assets": 472.8,
          "Company": "CaixaBank",
          "Country": "Other",
          "Market Cap": 30.7,
          "Profits": 2.3,
          "Revenue": 11.7
         },
         {
          "Assets": 20.5,
          "Company": "Constellation Brands",
          "Country": "United States",
          "Market Cap": 41.6,
          "Profits": 2.3,
          "Revenue": 7.6
         },
         {
          "Assets": 18.7,
          "Company": "Qurate Retail",
          "Country": "United States",
          "Market Cap": 10.5,
          "Profits": 2.3,
          "Revenue": 11.3
         },
         {
          "Assets": 49.9,
          "Company": "EnBW-Energie Baden",
          "Country": "Other",
          "Market Cap": 9.4,
          "Profits": 2.3,
          "Revenue": 24.8
         },
         {
          "Assets": 294.8,
          "Company": "Swedbank",
          "Country": "Other",
          "Market Cap": 25.3,
          "Profits": 2.3,
          "Revenue": 6.7
         },
         {
          "Assets": 34.6,
          "Company": "Etisalat",
          "Country": "Other",
          "Market Cap": 38.2,
          "Profits": 2.3,
          "Revenue": 14.2
         },
         {
          "Assets": 16.3,
          "Company": "DSM",
          "Country": "Other",
          "Market Cap": 17.8,
          "Profits": 2.3,
          "Revenue": 10.4
         },
         {
          "Assets": 27.1,
          "Company": "Magna International",
          "Country": "Other",
          "Market Cap": 22.6,
          "Profits": 2.3,
          "Revenue": 40.3
         },
         {
          "Assets": 32.7,
          "Company": "International Airlines",
          "Country": "United Kingdom",
          "Market Cap": 19.4,
          "Profits": 2.3,
          "Revenue": 26
         },
         {
          "Assets": 71.6,
          "Company": "Repsol",
          "Country": "Other",
          "Market Cap": 30.2,
          "Profits": 2.3,
          "Revenue": 49.7
         },
         {
          "Assets": 292,
          "Company": "Bank Of Shanghai",
          "Country": "China",
          "Market Cap": 19.1,
          "Profits": 2.3,
          "Revenue": 11.8
         },
         {
          "Assets": 43.9,
          "Company": "BCE",
          "Country": "Other",
          "Market Cap": 37.8,
          "Profits": 2.3,
          "Revenue": 17.9
         },
         {
          "Assets": 36.6,
          "Company": "Freeport-McMoRan",
          "Country": "United States",
          "Market Cap": 23.6,
          "Profits": 2.3,
          "Revenue": 17.6
         },
         {
          "Assets": 56.6,
          "Company": "Thermo Fisher Scientific",
          "Country": "United States",
          "Market Cap": 87.1,
          "Profits": 2.3,
          "Revenue": 22
         },
         {
          "Assets": 129.5,
          "Company": "Emirates NBD",
          "Country": "Other",
          "Market Cap": 15.5,
          "Profits": 2.3,
          "Revenue": 6.1
         },
         {
          "Assets": 78,
          "Company": "Caterpillar",
          "Country": "United States",
          "Market Cap": 92.6,
          "Profits": 2.2,
          "Revenue": 48.5
         },
         {
          "Assets": 18.9,
          "Company": "Novatek",
          "Country": "Other",
          "Market Cap": 37.9,
          "Profits": 2.2,
          "Revenue": 10.5
         },
         {
          "Assets": 71.2,
          "Company": "Amgen",
          "Country": "United States",
          "Market Cap": 115.8,
          "Profits": 2.2,
          "Revenue": 23
         },
         {
          "Assets": 81.3,
          "Company": "Bank Rakyat Indonesia",
          "Country": "Other",
          "Market Cap": 27.7,
          "Profits": 2.2,
          "Revenue": 9.3
         },
         {
          "Assets": 482,
          "Company": "Dai-ichi Life Insurance",
          "Country": "Japan",
          "Market Cap": 22.8,
          "Profits": 2.2,
          "Revenue": 57.6
         },
         {
          "Assets": 129.4,
          "Company": "Enbridge",
          "Country": "Other",
          "Market Cap": 57.2,
          "Profits": 2.2,
          "Revenue": 33.6
         },
         {
          "Assets": 46.8,
          "Company": "Canon",
          "Country": "Japan",
          "Market Cap": 46.4,
          "Profits": 2.2,
          "Revenue": 36.7
         },
         {
          "Assets": 49.8,
          "Company": "Investor AB",
          "Country": "Other",
          "Market Cap": 33.9,
          "Profits": 2.2,
          "Revenue": 6.6
         },
         {
          "Assets": 22.2,
          "Company": "General Mills",
          "Country": "United States",
          "Market Cap": 25.3,
          "Profits": 2.2,
          "Revenue": 15.7
         },
         {
          "Assets": 42.2,
          "Company": "Royal Ahold Delhaize N.V.",
          "Country": "Other",
          "Market Cap": 28.8,
          "Profits": 2.2,
          "Revenue": 72.4
         },
         {
          "Assets": 44,
          "Company": "United Continental Holdings",
          "Country": "United States",
          "Market Cap": 18.6,
          "Profits": 2.2,
          "Revenue": 38.3
         },
         {
          "Assets": 61.1,
          "Company": "BT Group",
          "Country": "United Kingdom",
          "Market Cap": 29.2,
          "Profits": 2.2,
          "Revenue": 30.8
         },
         {
          "Assets": 69.8,
          "Company": "Peugeot",
          "Country": "Other",
          "Market Cap": 21.4,
          "Profits": 2.2,
          "Revenue": 73.6
         },
         {
          "Assets": 102,
          "Company": "Discover Financial Services",
          "Country": "United States",
          "Market Cap": 26.3,
          "Profits": 2.2,
          "Revenue": 11.9
         },
         {
          "Assets": 33.5,
          "Company": "Newell Brands",
          "Country": "United States",
          "Market Cap": 13.1,
          "Profits": 2.2,
          "Revenue": 14.5
         },
         {
          "Assets": 23,
          "Company": "Viacom",
          "Country": "United States",
          "Market Cap": 12.2,
          "Profits": 2.2,
          "Revenue": 12.9
         },
         {
          "Assets": 38,
          "Company": "CRH",
          "Country": "Other",
          "Market Cap": 30.9,
          "Profits": 2.2,
          "Revenue": 28.5
         },
         {
          "Assets": 33.7,
          "Company": "MTR",
          "Country": "Other",
          "Market Cap": 34.8,
          "Profits": 2.2,
          "Revenue": 7.1
         },
         {
          "Assets": 21.1,
          "Company": "Kirin Holdings",
          "Country": "Japan",
          "Market Cap": 25.5,
          "Profits": 2.2,
          "Revenue": 16.6
         },
         {
          "Assets": 20.9,
          "Company": "Daqin Railway",
          "Country": "China",
          "Market Cap": 20.7,
          "Profits": 2.2,
          "Revenue": 9.2
         },
         {
          "Assets": 30.5,
          "Company": "Raytheon",
          "Country": "United States",
          "Market Cap": 61.4,
          "Profits": 2.2,
          "Revenue": 25.6
         },
         {
          "Assets": 89.6,
          "Company": "RWE Group",
          "Country": "Other",
          "Market Cap": 14.7,
          "Profits": 2.1,
          "Revenue": 47.9
         },
         {
          "Assets": 24.1,
          "Company": "Gecina",
          "Country": "Other",
          "Market Cap": 12.8,
          "Profits": 2.1,
          "Revenue": 0.799
         },
         {
          "Assets": 16.6,
          "Company": "RELX Group",
          "Country": "United Kingdom",
          "Market Cap": 43.4,
          "Profits": 2.1,
          "Revenue": 9.5
         },
         {
          "Assets": 37.9,
          "Company": "Daiwa House Industry",
          "Country": "Japan",
          "Market Cap": 25.3,
          "Profits": 2.1,
          "Revenue": 34.3
         },
         {
          "Assets": 472.4,
          "Company": "Resona Holdings",
          "Country": "Japan",
          "Market Cap": 13.2,
          "Profits": 2.1,
          "Revenue": 6.2
         },
         {
          "Assets": 56.8,
          "Company": "Canadian Natural Resources",
          "Country": "Other",
          "Market Cap": 44.1,
          "Profits": 2.1,
          "Revenue": 14.4
         },
         {
          "Assets": 16.6,
          "Company": "Norilsk Nickel",
          "Country": "Other",
          "Market Cap": 27.5,
          "Profits": 2.1,
          "Revenue": 9.2
         },
         {
          "Assets": 59.2,
          "Company": "Panasonic",
          "Country": "Japan",
          "Market Cap": 34.9,
          "Profits": 2.1,
          "Revenue": 72
         },
         {
          "Assets": 20.2,
          "Company": "LG Corp",
          "Country": "South Korea",
          "Market Cap": 13.3,
          "Profits": 2.1,
          "Revenue": 9.1
         },
         {
          "Assets": 34.8,
          "Company": "Northrop Grumman",
          "Country": "United States",
          "Market Cap": 56.7,
          "Profits": 2.1,
          "Revenue": 26.3
         },
         {
          "Assets": 19.2,
          "Company": "Tatneft",
          "Country": "Other",
          "Market Cap": 25.6,
          "Profits": 2.1,
          "Revenue": 11.9
         },
         {
          "Assets": 31.3,
          "Company": "Femsa",
          "Country": "Other",
          "Market Cap": 31.2,
          "Profits": 2.1,
          "Revenue": 25.2
         },
         {
          "Assets": 29.4,
          "Company": "Teck Resources",
          "Country": "Other",
          "Market Cap": 16,
          "Profits": 2.1,
          "Revenue": 9.5
         },
         {
          "Assets": 65.8,
          "Company": "Fresenius",
          "Country": "Other",
          "Market Cap": 44.1,
          "Profits": 2.1,
          "Revenue": 39.3
         },
         {
          "Assets": 50,
          "Company": "Johnson Controls International",
          "Country": "Other",
          "Market Cap": 33.6,
          "Profits": 2.1,
          "Revenue": 30.7
         },
         {
          "Assets": 103.7,
          "Company": "Travelers",
          "Country": "United States",
          "Market Cap": 35.5,
          "Profits": 2.1,
          "Revenue": 29.3
         },
         {
          "Assets": 30.2,
          "Company": "DISH Network",
          "Country": "United States",
          "Market Cap": 14.7,
          "Profits": 2.1,
          "Revenue": 14.2
         },
         {
          "Assets": 13.1,
          "Company": "Colgate-Palmolive",
          "Country": "United States",
          "Market Cap": 54.7,
          "Profits": 2.1,
          "Revenue": 15.7
         },
         {
          "Assets": 32.6,
          "Company": "Dongfeng Motor Group",
          "Country": "China",
          "Market Cap": 9.7,
          "Profits": 2.1,
          "Revenue": 18.5
         },
         {
          "Assets": 95.6,
          "Company": "Synchrony Financial",
          "Country": "United States",
          "Market Cap": 25.7,
          "Profits": 2.1,
          "Revenue": 14
         },
         {
          "Assets": 43.6,
          "Company": "ABB",
          "Country": "Other",
          "Market Cap": 51.3,
          "Profits": 2.1,
          "Revenue": 35
         },
         {
          "Assets": 16.1,
          "Company": "Atlas Copco",
          "Country": "Other",
          "Market Cap": 49.5,
          "Profits": 2,
          "Revenue": 13.2
         },
         {
          "Assets": 22.1,
          "Company": "Waste Management",
          "Country": "United States",
          "Market Cap": 35.8,
          "Profits": 2,
          "Revenue": 14.6
         },
         {
          "Assets": 12,
          "Company": "Liberty Broadband",
          "Country": "United States",
          "Market Cap": 12.8,
          "Profits": 2,
          "Revenue": 0.022
         },
         {
          "Assets": 42.8,
          "Company": "Public Service Enterprise Group",
          "Country": "United States",
          "Market Cap": 25.8,
          "Profits": 2,
          "Revenue": 9.1
         },
         {
          "Assets": 163.8,
          "Company": "Standard Bank Group",
          "Country": "Other",
          "Market Cap": 28.5,
          "Profits": 2,
          "Revenue": 9.6
         },
         {
          "Assets": 30.7,
          "Company": "Kering",
          "Country": "Other",
          "Market Cap": 74.5,
          "Profits": 2,
          "Revenue": 17.5
         },
         {
          "Assets": 279.2,
          "Company": "Lincoln National",
          "Country": "United States",
          "Market Cap": 14.9,
          "Profits": 2,
          "Revenue": 14.2
         },
         {
          "Assets": 27.1,
          "Company": "Subaru",
          "Country": "Japan",
          "Market Cap": 25.3,
          "Profits": 2,
          "Revenue": 30.7
         },
         {
          "Assets": 336.4,
          "Company": "Hana Financial Group",
          "Country": "South Korea",
          "Market Cap": 13,
          "Profits": 2,
          "Revenue": 12.3
         },
         {
          "Assets": 381.7,
          "Company": "Nomura",
          "Country": "Japan",
          "Market Cap": 19,
          "Profits": 2,
          "Revenue": 17.8
         },
         {
          "Assets": 226,
          "Company": "VTB Bank",
          "Country": "Other",
          "Market Cap": 11,
          "Profits": 2,
          "Revenue": 24.1
         },
         {
          "Assets": 29.3,
          "Company": "MGM Resorts",
          "Country": "United States",
          "Market Cap": 17.7,
          "Profits": 2,
          "Revenue": 10.9
         },
         {
          "Assets": 47.1,
          "Company": "Williams",
          "Country": "United States",
          "Market Cap": 22.5,
          "Profits": 2,
          "Revenue": 8.1
         },
         {
          "Assets": 82,
          "Company": "Fosun International",
          "Country": "China",
          "Market Cap": 18.6,
          "Profits": 2,
          "Revenue": 13.1
         },
         {
          "Assets": 31,
          "Company": "Simon Property Group",
          "Country": "United States",
          "Market Cap": 49.5,
          "Profits": 2,
          "Revenue": 5.6
         },
         {
          "Assets": 31.4,
          "Company": "Suzuki Motor",
          "Country": "Japan",
          "Market Cap": 27.6,
          "Profits": 1.9,
          "Revenue": 33.9
         },
         {
          "Assets": 24.7,
          "Company": "Deutsche Wohnen",
          "Country": "Other",
          "Market Cap": 16.8,
          "Profits": 1.9,
          "Revenue": 1.3
         },
         {
          "Assets": 104.3,
          "Company": "FirstRand",
          "Country": "Other",
          "Market Cap": 30.3,
          "Profits": 1.9,
          "Revenue": 6.7
         },
         {
          "Assets": 580.6,
          "Company": "Aviva",
          "Country": "United Kingdom",
          "Market Cap": 29.5,
          "Profits": 1.9,
          "Revenue": 63.7
         },
         {
          "Assets": 35.7,
          "Company": "Tenaga Nasional",
          "Country": "Other",
          "Market Cap": 23.1,
          "Profits": 1.9,
          "Revenue": 11
         },
         {
          "Assets": 42.3,
          "Company": "PayPal",
          "Country": "United States",
          "Market Cap": 94,
          "Profits": 1.9,
          "Revenue": 13.8
         },
         {
          "Assets": 11.5,
          "Company": "Kinnevik",
          "Country": "Other",
          "Market Cap": 10.3,
          "Profits": 1.9,
          "Revenue": 2
         },
         {
          "Assets": 18.3,
          "Company": "Lotte Chemical",
          "Country": "South Korea",
          "Market Cap": 12.4,
          "Profits": 1.9,
          "Revenue": 14.4
         },
         {
          "Assets": 353.9,
          "Company": "Svenska Handelsbanken",
          "Country": "Other",
          "Market Cap": 22.6,
          "Profits": 1.9,
          "Revenue": 6.8
         },
         {
          "Assets": 346.7,
          "Company": "SEB AB",
          "Country": "Other",
          "Market Cap": 21.5,
          "Profits": 1.9,
          "Revenue": 8.1
         },
         {
          "Assets": 44.2,
          "Company": "Mitsubishi Chemical",
          "Country": "Japan",
          "Market Cap": 13.4,
          "Profits": 1.9,
          "Revenue": 33.6
         },
         {
          "Assets": 30.3,
          "Company": "Michelin Group",
          "Country": "Other",
          "Market Cap": 25.5,
          "Profits": 1.9,
          "Revenue": 24.8
         },
         {
          "Assets": 19.7,
          "Company": "Nan Ya Plastics",
          "Country": "Other",
          "Market Cap": 22.7,
          "Profits": 1.9,
          "Revenue": 10.5
         },
         {
          "Assets": 14,
          "Company": "Keyence",
          "Country": "Japan",
          "Market Cap": 75.8,
          "Profits": 1.9,
          "Revenue": 4.8
         },
         {
          "Assets": 42.8,
          "Company": "Occidental Petroleum",
          "Country": "United States",
          "Market Cap": 65.1,
          "Profits": 1.9,
          "Revenue": 13.3
         },
         {
          "Assets": 147.4,
          "Company": "Macquarie Group",
          "Country": "Other",
          "Market Cap": 27.6,
          "Profits": 1.9,
          "Revenue": 10.3
         },
         {
          "Assets": 37.8,
          "Company": "Kroger",
          "Country": "United States",
          "Market Cap": 21,
          "Profits": 1.9,
          "Revenue": 122.7
         },
         {
          "Assets": 13.7,
          "Company": "Lam Research",
          "Country": "United States",
          "Market Cap": 33.1,
          "Profits": 1.9,
          "Revenue": 10.3
         },
         {
          "Assets": 41.3,
          "Company": "Progressive",
          "Country": "United States",
          "Market Cap": 36.4,
          "Profits": 1.9,
          "Revenue": 28
         },
         {
          "Assets": 25.4,
          "Company": "WestRock",
          "Country": "United States",
          "Market Cap": 15.7,
          "Profits": 1.9,
          "Revenue": 15.7
         },
         {
          "Assets": 15,
          "Company": "Adobe Systems",
          "Country": "United States",
          "Market Cap": 119.1,
          "Profits": 1.9,
          "Revenue": 7.7
         },
         {
          "Assets": 23.8,
          "Company": "Paccar",
          "Country": "United States",
          "Market Cap": 22.4,
          "Profits": 1.9,
          "Revenue": 20.9
         },
         {
          "Assets": 55.7,
          "Company": "Longfor Properties",
          "Country": "China",
          "Market Cap": 17.7,
          "Profits": 1.9,
          "Revenue": 10.8
         },
         {
          "Assets": 59.9,
          "Company": "New World Development",
          "Country": "Other",
          "Market Cap": 15,
          "Profits": 1.9,
          "Revenue": 7.6
         },
         {
          "Assets": 53.3,
          "Company": "American Airlines Group",
          "Country": "United States",
          "Market Cap": 19.9,
          "Profits": 1.9,
          "Revenue": 43
         },
         {
          "Assets": 64.7,
          "Company": "Marubeni",
          "Country": "Japan",
          "Market Cap": 14,
          "Profits": 1.9,
          "Revenue": 68
         },
         {
          "Assets": 32,
          "Company": "SK Innovation",
          "Country": "South Korea",
          "Market Cap": 17.9,
          "Profits": 1.9,
          "Revenue": 40.9
         },
         {
          "Assets": 21.1,
          "Company": "Formosa Chemicals",
          "Country": "Other",
          "Market Cap": 22.4,
          "Profits": 1.9,
          "Revenue": 12.3
         },
         {
          "Assets": 296.9,
          "Company": "Cathay Financial",
          "Country": "Other",
          "Market Cap": 23.1,
          "Profits": 1.9,
          "Revenue": 23.6
         },
         {
          "Assets": 11.4,
          "Company": "Tokyo Electron",
          "Country": "Japan",
          "Market Cap": 32.9,
          "Profits": 1.8,
          "Revenue": 10.2
         },
         {
          "Assets": 118.9,
          "Company": "Saudi Electricity",
          "Country": "Other",
          "Market Cap": 23.5,
          "Profits": 1.8,
          "Revenue": 13.5
         },
         {
          "Assets": 206,
          "Company": "Sun Life Financial",
          "Country": "Other",
          "Market Cap": 25.9,
          "Profits": 1.8,
          "Revenue": 21.8
         },
         {
          "Assets": 285.7,
          "Company": "Bank Of Jiangsu",
          "Country": "China",
          "Market Cap": 13.2,
          "Profits": 1.8,
          "Revenue": 12.9
         },
         {
          "Assets": 35.8,
          "Company": "Pernod Ricard",
          "Country": "Other",
          "Market Cap": 43.6,
          "Profits": 1.8,
          "Revenue": 10.2
         },
         {
          "Assets": 206.9,
          "Company": "Tokio Marine Holdings",
          "Country": "Japan",
          "Market Cap": 35.9,
          "Profits": 1.8,
          "Revenue": 47.6
         },
         {
          "Assets": 29.2,
          "Company": "CLP Holdings",
          "Country": "Other",
          "Market Cap": 26.5,
          "Profits": 1.8,
          "Revenue": 11.8
         },
         {
          "Assets": 33.5,
          "Company": "Humana",
          "Country": "United States",
          "Market Cap": 39.2,
          "Profits": 1.8,
          "Revenue": 54.3
         },
         {
          "Assets": 22.8,
          "Company": "Richemont",
          "Country": "Other",
          "Market Cap": 54.5,
          "Profits": 1.8,
          "Revenue": 12.3
         },
         {
          "Assets": 22.6,
          "Company": "Shanghai International Port",
          "Country": "China",
          "Market Cap": 24.7,
          "Profits": 1.8,
          "Revenue": 5.6
         },
         {
          "Assets": 115.7,
          "Company": "Orange",
          "Country": "Other",
          "Market Cap": 48.3,
          "Profits": 1.8,
          "Revenue": 46.4
         },
         {
          "Assets": 29.7,
          "Company": "Prologis",
          "Country": "United States",
          "Market Cap": 34.8,
          "Profits": 1.8,
          "Revenue": 2.7
         },
         {
          "Assets": 30.4,
          "Company": "Philips",
          "Country": "Other",
          "Market Cap": 39.1,
          "Profits": 1.8,
          "Revenue": 20.7
         },
         {
          "Assets": 15.8,
          "Company": "Canadian Pacific Railway",
          "Country": "Other",
          "Market Cap": 26.7,
          "Profits": 1.8,
          "Revenue": 5.2
         },
         {
          "Assets": 15.3,
          "Company": "Kimberly-Clark",
          "Country": "United States",
          "Market Cap": 36.6,
          "Profits": 1.8,
          "Revenue": 18.5
         },
         {
          "Assets": 22.6,
          "Company": "Nike",
          "Country": "United States",
          "Market Cap": 110.3,
          "Profits": 1.8,
          "Revenue": 35.3
         },
         {
          "Assets": 16.2,
          "Company": "Illinois Tool Works",
          "Country": "United States",
          "Market Cap": 49.4,
          "Profits": 1.8,
          "Revenue": 14.6
         },
         {
          "Assets": 30,
          "Company": "SSE",
          "Country": "United Kingdom",
          "Market Cap": 19.4,
          "Profits": 1.8,
          "Revenue": 38
         },
         {
          "Assets": 13.1,
          "Company": "H&M",
          "Country": "Other",
          "Market Cap": 26.7,
          "Profits": 1.8,
          "Revenue": 23.7
         },
         {
          "Assets": 104.8,
          "Company": "Citic Securities",
          "Country": "China",
          "Market Cap": 35.8,
          "Profits": 1.8,
          "Revenue": 6.1
         },
         {
          "Assets": 20.4,
          "Company": "Sherwin-Williams",
          "Country": "United States",
          "Market Cap": 35.6,
          "Profits": 1.8,
          "Revenue": 16.2
         },
         {
          "Assets": 232.1,
          "Company": "Fubon Financial",
          "Country": "Other",
          "Market Cap": 17.8,
          "Profits": 1.8,
          "Revenue": 26.6
         },
         {
          "Assets": 44.1,
          "Company": "Automatic Data Processing",
          "Country": "United States",
          "Market Cap": 56.1,
          "Profits": 1.8,
          "Revenue": 13.1
         },
         {
          "Assets": 19.8,
          "Company": "Emerson Electric",
          "Country": "United States",
          "Market Cap": 45.4,
          "Profits": 1.8,
          "Revenue": 16.5
         },
         {
          "Assets": 61,
          "Company": "Reinsurance Group of America",
          "Country": "United States",
          "Market Cap": 9.8,
          "Profits": 1.8,
          "Revenue": 12.7
         },
         {
          "Assets": 624.4,
          "Company": "Natixis",
          "Country": "Other",
          "Market Cap": 26,
          "Profits": 1.8,
          "Revenue": 10.7
         },
         {
          "Assets": 65.6,
          "Company": "American Electric",
          "Country": "United States",
          "Market Cap": 33.1,
          "Profits": 1.8,
          "Revenue": 15.5
         },
         {
          "Assets": 55.2,
          "Company": "Bank Central Asia",
          "Country": "Other",
          "Market Cap": 40.2,
          "Profits": 1.8,
          "Revenue": 5.2
         },
         {
          "Assets": 31.7,
          "Company": "Komatsu",
          "Country": "Japan",
          "Market Cap": 31.1,
          "Profits": 1.8,
          "Revenue": 22.6
         },
         {
          "Assets": 60.9,
          "Company": "Honeywell International",
          "Country": "United States",
          "Market Cap": 110.1,
          "Profits": 1.8,
          "Revenue": 41.4
         },
         {
          "Assets": 51.5,
          "Company": "Saint-Gobain",
          "Country": "Other",
          "Market Cap": 29.8,
          "Profits": 1.8,
          "Revenue": 46
         },
         {
          "Assets": 22.4,
          "Company": "CenterPoint Energy",
          "Country": "United States",
          "Market Cap": 11.5,
          "Profits": 1.8,
          "Revenue": 9.9
         },
         {
          "Assets": 71.4,
          "Company": "Nippon Steel & Sumitomo Metal",
          "Country": "Japan",
          "Market Cap": 19.9,
          "Profits": 1.8,
          "Revenue": 51.1
         },
         {
          "Assets": 40.8,
          "Company": "Linde",
          "Country": "Other",
          "Market Cap": 39.7,
          "Profits": 1.8,
          "Revenue": 19.6
         },
         {
          "Assets": 42.2,
          "Company": "ROSSETI",
          "Country": "Other",
          "Market Cap": 2.7,
          "Profits": 1.8,
          "Revenue": 16.3
         },
         {
          "Assets": 189.1,
          "Company": "Maybank",
          "Country": "Other",
          "Market Cap": 29.6,
          "Profits": 1.7,
          "Revenue": 9.1
         },
         {
          "Assets": 111.4,
          "Company": "Sompo",
          "Country": "Japan",
          "Market Cap": 16.4,
          "Profits": 1.7,
          "Revenue": 32.2
         },
         {
          "Assets": 15.5,
          "Company": "Mallinckrodt",
          "Country": "United Kingdom",
          "Market Cap": 1.2,
          "Profits": 1.7,
          "Revenue": 3
         },
         {
          "Assets": 23.4,
          "Company": "LG Chem",
          "Country": "South Korea",
          "Market Cap": 24.7,
          "Profits": 1.7,
          "Revenue": 22.7
         },
         {
          "Assets": 153.5,
          "Company": "Citizens Financial Group",
          "Country": "United States",
          "Market Cap": 20.6,
          "Profits": 1.7,
          "Revenue": 6.8
         },
         {
          "Assets": 27.2,
          "Company": "Zimmer Biomet",
          "Country": "United States",
          "Market Cap": 23.7,
          "Profits": 1.7,
          "Revenue": 7.9
         },
         {
          "Assets": 16.5,
          "Company": "Dollar Tree",
          "Country": "United States",
          "Market Cap": 22.3,
          "Profits": 1.7,
          "Revenue": 22.2
         },
         {
          "Assets": 44.6,
          "Company": "Tata Motors",
          "Country": "Other",
          "Market Cap": 16.8,
          "Profits": 1.7,
          "Revenue": 43
         },
         {
          "Assets": 23.4,
          "Company": "Daikin Industries",
          "Country": "Japan",
          "Market Cap": 36,
          "Profits": 1.7,
          "Revenue": 20.7
         },
         {
          "Assets": 41,
          "Company": "Cardinal Health",
          "Country": "United States",
          "Market Cap": 17.2,
          "Profits": 1.7,
          "Revenue": 134.4
         },
         {
          "Assets": 39.2,
          "Company": "Takeda Pharmaceutical",
          "Country": "Japan",
          "Market Cap": 33.4,
          "Profits": 1.7,
          "Revenue": 15.9
         },
         {
          "Assets": 26.7,
          "Company": "Grupo Mexico",
          "Country": "Other",
          "Market Cap": 22.6,
          "Profits": 1.7,
          "Revenue": 10.2
         },
         {
          "Assets": 18.2,
          "Company": "Adidas",
          "Country": "Other",
          "Market Cap": 46.2,
          "Profits": 1.7,
          "Revenue": 24.9
         },
         {
          "Assets": 144.8,
          "Company": "Ameriprise Financial",
          "Country": "United States",
          "Market Cap": 19.8,
          "Profits": 1.7,
          "Revenue": 12
         },
         {
          "Assets": 79.8,
          "Company": "Bank Mandiri",
          "Country": "Other",
          "Market Cap": 24.1,
          "Profits": 1.7,
          "Revenue": 8.1
         },
         {
          "Assets": 12.7,
          "Company": "Wuliangye Yibin",
          "Country": "China",
          "Market Cap": 47.2,
          "Profits": 1.7,
          "Revenue": 4.4
         },
         {
          "Assets": 89.8,
          "Company": "Akbank",
          "Country": "Other",
          "Market Cap": 7.9,
          "Profits": 1.7,
          "Revenue": 7.6
         },
         {
          "Assets": 13.4,
          "Company": "Sandvik",
          "Country": "Other",
          "Market Cap": 23,
          "Profits": 1.7,
          "Revenue": 11.1
         },
         {
          "Assets": 192.4,
          "Company": "DowDuPont",
          "Country": "United States",
          "Market Cap": 155.3,
          "Profits": 1.7,
          "Revenue": 80.6
         },
         {
          "Assets": 549.7,
          "Company": "Manulife",
          "Country": "Other",
          "Market Cap": 38.5,
          "Profits": 1.7,
          "Revenue": 40.1
         },
         {
          "Assets": 92.9,
          "Company": "Garanti Bank",
          "Country": "Other",
          "Market Cap": 9,
          "Profits": 1.7,
          "Revenue": 9.5
         },
         {
          "Assets": 95.7,
          "Company": "Sunac China Holdings",
          "Country": "China",
          "Market Cap": 19.6,
          "Profits": 1.7,
          "Revenue": 10
         },
         {
          "Assets": 28.8,
          "Company": "Andeavor",
          "Country": "United States",
          "Market Cap": 21.2,
          "Profits": 1.7,
          "Revenue": 38.6
         },
         {
          "Assets": 41.1,
          "Company": "Archer Daniels Midland",
          "Country": "United States",
          "Market Cap": 24.6,
          "Profits": 1.6,
          "Revenue": 61.4
         },
         {
          "Assets": 16.5,
          "Company": "PPG",
          "Country": "United States",
          "Market Cap": 25,
          "Profits": 1.6,
          "Revenue": 15.1
         },
         {
          "Assets": 18.8,
          "Company": "Guangzhou Automobile Group",
          "Country": "China",
          "Market Cap": 18.6,
          "Profits": 1.6,
          "Revenue": 10.8
         },
         {
          "Assets": 16.3,
          "Company": "Fanuc",
          "Country": "Japan",
          "Market Cap": 41.8,
          "Profits": 1.6,
          "Revenue": 6.6
         },
         {
          "Assets": 59.2,
          "Company": "CRRC",
          "Country": "China",
          "Market Cap": 41,
          "Profits": 1.6,
          "Revenue": 31.3
         },
         {
          "Assets": 14,
          "Company": "Ryanair Holdings",
          "Country": "Other",
          "Market Cap": 21.3,
          "Profits": 1.6,
          "Revenue": 7.9
         },
         {
          "Assets": 24,
          "Company": "Royal Caribbean Cruises",
          "Country": "United States",
          "Market Cap": 22.7,
          "Profits": 1.6,
          "Revenue": 8.8
         },
         {
          "Assets": 51.5,
          "Company": "Seven & I Holdings",
          "Country": "Japan",
          "Market Cap": 38.9,
          "Profits": 1.6,
          "Revenue": 54.2
         },
         {
          "Assets": 23.9,
          "Company": "Swisscom",
          "Country": "Other",
          "Market Cap": 23.9,
          "Profits": 1.6,
          "Revenue": 12.1
         },
         {
          "Assets": 11.2,
          "Company": "Novolipetsk Steel",
          "Country": "Other",
          "Market Cap": 15.3,
          "Profits": 1.6,
          "Revenue": 10.7
         },
         {
          "Assets": 42.5,
          "Company": "Imperial Tobacco Group",
          "Country": "United Kingdom",
          "Market Cap": 35.7,
          "Profits": 1.6,
          "Revenue": 20.1
         },
         {
          "Assets": 16,
          "Company": "Formosa Plastics",
          "Country": "Other",
          "Market Cap": 23.2,
          "Profits": 1.6,
          "Revenue": 6.8
         },
         {
          "Assets": 21.4,
          "Company": "Marsh & McLennan",
          "Country": "United States",
          "Market Cap": 41.4,
          "Profits": 1.6,
          "Revenue": 14.5
         },
         {
          "Assets": 57.7,
          "Company": "Gas Natural Fenosa",
          "Country": "Other",
          "Market Cap": 26.1,
          "Profits": 1.6,
          "Revenue": 27.2
         },
         {
          "Assets": 10.4,
          "Company": "CSL",
          "Country": "Other",
          "Market Cap": 60,
          "Profits": 1.6,
          "Revenue": 7.4
         },
         {
          "Assets": 180.5,
          "Company": "ENGIE",
          "Country": "Other",
          "Market Cap": 41.8,
          "Profits": 1.6,
          "Revenue": 73.3
         },
         {
          "Assets": 17.4,
          "Company": "Shaanxi Coal Industry",
          "Country": "China",
          "Market Cap": 13.5,
          "Profits": 1.6,
          "Revenue": 7.3
         },
         {
          "Assets": 17.5,
          "Company": "PKN Orlen",
          "Country": "Other",
          "Market Cap": 10.4,
          "Profits": 1.6,
          "Revenue": 26.5
         },
         {
          "Assets": 39.8,
          "Company": "NTPC",
          "Country": "Other",
          "Market Cap": 20.5,
          "Profits": 1.6,
          "Revenue": 12
         },
         {
          "Assets": 8.5,
          "Company": "S&P Global",
          "Country": "United States",
          "Market Cap": 50.3,
          "Profits": 1.6,
          "Revenue": 6.2
         },
         {
          "Assets": 30.8,
          "Company": "Emaar Properties",
          "Country": "Other",
          "Market Cap": 9.7,
          "Profits": 1.6,
          "Revenue": 5.8
         },
         {
          "Assets": 86,
          "Company": "Merck & Co.",
          "Country": "United States",
          "Market Cap": 160.6,
          "Profits": 1.6,
          "Revenue": 40.8
         },
         {
          "Assets": 13.1,
          "Company": "Geely Automobile Holdings",
          "Country": "Other",
          "Market Cap": 26.9,
          "Profits": 1.6,
          "Revenue": 13.8
         },
         {
          "Assets": 31.3,
          "Company": "Fujifilm Holdings",
          "Country": "Japan",
          "Market Cap": 20,
          "Profits": 1.6,
          "Revenue": 21.8
         },
         {
          "Assets": 15,
          "Company": "Telkom Indonesia",
          "Country": "Other",
          "Market Cap": 25.8,
          "Profits": 1.6,
          "Revenue": 9.6
         },
         {
          "Assets": 25,
          "Company": "Telenor",
          "Country": "Other",
          "Market Cap": 32.4,
          "Profits": 1.6,
          "Revenue": 15
         },
         {
          "Assets": 115.8,
          "Company": "Isbank",
          "Country": "Other",
          "Market Cap": 6.2,
          "Profits": 1.6,
          "Revenue": 14.3
         },
         {
          "Assets": 10.9,
          "Company": "NetEase",
          "Country": "China",
          "Market Cap": 35.2,
          "Profits": 1.6,
          "Revenue": 8
         },
         {
          "Assets": 196.7,
          "Company": "EXOR",
          "Country": "Other",
          "Market Cap": 18.3,
          "Profits": 1.6,
          "Revenue": 161.8
         },
         {
          "Assets": 48.9,
          "Company": "Consolidated Edison",
          "Country": "United States",
          "Market Cap": 23.9,
          "Profits": 1.6,
          "Revenue": 12.2
         },
         {
          "Assets": 18.2,
          "Company": "Fortescue Metals Group",
          "Country": "Other",
          "Market Cap": 11.6,
          "Profits": 1.6,
          "Revenue": 7.6
         },
         {
          "Assets": 282.9,
          "Company": "Erste Group Bank",
          "Country": "Other",
          "Market Cap": 19,
          "Profits": 1.5,
          "Revenue": 10.2
         },
         {
          "Assets": 20.1,
          "Company": "Macy's",
          "Country": "United States",
          "Market Cap": 9.1,
          "Profits": 1.5,
          "Revenue": 24.8
         },
         {
          "Assets": 21.3,
          "Company": "Westfield",
          "Country": "Other",
          "Market Cap": 14.2,
          "Profits": 1.5,
          "Revenue": 1.4
         },
         {
          "Assets": 204.6,
          "Company": "National Bank of Canada",
          "Country": "Other",
          "Market Cap": 16.8,
          "Profits": 1.5,
          "Revenue": 7.2
         },
         {
          "Assets": 25.8,
          "Company": "Idemitsu Kosan",
          "Country": "Japan",
          "Market Cap": 7.7,
          "Profits": 1.5,
          "Revenue": 32.1
         },
         {
          "Assets": 12.6,
          "Company": "Dollar General",
          "Country": "United States",
          "Market Cap": 25.1,
          "Profits": 1.5,
          "Revenue": 23.5
         },
         {
          "Assets": 21.8,
          "Company": "Asahi Kasei",
          "Country": "Japan",
          "Market Cap": 18.8,
          "Profits": 1.5,
          "Revenue": 18.4
         },
         {
          "Assets": 9.6,
          "Company": "3i Group",
          "Country": "United Kingdom",
          "Market Cap": 12.9,
          "Profits": 1.5,
          "Revenue": 0.353
         },
         {
          "Assets": 22.9,
          "Company": "Couche Tard",
          "Country": "Other",
          "Market Cap": 23.6,
          "Profits": 1.5,
          "Revenue": 47.2
         },
         {
          "Assets": 8.6,
          "Company": "ITC",
          "Country": "Other",
          "Market Cap": 51.5,
          "Profits": 1.5,
          "Revenue": 8.7
         },
         {
          "Assets": 45.4,
          "Company": "First Data",
          "Country": "United States",
          "Market Cap": 18,
          "Profits": 1.5,
          "Revenue": 11.5
         },
         {
          "Assets": 7.4,
          "Company": "T Rowe Price",
          "Country": "United States",
          "Market Cap": 28.6,
          "Profits": 1.5,
          "Revenue": 5
         },
         {
          "Assets": 29.4,
          "Company": "Fujitsu",
          "Country": "Japan",
          "Market Cap": 12.8,
          "Profits": 1.5,
          "Revenue": 37
         },
         {
          "Assets": 68.2,
          "Company": "PG&E",
          "Country": "United States",
          "Market Cap": 22.4,
          "Profits": 1.5,
          "Revenue": 16.9
         },
         {
          "Assets": 187.5,
          "Company": "Bank of Nanjing",
          "Country": "China",
          "Market Cap": 11.6,
          "Profits": 1.5,
          "Revenue": 8.5
         },
         {
          "Assets": 236,
          "Company": "China Zheshang Bank",
          "Country": "China",
          "Market Cap": 11,
          "Profits": 1.5,
          "Revenue": 10.7
         },
         {
          "Assets": 49.4,
          "Company": "Toyota Industries",
          "Country": "Japan",
          "Market Cap": 20,
          "Profits": 1.5,
          "Revenue": 18.1
         },
         {
          "Assets": 18.7,
          "Company": "Siam Cement",
          "Country": "Other",
          "Market Cap": 17.7,
          "Profits": 1.5,
          "Revenue": 13.7
         },
         {
          "Assets": 16,
          "Company": "Compass Group",
          "Country": "United Kingdom",
          "Market Cap": 32.4,
          "Profits": 1.5,
          "Revenue": 29.8
         },
         {
          "Assets": 61.6,
          "Company": "Hewlett Packard Enterprise",
          "Country": "United States",
          "Market Cap": 27.4,
          "Profits": 1.5,
          "Revenue": 31.2
         },
         {
          "Assets": 20.2,
          "Company": "Ecolab",
          "Country": "United States",
          "Market Cap": 42.5,
          "Profits": 1.5,
          "Revenue": 14.1
         },
         {
          "Assets": 23.2,
          "Company": "Torchmark",
          "Country": "United States",
          "Market Cap": 9.7,
          "Profits": 1.5,
          "Revenue": 4.2
         },
         {
          "Assets": 4.8,
          "Company": "Yum! Brands",
          "Country": "United States",
          "Market Cap": 27.4,
          "Profits": 1.5,
          "Revenue": 5.8
         },
         {
          "Assets": 63.5,
          "Company": "Huatai Securities",
          "Country": "China",
          "Market Cap": 19.6,
          "Profits": 1.5,
          "Revenue": 3.1
         },
         {
          "Assets": 138.1,
          "Company": "Greenland Holdings Group",
          "Country": "China",
          "Market Cap": 13.9,
          "Profits": 1.5,
          "Revenue": 44.8
         },
         {
          "Assets": 16.4,
          "Company": "Eastman Chemical",
          "Country": "United States",
          "Market Cap": 15.2,
          "Profits": 1.5,
          "Revenue": 9.8
         },
         {
          "Assets": 17.5,
          "Company": "Astellas Pharma",
          "Country": "Japan",
          "Market Cap": 30.1,
          "Profits": 1.5,
          "Revenue": 11.7
         },
         {
          "Assets": 14.7,
          "Company": "Air Canada",
          "Country": "Other",
          "Market Cap": 5.1,
          "Profits": 1.5,
          "Revenue": 13
         },
         {
          "Assets": 102.5,
          "Company": "SK Holdings",
          "Country": "South Korea",
          "Market Cap": 20,
          "Profits": 1.5,
          "Revenue": 82.5
         },
         {
          "Assets": 38.7,
          "Company": "LG Electronics",
          "Country": "South Korea",
          "Market Cap": 16.5,
          "Profits": 1.5,
          "Revenue": 55.7
         },
         {
          "Assets": 169.9,
          "Company": "Bank of Ningbo",
          "Country": "China",
          "Market Cap": 14.5,
          "Profits": 1.5,
          "Revenue": 8.1
         },
         {
          "Assets": 5.4,
          "Company": "Nanya Technology",
          "Country": "Other",
          "Market Cap": 9.6,
          "Profits": 1.5,
          "Revenue": 2.1
         },
         {
          "Assets": 18.9,
          "Company": "Aena",
          "Country": "Other",
          "Market Cap": 31.8,
          "Profits": 1.5,
          "Revenue": 4.7
         },
         {
          "Assets": 8,
          "Company": "Hikvision",
          "Country": "China",
          "Market Cap": 58.2,
          "Profits": 1.5,
          "Revenue": 6.6
         },
         {
          "Assets": 30.2,
          "Company": "Molson Coors Brewing",
          "Country": "United States",
          "Market Cap": 13.1,
          "Profits": 1.5,
          "Revenue": 10.9
         },
         {
          "Assets": 15,
          "Company": "Cognizant",
          "Country": "United States",
          "Market Cap": 44.9,
          "Profits": 1.5,
          "Revenue": 15.2
         },
         {
          "Assets": 7.1,
          "Company": "Severstal",
          "Country": "Other",
          "Market Cap": 13.4,
          "Profits": 1.5,
          "Revenue": 8.3
         },
         {
          "Assets": 960.1,
          "Company": "UBS",
          "Country": "Other",
          "Market Cap": 61.8,
          "Profits": 1.5,
          "Revenue": 40.3
         },
         {
          "Assets": 16.7,
          "Company": "Kellogg",
          "Country": "United States",
          "Market Cap": 21.3,
          "Profits": 1.5,
          "Revenue": 13.1
         },
         {
          "Assets": 72.2,
          "Company": "Guotai Junan Securities",
          "Country": "China",
          "Market Cap": 24,
          "Profits": 1.4,
          "Revenue": 3.7
         },
         {
          "Assets": 16.5,
          "Company": "Aroundtown",
          "Country": "Other",
          "Market Cap": 8.6,
          "Profits": 1.4,
          "Revenue": 0.594
         },
         {
          "Assets": 11.6,
          "Company": "Westlake Chemical",
          "Country": "United States",
          "Market Cap": 15.2,
          "Profits": 1.4,
          "Revenue": 8.2
         },
         {
          "Assets": 22,
          "Company": "New Residential Investment",
          "Country": "United States",
          "Market Cap": 6,
          "Profits": 1.4,
          "Revenue": 2.3
         },
         {
          "Assets": 10.7,
          "Company": "Public Storage",
          "Country": "United States",
          "Market Cap": 36.9,
          "Profits": 1.4,
          "Revenue": 2.7
         },
         {
          "Assets": 23.4,
          "Company": "Rogers Communications",
          "Country": "Other",
          "Market Cap": 24.8,
          "Profits": 1.4,
          "Revenue": 11.2
         },
         {
          "Assets": 93.3,
          "Company": "Coca-Cola",
          "Country": "United States",
          "Market Cap": 179.3,
          "Profits": 1.4,
          "Revenue": 33.7
         },
         {
          "Assets": 9.4,
          "Company": "Regeneron Pharmaceuticals",
          "Country": "United States",
          "Market Cap": 33.1,
          "Profits": 1.4,
          "Revenue": 6.1
         },
         {
          "Assets": 10.2,
          "Company": "Fiserv",
          "Country": "United States",
          "Market Cap": 29.8,
          "Profits": 1.4,
          "Revenue": 5.7
         },
         {
          "Assets": 14.7,
          "Company": "United Rentals",
          "Country": "United States",
          "Market Cap": 14,
          "Profits": 1.4,
          "Revenue": 7
         },
         {
          "Assets": 66.6,
          "Company": "Deere & Company",
          "Country": "United States",
          "Market Cap": 47.7,
          "Profits": 1.4,
          "Revenue": 30.5
         },
         {
          "Assets": 256,
          "Company": "Industrial Bank of Korea",
          "Country": "South Korea",
          "Market Cap": 8.9,
          "Profits": 1.4,
          "Revenue": 11.1
         },
         {
          "Assets": 118.6,
          "Company": "M&T Bank",
          "Country": "United States",
          "Market Cap": 27,
          "Profits": 1.4,
          "Revenue": 6.1
         },
         {
          "Assets": 59.3,
          "Company": "Mitsui Fudosan",
          "Country": "Japan",
          "Market Cap": 25.4,
          "Profits": 1.4,
          "Revenue": 15.8
         },
         {
          "Assets": 59.7,
          "Company": "China Fortune Land Development",
          "Country": "China",
          "Market Cap": 13.4,
          "Profits": 1.4,
          "Revenue": 8.5
         },
         {
          "Assets": 24.5,
          "Company": "Marriott International",
          "Country": "United States",
          "Market Cap": 49.4,
          "Profits": 1.4,
          "Revenue": 22.3
         },
         {
          "Assets": 55.2,
          "Company": "CGN Power",
          "Country": "China",
          "Market Cap": 12.5,
          "Profits": 1.4,
          "Revenue": 6.9
         },
         {
          "Assets": 32.9,
          "Company": "Sasol",
          "Country": "Other",
          "Market Cap": 24.9,
          "Profits": 1.4,
          "Revenue": 13.2
         },
         {
          "Assets": 491.5,
          "Company": "CNP Assurances",
          "Country": "Other",
          "Market Cap": 17.1,
          "Profits": 1.4,
          "Revenue": 45.8
         },
         {
          "Assets": 137,
          "Company": "KeyCorp",
          "Country": "United States",
          "Market Cap": 21.5,
          "Profits": 1.4,
          "Revenue": 6.9
         },
         {
          "Assets": 30.2,
          "Company": "Klepierre",
          "Country": "Other",
          "Market Cap": 12.4,
          "Profits": 1.4,
          "Revenue": 1.6
         },
         {
          "Assets": 41.2,
          "Company": "Vivendi",
          "Country": "Other",
          "Market Cap": 36.1,
          "Profits": 1.4,
          "Revenue": 14
         },
         {
          "Assets": 26.5,
          "Company": "Thomson Reuters",
          "Country": "Other",
          "Market Cap": 26.8,
          "Profits": 1.4,
          "Revenue": 11.3
         },
         {
          "Assets": 29,
          "Company": "Asahi Group Holdings",
          "Country": "Japan",
          "Market Cap": 25.3,
          "Profits": 1.4,
          "Revenue": 19.4
         },
         {
          "Assets": 8.1,
          "Company": "Hermès International",
          "Country": "Other",
          "Market Cap": 72.7,
          "Profits": 1.4,
          "Revenue": 6.3
         },
         {
          "Assets": 122.9,
          "Company": "Regions Financial",
          "Country": "United States",
          "Market Cap": 21.7,
          "Profits": 1.4,
          "Revenue": 6.1
         },
         {
          "Assets": 78.8,
          "Company": "GlaxoSmithKline",
          "Country": "United Kingdom",
          "Market Cap": 98.6,
          "Profits": 1.4,
          "Revenue": 39.8
         },
         {
          "Assets": 142.9,
          "Company": "Chongqing Rural Bank",
          "Country": "China",
          "Market Cap": 7.1,
          "Profits": 1.4,
          "Revenue": 6.7
         },
         {
          "Assets": 65.7,
          "Company": "Kansai Electric Power",
          "Country": "Japan",
          "Market Cap": 13,
          "Profits": 1.4,
          "Revenue": 28.3
         },
         {
          "Assets": 17.8,
          "Company": "Associated British Foods",
          "Country": "United Kingdom",
          "Market Cap": 29.5,
          "Profits": 1.4,
          "Revenue": 20.3
         },
         {
          "Assets": 24.4,
          "Company": "Fidelity National Information",
          "Country": "United States",
          "Market Cap": 34.7,
          "Profits": 1.4,
          "Revenue": 8.9
         },
         {
          "Assets": 5.9,
          "Company": "Ross Stores",
          "Country": "United States",
          "Market Cap": 31,
          "Profits": 1.4,
          "Revenue": 14.1
         },
         {
          "Assets": 18.6,
          "Company": "Woolworths",
          "Country": "Other",
          "Market Cap": 28.3,
          "Profits": 1.4,
          "Revenue": 43.3
         },
         {
          "Assets": 37.1,
          "Company": "Steinhoff International",
          "Country": "Other",
          "Market Cap": 0.574,
          "Profits": 1.4,
          "Revenue": 18.1
         },
         {
          "Assets": 12.8,
          "Company": "Kao Corp",
          "Country": "Japan",
          "Market Cap": 34.4,
          "Profits": 1.4,
          "Revenue": 13.5
         },
         {
          "Assets": 61,
          "Company": "Samba Financial Group",
          "Country": "Other",
          "Market Cap": 14.8,
          "Profits": 1.4,
          "Revenue": 2.3
         },
         {
          "Assets": 76.2,
          "Company": "GFNorte",
          "Country": "Other",
          "Market Cap": 16.1,
          "Profits": 1.4,
          "Revenue": 9.1
         },
         {
          "Assets": 7.4,
          "Company": "HCL Technologies",
          "Country": "Other",
          "Market Cap": 19.3,
          "Profits": 1.4,
          "Revenue": 7.8
         },
         {
          "Assets": 6.7,
          "Company": "Metro",
          "Country": "Other",
          "Market Cap": 7.3,
          "Profits": 1.3,
          "Revenue": 10.4
         },
         {
          "Assets": 102.9,
          "Company": "Public Bank",
          "Country": "Other",
          "Market Cap": 23.3,
          "Profits": 1.3,
          "Revenue": 4.7
         },
         {
          "Assets": 10.7,
          "Company": "Galaxy Entertainment",
          "Country": "Other",
          "Market Cap": 38.2,
          "Profits": 1.3,
          "Revenue": 8
         },
         {
          "Assets": 14.3,
          "Company": "Hilton",
          "Country": "United States",
          "Market Cap": 25.1,
          "Profits": 1.3,
          "Revenue": 9.1
         },
         {
          "Assets": 27.6,
          "Company": "Koç Holding",
          "Country": "Other",
          "Market Cap": 8,
          "Profits": 1.3,
          "Revenue": 27.1
         },
         {
          "Assets": 20.8,
          "Company": "Restaurant Brands International",
          "Country": "Other",
          "Market Cap": 26.2,
          "Profits": 1.3,
          "Revenue": 4.8
         },
         {
          "Assets": 74.8,
          "Company": "CenturyLink",
          "Country": "United States",
          "Market Cap": 21.1,
          "Profits": 1.3,
          "Revenue": 19.4
         },
         {
          "Assets": 6.5,
          "Company": "Crown Resorts",
          "Country": "Other",
          "Market Cap": 7,
          "Profits": 1.3,
          "Revenue": 2.5
         },
         {
          "Assets": 9.4,
          "Company": "AutoZone",
          "Country": "United States",
          "Market Cap": 17.8,
          "Profits": 1.3,
          "Revenue": 11.1
         },
         {
          "Assets": 93.6,
          "Company": "Athene Holding",
          "Country": "Other",
          "Market Cap": 9.3,
          "Profits": 1.3,
          "Revenue": 8.2
         },
         {
          "Assets": 111.1,
          "Company": "Bank of Jinzhou",
          "Country": "China",
          "Market Cap": 6.2,
          "Profits": 1.3,
          "Revenue": 6
         },
         {
          "Assets": 12.7,
          "Company": "Lear",
          "Country": "United States",
          "Market Cap": 12.9,
          "Profits": 1.3,
          "Revenue": 21.2
         },
         {
          "Assets": 21.1,
          "Company": "Republic Services",
          "Country": "United States",
          "Market Cap": 22.3,
          "Profits": 1.3,
          "Revenue": 10.1
         },
         {
          "Assets": 12.6,
          "Company": "Aptiv",
          "Country": "United Kingdom",
          "Market Cap": 25.5,
          "Profits": 1.3,
          "Revenue": 15.7
         },
         {
          "Assets": 14.1,
          "Company": "Uni-President",
          "Country": "Other",
          "Market Cap": 13.4,
          "Profits": 1.3,
          "Revenue": 13.6
         },
         {
          "Assets": 48.7,
          "Company": "Atlantia",
          "Country": "Other",
          "Market Cap": 27.5,
          "Profits": 1.3,
          "Revenue": 6.1
         },
         {
          "Assets": 20.6,
          "Company": "Praxair",
          "Country": "United States",
          "Market Cap": 45.3,
          "Profits": 1.3,
          "Revenue": 11.7
         },
         {
          "Assets": 19.2,
          "Company": "TE Connectivity",
          "Country": "Other",
          "Market Cap": 33.1,
          "Profits": 1.3,
          "Revenue": 14
         },
         {
          "Assets": 16.9,
          "Company": "Murata Manufacturing",
          "Country": "Japan",
          "Market Cap": 29.5,
          "Profits": 1.3,
          "Revenue": 12.4
         },
         {
          "Assets": 16.1,
          "Company": "Nucor",
          "Country": "United States",
          "Market Cap": 20.1,
          "Profits": 1.3,
          "Revenue": 21
         },
         {
          "Assets": 18.4,
          "Company": "Ingersoll Rand",
          "Country": "Other",
          "Market Cap": 22,
          "Profits": 1.3,
          "Revenue": 14.6
         },
         {
          "Assets": 52.9,
          "Company": "Credicorp",
          "Country": "Other",
          "Market Cap": 18,
          "Profits": 1.3,
          "Revenue": 5.5
         },
         {
          "Assets": 13.6,
          "Company": "Recruit Holdings",
          "Country": "Japan",
          "Market Cap": 42.8,
          "Profits": 1.3,
          "Revenue": 19.2
         },
         {
          "Assets": 41.9,
          "Company": "JFE Holdings",
          "Country": "Japan",
          "Market Cap": 12.5,
          "Profits": 1.3,
          "Revenue": 33.2
         },
         {
          "Assets": 23.2,
          "Company": "Iqvia Holdings",
          "Country": "United States",
          "Market Cap": 21.4,
          "Profits": 1.3,
          "Revenue": 10
         },
         {
          "Assets": 104.2,
          "Company": "Huntington Bancshares",
          "Country": "United States",
          "Market Cap": 16.7,
          "Profits": 1.3,
          "Revenue": 4.9
         },
         {
          "Assets": 7.4,
          "Company": "Alrosa",
          "Country": "Other",
          "Market Cap": 10.5,
          "Profits": 1.3,
          "Revenue": 4.7
         },
         {
          "Assets": 17,
          "Company": "Bharat Petroleum",
          "Country": "Other",
          "Market Cap": 12.9,
          "Profits": 1.3,
          "Revenue": 30
         },
         {
          "Assets": 24.1,
          "Company": "All Nippon Airways",
          "Country": "Japan",
          "Market Cap": 12.8,
          "Profits": 1.3,
          "Revenue": 17.8
         },
         {
          "Assets": 61.8,
          "Company": "Tesco",
          "Country": "United Kingdom",
          "Market Cap": 32.7,
          "Profits": 1.3,
          "Revenue": 75.4
         },
         {
          "Assets": 17.8,
          "Company": "Coal India",
          "Country": "Other",
          "Market Cap": 25,
          "Profits": 1.3,
          "Revenue": 12.6
         },
         {
          "Assets": 97.7,
          "Company": "Siam Commercial Bank",
          "Country": "Other",
          "Market Cap": 14.3,
          "Profits": 1.3,
          "Revenue": 6.8
         },
         {
          "Assets": 18.6,
          "Company": "Sysco",
          "Country": "United States",
          "Market Cap": 32.7,
          "Profits": 1.3,
          "Revenue": 57.8
         },
         {
          "Assets": 9,
          "Company": "Ashtead Group",
          "Country": "United Kingdom",
          "Market Cap": 14.8,
          "Profits": 1.3,
          "Revenue": 4.7
         },
         {
          "Assets": 129.7,
          "Company": "Northern Trust",
          "Country": "United States",
          "Market Cap": 24.5,
          "Profits": 1.3,
          "Revenue": 5.9
         },
         {
          "Assets": 16.1,
          "Company": "Braskem",
          "Country": "Other",
          "Market Cap": 10.1,
          "Profits": 1.3,
          "Revenue": 15.4
         },
         {
          "Assets": 16.1,
          "Company": "Chunghwa Telecom",
          "Country": "Other",
          "Market Cap": 28.4,
          "Profits": 1.3,
          "Revenue": 7.6
         },
         {
          "Assets": 83.6,
          "Company": "Telecom Italia",
          "Country": "Other",
          "Market Cap": 20.2,
          "Profits": 1.3,
          "Revenue": 22.4
         },
         {
          "Assets": 25,
          "Company": "Cielo",
          "Country": "Other",
          "Market Cap": 13.7,
          "Profits": 1.3,
          "Revenue": 3.6
         },
         {
          "Assets": 15.4,
          "Company": "Nintendo",
          "Country": "Japan",
          "Market Cap": 59.8,
          "Profits": 1.3,
          "Revenue": 9.5
         },
         {
          "Assets": 15.3,
          "Company": "JM Smucker",
          "Country": "United States",
          "Market Cap": 12.8,
          "Profits": 1.3,
          "Revenue": 7.4
         },
         {
          "Assets": 50.5,
          "Company": "Edp-energias De Portugal",
          "Country": "Other",
          "Market Cap": 13.5,
          "Profits": 1.3,
          "Revenue": 17.8
         },
         {
          "Assets": 25.8,
          "Company": "Kubota",
          "Country": "Japan",
          "Market Cap": 21.1,
          "Profits": 1.3,
          "Revenue": 16
         },
         {
          "Assets": 16.8,
          "Company": "LabCorp",
          "Country": "United States",
          "Market Cap": 18,
          "Profits": 1.2,
          "Revenue": 10.8
         },
         {
          "Assets": 156.6,
          "Company": "Johnson & Johnson",
          "Country": "United States",
          "Market Cap": 341.3,
          "Profits": 1.2,
          "Revenue": 78.7
         },
         {
          "Assets": 11.7,
          "Company": "Wipro",
          "Country": "Other",
          "Market Cap": 18.3,
          "Profits": 1.2,
          "Revenue": 8.5
         },
         {
          "Assets": 14.4,
          "Company": "Merlin Properties SOCIMI S.A",
          "Country": "Other",
          "Market Cap": 7.1,
          "Profits": 1.2,
          "Revenue": 0.547
         },
         {
          "Assets": 31.8,
          "Company": "WEC Energy Group",
          "Country": "United States",
          "Market Cap": 19.5,
          "Profits": 1.2,
          "Revenue": 7.6
         },
         {
          "Assets": 27.7,
          "Company": "Sumitomo Chemical",
          "Country": "Japan",
          "Market Cap": 9.4,
          "Profits": 1.2,
          "Revenue": 19.5
         },
         {
          "Assets": 6.5,
          "Company": "Polyus",
          "Country": "Other",
          "Market Cap": 8.3,
          "Profits": 1.2,
          "Revenue": 2.7
         },
         {
          "Assets": 12.1,
          "Company": "SMC",
          "Country": "Japan",
          "Market Cap": 26.5,
          "Profits": 1.2,
          "Revenue": 5.1
         },
         {
          "Assets": 21.8,
          "Company": "Apache",
          "Country": "United States",
          "Market Cap": 15.8,
          "Profits": 1.2,
          "Revenue": 6.1
         },
         {
          "Assets": 162.3,
          "Company": "Raiffeisen Bank International",
          "Country": "Other",
          "Market Cap": 11.2,
          "Profits": 1.2,
          "Revenue": 8.1
         },
         {
          "Assets": 9.9,
          "Company": "Neste Oil",
          "Country": "Other",
          "Market Cap": 20.6,
          "Profits": 1.2,
          "Revenue": 16.1
         },
         {
          "Assets": 12.5,
          "Company": "Hindustan Petroleum",
          "Country": "Other",
          "Market Cap": 7.2,
          "Profits": 1.2,
          "Revenue": 27.9
         },
         {
          "Assets": 10.7,
          "Company": "Segro",
          "Country": "United Kingdom",
          "Market Cap": 9,
          "Profits": 1.2,
          "Revenue": 0.382
         },
         {
          "Assets": 91.1,
          "Company": "Haitong Securities",
          "Country": "China",
          "Market Cap": 19.4,
          "Profits": 1.2,
          "Revenue": 4.2
         },
         {
          "Assets": 43,
          "Company": "Bouygues",
          "Country": "Other",
          "Market Cap": 18.8,
          "Profits": 1.2,
          "Revenue": 37.1
         },
         {
          "Assets": 179.5,
          "Company": "CTBC Financial",
          "Country": "Other",
          "Market Cap": 14.4,
          "Profits": 1.2,
          "Revenue": 14.6
         },
         {
          "Assets": 16,
          "Company": "UC Rusal",
          "Country": "Other",
          "Market Cap": 3.9,
          "Profits": 1.2,
          "Revenue": 10
         },
         {
          "Assets": 17.4,
          "Company": "Japan Airlines",
          "Country": "Japan",
          "Market Cap": 12.9,
          "Profits": 1.2,
          "Revenue": 12.5
         },
         {
          "Assets": 7.9,
          "Company": "Magnitogorsk Iron & Steel",
          "Country": "Other",
          "Market Cap": 8.3,
          "Profits": 1.2,
          "Revenue": 7.9
         },
         {
          "Assets": 15.9,
          "Company": "UPM-Kymmene",
          "Country": "Other",
          "Market Cap": 19.8,
          "Profits": 1.2,
          "Revenue": 11.7
         },
         {
          "Assets": 40.9,
          "Company": "Wilmar International",
          "Country": "Other",
          "Market Cap": 15,
          "Profits": 1.2,
          "Revenue": 43.8
         },
         {
          "Assets": 108.1,
          "Company": "Allied Irish Banks",
          "Country": "Other",
          "Market Cap": 16.2,
          "Profits": 1.2,
          "Revenue": 3.8
         },
         {
          "Assets": 20.6,
          "Company": "CBS",
          "Country": "United States",
          "Market Cap": 19.9,
          "Profits": 1.2,
          "Revenue": 14.1
         },
         {
          "Assets": 33.2,
          "Company": "Aisin Seiki",
          "Country": "Japan",
          "Market Cap": 14.9,
          "Profits": 1.2,
          "Revenue": 35.3
         },
         {
          "Assets": 295.5,
          "Company": "Woori Bank",
          "Country": "South Korea",
          "Market Cap": 9.8,
          "Profits": 1.2,
          "Revenue": 12.5
         },
         {
          "Assets": 34.4,
          "Company": "American Tower",
          "Country": "United States",
          "Market Cap": 61.3,
          "Profits": 1.2,
          "Revenue": 6.8
         },
         {
          "Assets": 12.7,
          "Company": "Ferguson",
          "Country": "Other",
          "Market Cap": 18.9,
          "Profits": 1.2,
          "Revenue": 18.6
         },
         {
          "Assets": 61.6,
          "Company": "GF Securities",
          "Country": "China",
          "Market Cap": 17.7,
          "Profits": 1.2,
          "Revenue": 2.9
         },
         {
          "Assets": 43.2,
          "Company": "Xcel Energy",
          "Country": "United States",
          "Market Cap": 23,
          "Profits": 1.2,
          "Revenue": 11.4
         },
         {
          "Assets": 172.4,
          "Company": "ICICI Bank",
          "Country": "Other",
          "Market Cap": 29.7,
          "Profits": 1.2,
          "Revenue": 18.5
         },
         {
          "Assets": 22.2,
          "Company": "Sekisui House",
          "Country": "Japan",
          "Market Cap": 12.7,
          "Profits": 1.2,
          "Revenue": 19.3
         },
         {
          "Assets": 16.6,
          "Company": "Nidec",
          "Country": "Japan",
          "Market Cap": 46.9,
          "Profits": 1.2,
          "Revenue": 13.4
         },
         {
          "Assets": 22.2,
          "Company": "Kerry Properties",
          "Country": "Other",
          "Market Cap": 7.1,
          "Profits": 1.2,
          "Revenue": 4.7
         },
         {
          "Assets": 10.8,
          "Company": "Dexus",
          "Country": "Other",
          "Market Cap": 7.4,
          "Profits": 1.2,
          "Revenue": 0.718
         },
         {
          "Assets": 23.2,
          "Company": "DP World",
          "Country": "Other",
          "Market Cap": 18.3,
          "Profits": 1.2,
          "Revenue": 4.7
         },
         {
          "Assets": 42.4,
          "Company": "PPL",
          "Country": "United States",
          "Market Cap": 19.4,
          "Profits": 1.2,
          "Revenue": 7.6
         },
         {
          "Assets": 40.5,
          "Company": "Toyota Tsusho",
          "Country": "Japan",
          "Market Cap": 13.1,
          "Profits": 1.2,
          "Revenue": 58.6
         },
         {
          "Assets": 7.7,
          "Company": "O'Reilly Automotive",
          "Country": "United States",
          "Market Cap": 22.1,
          "Profits": 1.2,
          "Revenue": 9.1
         },
         {
          "Assets": 12.1,
          "Company": "Luxottica Group",
          "Country": "Other",
          "Market Cap": 30,
          "Profits": 1.2,
          "Revenue": 10.3
         },
         {
          "Assets": 14.3,
          "Company": "PTT Global Chemical",
          "Country": "Other",
          "Market Cap": 13.4,
          "Profits": 1.2,
          "Revenue": 13.6
         },
         {
          "Assets": 15.8,
          "Company": "Symantec",
          "Country": "United States",
          "Market Cap": 12.1,
          "Profits": 1.2,
          "Revenue": 4.8
         },
         {
          "Assets": 16.9,
          "Company": "Kajima",
          "Country": "Japan",
          "Market Cap": 10,
          "Profits": 1.2,
          "Revenue": 17.1
         },
         {
          "Assets": 80.8,
          "Company": "Loews",
          "Country": "United States",
          "Market Cap": 16.5,
          "Profits": 1.2,
          "Revenue": 13.8
         },
         {
          "Assets": 47.2,
          "Company": "Shimao Property Holdings",
          "Country": "Other",
          "Market Cap": 9.2,
          "Profits": 1.2,
          "Revenue": 10.4
         },
         {
          "Assets": 31.7,
          "Company": "Wesfarmers",
          "Country": "Other",
          "Market Cap": 37.7,
          "Profits": 1.2,
          "Revenue": 53
         },
         {
          "Assets": 14.8,
          "Company": "South32",
          "Country": "Other",
          "Market Cap": 15.2,
          "Profits": 1.2,
          "Revenue": 7.2
         },
         {
          "Assets": 111.6,
          "Company": "Southern Company",
          "Country": "United States",
          "Market Cap": 45.5,
          "Profits": 1.2,
          "Revenue": 23.8
         },
         {
          "Assets": 12.8,
          "Company": "The Estée Lauder Companies",
          "Country": "United States",
          "Market Cap": 51.5,
          "Profits": 1.2,
          "Revenue": 13.3
         },
         {
          "Assets": 10,
          "Company": "JetBlue Airways",
          "Country": "United States",
          "Market Cap": 6,
          "Profits": 1.2,
          "Revenue": 7.2
         },
         {
          "Assets": 169.8,
          "Company": "Korea Electric Power",
          "Country": "South Korea",
          "Market Cap": 21.5,
          "Profits": 1.1,
          "Revenue": 52.9
         },
         {
          "Assets": 72.6,
          "Company": "Abu Dhabi Commercial Bank",
          "Country": "Other",
          "Market Cap": 9.7,
          "Profits": 1.1,
          "Revenue": 3.5
         },
         {
          "Assets": 39.6,
          "Company": "Hyundai Mobis",
          "Country": "South Korea",
          "Market Cap": 21,
          "Profits": 1.1,
          "Revenue": 30.7
         },
         {
          "Assets": 82.3,
          "Company": "Halkbank",
          "Country": "Other",
          "Market Cap": 2.2,
          "Profits": 1.1,
          "Revenue": 7.7
         },
         {
          "Assets": 18.2,
          "Company": "Taisei",
          "Country": "Japan",
          "Market Cap": 12.4,
          "Profits": 1.1,
          "Revenue": 14.3
         },
         {
          "Assets": 96.4,
          "Company": "Sinohydro Group",
          "Country": "China",
          "Market Cap": 15.2,
          "Profits": 1.1,
          "Revenue": 41.2
         },
         {
          "Assets": 31.2,
          "Company": "Weichai Power",
          "Country": "China",
          "Market Cap": 9.6,
          "Profits": 1.1,
          "Revenue": 23.4
         },
         {
          "Assets": 13.2,
          "Company": "DR Horton",
          "Country": "United States",
          "Market Cap": 16.6,
          "Profits": 1.1,
          "Revenue": 15.1
         },
         {
          "Assets": 18.5,
          "Company": "Air Products & Chemicals",
          "Country": "United States",
          "Market Cap": 36.5,
          "Profits": 1.1,
          "Revenue": 8.7
         },
         {
          "Assets": 219.1,
          "Company": "Old Mutual",
          "Country": "United Kingdom",
          "Market Cap": 17,
          "Profits": 1.1,
          "Revenue": 13.3
         },
         {
          "Assets": 13.7,
          "Company": "Ceconomy",
          "Country": "Other",
          "Market Cap": 3.5,
          "Profits": 1.1,
          "Revenue": 25
         },
         {
          "Assets": 31.6,
          "Company": "Invesco",
          "Country": "United States",
          "Market Cap": 11.6,
          "Profits": 1.1,
          "Revenue": 5.4
         },
         {
          "Assets": 12.4,
          "Company": "Mahindra & Mahindra",
          "Country": "Other",
          "Market Cap": 16.1,
          "Profits": 1.1,
          "Revenue": 14
         },
         {
          "Assets": 15.3,
          "Company": "WH Group",
          "Country": "Other",
          "Market Cap": 14.9,
          "Profits": 1.1,
          "Revenue": 22.4
         },
         {
          "Assets": 15.2,
          "Company": "Fast Retailing",
          "Country": "Japan",
          "Market Cap": 45.7,
          "Profits": 1.1,
          "Revenue": 18.2
         },
         {
          "Assets": 14.4,
          "Company": "Concho Resources",
          "Country": "United States",
          "Market Cap": 22.8,
          "Profits": 1.1,
          "Revenue": 2.9
         },
         {
          "Assets": 15.5,
          "Company": "Great Eagle Holdings",
          "Country": "Other",
          "Market Cap": 3.4,
          "Profits": 1.1,
          "Revenue": 1.2
         },
         {
          "Assets": 9.5,
          "Company": "Amadeus IT Group",
          "Country": "Other",
          "Market Cap": 33.6,
          "Profits": 1.1,
          "Revenue": 5.5
         },
         {
          "Assets": 139.5,
          "Company": "Huishang Bank",
          "Country": "China",
          "Market Cap": 5.4,
          "Profits": 1.1,
          "Revenue": 6.2
         },
         {
          "Assets": 69.1,
          "Company": "VakifBank",
          "Country": "Other",
          "Market Cap": 3.3,
          "Profits": 1.1,
          "Revenue": 6.8
         },
         {
          "Assets": 23.6,
          "Company": "TELUS",
          "Country": "Other",
          "Market Cap": 21.3,
          "Profits": 1.1,
          "Revenue": 10.2
         },
         {
          "Assets": 44.4,
          "Company": "Eli Lilly",
          "Country": "United States",
          "Market Cap": 89.5,
          "Profits": 1.1,
          "Revenue": 23.3
         },
         {
          "Assets": 158.3,
          "Company": "Shengjing Bank",
          "Country": "China",
          "Market Cap": 3.9,
          "Profits": 1.1,
          "Revenue": 6.5
         },
         {
          "Assets": 103.5,
          "Company": "Bank of East Asia",
          "Country": "Other",
          "Market Cap": 12.3,
          "Profits": 1.1,
          "Revenue": 3.6
         },
         {
          "Assets": 20.2,
          "Company": "Norsk Hydro",
          "Country": "Other",
          "Market Cap": 12.4,
          "Profits": 1.1,
          "Revenue": 15.5
         },
         {
          "Assets": 69.2,
          "Company": "AGNC Investment",
          "Country": "United States",
          "Market Cap": 7.4,
          "Profits": 1.1,
          "Revenue": 2.2
         },
         {
          "Assets": 8.4,
          "Company": "Kone",
          "Country": "Other",
          "Market Cap": 25.7,
          "Profits": 1.1,
          "Revenue": 10.7
         },
         {
          "Assets": 10.9,
          "Company": "HollyFrontier",
          "Country": "United States",
          "Market Cap": 11.9,
          "Profits": 1.1,
          "Revenue": 15.3
         },
         {
          "Assets": 32.4,
          "Company": "Power Grid of India",
          "Country": "Other",
          "Market Cap": 16.1,
          "Profits": 1.1,
          "Revenue": 3.8
         },
         {
          "Assets": 7.1,
          "Company": "Jiangsu Yanghe Brewery",
          "Country": "China",
          "Market Cap": 30.9,
          "Profits": 1.1,
          "Revenue": 2.9
         },
         {
          "Assets": 34.4,
          "Company": "Larsen & Toubro",
          "Country": "Other",
          "Market Cap": 28.9,
          "Profits": 1.1,
          "Revenue": 17.8
         },
         {
          "Assets": 23.5,
          "Company": "Omnicom Group",
          "Country": "United States",
          "Market Cap": 17.1,
          "Profits": 1.1,
          "Revenue": 15.3
         },
         {
          "Assets": 130.8,
          "Company": "Cnpc Capital",
          "Country": "China",
          "Market Cap": 18.8,
          "Profits": 1.1,
          "Revenue": 5
         },
         {
          "Assets": 10.7,
          "Company": "Fortive",
          "Country": "United States",
          "Market Cap": 26.4,
          "Profits": 1.1,
          "Revenue": 6.9
         },
         {
          "Assets": 51.2,
          "Company": "Heineken",
          "Country": "Other",
          "Market Cap": 28.5,
          "Profits": 1.1,
          "Revenue": 24.7
         },
         {
          "Assets": 31.7,
          "Company": "Yanzhou Coal Mining",
          "Country": "China",
          "Market Cap": 9.9,
          "Profits": 1.1,
          "Revenue": 21.2
         },
         {
          "Assets": 30.4,
          "Company": "BAE Systems",
          "Country": "United Kingdom",
          "Market Cap": 27.5,
          "Profits": 1.1,
          "Revenue": 23.6
         },
         {
          "Assets": 14.6,
          "Company": "Schaeffler",
          "Country": "Other",
          "Market Cap": 10.7,
          "Profits": 1.1,
          "Revenue": 16.4
         },
         {
          "Assets": 13.5,
          "Company": "Vicinity Centres",
          "Country": "Other",
          "Market Cap": 7.5,
          "Profits": 1.1,
          "Revenue": 1.1
         },
         {
          "Assets": 47.4,
          "Company": "CapitaLand",
          "Country": "Other",
          "Market Cap": 11.6,
          "Profits": 1.1,
          "Revenue": 4
         },
         {
          "Assets": 33.8,
          "Company": "DTE Energy",
          "Country": "United States",
          "Market Cap": 18.6,
          "Profits": 1.1,
          "Revenue": 13
         },
         {
          "Assets": 12.1,
          "Company": "Chesapeake Energy",
          "Country": "United States",
          "Market Cap": 3.1,
          "Profits": 1.1,
          "Revenue": 9.3
         },
         {
          "Assets": 57.5,
          "Company": "Dubai Islamic Bank",
          "Country": "Other",
          "Market Cap": 6.6,
          "Profits": 1.1,
          "Revenue": 2.8
         },
         {
          "Assets": 28.4,
          "Company": "Sumitomo Electric",
          "Country": "Japan",
          "Market Cap": 12.1,
          "Profits": 1.1,
          "Revenue": 27.8
         },
         {
          "Assets": 41.8,
          "Company": "BOE Technology Group",
          "Country": "China",
          "Market Cap": 24.1,
          "Profits": 1.1,
          "Revenue": 14
         },
         {
          "Assets": 24.6,
          "Company": "Qingdao Haier",
          "Country": "China",
          "Market Cap": 17.3,
          "Profits": 1.1,
          "Revenue": 24.6
         },
         {
          "Assets": 42.5,
          "Company": "AerCap Holdings",
          "Country": "Other",
          "Market Cap": 8,
          "Profits": 1.1,
          "Revenue": 5
         },
         {
          "Assets": 48.8,
          "Company": "Sumitomo Realty",
          "Country": "Japan",
          "Market Cap": 19.3,
          "Profits": 1.1,
          "Revenue": 8.6
         },
         {
          "Assets": 26.2,
          "Company": "Fortum",
          "Country": "Other",
          "Market Cap": 21.3,
          "Profits": 1.1,
          "Revenue": 5.7
         },
         {
          "Assets": 13.7,
          "Company": "Power Assets Holdings",
          "Country": "Other",
          "Market Cap": 16.1,
          "Profits": 1.1,
          "Revenue": 0.182
         },
         {
          "Assets": 35.7,
          "Company": "Gemdale",
          "Country": "China",
          "Market Cap": 8.1,
          "Profits": 1.1,
          "Revenue": 5.3
         },
         {
          "Assets": 8,
          "Company": "Erdemir",
          "Country": "Other",
          "Market Cap": 8.4,
          "Profits": 1.1,
          "Revenue": 5.4
         },
         {
          "Assets": 14.8,
          "Company": "AU Optronics",
          "Country": "Other",
          "Market Cap": 4.1,
          "Profits": 1.1,
          "Revenue": 11.2
         },
         {
          "Assets": 25.4,
          "Company": "British Sky Broadcasting",
          "Country": "United Kingdom",
          "Market Cap": 31.6,
          "Profits": 1.1,
          "Revenue": 17.1
         },
         {
          "Assets": 10.2,
          "Company": "Keurig Dr Pepper",
          "Country": "United States",
          "Market Cap": 21.5,
          "Profits": 1.1,
          "Revenue": 6.8
         },
         {
          "Assets": 95.8,
          "Company": "Kasikornbank",
          "Country": "Other",
          "Market Cap": 14.7,
          "Profits": 1.1,
          "Revenue": 5.8
         },
         {
          "Assets": 39.2,
          "Company": "Hong Kong Exchanges",
          "Country": "Other",
          "Market Cap": 41.3,
          "Profits": 1.1,
          "Revenue": 1.8
         },
         {
          "Assets": 16.8,
          "Company": "Towngas",
          "Country": "Other",
          "Market Cap": 30,
          "Profits": 1.1,
          "Revenue": 4.2
         },
         {
          "Assets": 48.7,
          "Company": "Saudi British Bank",
          "Country": "Other",
          "Market Cap": 13,
          "Profits": 1.1,
          "Revenue": 2
         },
         {
          "Assets": 91.8,
          "Company": "Sabanci Holding",
          "Country": "Other",
          "Market Cap": 4.7,
          "Profits": 1.1,
          "Revenue": 12.2
         },
         {
          "Assets": 8.3,
          "Company": "Campbell Soup",
          "Country": "United States",
          "Market Cap": 12.2,
          "Profits": 1.1,
          "Revenue": 7.9
         },
         {
          "Assets": 57.7,
          "Company": "Riyad Bank",
          "Country": "Other",
          "Market Cap": 11.5,
          "Profits": 1.1,
          "Revenue": 2.6
         },
         {
          "Assets": 30.9,
          "Company": "Cenovus Energy",
          "Country": "Other",
          "Market Cap": 13.4,
          "Profits": 1.1,
          "Revenue": 14.1
         },
         {
          "Assets": 35,
          "Company": "China Southern Airlines",
          "Country": "China",
          "Market Cap": 14.6,
          "Profits": 1,
          "Revenue": 19.7
         },
         {
          "Assets": 2.4,
          "Company": "NKT",
          "Country": "Other",
          "Market Cap": 0.801,
          "Profits": 1,
          "Revenue": 1.7
         },
         {
          "Assets": 27.4,
          "Company": "YPF",
          "Country": "Other",
          "Market Cap": 8.5,
          "Profits": 1,
          "Revenue": 15.5
         },
         {
          "Assets": 17.3,
          "Company": "Pioneer Natural Resources",
          "Country": "United States",
          "Market Cap": 34.5,
          "Profits": 1,
          "Revenue": 7
         },
         {
          "Assets": 50.8,
          "Company": "Bank Negara Indonesia",
          "Country": "Other",
          "Market Cap": 11.1,
          "Profits": 1,
          "Revenue": 4.9
         },
         {
          "Assets": 89.4,
          "Company": "National Bank of Kuwait",
          "Country": "Other",
          "Market Cap": 15,
          "Profits": 1,
          "Revenue": 3.8
         },
         {
          "Assets": 8.6,
          "Company": "Electronic Arts",
          "Country": "United States",
          "Market Cap": 40.7,
          "Profits": 1,
          "Revenue": 5.1
         },
         {
          "Assets": 33.6,
          "Company": "DXC Technology",
          "Country": "United States",
          "Market Cap": 29.9,
          "Profits": 1,
          "Revenue": 20.2
         },
         {
          "Assets": 125.3,
          "Company": "CIMB Group Holdings",
          "Country": "Other",
          "Market Cap": 16.4,
          "Profits": 1,
          "Revenue": 6.6
         },
         {
          "Assets": 12.5,
          "Company": "Assa Abloy",
          "Country": "Other",
          "Market Cap": 24.7,
          "Profits": 1,
          "Revenue": 9.2
         },
         {
          "Assets": 63,
          "Company": "Unum",
          "Country": "United States",
          "Market Cap": 8.4,
          "Profits": 1,
          "Revenue": 11.4
         },
         {
          "Assets": 38,
          "Company": "Shenzhen Overseas",
          "Country": "China",
          "Market Cap": 10.6,
          "Profits": 1,
          "Revenue": 4.3
         },
         {
          "Assets": 12.4,
          "Company": "LEG Immobilien AG",
          "Country": "Other",
          "Market Cap": 7.1,
          "Profits": 1,
          "Revenue": 0.958
         },
         {
          "Assets": 42.5,
          "Company": "HeidelbergCement",
          "Country": "Other",
          "Market Cap": 19,
          "Profits": 1,
          "Revenue": 19.5
         },
         {
          "Assets": 264,
          "Company": "Samsung Life Insurance",
          "Country": "South Korea",
          "Market Cap": 21.4,
          "Profits": 1,
          "Revenue": 25.3
         },
         {
          "Assets": 16.8,
          "Company": "MOL Hungarian Oil",
          "Country": "Other",
          "Market Cap": 8,
          "Profits": 1,
          "Revenue": 15.8
         },
         {
          "Assets": 26.2,
          "Company": "Foncière des Régions",
          "Country": "Other",
          "Market Cap": 8.6,
          "Profits": 1,
          "Revenue": 1.1
         },
         {
          "Assets": 22.8,
          "Company": "Otsuka Holding",
          "Country": "Japan",
          "Market Cap": 26,
          "Profits": 1,
          "Revenue": 11.3
         },
         {
          "Assets": 9.3,
          "Company": "KT&G",
          "Country": "South Korea",
          "Market Cap": 11.8,
          "Profits": 1,
          "Revenue": 4.1
         },
         {
          "Assets": 25.2,
          "Company": "Centene",
          "Country": "United States",
          "Market Cap": 23.5,
          "Profits": 1,
          "Revenue": 49.9
         },
         {
          "Assets": 9,
          "Company": "Moody's",
          "Country": "United States",
          "Market Cap": 33.4,
          "Profits": 1,
          "Revenue": 4.4
         },
         {
          "Assets": 4.7,
          "Company": "President Chain Store",
          "Country": "Other",
          "Market Cap": 10.6,
          "Profits": 1,
          "Revenue": 7.6
         },
         {
          "Assets": 51.1,
          "Company": "OTP Bank",
          "Country": "Other",
          "Market Cap": 10.9,
          "Profits": 1,
          "Revenue": 4
         },
         {
          "Assets": 14.1,
          "Company": "Roper Technologies",
          "Country": "United States",
          "Market Cap": 28.8,
          "Profits": 1,
          "Revenue": 4.7
         },
         {
          "Assets": 25.4,
          "Company": "Woodside Petroleum",
          "Country": "Other",
          "Market Cap": 23.7,
          "Profits": 1,
          "Revenue": 3.9
         },
         {
          "Assets": 218.6,
          "Company": "Swiss Life Holding",
          "Country": "Other",
          "Market Cap": 12.3,
          "Profits": 1,
          "Revenue": 19.4
         },
         {
          "Assets": 9.8,
          "Company": "Celanese",
          "Country": "United States",
          "Market Cap": 14.7,
          "Profits": 1,
          "Revenue": 6.5
         },
         {
          "Assets": 14.4,
          "Company": "Continental Resources",
          "Country": "United States",
          "Market Cap": 25.4,
          "Profits": 1,
          "Revenue": 3.5
         },
         {
          "Assets": 65.9,
          "Company": "Asr Nederland",
          "Country": "Other",
          "Market Cap": 6.5,
          "Profits": 1,
          "Revenue": 7.2
         },
         {
          "Assets": 101.5,
          "Company": "Bangkok Bank",
          "Country": "Other",
          "Market Cap": 11.4,
          "Profits": 1,
          "Revenue": 4.9
         },
         {
          "Assets": 22.1,
          "Company": "Stryker",
          "Country": "United States",
          "Market Cap": 63.3,
          "Profits": 1,
          "Revenue": 12.7
         },
         {
          "Assets": 570,
          "Company": "Sumitomo Mitsui Trust",
          "Country": "Japan",
          "Market Cap": 16.3,
          "Profits": 1,
          "Revenue": 11.3
         },
         {
          "Assets": 6.4,
          "Company": "Persimmon",
          "Country": "United Kingdom",
          "Market Cap": 11.8,
          "Profits": 1,
          "Revenue": 4.4
         },
         {
          "Assets": 35.8,
          "Company": "Abertis",
          "Country": "Other",
          "Market Cap": 19.9,
          "Profits": 1,
          "Revenue": 5.9
         },
         {
          "Assets": 26.7,
          "Company": "Snam",
          "Country": "Other",
          "Market Cap": 15.6,
          "Profits": 1,
          "Revenue": 2.8
         },
         {
          "Assets": 10.9,
          "Company": "Nine Dragons Paper Holdings",
          "Country": "Other",
          "Market Cap": 7.9,
          "Profits": 1,
          "Revenue": 6.8
         },
         {
          "Assets": 25.7,
          "Company": "Mazda Motor",
          "Country": "Japan",
          "Market Cap": 8.4,
          "Profits": 1,
          "Revenue": 31.3
         },
         {
          "Assets": 38.6,
          "Company": "TD Ameritrade Holding",
          "Country": "United States",
          "Market Cap": 34.9,
          "Profits": 1,
          "Revenue": 4.6
         },
         {
          "Assets": 8,
          "Company": "Guangdong Wens Foodstuffs Group",
          "Country": "China",
          "Market Cap": 18.1,
          "Profits": 1,
          "Revenue": 8.4
         },
         {
          "Assets": 7.3,
          "Company": "Hershey",
          "Country": "United States",
          "Market Cap": 18.8,
          "Profits": 1,
          "Revenue": 7.6
         },
         {
          "Assets": 19.7,
          "Company": "Stanley Black & Decker",
          "Country": "United States",
          "Market Cap": 22.2,
          "Profits": 1,
          "Revenue": 13.2
         },
         {
          "Assets": 9.2,
          "Company": "Industries Qatar",
          "Country": "Other",
          "Market Cap": 18.3,
          "Profits": 1,
          "Revenue": 1.3
         },
         {
          "Assets": 16.2,
          "Company": "Parker-Hannifin",
          "Country": "United States",
          "Market Cap": 23.3,
          "Profits": 1,
          "Revenue": 14
         },
         {
          "Assets": 13.3,
          "Company": "Best Buy",
          "Country": "United States",
          "Market Cap": 21.9,
          "Profits": 1,
          "Revenue": 42.2
         },
         {
          "Assets": 20.9,
          "Company": "Valeo",
          "Country": "Other",
          "Market Cap": 16.2,
          "Profits": 0.999,
          "Revenue": 20.9
         },
         {
          "Assets": 28.1,
          "Company": "LG Display",
          "Country": "South Korea",
          "Market Cap": 7.8,
          "Profits": 0.999,
          "Revenue": 23.8
         },
         {
          "Assets": 37,
          "Company": "Eversource Energy",
          "Country": "United States",
          "Market Cap": 18.4,
          "Profits": 0.998,
          "Revenue": 7.9
         },
         {
          "Assets": 198.8,
          "Company": "Daiwa Securities",
          "Country": "Japan",
          "Market Cap": 9.8,
          "Profits": 0.998,
          "Revenue": 6.4
         },
         {
          "Assets": 28.9,
          "Company": "West Japan Railway",
          "Country": "Japan",
          "Market Cap": 14.2,
          "Profits": 0.997,
          "Revenue": 13.5
         },
         {
          "Assets": 25,
          "Company": "Evonik",
          "Country": "Other",
          "Market Cap": 17.4,
          "Profits": 0.997,
          "Revenue": 16.8
         },
         {
          "Assets": 20.4,
          "Company": "Akzo Nobel",
          "Country": "Other",
          "Market Cap": 22.4,
          "Profits": 0.988,
          "Revenue": 13.9
         },
         {
          "Assets": 269.4,
          "Company": "Banco de Sabadell",
          "Country": "Other",
          "Market Cap": 11.5,
          "Profits": 0.987,
          "Revenue": 8.4
         },
         {
          "Assets": 179.7,
          "Company": "Deutsche Boerse",
          "Country": "Other",
          "Market Cap": 26,
          "Profits": 0.985,
          "Revenue": 3.4
         },
         {
          "Assets": 8.1,
          "Company": "L Brands",
          "Country": "United States",
          "Market Cap": 9,
          "Profits": 0.983,
          "Revenue": 12.6
         },
         {
          "Assets": 6.8,
          "Company": "Shionogi",
          "Country": "Japan",
          "Market Cap": 16.5,
          "Profits": 0.982,
          "Revenue": 3.1
         },
         {
          "Assets": 12.6,
          "Company": "Mohawk Industries",
          "Country": "United States",
          "Market Cap": 15.9,
          "Profits": 0.98,
          "Revenue": 9.7
         },
         {
          "Assets": 28.7,
          "Company": "Grupo Inbursa",
          "Country": "Other",
          "Market Cap": 10.4,
          "Profits": 0.979,
          "Revenue": 4.5
         },
         {
          "Assets": 8.7,
          "Company": "Zoetis",
          "Country": "United States",
          "Market Cap": 40.9,
          "Profits": 0.978,
          "Revenue": 5.4
         },
         {
          "Assets": 6.1,
          "Company": "Berkeley Group Holdings",
          "Country": "United Kingdom",
          "Market Cap": 7.6,
          "Profits": 0.978,
          "Revenue": 3.7
         },
         {
          "Assets": 13.7,
          "Company": "Vestas Wind Systems",
          "Country": "Other",
          "Market Cap": 13.6,
          "Profits": 0.977,
          "Revenue": 11.4
         },
         {
          "Assets": 18.6,
          "Company": "Essity Ab",
          "Country": "Other",
          "Market Cap": 18.7,
          "Profits": 0.973,
          "Revenue": 13.4
         },
         {
          "Assets": 10.1,
          "Company": "GPT Group",
          "Country": "Other",
          "Market Cap": 6.6,
          "Profits": 0.973,
          "Revenue": 0.543
         },
         {
          "Assets": 28.6,
          "Company": "Publicis Groupe",
          "Country": "Other",
          "Market Cap": 16.8,
          "Profits": 0.972,
          "Revenue": 10.9
         },
         {
          "Assets": 8.9,
          "Company": "Petronas Chemicals",
          "Country": "Other",
          "Market Cap": 17.1,
          "Profits": 0.972,
          "Revenue": 4
         },
         {
          "Assets": 15.6,
          "Company": "Mitsubishi Motors",
          "Country": "Japan",
          "Market Cap": 11.7,
          "Profits": 0.971,
          "Revenue": 19.8
         },
         {
          "Assets": 17.8,
          "Company": "Isuzu Motors",
          "Country": "Japan",
          "Market Cap": 12,
          "Profits": 0.97,
          "Revenue": 18.4
         },
         {
          "Assets": 25.4,
          "Company": "Barrick Gold",
          "Country": "Other",
          "Market Cap": 15.7,
          "Profits": 0.97,
          "Revenue": 8.2
         },
         {
          "Assets": 24.1,
          "Company": "NXP Semiconductors",
          "Country": "Other",
          "Market Cap": 34,
          "Profits": 0.968,
          "Revenue": 9.3
         },
         {
          "Assets": 25.8,
          "Company": "Solvay",
          "Country": "Other",
          "Market Cap": 14.3,
          "Profits": 0.967,
          "Revenue": 13.2
         },
         {
          "Assets": 170,
          "Company": "Ally Financial",
          "Country": "United States",
          "Market Cap": 11.5,
          "Profits": 0.965,
          "Revenue": 10.1
         },
         {
          "Assets": 51.8,
          "Company": "Kotak Mahindra Bank",
          "Country": "Other",
          "Market Cap": 35.8,
          "Profits": 0.962,
          "Revenue": 6
         },
         {
          "Assets": 7.8,
          "Company": "Inner Mongolia Yili",
          "Country": "China",
          "Market Cap": 24.8,
          "Profits": 0.961,
          "Revenue": 10.8
         },
         {
          "Assets": 20.3,
          "Company": "Sino Land",
          "Country": "Other",
          "Market Cap": 5.9,
          "Profits": 0.961,
          "Revenue": 1.5
         },
         {
          "Assets": 9.1,
          "Company": "Kansas City Southern",
          "Country": "United States",
          "Market Cap": 11.3,
          "Profits": 0.96,
          "Revenue": 2.7
         },
         {
          "Assets": 3.6,
          "Company": "Fraser & Neave",
          "Country": "Other",
          "Market Cap": 2.3,
          "Profits": 0.954,
          "Revenue": 1.4
         },
         {
          "Assets": 3.8,
          "Company": "KBC Ancora",
          "Country": "Other",
          "Market Cap": 4.6,
          "Profits": 0.953,
          "Revenue": 0.245
         },
         {
          "Assets": 67,
          "Company": "Metallurgical Corp of China",
          "Country": "China",
          "Market Cap": 11.4,
          "Profits": 0.952,
          "Revenue": 38.2
         },
         {
          "Assets": 17.2,
          "Company": "Logan Property Holdings",
          "Country": "China",
          "Market Cap": 8.2,
          "Profits": 0.951,
          "Revenue": 4.2
         },
         {
          "Assets": 4.9,
          "Company": "Intuit",
          "Country": "United States",
          "Market Cap": 49.7,
          "Profits": 0.95,
          "Revenue": 5.4
         },
         {
          "Assets": 8.1,
          "Company": "CNX Resources",
          "Country": "United States",
          "Market Cap": 3.4,
          "Profits": 0.947,
          "Revenue": 1.8
         },
         {
          "Assets": 49.1,
          "Company": "Banque Saudi Fransi",
          "Country": "Other",
          "Market Cap": 10.3,
          "Profits": 0.944,
          "Revenue": 2.2
         },
         {
          "Assets": 32.4,
          "Company": "Rural Electrification",
          "Country": "Other",
          "Market Cap": 3.5,
          "Profits": 0.942,
          "Revenue": 3.6
         },
         {
          "Assets": 31.6,
          "Company": "Dentsu",
          "Country": "Japan",
          "Market Cap": 13.4,
          "Profits": 0.941,
          "Revenue": 8.3
         },
         {
          "Assets": 15.3,
          "Company": "S-Oil",
          "Country": "South Korea",
          "Market Cap": 11.5,
          "Profits": 0.938,
          "Revenue": 19
         },
         {
          "Assets": 13.9,
          "Company": "Innolux",
          "Country": "Other",
          "Market Cap": 3.9,
          "Profits": 0.937,
          "Revenue": 10.3
         },
         {
          "Assets": 114.4,
          "Company": "New China Life Insurance",
          "Country": "China",
          "Market Cap": 20.4,
          "Profits": 0.937,
          "Revenue": 22.1
         },
         {
          "Assets": 10.8,
          "Company": "Alaska Air Group",
          "Country": "United States",
          "Market Cap": 7.5,
          "Profits": 0.933,
          "Revenue": 8
         },
         {
          "Assets": 14.6,
          "Company": "Angang Steel",
          "Country": "China",
          "Market Cap": 7.4,
          "Profits": 0.93,
          "Revenue": 12.9
         },
         {
          "Assets": 61.1,
          "Company": "Rakuten",
          "Country": "Japan",
          "Market Cap": 9.6,
          "Profits": 0.929,
          "Revenue": 8.8
         },
         {
          "Assets": 10.1,
          "Company": "STMicroelectronics",
          "Country": "Other",
          "Market Cap": 21.2,
          "Profits": 0.928,
          "Revenue": 8.7
         },
         {
          "Assets": 18.4,
          "Company": "Cummins",
          "Country": "United States",
          "Market Cap": 24.1,
          "Profits": 0.928,
          "Revenue": 21.4
         },
         {
          "Assets": 28,
          "Company": "Thales",
          "Country": "Other",
          "Market Cap": 28,
          "Profits": 0.927,
          "Revenue": 17.8
         },
         {
          "Assets": 10.1,
          "Company": "FMC",
          "Country": "United States",
          "Market Cap": 12,
          "Profits": 0.927,
          "Revenue": 3.5
         },
         {
          "Assets": 19.3,
          "Company": "Capgemini",
          "Country": "Other",
          "Market Cap": 23.3,
          "Profits": 0.925,
          "Revenue": 14.4
         },
         {
          "Assets": 10.9,
          "Company": "Inter Rao",
          "Country": "Other",
          "Market Cap": 6.7,
          "Profits": 0.923,
          "Revenue": 15.7
         },
         {
          "Assets": 1.2,
          "Company": "Chaparral Energy",
          "Country": "United States",
          "Market Cap": 0.988,
          "Profits": 0.923,
          "Revenue": 0.294
         },
         {
          "Assets": 13.2,
          "Company": "Yamaha Motor",
          "Country": "Japan",
          "Market Cap": 10.9,
          "Profits": 0.923,
          "Revenue": 15.2
         },
         {
          "Assets": 2.5,
          "Company": "Focus Media Information Technology",
          "Country": "China",
          "Market Cap": 22.2,
          "Profits": 0.921,
          "Revenue": 1.8
         },
         {
          "Assets": 17,
          "Company": "Chongqing Changan Auto",
          "Country": "China",
          "Market Cap": 7.2,
          "Profits": 0.921,
          "Revenue": 12
         },
         {
          "Assets": 33.1,
          "Company": "Bristol-Myers Squibb",
          "Country": "United States",
          "Market Cap": 84.8,
          "Profits": 0.919,
          "Revenue": 21
         },
         {
          "Assets": 32.7,
          "Company": "Abitare In Spa",
          "Country": "Other",
          "Market Cap": 0.069,
          "Profits": 0.919,
          "Revenue": 21.5
         },
         {
          "Assets": 14.5,
          "Company": "Stora Enso",
          "Country": "Other",
          "Market Cap": 16.3,
          "Profits": 0.917,
          "Revenue": 11.8
         },
         {
          "Assets": 7.9,
          "Company": "Hormel Foods",
          "Country": "United States",
          "Market Cap": 19.2,
          "Profits": 0.915,
          "Revenue": 9.2
         },
         {
          "Assets": 86.6,
          "Company": "Mediobanca",
          "Country": "Other",
          "Market Cap": 10.3,
          "Profits": 0.912,
          "Revenue": 2.6
         },
         {
          "Assets": 18.3,
          "Company": "Rockwell Collins",
          "Country": "United States",
          "Market Cap": 22.1,
          "Profits": 0.909,
          "Revenue": 8.5
         },
         {
          "Assets": 38.4,
          "Company": "AmerisourceBergen",
          "Country": "United States",
          "Market Cap": 19.1,
          "Profits": 0.905,
          "Revenue": 159.3
         },
         {
          "Assets": 12.4,
          "Company": "Ternium",
          "Country": "Other",
          "Market Cap": 7.8,
          "Profits": 0.905,
          "Revenue": 9.7
         },
         {
          "Assets": 38.3,
          "Company": "Grupo ACS",
          "Country": "Other",
          "Market Cap": 13.6,
          "Profits": 0.905,
          "Revenue": 39.4
         },
         {
          "Assets": 7.7,
          "Company": "Southwestern Energy",
          "Country": "United States",
          "Market Cap": 2.5,
          "Profits": 0.903,
          "Revenue": 3.3
         },
         {
          "Assets": 14.8,
          "Company": "Stockland Australia",
          "Country": "Other",
          "Market Cap": 7.7,
          "Profits": 0.902,
          "Revenue": 2.2
         },
         {
          "Assets": 6.8,
          "Company": "Paychex",
          "Country": "United States",
          "Market Cap": 22.8,
          "Profits": 0.901,
          "Revenue": 3.3
         },
         {
          "Assets": 261.5,
          "Company": "Standard Life",
          "Country": "United Kingdom",
          "Market Cap": 14.8,
          "Profits": 0.9,
          "Revenue": 21.3
         },
         {
          "Assets": 27.9,
          "Company": "Lennar",
          "Country": "United States",
          "Market Cap": 17.7,
          "Profits": 0.9,
          "Revenue": 13.3
         },
         {
          "Assets": 25.1,
          "Company": "Agile Property Holdings",
          "Country": "China",
          "Market Cap": 7.9,
          "Profits": 0.899,
          "Revenue": 7.7
         },
         {
          "Assets": 6.1,
          "Company": "Hoya",
          "Country": "Japan",
          "Market Cap": 21.6,
          "Profits": 0.898,
          "Revenue": 4.8
         },
         {
          "Assets": 7.5,
          "Company": "Chemours",
          "Country": "United States",
          "Market Cap": 9,
          "Profits": 0.893,
          "Revenue": 6.5
         },
         {
          "Assets": 663.5,
          "Company": "Standard Chartered",
          "Country": "United Kingdom",
          "Market Cap": 34.4,
          "Profits": 0.893,
          "Revenue": 21
         },
         {
          "Assets": 31.4,
          "Company": "RiseSun Real Estate Development",
          "Country": "China",
          "Market Cap": 7.2,
          "Profits": 0.891,
          "Revenue": 5.9
         },
         {
          "Assets": 10.5,
          "Company": "Conagra Brands",
          "Country": "United States",
          "Market Cap": 14.9,
          "Profits": 0.89,
          "Revenue": 7.8
         },
         {
          "Assets": 14.8,
          "Company": "Essilor International",
          "Country": "Other",
          "Market Cap": 29.8,
          "Profits": 0.89,
          "Revenue": 8.4
         },
         {
          "Assets": 19.4,
          "Company": "Obayashi",
          "Country": "Japan",
          "Market Cap": 8.2,
          "Profits": 0.889,
          "Revenue": 17
         },
         {
          "Assets": 8.7,
          "Company": "Advanced Info Service",
          "Country": "Other",
          "Market Cap": 18.4,
          "Profits": 0.886,
          "Revenue": 4.6
         },
         {
          "Assets": 68.3,
          "Company": "Bancolombia",
          "Country": "Other",
          "Market Cap": 11.5,
          "Profits": 0.886,
          "Revenue": 7.4
         },
         {
          "Assets": 21.9,
          "Company": "Beijing Enterprises",
          "Country": "Other",
          "Market Cap": 6.6,
          "Profits": 0.883,
          "Revenue": 7.4
         },
         {
          "Assets": 129.9,
          "Company": "Bank Leumi",
          "Country": "Other",
          "Market Cap": 9.3,
          "Profits": 0.882,
          "Revenue": 4.8
         },
         {
          "Assets": 4.2,
          "Company": "Rentokil Initial",
          "Country": "United Kingdom",
          "Market Cap": 8,
          "Profits": 0.879,
          "Revenue": 3.1
         },
         {
          "Assets": 6.6,
          "Company": "Electricity Generating",
          "Country": "Other",
          "Market Cap": 3.8,
          "Profits": 0.878,
          "Revenue": 0.972
         },
         {
          "Assets": 203,
          "Company": "MS&AD Insurance",
          "Country": "Japan",
          "Market Cap": 20.3,
          "Profits": 0.878,
          "Revenue": 47.2
         },
         {
          "Assets": 51.4,
          "Company": "Mitsubishi Estate",
          "Country": "Japan",
          "Market Cap": 25.7,
          "Profits": 0.876,
          "Revenue": 9.7
         },
         {
          "Assets": 2.8,
          "Company": "Pandora",
          "Country": "Other",
          "Market Cap": 11.9,
          "Profits": 0.875,
          "Revenue": 3.5
         },
         {
          "Assets": 4.7,
          "Company": "Skyworks Solutions",
          "Country": "United States",
          "Market Cap": 17.7,
          "Profits": 0.874,
          "Revenue": 3.9
         },
         {
          "Assets": 9,
          "Company": "Uralkali",
          "Country": "Other",
          "Market Cap": 5,
          "Profits": 0.874,
          "Revenue": 2.8
         },
         {
          "Assets": 7.5,
          "Company": "Fabege AB",
          "Country": "Other",
          "Market Cap": 3.9,
          "Profits": 0.874,
          "Revenue": 0.281
         },
         {
          "Assets": 12.6,
          "Company": "Thai Beverage",
          "Country": "Other",
          "Market Cap": 15.2,
          "Profits": 0.874,
          "Revenue": 5.6
         },
         {
          "Assets": 7.3,
          "Company": "ON Semiconductor Corp.",
          "Country": "United States",
          "Market Cap": 10,
          "Profits": 0.872,
          "Revenue": 5.5
         },
         {
          "Assets": 12.5,
          "Company": "Adecco",
          "Country": "Other",
          "Market Cap": 11,
          "Profits": 0.869,
          "Revenue": 27.6
         },
         {
          "Assets": 11.6,
          "Company": "Shanxi Taigang Stainless",
          "Country": "China",
          "Market Cap": 5.4,
          "Profits": 0.869,
          "Revenue": 10.4
         },
         {
          "Assets": 257.1,
          "Company": "Bankia",
          "Country": "Other",
          "Market Cap": 13.7,
          "Profits": 0.866,
          "Revenue": 4
         },
         {
          "Assets": 24.4,
          "Company": "Toray Industries",
          "Country": "Japan",
          "Market Cap": 13.7,
          "Profits": 0.865,
          "Revenue": 19.9
         },
         {
          "Assets": 16.4,
          "Company": "Guoco Group",
          "Country": "Other",
          "Market Cap": 4.4,
          "Profits": 0.864,
          "Revenue": 3.9
         },
         {
          "Assets": 7.2,
          "Company": "Boliden",
          "Country": "Other",
          "Market Cap": 10.3,
          "Profits": 0.863,
          "Revenue": 6
         },
         {
          "Assets": 19.1,
          "Company": "Sodexo",
          "Country": "Other",
          "Market Cap": 14.8,
          "Profits": 0.862,
          "Revenue": 23.5
         },
         {
          "Assets": 13.3,
          "Company": "Kohl's",
          "Country": "United States",
          "Market Cap": 10.1,
          "Profits": 0.859,
          "Revenue": 19.1
         },
         {
          "Assets": 4.7,
          "Company": "Monster Beverage",
          "Country": "United States",
          "Market Cap": 27.7,
          "Profits": 0.859,
          "Revenue": 3.5
         },
         {
          "Assets": 69.9,
          "Company": "Samsung Fire & Marine",
          "Country": "South Korea",
          "Market Cap": 12,
          "Profits": 0.855,
          "Revenue": 17.6
         },
         {
          "Assets": 3.9,
          "Company": "LARGAN Precision",
          "Country": "Other",
          "Market Cap": 18.4,
          "Profits": 0.854,
          "Revenue": 1.7
         },
         {
          "Assets": 6.5,
          "Company": "Cerner",
          "Country": "United States",
          "Market Cap": 20.2,
          "Profits": 0.854,
          "Revenue": 5.2
         },
         {
          "Assets": 10.5,
          "Company": "Hexagon",
          "Country": "Other",
          "Market Cap": 19.9,
          "Profits": 0.852,
          "Revenue": 4.1
         },
         {
          "Assets": 11.9,
          "Company": "UCB",
          "Country": "Other",
          "Market Cap": 14.2,
          "Profits": 0.849,
          "Revenue": 5.1
         },
         {
          "Assets": 8,
          "Company": "Gap",
          "Country": "United States",
          "Market Cap": 11.4,
          "Profits": 0.848,
          "Revenue": 15.9
         },
         {
          "Assets": 95.1,
          "Company": "Guangzhou Rural Commercial Bank",
          "Country": "China",
          "Market Cap": 6.6,
          "Profits": 0.846,
          "Revenue": 4.6
         },
         {
          "Assets": 119.2,
          "Company": "Mega Financial Holding",
          "Country": "Other",
          "Market Cap": 12.1,
          "Profits": 0.846,
          "Revenue": 2.8
         },
         {
          "Assets": 7,
          "Company": "Steel Dynamics",
          "Country": "United States",
          "Market Cap": 11.4,
          "Profits": 0.84,
          "Revenue": 9.8
         },
         {
          "Assets": 8.9,
          "Company": "Schindler Holding",
          "Country": "Other",
          "Market Cap": 23,
          "Profits": 0.837,
          "Revenue": 10.3
         },
         {
          "Assets": 9,
          "Company": "Seagate Technology",
          "Country": "Other",
          "Market Cap": 16.3,
          "Profits": 0.835,
          "Revenue": 10.8
         },
         {
          "Assets": 10.7,
          "Company": "Huntsman",
          "Country": "United States",
          "Market Cap": 7.6,
          "Profits": 0.834,
          "Revenue": 9.3
         },
         {
          "Assets": 36.2,
          "Company": "China Eastern Airlines",
          "Country": "China",
          "Market Cap": 15.5,
          "Profits": 0.834,
          "Revenue": 15.7
         },
         {
          "Assets": 9.6,
          "Company": "RTL Group",
          "Country": "Other",
          "Market Cap": 13,
          "Profits": 0.834,
          "Revenue": 7.2
         },
         {
          "Assets": 13,
          "Company": "Fastighets Balder",
          "Country": "Other",
          "Market Cap": 4.9,
          "Profits": 0.833,
          "Revenue": 0.694
         },
         {
          "Assets": 16.9,
          "Company": "Baxter International",
          "Country": "United States",
          "Market Cap": 37.8,
          "Profits": 0.832,
          "Revenue": 10.8
         },
         {
          "Assets": 46.2,
          "Company": "China Merchants Securities",
          "Country": "China",
          "Market Cap": 16.8,
          "Profits": 0.83,
          "Revenue": 1.7
         },
         {
          "Assets": 9.6,
          "Company": "Renesas Electronics",
          "Country": "Japan",
          "Market Cap": 16.7,
          "Profits": 0.827,
          "Revenue": 7.1
         },
         {
          "Assets": 16,
          "Company": "Sumitomo Metal Mining",
          "Country": "Japan",
          "Market Cap": 11.7,
          "Profits": 0.827,
          "Revenue": 8.4
         },
         {
          "Assets": 9.6,
          "Company": "Terumo",
          "Country": "Japan",
          "Market Cap": 20.1,
          "Profits": 0.824,
          "Revenue": 5.3
         },
         {
          "Assets": 38.1,
          "Company": "Fortis (Canada)",
          "Country": "Other",
          "Market Cap": 13.9,
          "Profits": 0.824,
          "Revenue": 6.4
         },
         {
          "Assets": 85.4,
          "Company": "PKO Bank Polski",
          "Country": "Other",
          "Market Cap": 14.9,
          "Profits": 0.822,
          "Revenue": 4.2
         },
         {
          "Assets": 7.6,
          "Company": "Experian",
          "Country": "Other",
          "Market Cap": 21.6,
          "Profits": 0.821,
          "Revenue": 4.3
         },
         {
          "Assets": 2.5,
          "Company": "Fangda Carbon New Material",
          "Country": "China",
          "Market Cap": 8.2,
          "Profits": 0.821,
          "Revenue": 1.7
         },
         {
          "Assets": 58.7,
          "Company": "Sanlam",
          "Country": "Other",
          "Market Cap": 13.4,
          "Profits": 0.821,
          "Revenue": 8.9
         },
         {
          "Assets": 7.2,
          "Company": "Sime Darby Plantation",
          "Country": "Other",
          "Market Cap": 9.4,
          "Profits": 0.818,
          "Revenue": 3.4
         },
         {
          "Assets": 72.3,
          "Company": "Comerica",
          "Country": "United States",
          "Market Cap": 16.8,
          "Profits": 0.817,
          "Revenue": 3.3
         },
         {
          "Assets": 9.6,
          "Company": "CGI Group",
          "Country": "Other",
          "Market Cap": 17.2,
          "Profits": 0.814,
          "Revenue": 8.7
         },
         {
          "Assets": 21.5,
          "Company": "Cincinnati Financial",
          "Country": "United States",
          "Market Cap": 11.8,
          "Profits": 0.813,
          "Revenue": 5.4
         },
         {
          "Assets": 9,
          "Company": "Barratt Developments",
          "Country": "United Kingdom",
          "Market Cap": 7.7,
          "Profits": 0.811,
          "Revenue": 6.2
         },
         {
          "Assets": 5.4,
          "Company": "Check Point Software",
          "Country": "Other",
          "Market Cap": 15.9,
          "Profits": 0.808,
          "Revenue": 1.9
         },
         {
          "Assets": 45.8,
          "Company": "Arab National Bank",
          "Country": "Other",
          "Market Cap": 8,
          "Profits": 0.807,
          "Revenue": 2.1
         },
         {
          "Assets": 5.4,
          "Company": "Clorox",
          "Country": "United States",
          "Market Cap": 15.6,
          "Profits": 0.807,
          "Revenue": 6.1
         },
         {
          "Assets": 12.1,
          "Company": "Hunan Valin Steel",
          "Country": "China",
          "Market Cap": 3.9,
          "Profits": 0.807,
          "Revenue": 11.8
         },
         {
          "Assets": 10.4,
          "Company": "McCormick",
          "Country": "United States",
          "Market Cap": 14,
          "Profits": 0.807,
          "Revenue": 5
         },
         {
          "Assets": 29.4,
          "Company": "Alliance Data Systems",
          "Country": "United States",
          "Market Cap": 11.5,
          "Profits": 0.806,
          "Revenue": 7.7
         },
         {
          "Assets": 30.3,
          "Company": "CEZ Group",
          "Country": "Other",
          "Market Cap": 14.1,
          "Profits": 0.803,
          "Revenue": 8.5
         },
         {
          "Assets": 12.9,
          "Company": "Industrivarden",
          "Country": "Other",
          "Market Cap": 10.2,
          "Profits": 0.803,
          "Revenue": 0.821
         },
         {
          "Assets": 11.3,
          "Company": "Legrand",
          "Country": "Other",
          "Market Cap": 21.1,
          "Profits": 0.802,
          "Revenue": 6.2
         },
         {
          "Assets": 8,
          "Company": "Tosoh",
          "Country": "Japan",
          "Market Cap": 6,
          "Profits": 0.801,
          "Revenue": 7.4
         },
         {
          "Assets": 14.5,
          "Company": "Norwegian Cruise Line Holdings",
          "Country": "United States",
          "Market Cap": 11.6,
          "Profits": 0.801,
          "Revenue": 5.5
         },
         {
          "Assets": 13.9,
          "Company": "Pgnig Group",
          "Country": "Other",
          "Market Cap": 10.3,
          "Profits": 0.8,
          "Revenue": 10.4
         },
         {
          "Assets": 18.3,
          "Company": "Dassault Aviation",
          "Country": "Other",
          "Market Cap": 16.8,
          "Profits": 0.8,
          "Revenue": 5.5
         },
         {
          "Assets": 78.7,
          "Company": "Mapfre",
          "Country": "Other",
          "Market Cap": 10.7,
          "Profits": 0.796,
          "Revenue": 24.9
         },
         {
          "Assets": 9,
          "Company": "Fidelity National Financial",
          "Country": "United States",
          "Market Cap": 10.5,
          "Profits": 0.796,
          "Revenue": 8.8
         },
         {
          "Assets": 17.5,
          "Company": "British Land",
          "Country": "United Kingdom",
          "Market Cap": 9.2,
          "Profits": 0.794,
          "Revenue": 0.79
         },
         {
          "Assets": 23,
          "Company": "Insurance Australia Group",
          "Country": "Other",
          "Market Cap": 14.7,
          "Profits": 0.793,
          "Revenue": 7.1
         },
         {
          "Assets": 7.9,
          "Company": "Daito Trust Construction",
          "Country": "Japan",
          "Market Cap": 12.8,
          "Profits": 0.792,
          "Revenue": 14
         },
         {
          "Assets": 11.7,
          "Company": "FleetCor Technologies",
          "Country": "United States",
          "Market Cap": 18.2,
          "Profits": 0.791,
          "Revenue": 2.3
         },
         {
          "Assets": 4.7,
          "Company": "AAC Technologies Holdings",
          "Country": "China",
          "Market Cap": 18.9,
          "Profits": 0.791,
          "Revenue": 3.1
         },
         {
          "Assets": 12.7,
          "Company": "Ares Capital",
          "Country": "United States",
          "Market Cap": 7.1,
          "Profits": 0.791,
          "Revenue": 1.2
         },
         {
          "Assets": 11.9,
          "Company": "Sabesp",
          "Country": "Other",
          "Market Cap": 5.5,
          "Profits": 0.789,
          "Revenue": 4.6
         },
         {
          "Assets": 17.4,
          "Company": "Great Wall Motor",
          "Country": "China",
          "Market Cap": 13.9,
          "Profits": 0.789,
          "Revenue": 15.2
         },
         {
          "Assets": 8.8,
          "Company": "Nitto Denko",
          "Country": "Japan",
          "Market Cap": 12.3,
          "Profits": 0.788,
          "Revenue": 7.7
         },
         {
          "Assets": 23.4,
          "Company": "Falabella",
          "Country": "Other",
          "Market Cap": 23.6,
          "Profits": 0.785,
          "Revenue": 13.8
         },
         {
          "Assets": 13.4,
          "Company": "Grifols",
          "Country": "Other",
          "Market Cap": 18.7,
          "Profits": 0.785,
          "Revenue": 5
         },
         {
          "Assets": 16.2,
          "Company": "Secom",
          "Country": "Japan",
          "Market Cap": 16.5,
          "Profits": 0.785,
          "Revenue": 8.8
         },
         {
          "Assets": 20.1,
          "Company": "Pembina Pipeline",
          "Country": "Other",
          "Market Cap": 17.4,
          "Profits": 0.784,
          "Revenue": 4.5
         },
         {
          "Assets": 9.1,
          "Company": "CPI Property Group.",
          "Country": "Other",
          "Market Cap": 7.2,
          "Profits": 0.783,
          "Revenue": 0.542
         },
         {
          "Assets": 11.7,
          "Company": "Ryder System",
          "Country": "United States",
          "Market Cap": 3.6,
          "Profits": 0.783,
          "Revenue": 7.5
         },
         {
          "Assets": 103.8,
          "Company": "Genworth Financial",
          "Country": "United States",
          "Market Cap": 1.5,
          "Profits": 0.783,
          "Revenue": 8.2
         },
         {
          "Assets": 15.8,
          "Company": "Lundbergs",
          "Country": "Other",
          "Market Cap": 8.7,
          "Profits": 0.782,
          "Revenue": 2.4
         },
         {
          "Assets": 10.7,
          "Company": "Quest Diagnostics",
          "Country": "United States",
          "Market Cap": 13.9,
          "Profits": 0.782,
          "Revenue": 7.7
         },
         {
          "Assets": 15.9,
          "Company": "Air Lease Corporation",
          "Country": "United States",
          "Market Cap": 4.6,
          "Profits": 0.782,
          "Revenue": 1.5
         },
         {
          "Assets": 44.3,
          "Company": "Kyushu Electric Power",
          "Country": "Japan",
          "Market Cap": 5.6,
          "Profits": 0.782,
          "Revenue": 17.7
         },
         {
          "Assets": 52.8,
          "Company": "China Energy Engineering",
          "Country": "China",
          "Market Cap": 4.7,
          "Profits": 0.781,
          "Revenue": 34.8
         },
         {
          "Assets": 26,
          "Company": "Sinopharm Group",
          "Country": "China",
          "Market Cap": 11.7,
          "Profits": 0.781,
          "Revenue": 41.1
         },
         {
          "Assets": 7.4,
          "Company": "Catcher Technology",
          "Country": "Other",
          "Market Cap": 9,
          "Profits": 0.781,
          "Revenue": 3.3
         },
         {
          "Assets": 18.6,
          "Company": "AvalonBay Communities",
          "Country": "United States",
          "Market Cap": 23,
          "Profits": 0.781,
          "Revenue": 2.2
         },
         {
          "Assets": 18.4,
          "Company": "Voestalpine",
          "Country": "Other",
          "Market Cap": 9.9,
          "Profits": 0.781,
          "Revenue": 14.3
         },
         {
          "Assets": 90.2,
          "Company": "First Republic Bank",
          "Country": "United States",
          "Market Cap": 15.8,
          "Profits": 0.78,
          "Revenue": 3.1
         },
         {
          "Assets": 153,
          "Company": "UBI Banca",
          "Country": "Other",
          "Market Cap": 5.8,
          "Profits": 0.779,
          "Revenue": 5.3
         },
         {
          "Assets": 15.6,
          "Company": "TUI",
          "Country": "Other",
          "Market Cap": 14,
          "Profits": 0.777,
          "Revenue": 21.3
         },
         {
          "Assets": 243.4,
          "Company": "Poste Italiane",
          "Country": "Other",
          "Market Cap": 12.7,
          "Profits": 0.777,
          "Revenue": 37.7
         },
         {
          "Assets": 86.6,
          "Company": "Harbin Bank",
          "Country": "China",
          "Market Cap": 3,
          "Profits": 0.777,
          "Revenue": 4.4
         },
         {
          "Assets": 20.4,
          "Company": "Terna",
          "Country": "Other",
          "Market Cap": 11.7,
          "Profits": 0.776,
          "Revenue": 2.5
         },
         {
          "Assets": 36.5,
          "Company": "China Reinsurance Group",
          "Country": "China",
          "Market Cap": 9.4,
          "Profits": 0.776,
          "Revenue": 15.8
         },
         {
          "Assets": 20.9,
          "Company": "Analog Devices",
          "Country": "United States",
          "Market Cap": 34.2,
          "Profits": 0.775,
          "Revenue": 5.6
         },
         {
          "Assets": 16.9,
          "Company": "China Merchants Holdings",
          "Country": "Other",
          "Market Cap": 7.5,
          "Profits": 0.774,
          "Revenue": 1.1
         },
         {
          "Assets": 91,
          "Company": "Grupa PZU",
          "Country": "Other",
          "Market Cap": 9.7,
          "Profits": 0.771,
          "Revenue": 8.7
         },
         {
          "Assets": 10.5,
          "Company": "Dover",
          "Country": "United States",
          "Market Cap": 11.9,
          "Profits": 0.771,
          "Revenue": 7.9
         },
         {
          "Assets": 12.6,
          "Company": "Inmobiliaria Colonial,",
          "Country": "Other",
          "Market Cap": 5.2,
          "Profits": 0.77,
          "Revenue": 0.326
         },
         {
          "Assets": 5.9,
          "Company": "Church & Dwight",
          "Country": "United States",
          "Market Cap": 11.6,
          "Profits": 0.77,
          "Revenue": 3.9
         },
         {
          "Assets": 11,
          "Company": "Universal Health",
          "Country": "United States",
          "Market Cap": 11.2,
          "Profits": 0.77,
          "Revenue": 10.5
         },
         {
          "Assets": 3.6,
          "Company": "Next",
          "Country": "United Kingdom",
          "Market Cap": 10.6,
          "Profits": 0.769,
          "Revenue": 5.3
         },
         {
          "Assets": 3.7,
          "Company": "Konka Group",
          "Country": "China",
          "Market Cap": 1.8,
          "Profits": 0.769,
          "Revenue": 5.2
         },
         {
          "Assets": 6.4,
          "Company": "Intuitive Surgical",
          "Country": "United States",
          "Market Cap": 53.1,
          "Profits": 0.768,
          "Revenue": 3.3
         },
         {
          "Assets": 16.9,
          "Company": "Shimizu",
          "Country": "Japan",
          "Market Cap": 7.9,
          "Profits": 0.767,
          "Revenue": 13.7
         },
         {
          "Assets": 22.4,
          "Company": "Coca-Cola European Partners",
          "Country": "United Kingdom",
          "Market Cap": 18.8,
          "Profits": 0.766,
          "Revenue": 12.9
         },
         {
          "Assets": 22.1,
          "Company": "ZTE",
          "Country": "China",
          "Market Cap": 19.5,
          "Profits": 0.765,
          "Revenue": 16.8
         },
         {
          "Assets": 7.9,
          "Company": "Smith & Nephew",
          "Country": "United Kingdom",
          "Market Cap": 15.4,
          "Profits": 0.764,
          "Revenue": 4.8
         },
         {
          "Assets": 3,
          "Company": "Partners Group Holding",
          "Country": "Other",
          "Market Cap": 19.9,
          "Profits": 0.764,
          "Revenue": 1.4
         },
         {
          "Assets": 11.1,
          "Company": "Wyndham Worldwide",
          "Country": "United States",
          "Market Cap": 11.1,
          "Profits": 0.764,
          "Revenue": 5.5
         },
         {
          "Assets": 24.3,
          "Company": "China Hongqiao Group",
          "Country": "China",
          "Market Cap": 9.7,
          "Profits": 0.764,
          "Revenue": 13.8
         }
        ]
       },
       "encoding": {
        "color": {
         "field": "Country",
         "type": "nominal"
        },
        "opacity": {
         "value": 0.7
        },
        "size": {
         "field": "Market Cap",
         "legend": {
          "format": "$f",
          "title": "Market Cap (B)"
         },
         "scale": {
          "domain": [
           0,
           400
          ]
         },
         "type": "quantitative"
        },
        "tooltip": [
         {
          "field": "Company",
          "type": "nominal"
         },
         {
          "field": "Country",
          "type": "nominal"
         },
         {
          "field": "Revenue",
          "type": "quantitative"
         },
         {
          "field": "Profits",
          "type": "quantitative"
         },
         {
          "field": "Market Cap",
          "type": "quantitative"
         }
        ],
        "x": {
         "axis": {
          "format": "$f",
          "title": "Revenue (B)"
         },
         "field": "Revenue",
         "scale": {
          "domain": [
           0,
           520
          ],
          "nice": 40
         },
         "type": "quantitative"
        },
        "y": {
         "axis": {
          "format": "$",
          "title": "Profits (B)"
         },
         "field": "Profits",
         "type": "quantitative"
        }
       },
       "height": 500,
       "mark": "circle",
       "selection": {
        "selector001": {
         "empty": "all",
         "fields": [
          "Country"
         ],
         "on": "click",
         "resolve": "global",
         "toggle": "event.shiftKey",
         "type": "multi"
        },
        "selector002": {
         "bind": "scales",
         "encodings": [
          "x",
          "y"
         ],
         "mark": {
          "fill": "#333",
          "fillOpacity": 0.125,
          "stroke": "white"
         },
         "on": "[mousedown, window:mouseup] > window:mousemove!",
         "resolve": "global",
         "translate": "[mousedown, window:mouseup] > window:mousemove!",
         "type": "interval",
         "zoom": "wheel!"
        }
       },
       "title": "Profit vs Revenue for Top 1000 Global Companies Scaled by Market Cap",
       "transform": [
        {
         "filter": {
          "selection": "selector001"
         }
        }
       ],
       "width": 800
      },
      "image/png": "[encoded data removed]",
      "text/plain": [
       "<VegaLite 2 object>\n",
       "\n",
       "If you see this message, it means the renderer has not been properly enabled\n",
       "for the frontend that you are using. For more information, see\n",
       "https://altair-viz.github.io/user_guide/troubleshooting.html\n"
      ]
     },
     "execution_count": 10,
     "metadata": {},
     "output_type": "execute_result"
    }
   ],
   "source": [
    "top = 1000\n",
    "df_top = df[:top]\n",
    "\n",
    "selection = alt.selection_multi(fields=['Country'])\n",
    "\n",
    "chart = alt.Chart(df_top).mark_circle().encode(\n",
    "    alt.X('Revenue', axis=alt.Axis(format='$f', title='Revenue (B)'), scale=alt.Scale(domain=[0, 520], nice=40)),\n",
    "    alt.Y('Profits', axis=alt.Axis(format='$', title='Profits (B)')),\n",
    "    color='Country',\n",
    "    size=alt.Size('Market Cap', legend=alt.Legend(format='$f', title='Market Cap (B)'), scale=alt.Scale(domain=[0, 400])),\n",
    "    opacity=alt.value(0.7),\n",
    "    tooltip=['Company', 'Country', 'Revenue', 'Profits', 'Market Cap']\n",
    ").properties(\n",
    "    title='Profit vs Revenue for Top {} Global Companies Scaled by Market Cap'.format(top),\n",
    "    width=800,\n",
    "    height=500,\n",
    "    selection=selection,\n",
    ").configure(\n",
    "    title={'fontSize': 16},\n",
    "    axis={'labelFontSize': 12, 'titleFontSize': 14},\n",
    "    legend={'titleFontSize': 14, 'labelFontSize': 12},\n",
    ").transform_filter(\n",
    "    selection,\n",
    ").interactive()\n",
    "chart.save('tpr_altair.html')\n",
    "chart"
   ]
  },
  {
   "cell_type": "code",
   "execution_count": 11,
   "metadata": {},
   "outputs": [],
   "source": [
    "df.to_csv('top_profit.csv')"
   ]
  },
  {
   "cell_type": "code",
   "execution_count": null,
   "metadata": {},
   "outputs": [],
   "source": []
  }
 ],
 "metadata": {
  "kernelspec": {
   "display_name": "Python 3",
   "language": "python",
   "name": "python3"
  },
  "language_info": {
   "codemirror_mode": {
    "name": "ipython",
    "version": 3
   },
   "file_extension": ".py",
   "mimetype": "text/x-python",
   "name": "python",
   "nbconvert_exporter": "python",
   "pygments_lexer": "ipython3",
   "version": "3.6.7"
  }
 },
 "nbformat": 4,
 "nbformat_minor": 2
}
